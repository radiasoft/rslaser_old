{
 "cells": [
  {
   "cell_type": "markdown",
   "metadata": {},
   "source": [
    "# Cavity propagation notebook\n",
    "\n",
    "This notebook propagates a wavefront through a simple optical cavity.\n",
    "The initial wavefront wfrCenter0 is a Hermite-Gaussian mode located at the center of the cavity. \n",
    "Next, the wavefront is propagated a distance Lc/2 where Lc is the cavity length. \n",
    "\n",
    "We continue by passing the wavefront through a thin lens with focal length Lc/4 + dfR. dfR$\\neq0$ allows for a focusing error in the right mirror\n",
    "mirror. It can be both positive and negative. The wavefront passes through a lens again with focal length Lc/4 + dfL. We now repeat N times.\n",
    "\n",
    "We construct a list of all the wavefronts called cavitywfrList. These are propagated through the sections of the cavity. After the propagation, the wavefronts can be visualized at the three locations: center, right mirror, and left mirror.\n",
    "\n",
    "A Sirepo/SRW simulation with comparable parameters is available at https://www.sirepo.com/srw#/beamline/MVQGzoQ2"
   ]
  },
  {
   "cell_type": "code",
   "execution_count": null,
   "metadata": {},
   "outputs": [],
   "source": [
    "#Import necessary libraries\n",
    "from __future__ import print_function #Python 2.7 compatibility\n",
    "\n",
    "import rslaser.rsoptics.wavefront as rswf\n",
    "import rslaser.utils.srwl_uti_data as rsdata\n",
    "import srwlib\n",
    "from srwlib import srwl\n",
    "\n",
    "%load_ext autoreload\n",
    "%autoreload 2\n",
    "\n",
    "from copy import deepcopy\n",
    "import math\n",
    "import numpy as np\n",
    "import os \n",
    "import sys\n",
    "import time\n",
    "\n",
    "import matplotlib as mpl\n",
    "import matplotlib.pyplot as plt\n",
    "import matplotlib.ticker\n",
    "from matplotlib import cm\n",
    "from mpl_toolkits.mplot3d import Axes3D\n",
    "from matplotlib.ticker import LinearLocator, FormatStrFormatter\n",
    "import scipy.ndimage\n",
    "hfontLarge = {'fontname':'Latin Modern Roman', 'size' : 24, 'weight' : 'bold'}"
   ]
  },
  {
   "cell_type": "code",
   "execution_count": null,
   "metadata": {},
   "outputs": [],
   "source": [
    "#Specify parameters for simulation\n",
    "Lc = 10 #Length of cavity [m]\n",
    "dfR = 0\n",
    "dfL = 0\n",
    "sigmaRCenter0 = 0.2e-3 #Initial RMS beam size at center of cavity [m]\n",
    "propLen=15 #Propagation of initial Gaussian [m]. It will then be back-propagated by propLen: a trick to get the Gaussian mode at the waist\n",
    "pulseE = .001 #Total energy of pulse [eV]\n",
    "mx = 0 #Horizontal mode number (0 for Gaussian)\n",
    "my = 0 #Vertical mode number (0 for Gaussian)\n",
    "poltype = 1 #Polarization of mode (0=linear horizontal, 1=linear vertical, 2=linear 45 deg, 3=linear 135 deg, 4=circular right, 5=circular left, 6=total)\n",
    "wavefrontEnergy = 1.55 #Wavefront Energy [eV]. 1.55 eV is 800 nm wavelength\n",
    "sampFact = 15 #Determines grid size of initial wavefront"
   ]
  },
  {
   "cell_type": "code",
   "execution_count": null,
   "metadata": {},
   "outputs": [],
   "source": [
    "#Now we construct the initial wavefront at the center of cavity\n",
    "\n",
    "#create a Gaussian wavefront in SRW\n",
    "wfrCenter0 = rswf.createGsnSrcSRW(sigmaRCenter0,propLen,pulseE,poltype,wavefrontEnergy,sampFact,mx,my)\n",
    "(nx0,ny0)=(wfrCenter0.mesh.nx,wfrCenter0.mesh.ny)\n",
    "print(\"Initial wavefront calculated on a grid of %d x %d points\" %(nx0,ny0))"
   ]
  },
  {
   "cell_type": "code",
   "execution_count": null,
   "metadata": {},
   "outputs": [],
   "source": [
    "#Now build the different beamline elements we need to propagate to the right and to the left\n",
    "propagateRight = rswf.createDriftLensBL(Lc,dfR)\n",
    "propagateLeft = rswf.createDriftLensBL(Lc,dfL)\n",
    "propagateDrift = rswf.createDriftBL(Lc)"
   ]
  },
  {
   "cell_type": "code",
   "execution_count": null,
   "metadata": {},
   "outputs": [],
   "source": [
    "#Now construct a list of wavefront objects starting with initial wavefront wfrCenter0\n",
    "\n",
    "cavitywfrList = [wfrCenter0]\n",
    "    \n",
    "npass = 4    \n",
    "#Now run through beamline and propagate wavefronts\n",
    "for i in range(npass):\n",
    "    wfr = deepcopy(cavitywfrList[-1])\n",
    "    srwl.PropagElecField(wfr, propagateRight)\n",
    "    cavitywfrList.append(wfr)\n",
    "    wfr2 = deepcopy(wfr)\n",
    "    srwl.PropagElecField(wfr2,propagateDrift)\n",
    "    cavitywfrList.append(wfr2)\n",
    "    wfr3 = deepcopy(wfr2)\n",
    "    srwl.PropagElecField(wfr3, propagateLeft)\n",
    "    cavitywfrList.append(wfr3)\n",
    "    wfr4 = deepcopy(wfr3)\n",
    "    srwl.PropagElecField(wfr4, propagateDrift)\n",
    "    cavitywfrList.append(wfr4)"
   ]
  },
  {
   "cell_type": "code",
   "execution_count": null,
   "metadata": {},
   "outputs": [],
   "source": [
    "#Check the rms sizes along the way.\n",
    "for j in range(np.size(cavitywfrList)):\n",
    "    (ar2d, sx, sy, xavg, yavg) = rswf.rmsWavefrontIntensity(cavitywfrList[j])\n",
    "    print(sx,sy)"
   ]
  },
  {
   "cell_type": "code",
   "execution_count": null,
   "metadata": {},
   "outputs": [],
   "source": [
    "# Plot initial wavefront\n",
    "##Initial wfr calculation\n",
    "wavefrontToPlot = 0 #This can range from 0 to 3*npass\n",
    "wfrplot = cavitywfrList[wavefrontToPlot] \n",
    "\n",
    "arIinit = srwlib.array('f', [0]*wfrplot.mesh.nx*wfrplot.mesh.ny) #\"flat\" array to take 2D intensity data\n",
    "srwl.CalcIntFromElecField(arIinit, wfrplot, 6, 0, 3, wfrplot.mesh.eStart, 0, 0) #extracts intensity\n",
    "##Reshaping electric field data from flat to 2D array\n",
    "arIinit2D = np.array(arIinit).reshape((wfrplot.mesh.nx, wfrplot.mesh.ny), order='C')\n",
    "wfrsizei=np.size(arIinit)\n",
    "\n",
    "print('Size of initial wavefront data array (coordinate):',np.shape(arIinit2D))\n",
    "xvalsf02=np.linspace(wfrplot.mesh.xStart,wfrplot.mesh.xFin,wfrplot.mesh.nx)\n",
    "yvalsf02=np.linspace(wfrplot.mesh.yStart,wfrplot.mesh.yFin,wfrplot.mesh.ny)\n",
    "\n",
    "fig = plt.figure(figsize=(12,7))\n",
    "ax = fig.gca()\n",
    "\n",
    "# By setting wfr0a.unitElFldAng=1, default units should  now be in mrad(?)\n",
    "plt.pcolormesh(np.multiply(xvalsf02,1e6), np.multiply(yvalsf02,1e6), arIinit2D, cmap=plt.cm.viridis, shading='auto')\n",
    "plt.colorbar()\n",
    "#['Horizontal Position [mm]', , 'Intensity']\n",
    "xmax = 5e3\n",
    "ymax = 5e3\n",
    "ax.set_ylim(-ymax,ymax)\n",
    "ax.set_xlim(-xmax,xmax)\n",
    "ax.set_ylabel(r'Vertical Position [$\\mu m$]',**hfontLarge)\n",
    "ax.set_xlabel(r'Horizontal Position [$\\mu m$]',**hfontLarge)\n",
    "ax.set_title('Intensity at Waist',**hfontLarge)"
   ]
  },
  {
   "cell_type": "code",
   "execution_count": null,
   "metadata": {},
   "outputs": [],
   "source": []
  }
 ],
 "metadata": {
  "kernelspec": {
   "display_name": "Python 3",
   "language": "python",
   "name": "py3"
  },
  "language_info": {
   "codemirror_mode": {
    "name": "ipython",
    "version": 3
   },
   "file_extension": ".py",
   "mimetype": "text/x-python",
   "name": "python",
   "nbconvert_exporter": "python",
   "pygments_lexer": "ipython3",
   "version": "3.7.2"
  }
 },
 "nbformat": 4,
 "nbformat_minor": 4
}
