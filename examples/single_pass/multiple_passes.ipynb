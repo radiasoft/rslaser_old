{
 "cells": [
  {
   "cell_type": "markdown",
   "id": "2c707f40-45a9-4323-a433-97394d20731c",
   "metadata": {},
   "source": [
    "# Multiple passes of laser through crystal\n",
    "\n",
    "_____"
   ]
  },
  {
   "cell_type": "markdown",
   "id": "4f28ce73-5028-4de6-b381-cc8229a28ed1",
   "metadata": {},
   "source": [
    "#### Imports"
   ]
  },
  {
   "cell_type": "code",
   "execution_count": null,
   "id": "4a97055d-6d96-4f78-8e06-f0269c55ee3a",
   "metadata": {
    "tags": []
   },
   "outputs": [],
   "source": [
    "import sys, time\n",
    "import math\n",
    "import numpy as np\n",
    "from pykern import pkcli\n",
    "from pykern.pkcollections import PKDict\n",
    "\n",
    "# The rslaser library may not be installed, so a check is required.\n",
    "try:\n",
    "    import rslaser\n",
    "except:\n",
    "    # Developers should use 'pip install -e .' from the command line.\n",
    "    # Users can install directly from GitHub --\n",
    "    !{sys.executable} -m pip install git+https://github.com/radiasoft/rslaser.git\n",
    "    import rslaser\n",
    "\n",
    "from rslaser.pulse import pulse\n",
    "from rslaser.optics import element\n",
    "from rslaser.optics import drift\n",
    "from rslaser.optics import crystal\n",
    "\n",
    "import scipy.constants as const\n",
    "\n",
    "import srwlib\n",
    "from srwlib import srwl\n",
    "\n",
    "# 2D plotting\n",
    "import matplotlib as mpl\n",
    "import matplotlib.pyplot as plt\n",
    "from matplotlib import cm\n",
    "\n",
    "# reset the notebook style\n",
    "mpl.rcParams.update(mpl.rcParamsDefault)\n",
    "%matplotlib inline"
   ]
  },
  {
   "cell_type": "markdown",
   "id": "0d956475-4cc4-4dcd-9d1d-4cce29c03efe",
   "metadata": {},
   "source": [
    "### Crystal and Laser Initialization"
   ]
  },
  {
   "cell_type": "code",
   "execution_count": null,
   "id": "5939fb93-bbff-46fd-9af7-783a976ee5aa",
   "metadata": {
    "tags": []
   },
   "outputs": [],
   "source": [
    "params = PKDict(\n",
    "        photon_e_ev=1.5498, # Photon energy [eV], calculated from 800nm wavelength\n",
    "        nslice = 50,\n",
    "        pulseE      = 1.0e-6,\n",
    "        tau_fwhm    = 300.0e-12 / math.sqrt(2.),\n",
    "        sigx_waist  = 1.2e-3 /1.18,\n",
    "        sigy_waist  = 1.2e-3 /1.18,\n",
    ")\n",
    "\n",
    "num_slices = 20\n",
    "crystal_params = PKDict(\n",
    "    length = 2.5/100.0,  # [m]\n",
    "    nslice = num_slices,\n",
    "    n0          = [1.76 for _ in range(num_slices)],\n",
    "    n2          = [16.0 for _ in range(num_slices)],\n",
    "    pump_energy = 0.035,  # [J]\n",
    "    pump_waist  = 1.2e-3 /1.18,  # [m]\n",
    ")\n",
    "\n",
    "prop_type = 'n0n2_srw'\n",
    "gain = 1\n",
    "\n",
    "num_propagate = 100\n",
    "\n",
    "# Maximum value is num_propagate\n",
    "prop_array = np.array([0, num_propagate])"
   ]
  },
  {
   "cell_type": "markdown",
   "id": "a4431d72-b30b-496e-a104-6052ac50a16e",
   "metadata": {},
   "source": [
    "## Propagation"
   ]
  },
  {
   "cell_type": "code",
   "execution_count": null,
   "id": "549a2fd0-ba72-408f-a939-baac3e7a2382",
   "metadata": {
    "tags": []
   },
   "outputs": [],
   "source": [
    "e_crystal = crystal.Crystal(crystal_params)\n",
    "nslices_crystal = len(e_crystal.slice)\n",
    "\n",
    "# Assume all crystal slices have same cell volume\n",
    "dx = (e_crystal.slice[0].pop_inversion_xfin-e_crystal.slice[0].pop_inversion_xstart)/e_crystal.slice[0].pop_inversion_nx\n",
    "dy = (e_crystal.slice[0].pop_inversion_yfin-e_crystal.slice[0].pop_inversion_ystart)/e_crystal.slice[0].pop_inversion_ny\n",
    "cell_volume = dx*dy*e_crystal.slice[0].length\n",
    "\n",
    "thisPulse = pulse.LaserPulse(params)\n",
    "nslices_pulse = len(thisPulse.slice)\n",
    "\n",
    "L_drift = 0.50  # [m]\n",
    "e_drift = drift.Drift(L_drift)\n",
    "\n",
    "photons_in_slice = np.zeros((nslices_pulse, num_propagate + 1))\n",
    "total_n_excited_states = np.zeros(num_propagate + 1)\n",
    "\n",
    "print('\\nPropagation Type: ', prop_type, '\\nGain: ', gain, '\\n')\n",
    "for prop_index in np.arange(num_propagate + 1):\n",
    "    \n",
    "    for laser_index in np.arange(nslices_pulse):\n",
    "        photons_in_slice[laser_index,prop_index] = np.sum(np.sum(thisPulse.slice[laser_index].n_photons_2d.mesh))\n",
    "    \n",
    "    for crystal_index in np.arange(nslices_crystal):\n",
    "        total_n_excited_states[prop_index] += np.sum(np.sum(e_crystal.slice[crystal_index].pop_inversion_mesh * cell_volume))\n",
    "\n",
    "    if (prop_index < num_propagate):\n",
    "        #print('\\nPropagating ', nslices_pulse, 'laser slices through ', nslices_crystal,' crystal slices')\n",
    "        thisPulse = e_crystal.propagate(thisPulse, prop_type, calc_gain=gain)\n",
    "        thisPulse = e_drift.propagate(thisPulse, 'default')\n",
    "\n",
    "# Assume all pulse slices have same length\n",
    "fig_x = thisPulse.slice[0].ds *(np.arange(nslices_pulse) + 0.5)\n",
    "\n",
    "fig = plt.figure(figsize=(5,3))\n",
    "ax = fig.gca()\n",
    "for prop_value in prop_array:\n",
    "    plot_label = str(prop_value)+' propagations'\n",
    "    plt.plot(fig_x,photons_in_slice[:,prop_value], label=plot_label)\n",
    "box = ax.get_position()\n",
    "ax.set_position([box.x0, box.y0 + box.height * 0.1, box.width, box.height * 0.9])\n",
    "ax.legend(loc='upper center', bbox_to_anchor=(0.5, -0.2), fancybox=True, shadow=True, ncol=5)\n",
    "ax.tick_params(direction=\"in\")\n",
    "ax.set_ylabel(r'Total Number of Photons')\n",
    "ax.set_xlabel(r'Distance from Laser Front [m]')\n",
    "plt.title('Longitudinal Photon Distribution')"
   ]
  },
  {
   "cell_type": "code",
   "execution_count": null,
   "id": "156da2c0-fb83-4055-8182-072fdd206547",
   "metadata": {},
   "outputs": [],
   "source": [
    "wfr_sim_final=thisPulse.slice[0].wfr\n",
    "\n",
    "x_sim_final=np.linspace(wfr_sim_final.mesh.xStart,wfr_sim_final.mesh.xFin,wfr_sim_final.mesh.nx)\n",
    "y_sim_final=np.linspace(wfr_sim_final.mesh.yStart,wfr_sim_final.mesh.yFin,wfr_sim_final.mesh.ny)\n",
    "\n",
    "e_total = thisPulse.extract_total_2d_elec_fields()\n",
    "intens_2d_sim_final = 0.5 *const.c *const.epsilon_0 *(e_total.re**2.0 + e_total.im**2.0)\n",
    "    \n",
    "with plt.style.context(('seaborn-poster')):\n",
    "    fig = plt.figure(figsize=(6,3.6))\n",
    "    ax = fig.gca()\n",
    "    plt.pcolormesh(y_sim_final*(1e3), x_sim_final*(1e3), intens_2d_sim_final, cmap=plt.cm.viridis, shading='auto') #viridis\n",
    "    plt.colorbar()\n",
    "    ax.set_ylabel(r'Vertical Position [mm]')\n",
    "    ax.set_xlabel(r'Horizontal Position [mm]')\n",
    "    ax.set_title('Intensity (100 propagations)')"
   ]
  },
  {
   "cell_type": "code",
   "execution_count": null,
   "id": "3cf52fe7-f246-4279-b0c4-56f2d25a4f38",
   "metadata": {},
   "outputs": [],
   "source": [
    "intensity_2d = intens_2d_sim_final\n",
    "max_intensity = np.max(intensity_2d)\n",
    "\n",
    "center_x = np.where(intensity_2d == max_intensity)[0][0]\n",
    "center_y = np.where(intensity_2d == max_intensity)[1][0]\n",
    "keep_indices = np.where(intensity_2d >= 0.01*max_intensity)\n",
    "distance = math.floor(np.max(np.sqrt((keep_indices[0] -center_x)**2.0 + (keep_indices[1] -center_y)**2.0)))\n",
    "#distance = math.ceil(np.max(np.sqrt((keep_indices[0] -center_x)**2.0 + (keep_indices[1] -center_y)**2.0)))\n",
    "        \n",
    "phase_sim_final = srwlib.array('d', [0]*wfr_sim_final.mesh.nx*wfr_sim_final.mesh.ny) # \"flat\" array to take 2D phase data\n",
    "srwl.CalcIntFromElecField(phase_sim_final, wfr_sim_final, 0, 4, 3, wfr_sim_final.mesh.eStart, 0, 0) #extracts the phase; must use double precision\n",
    "\n",
    "# Reshaping data from flat to 2D array\n",
    "phase_2d_sim_final = np.array(phase_sim_final).reshape((wfr_sim_final.mesh.nx, wfr_sim_final.mesh.ny), order='C').astype(np.float64)\n",
    "\n",
    "phase_2d = phase_2d_sim_final\n",
    "phase_2d_cut = phase_2d[center_x-distance:center_x+distance,center_y-distance:center_y+distance]\n",
    "phase_2d_new = np.pad(phase_2d_cut, (int((phase_2d.shape[0] - phase_2d_cut.shape[0])/2),\n",
    "                                     int((phase_2d.shape[1] - phase_2d_cut.shape[1])/2)),\n",
    "                      mode='constant')\n",
    "\n",
    "with plt.style.context(('seaborn-poster')):\n",
    "    fig = plt.figure(figsize=(6,3.6))\n",
    "    ax = fig.gca()\n",
    "    plt.pcolormesh(y_sim_final*(1e3), x_sim_final*(1e3), phase_2d_new, cmap=plt.cm.viridis, shading='auto') #np.unwrap(phase_2d_sim_final)\n",
    "    plt.colorbar()\n",
    "    # plt.xlim(-1.95,1.95)\n",
    "    # plt.ylim(-1.95,1.95)\n",
    "    ax.set_ylabel(r'Vertical Position [mm]')#[mm]')\n",
    "    ax.set_xlabel(r'Horizontal Position [mm]')#[mm]')\n",
    "    ax.set_title('Phase (100 propagations)')"
   ]
  },
  {
   "cell_type": "markdown",
   "id": "78fb02ec-0283-42ec-9097-e05721ec430b",
   "metadata": {},
   "source": [
    "## Comparison Plot"
   ]
  },
  {
   "cell_type": "code",
   "execution_count": null,
   "id": "72676331-79f6-4c0e-affa-06b52de1797b",
   "metadata": {
    "tags": []
   },
   "outputs": [],
   "source": [
    "fig, ax1 = plt.subplots(figsize=(5,3))\n",
    "ax2 = ax1.twinx()\n",
    "ax1.plot(fig_x,photons_in_slice[:,0], 'k', label='Initialization')\n",
    "ax2.plot(fig_x,photons_in_slice[:,num_propagate], '--r', label='{} Passes Through Crystal'.format(num_propagate))\n",
    "fig.legend(loc='upper center', bbox_to_anchor=(0.5, -0.01), fancybox=True, shadow=True, ncol=5)\n",
    "ax1.tick_params(direction=\"in\")\n",
    "ax2.tick_params(direction=\"in\")\n",
    "ax1.set_xlabel(r'Distance from Laser Front [m]')\n",
    "ax1.set_ylabel(r'Number of Photons, Initialized')\n",
    "ax2.set_ylabel(r'Number of Photons, Propagated',color='r')\n",
    "plt.title('Longitudinal Photon Distribution')"
   ]
  },
  {
   "cell_type": "code",
   "execution_count": null,
   "id": "083fb527-29b5-4563-a9cf-2d343163df90",
   "metadata": {},
   "outputs": [],
   "source": [
    "total_n_photons = np.sum(photons_in_slice, axis=0)\n",
    "\n",
    "fig, ax1 = plt.subplots(figsize=(5,3))\n",
    "ax2 = ax1.twinx()\n",
    "ax1.plot(np.arange(num_propagate+1),total_n_photons, 'k', label='Photons')\n",
    "ax2.plot(np.arange(num_propagate+1),total_n_excited_states, 'r', label='Excited States')\n",
    "fig.legend(loc='upper center', bbox_to_anchor=(0.5, -0.01), fancybox=True, shadow=True, ncol=5)\n",
    "ax1.tick_params(direction=\"in\")\n",
    "ax2.tick_params(direction=\"in\")\n",
    "ax1.set_xlabel(r'Number of Propagations')\n",
    "ax1.set_ylabel(r'Number of Photons')\n",
    "ax2.set_ylabel(r'Number of Excited States',color='r')\n",
    "#plt.title('Longitudinal Photon Distribution')\n",
    "\n",
    "plt.figure(figsize=(5,3))\n",
    "plt.plot(np.arange(num_propagate+1),total_n_photons, '--k', label='Photons')\n",
    "plt.plot(np.arange(num_propagate+1),total_n_excited_states, ':k', label='Excited States')\n",
    "plt.plot(np.arange(num_propagate+1),total_n_photons+total_n_excited_states,'k', label='Total')\n",
    "plt.legend(loc='upper center', bbox_to_anchor=(0.5, -0.15), fancybox=True, shadow=True, ncol=5)\n",
    "plt.tick_params(direction=\"in\")\n",
    "plt.xlabel(r'Number of Propagations')\n",
    "plt.title(r'Change in Photons and Excited States')\n",
    "#plt.ylabel(r'Number of Photons or Excited States')"
   ]
  },
  {
   "cell_type": "code",
   "execution_count": null,
   "id": "3f4fbe29-1374-4493-b742-0fd2de9d97e6",
   "metadata": {},
   "outputs": [],
   "source": []
  }
 ],
 "metadata": {
  "kernelspec": {
   "display_name": "Python 3",
   "language": "python",
   "name": "py3"
  },
  "language_info": {
   "codemirror_mode": {
    "name": "ipython",
    "version": 3
   },
   "file_extension": ".py",
   "mimetype": "text/x-python",
   "name": "python",
   "nbconvert_exporter": "python",
   "pygments_lexer": "ipython3",
   "version": "3.7.2"
  }
 },
 "nbformat": 4,
 "nbformat_minor": 5
}
