{
 "cells": [
  {
   "cell_type": "markdown",
   "id": "2c707f40-45a9-4323-a433-97394d20731c",
   "metadata": {},
   "source": [
    "Multiple passes of laser through crystal"
   ]
  },
  {
   "cell_type": "code",
   "execution_count": null,
   "id": "4a97055d-6d96-4f78-8e06-f0269c55ee3a",
   "metadata": {
    "tags": []
   },
   "outputs": [],
   "source": [
    "import sys, time\n",
    "import math\n",
    "import numpy as np\n",
    "from pykern import pkcli\n",
    "from pykern.pkcollections import PKDict\n",
    "\n",
    "# The rslaser library may not be installed, so a check is required.\n",
    "try:\n",
    "    import rslaser\n",
    "except:\n",
    "    # Developers should use 'pip install -e .' from the command line.\n",
    "    # Users can install directly from GitHub --\n",
    "    !{sys.executable} -m pip install git+https://github.com/radiasoft/rslaser.git\n",
    "    import rslaser\n",
    "\n",
    "from rslaser.pulse import pulse\n",
    "from rslaser.optics import element\n",
    "from rslaser.optics import drift\n",
    "from rslaser.optics import crystal\n",
    "\n",
    "import scipy.constants as const\n",
    "\n",
    "import srwlib\n",
    "from srwlib import srwl\n",
    "\n",
    "# 2D plotting\n",
    "import matplotlib as mpl\n",
    "import matplotlib.pyplot as plt\n",
    "from matplotlib import cm\n",
    "\n",
    "# reset the notebook style\n",
    "mpl.rcParams.update(mpl.rcParamsDefault)\n",
    "%matplotlib inline"
   ]
  },
  {
   "cell_type": "code",
   "execution_count": null,
   "id": "5939fb93-bbff-46fd-9af7-783a976ee5aa",
   "metadata": {},
   "outputs": [],
   "source": [
    "# specify parameters\n",
    "params = PKDict(\n",
    "        photon_e_ev=1.5498, # Photon energy [eV], calculated from 800nm wavelength\n",
    "        nslice = 50,\n",
    "        nx_slice = 32,\n",
    "        ny_slice = 32,\n",
    ")\n",
    "\n",
    "crystal_params = PKDict(length = 2.5/100.0,  # [m]\n",
    "                        nslice = 6,\n",
    ")\n",
    "\n",
    "prop_type = 'gain_test'\n",
    "num_propagate = 4\n",
    "\n",
    "# Maximum value is num_propagate\n",
    "prop_array = np.array([0, 4])"
   ]
  },
  {
   "cell_type": "code",
   "execution_count": null,
   "id": "549a2fd0-ba72-408f-a939-baac3e7a2382",
   "metadata": {
    "tags": []
   },
   "outputs": [],
   "source": [
    "e_crystal = crystal.Crystal(crystal_params)\n",
    "nslices_crystal = len(e_crystal.slice)\n",
    "\n",
    "# Assume all crystal slices have same cell volume\n",
    "dx = (e_crystal.slice[0].pop_inversion_xfin-e_crystal.slice[0].pop_inversion_xstart)/e_crystal.slice[0].pop_inversion_nx\n",
    "dy = (e_crystal.slice[0].pop_inversion_yfin-e_crystal.slice[0].pop_inversion_ystart)/e_crystal.slice[0].pop_inversion_ny\n",
    "cell_volume = dx*dy*e_crystal.slice[0].length\n",
    "\n",
    "thisPulse = pulse.LaserPulse(params)\n",
    "nslices_pulse = len(thisPulse.slice)\n",
    "\n",
    "photons_in_slice = np.zeros((nslices_pulse, num_propagate + 1))\n",
    "\n",
    "for prop_index in np.arange(num_propagate + 1):\n",
    "    \n",
    "    for laser_index in np.arange(nslices_pulse):\n",
    "        photons_in_slice[laser_index,prop_index] = np.sum(np.sum(thisPulse.slice[laser_index].n_photons_2d))\n",
    "    \n",
    "    total_excited_states = 0\n",
    "    for crystal_index in np.arange(nslices_crystal):\n",
    "        total_excited_states += np.sum(np.sum(e_crystal.slice[crystal_index].pop_inversion_mesh * cell_volume))\n",
    "    print('Total number excited states in crystal, ', prop_index,' propagations: ', total_excited_states)\n",
    "\n",
    "    if (prop_index < num_propagate):\n",
    "        print('\\nPropagating ', nslices_pulse, 'laser slices through ', nslices_crystal,' crystal slices')\n",
    "        thisPulse = e_crystal.propagate(thisPulse, prop_type)\n",
    "\n",
    "# Assume all pulse slices have same length\n",
    "fig_x = thisPulse.slice[0].ds *(np.arange(nslices_pulse) + 0.5)\n",
    "\n",
    "fig = plt.figure(figsize=(5,3))\n",
    "ax = fig.gca()\n",
    "for prop_value in prop_array:\n",
    "    plot_label = str(prop_value)+' propagations'\n",
    "    plt.plot(fig_x,photons_in_slice[:,prop_value], label=plot_label)\n",
    "box = ax.get_position()\n",
    "ax.set_position([box.x0, box.y0 + box.height * 0.1, box.width, box.height * 0.9])\n",
    "ax.legend(loc='upper center', bbox_to_anchor=(0.5, -0.2), fancybox=True, shadow=True, ncol=5)\n",
    "ax.tick_params(direction=\"in\")\n",
    "ax.set_ylabel(r'Total Number of Photons')\n",
    "ax.set_xlabel(r'Distance from Laser Front [m]')\n",
    "plt.title('Longitudinal Photon Distribution')"
   ]
  },
  {
   "cell_type": "code",
   "execution_count": null,
   "id": "72676331-79f6-4c0e-affa-06b52de1797b",
   "metadata": {},
   "outputs": [],
   "source": [
    "fig, ax1 = plt.subplots()\n",
    "ax2 = ax1.twinx()\n",
    "ax1.plot(fig_x,photons_in_slice[:,0], 'k', label='Initialization')\n",
    "ax2.plot(fig_x,photons_in_slice[:,4], '--r', label='4 Passes Through Crystal')\n",
    "fig.legend(loc='upper center', bbox_to_anchor=(0.5, -0.01), fancybox=True, shadow=True, ncol=5)\n",
    "ax1.tick_params(direction=\"in\")\n",
    "ax2.tick_params(direction=\"in\")\n",
    "ax1.set_xlabel(r'Distance from Laser Front [m]')\n",
    "ax1.set_ylabel(r'Number of Photons, Initialized')\n",
    "ax2.set_ylabel(r'Number of Photons, Propagated',color='r')\n",
    "plt.title('Longitudinal Photon Distribution')"
   ]
  },
  {
   "cell_type": "code",
   "execution_count": null,
   "id": "083fb527-29b5-4563-a9cf-2d343163df90",
   "metadata": {},
   "outputs": [],
   "source": []
  }
 ],
 "metadata": {
  "kernelspec": {
   "display_name": "Python 3",
   "language": "python",
   "name": "py3"
  },
  "language_info": {
   "codemirror_mode": {
    "name": "ipython",
    "version": 3
   },
   "file_extension": ".py",
   "mimetype": "text/x-python",
   "name": "python",
   "nbconvert_exporter": "python",
   "pygments_lexer": "ipython3",
   "version": "3.7.2"
  }
 },
 "nbformat": 4,
 "nbformat_minor": 5
}
