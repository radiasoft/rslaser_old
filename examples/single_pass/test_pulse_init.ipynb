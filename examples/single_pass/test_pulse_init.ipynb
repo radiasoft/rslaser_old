{
 "cells": [
  {
   "cell_type": "markdown",
   "id": "44c2f42f-1780-489e-91ba-d76313e867d7",
   "metadata": {},
   "source": [
    "# Number of photons in laser pulse, as a function of the number of laser slices\n",
    "\n",
    "_________"
   ]
  },
  {
   "cell_type": "markdown",
   "id": "1f6a016e-aa41-41da-ac0f-fe5b9beb625b",
   "metadata": {},
   "source": [
    "#### Imports"
   ]
  },
  {
   "cell_type": "code",
   "execution_count": null,
   "id": "11798aa8-65a6-444b-91ad-a78503281446",
   "metadata": {
    "tags": []
   },
   "outputs": [],
   "source": [
    "import sys, time\n",
    "import math\n",
    "import numpy as np\n",
    "from pykern import pkcli\n",
    "from pykern.pkcollections import PKDict\n",
    "import os\n",
    "\n",
    "# The rslaser library may not be installed, so a check is required.\n",
    "try:\n",
    "    import rslaser\n",
    "except:\n",
    "    # Developers should use 'pip install -e .' from the command line.\n",
    "    # Users can install directly from GitHub --\n",
    "    !{sys.executable} -m pip install git+https://github.com/radiasoft/rslaser.git\n",
    "    import rslaser\n",
    "\n",
    "from rslaser.pulse import pulse\n",
    "from rslaser.optics import element\n",
    "from rslaser.optics import drift\n",
    "from rslaser.optics import crystal\n",
    "\n",
    "import scipy.constants as const\n",
    "\n",
    "import srwlib\n",
    "from srwlib import srwl\n",
    "\n",
    "# 2D plotting\n",
    "import matplotlib as mpl\n",
    "import matplotlib.pyplot as plt\n",
    "from matplotlib import cm\n",
    "\n",
    "# reset the notebook style\n",
    "mpl.rcParams.update(mpl.rcParamsDefault)\n",
    "%matplotlib inline"
   ]
  },
  {
   "cell_type": "markdown",
   "id": "02b70f23-3852-4bdf-8423-3f4dbc3dfcdf",
   "metadata": {},
   "source": [
    "### Load File Data"
   ]
  },
  {
   "cell_type": "code",
   "execution_count": null,
   "id": "42af67ec-486e-4513-8dbf-e422bbff77ff",
   "metadata": {
    "tags": []
   },
   "outputs": [],
   "source": [
    "package_data_dir = rslaser.pkg_resources.resource_filename ('rslaser', 'package_data')\n",
    "meta_file_name = 'wfs_meta.dat'\n",
    "ccd_name = 'ccd_pump_off.txt'\n",
    "wfs_name = 'wfs_pump_off.txt'\n",
    "meta_path_to_file = os.path.join(package_data_dir, meta_file_name)\n",
    "ccd_path_to_file = os.path.join(package_data_dir, ccd_name)\n",
    "wfs_path_to_file = os.path.join(package_data_dir, wfs_name)\n",
    "\n",
    "files = PKDict(\n",
    "    meta = meta_path_to_file,\n",
    "    ccd = ccd_path_to_file,\n",
    "    wfs = wfs_path_to_file\n",
    "    )"
   ]
  },
  {
   "cell_type": "markdown",
   "id": "6c73847c-0cac-4cb7-a28a-3270e0d2f91b",
   "metadata": {},
   "source": [
    "## From Function"
   ]
  },
  {
   "cell_type": "code",
   "execution_count": null,
   "id": "bc156b80-780b-4fcd-a830-368379816253",
   "metadata": {
    "tags": []
   },
   "outputs": [],
   "source": [
    "crystal_params = PKDict(length = 2.5/100.0,  # [m]\n",
    "                        nslice = 5,\n",
    ")\n",
    "prop_type = 'gain_calc'\n",
    "\n",
    "max_num_l_slices = 20\n",
    "\n",
    "total_n_photons_i = np.zeros(max_num_l_slices)\n",
    "total_n_photons   = np.zeros(max_num_l_slices)\n",
    "\n",
    "for num_l_slices in np.arange(max_num_l_slices):\n",
    "\n",
    "    params = PKDict(\n",
    "        photon_e_ev=1.5498, # Photon energy [eV], calculated from 800nm wavelength\n",
    "        nslice = num_l_slices+1,\n",
    "        nx_slice = 32,\n",
    "        ny_slice = 32,\n",
    "        pulseE = 1.0e-6,\n",
    "        tau_fwhm = 300.0e-12 / math.sqrt(2.), #0.1 / const.c / math.sqrt(2.),\n",
    "        sigx_waist = 1.2e-3 /1.18, #1.0e-3,\n",
    "        sigy_waist = 1.2e-3 /1.18, #1.0e-3,\n",
    "    )\n",
    "    \n",
    "    e_crystal = crystal.Crystal(crystal_params)\n",
    "    thisPulse = pulse.LaserPulse(params)\n",
    "    nslices_pulse = len(thisPulse.slice)\n",
    "    nslices_crystal = len(e_crystal.slice)\n",
    "    \n",
    "    for laser_index_i in np.arange(nslices_pulse):\n",
    "        total_n_photons_i[num_l_slices] += np.sum(np.sum(thisPulse.slice[laser_index_i].n_photons_2d.mesh))\n",
    "    \n",
    "    if (num_l_slices < max_num_l_slices):\n",
    "        #print('\\nPropagating ', nslices_pulse, 'laser slices through ', nslices_crystal,' crystal slices')\n",
    "        thisPulse = e_crystal.propagate(thisPulse, prop_type)\n",
    "\n",
    "    for laser_index_p in np.arange(nslices_pulse):\n",
    "        total_n_photons[num_l_slices] += np.sum(np.sum(thisPulse.slice[laser_index_p].n_photons_2d.mesh))\n",
    "\n",
    "n_l_slice = np.arange(1,max_num_l_slices + 1)\n",
    "\n",
    "fig = plt.figure(figsize=(5,3))\n",
    "ax = fig.gca()\n",
    "plt.plot(n_l_slice,total_n_photons_i,'k',label='after initialization')\n",
    "plt.plot(n_l_slice,total_n_photons,'--k',label='after propagation')\n",
    "plt.legend()\n",
    "ax.tick_params(direction=\"in\")\n",
    "ax.set_ylabel(r'Total Number of Photons')\n",
    "ax.set_xlabel(r'Number of Laser Slices in Pulse')"
   ]
  },
  {
   "cell_type": "code",
   "execution_count": null,
   "id": "f9238ef5-a0e1-4460-b178-3fec59be43e2",
   "metadata": {
    "tags": []
   },
   "outputs": [],
   "source": [
    "if thisPulse.slice[0].ds == thisPulse.slice[-1].ds:\n",
    "    fig_x = thisPulse.slice[0].ds *(np.arange(nslices_pulse) + 0.5)\n",
    "else:\n",
    "    print('Slices are different lengths!')\n",
    "\n",
    "nslices_pulse = len(thisPulse.slice)\n",
    "photons_in_slice = np.zeros((nslices_pulse))\n",
    "for laser_index in np.arange(nslices_pulse):\n",
    "        photons_in_slice[laser_index] = np.sum(np.sum(thisPulse.slice[laser_index].n_photons_2d.mesh))\n",
    "\n",
    "fig = plt.figure(figsize=(5,3))\n",
    "ax = fig.gca()\n",
    "plt.plot(fig_x,photons_in_slice)\n",
    "box = ax.get_position()\n",
    "ax.tick_params(direction=\"in\")\n",
    "ax.set_ylabel(r'Total Number of Photons')\n",
    "ax.set_xlabel(r'Distance from Laser Front [m]')\n",
    "plt.title('Longitudinal Photon Distribution')\n",
    "\n",
    "x_function = fig_x\n",
    "photons_function = photons_in_slice"
   ]
  },
  {
   "cell_type": "markdown",
   "id": "6f6d9248-0e90-4434-8b0e-e57a30f8bc57",
   "metadata": {},
   "source": [
    "## From File"
   ]
  },
  {
   "cell_type": "code",
   "execution_count": null,
   "id": "373b7431-54a4-4298-bdab-1a4880bcbc8b",
   "metadata": {
    "tags": []
   },
   "outputs": [],
   "source": [
    "crystal_params = PKDict(length = 2.5/100.0,  # [m]\n",
    "                        nslice = 5,\n",
    ")\n",
    "prop_type = 'gain_calc'\n",
    "\n",
    "max_num_l_slices = 20\n",
    "\n",
    "total_n_photons_i = np.zeros(max_num_l_slices)\n",
    "total_n_photons   = np.zeros(max_num_l_slices)\n",
    "\n",
    "for num_l_slices in np.arange(max_num_l_slices):\n",
    "\n",
    "    params = PKDict(\n",
    "        photon_e_ev=1.5498, # Photon energy [eV], calculated from 800nm wavelength\n",
    "        nslice = num_l_slices+1,\n",
    "        nx_slice = 32,\n",
    "        ny_slice = 32,\n",
    "        pulseE = 1.0e-6,\n",
    "        tau_fwhm = 300.0e-12 / math.sqrt(2.), #0.1 / const.c / math.sqrt(2.),\n",
    "        sigx_waist = 1.2e-3 /1.18, #1.0e-3,\n",
    "        sigy_waist = 1.2e-3 /1.18, #1.0e-3,\n",
    "    )\n",
    "    \n",
    "    e_crystal = crystal.Crystal(crystal_params)\n",
    "    thisPulse = pulse.LaserPulse(params, files)\n",
    "    nslices_pulse = len(thisPulse.slice)\n",
    "    nslices_crystal = len(e_crystal.slice)\n",
    "    \n",
    "    for laser_index_i in np.arange(nslices_pulse):\n",
    "        total_n_photons_i[num_l_slices] += np.sum(np.sum(thisPulse.slice[laser_index_i].n_photons_2d.mesh))\n",
    "    \n",
    "    if (num_l_slices < max_num_l_slices):\n",
    "        #print('\\nPropagating ', nslices_pulse, 'laser slices through ', nslices_crystal,' crystal slices')\n",
    "        thisPulse = e_crystal.propagate(thisPulse, prop_type)\n",
    "\n",
    "    for laser_index_p in np.arange(nslices_pulse):\n",
    "        total_n_photons[num_l_slices] += np.sum(np.sum(thisPulse.slice[laser_index_p].n_photons_2d.mesh))\n",
    "\n",
    "n_l_slice = np.arange(1,max_num_l_slices + 1)\n",
    "\n",
    "fig = plt.figure(figsize=(5,3))\n",
    "ax = fig.gca()\n",
    "plt.plot(n_l_slice,total_n_photons_i,'k',label='after initialization')\n",
    "plt.plot(n_l_slice,total_n_photons,'--k',label='after propagation')\n",
    "plt.legend()\n",
    "ax.tick_params(direction=\"in\")\n",
    "ax.set_ylabel(r'Total Number of Photons')\n",
    "ax.set_xlabel(r'Number of Laser Slices in Pulse')"
   ]
  },
  {
   "cell_type": "code",
   "execution_count": null,
   "id": "6f196050-7943-42e8-97c2-2941bb575b18",
   "metadata": {
    "tags": []
   },
   "outputs": [],
   "source": [
    "if thisPulse.slice[0].ds == thisPulse.slice[-1].ds:\n",
    "    fig_x = thisPulse.slice[0].ds *(np.arange(nslices_pulse) + 0.5)\n",
    "else:\n",
    "    print('Slices are different lengths!')\n",
    "\n",
    "nslices_pulse = len(thisPulse.slice)\n",
    "photons_in_slice = np.zeros((nslices_pulse))\n",
    "for laser_index in np.arange(nslices_pulse):\n",
    "        photons_in_slice[laser_index] = np.sum(np.sum(thisPulse.slice[laser_index].n_photons_2d.mesh))\n",
    "\n",
    "fig = plt.figure(figsize=(5,3))\n",
    "ax = fig.gca()\n",
    "plt.plot(fig_x,photons_in_slice)\n",
    "box = ax.get_position()\n",
    "ax.tick_params(direction=\"in\")\n",
    "ax.set_ylabel(r'Total Number of Photons')\n",
    "ax.set_xlabel(r'Distance from Laser Front [m]')\n",
    "plt.title('Longitudinal Photon Distribution')\n",
    "\n",
    "x_file = fig_x\n",
    "photons_file = photons_in_slice"
   ]
  },
  {
   "cell_type": "code",
   "execution_count": null,
   "id": "66e39ff2-2b6a-45c4-9361-a5b83d8ea80a",
   "metadata": {
    "tags": []
   },
   "outputs": [],
   "source": [
    "fig, ax1 = plt.subplots(figsize=(5,3))\n",
    "ax2 = ax1.twinx()\n",
    "ax1.plot(x_file,photons_file, 'k', label='File Init')\n",
    "ax2.plot(x_function,photons_function, '--r', label='Function Init')\n",
    "fig.legend(loc='upper center', bbox_to_anchor=(0.5, -0.01), fancybox=True, shadow=True, ncol=5)\n",
    "ax1.tick_params(direction=\"in\")\n",
    "ax2.tick_params(direction=\"in\")\n",
    "ax1.set_xlabel(r'Distance from Laser Front [m]')\n",
    "ax1.set_ylabel(r'Number of Photons, File Init')\n",
    "ax2.set_ylabel(r'Number of Photons, Function Init',color='r')\n",
    "plt.title('Longitudinal Photon Distribution')"
   ]
  },
  {
   "cell_type": "code",
   "execution_count": null,
   "id": "b860416e-42cd-440a-965d-59fd6aaec725",
   "metadata": {},
   "outputs": [],
   "source": []
  }
 ],
 "metadata": {
  "kernelspec": {
   "display_name": "Python 3",
   "language": "python",
   "name": "py3"
  },
  "language_info": {
   "codemirror_mode": {
    "name": "ipython",
    "version": 3
   },
   "file_extension": ".py",
   "mimetype": "text/x-python",
   "name": "python",
   "nbconvert_exporter": "python",
   "pygments_lexer": "ipython3",
   "version": "3.7.2"
  }
 },
 "nbformat": 4,
 "nbformat_minor": 5
}
