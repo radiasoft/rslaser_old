{
 "cells": [
  {
   "cell_type": "markdown",
   "id": "84898af0-9995-43be-8a51-1cd7a244e9cb",
   "metadata": {},
   "source": [
    "# Single-pass wavefront propagation (radial n2 decay)\n",
    "\n",
    "Implementation:\n",
    "* See notes"
   ]
  },
  {
   "cell_type": "markdown",
   "id": "c6a10b5e-6697-4782-a933-348364f77ba0",
   "metadata": {},
   "source": [
    "***\n",
    "#### Imports"
   ]
  },
  {
   "cell_type": "code",
   "execution_count": null,
   "id": "71c113e7-df7e-4438-a8f1-9ab01f311b56",
   "metadata": {
    "jupyter": {
     "source_hidden": true
    },
    "tags": []
   },
   "outputs": [],
   "source": [
    "import array\n",
    "import math\n",
    "import numpy as np\n",
    "from pykern import pkcli\n",
    "from pykern.pkcollections import PKDict\n",
    "import os\n",
    "\n",
    "# The rslaser library may not be installed, so a check is required.\n",
    "try:\n",
    "    import rslaser\n",
    "except:\n",
    "    # Developers should use 'pip install -e .' from the command line.\n",
    "    # Users can install directly from GitHub --\n",
    "    !{sys.executable} -m pip install git+https://github.com/radiasoft/rslaser.git\n",
    "    import rslaser\n",
    "\n",
    "from rslaser.pulse import pulse\n",
    "from rslaser.optics import element\n",
    "from rslaser.optics import drift\n",
    "from rslaser.optics import crystal\n",
    "from rslaser.utils import srwl_uti_data as srwutil\n",
    "from rsmath import lct as rslct\n",
    "\n",
    "import scipy.constants as const\n",
    "from scipy.ndimage import gaussian_filter\n",
    "from scipy import special\n",
    "\n",
    "import srwlib\n",
    "from srwlib import srwl\n",
    "\n",
    "# 2D plotting\n",
    "import matplotlib as mpl\n",
    "import matplotlib.pyplot as plt\n",
    "from matplotlib import cm\n",
    "\n",
    "# reset the notebook style\n",
    "mpl.rcParams.update(mpl.rcParamsDefault)\n",
    "%matplotlib inline"
   ]
  },
  {
   "cell_type": "markdown",
   "id": "6c51ddb9-b5df-417e-acf6-a97769a1c260",
   "metadata": {},
   "source": [
    "#### File Data"
   ]
  },
  {
   "cell_type": "code",
   "execution_count": null,
   "id": "5b259b04-00f9-4fad-9a97-10e69fb6af87",
   "metadata": {
    "jupyter": {
     "source_hidden": true
    },
    "tags": []
   },
   "outputs": [],
   "source": [
    "package_data_dir = rslaser.pkg_resources.resource_filename ('rslaser', 'package_data')\n",
    "\n",
    "files = PKDict(\n",
    "    meta = os.path.join(package_data_dir, 'wfs_meta.dat'),\n",
    "    ccd = os.path.join(package_data_dir, 'ccd_pump_off.txt'), #_off_peak_timing.txt'), #_pump_off.txt'),\n",
    "    wfs = os.path.join(package_data_dir, 'wfs_pump_off.txt'), #_off_peak_timing.txt'), #_pump_off.txt')\n",
    ")"
   ]
  },
  {
   "cell_type": "markdown",
   "id": "3ece0f64-cd07-4b2c-bc27-cfbf37889df1",
   "metadata": {},
   "source": [
    "***\n",
    "### Pulse Initialization"
   ]
  },
  {
   "cell_type": "code",
   "execution_count": null,
   "id": "54e3b51e-f881-4067-aafa-c5d9f19182c4",
   "metadata": {
    "tags": []
   },
   "outputs": [],
   "source": [
    "params = PKDict(\n",
    "    photon_e_ev = 1.5498, # Photon energy [eV], calculated from 800nm wavelength\n",
    "    nslice      = 5,\n",
    "    pulseE      = 1.0e-6,\n",
    "    tau_fwhm    = 300.0e-12 / math.sqrt(2.),\n",
    "    sigx_waist  = 1.2e-3 /1.18,\n",
    "    sigy_waist  = 1.2e-3 /1.18,\n",
    ")\n",
    "\n",
    "thisPulse = pulse.LaserPulse(params, files)"
   ]
  },
  {
   "cell_type": "code",
   "execution_count": null,
   "id": "f957639c-a215-49fd-91cc-6b0a009192b9",
   "metadata": {
    "jupyter": {
     "source_hidden": true
    },
    "tags": []
   },
   "outputs": [],
   "source": [
    "# Plot initial wavefront\n",
    "wfr_exp_init = thisPulse.slice[0].wfr\n",
    "\n",
    "x_exp_init=np.linspace(wfr_exp_init.mesh.xStart,wfr_exp_init.mesh.xFin,wfr_exp_init.mesh.nx)\n",
    "y_exp_init=np.linspace(wfr_exp_init.mesh.yStart,wfr_exp_init.mesh.yFin,wfr_exp_init.mesh.ny)\n",
    "\n",
    "e_total = thisPulse.extract_total_2d_elec_fields()\n",
    "intensity_2D_exp_init = 0.5 *const.c *const.epsilon_0 *(e_total.re**2.0 + e_total.im**2.0)\n",
    "\n",
    "with plt.style.context(('seaborn-poster')):\n",
    "    fig = plt.figure(figsize=(6,3.6))\n",
    "    ax = fig.gca()\n",
    "    plt.pcolormesh(y_exp_init*(1e3), x_exp_init*(1e3), intensity_2D_exp_init, cmap=plt.cm.viridis, shading='auto')\n",
    "    plt.colorbar()\n",
    "    ax.set_ylabel(r'Vertical Position [mm]')\n",
    "    ax.set_xlabel(r'Horizontal Position [mm]')\n",
    "    ax.set_title('Intensity (pump_off)')"
   ]
  },
  {
   "cell_type": "code",
   "execution_count": null,
   "id": "53e0f51c-4d78-4f99-99c0-0cb2dd479d49",
   "metadata": {
    "jupyter": {
     "source_hidden": true
    },
    "tags": []
   },
   "outputs": [],
   "source": [
    "print(np.sum(thisPulse.slice[0].n_photons_2d.mesh))\n",
    "\n",
    "efield_abs_sqrd_2d = e_total.re**2.0 + e_total.im**2.0\n",
    "dx = (wfr_exp_init.mesh.xFin - wfr_exp_init.mesh.xStart)/wfr_exp_init.mesh.nx\n",
    "dy = (wfr_exp_init.mesh.yFin - wfr_exp_init.mesh.yStart)/wfr_exp_init.mesh.ny\n",
    "\n",
    "# Field energy per grid cell is the area of that cell times the energy density\n",
    "cell_area = dx * dy\n",
    "end1 = (thisPulse.slice[0]._pulse_pos -0.5*thisPulse.slice[0].ds) /(np.sqrt(2.0) *thisPulse.slice[0].sig_s)\n",
    "end2 = (thisPulse.slice[0]._pulse_pos +0.5*thisPulse.slice[0].ds) /(np.sqrt(2.0) *thisPulse.slice[0].sig_s)\n",
    "energy_2d = cell_area *(const.epsilon_0 /2.0) \\\n",
    "            *(efield_abs_sqrd_2d /np.exp(-thisPulse.slice[0]._pulse_pos**2.0/(np.sqrt(2.0) *thisPulse.slice[0].sig_s)**2.0)) \\\n",
    "            *((np.sqrt(np.pi)/2.0) *(np.sqrt(2.0) *thisPulse.slice[0].sig_s) *(special.erf(end2) -special.erf(end1)))\n",
    "\n",
    "# Get slice value of photon_e (will be in eV)\n",
    "photon_e = thisPulse.photon_e_ev * const.e\n",
    "\n",
    "print(np.sum(energy_2d / photon_e))"
   ]
  },
  {
   "cell_type": "code",
   "execution_count": null,
   "id": "e5fa1351-7541-4925-85ad-c5af0c8f140b",
   "metadata": {
    "jupyter": {
     "source_hidden": true
    },
    "tags": []
   },
   "outputs": [],
   "source": [
    "# initial phase\n",
    "phase_exp_init = srwlib.array('d', [0]*wfr_exp_init.mesh.nx*wfr_exp_init.mesh.ny) # \"flat\" array to take 2D data\n",
    "srwl.CalcIntFromElecField(phase_exp_init, wfr_exp_init, 0, 4, 3, wfr_exp_init.mesh.eStart, 0, 0) #extracts the phase; must use double precision\n",
    "\n",
    "# Reshaping data from flat to 2D array\n",
    "phase_2d_exp_init = np.array(phase_exp_init).reshape((wfr_exp_init.mesh.nx, wfr_exp_init.mesh.ny), order='C').astype(np.float64)\n",
    "\n",
    "with plt.style.context(('seaborn-poster')):\n",
    "    fig = plt.figure(figsize=(6,3.6))\n",
    "    ax = fig.gca()\n",
    "    plt.pcolormesh(y_exp_init*(1e3), x_exp_init*(1e3), phase_2d_exp_init, cmap=plt.cm.viridis, shading='auto')\n",
    "    plt.colorbar()\n",
    "    ax.set_xlabel(r'Horizontal Position [mm]')\n",
    "    ax.set_ylabel(r'Vertical Position [mm]')\n",
    "    ax.set_title('Phase (pump off)')"
   ]
  },
  {
   "cell_type": "markdown",
   "id": "3e46d285-f91f-4168-b5fb-310ec8eef9b9",
   "metadata": {},
   "source": [
    "***\n",
    "### Crystal Initialization"
   ]
  },
  {
   "cell_type": "code",
   "execution_count": null,
   "id": "76ca4b4c-def5-4fb4-a421-e4e3b8247830",
   "metadata": {
    "tags": []
   },
   "outputs": [],
   "source": [
    "num_slices = 5\n",
    "n0 = 1.76\n",
    "n2 = 16.0\n",
    "L_cryst = 0.025\n",
    "gamma = np.sqrt(n2/n0)\n",
    "\n",
    "crystal_params = PKDict(\n",
    "    length      = L_cryst, # [m]\n",
    "    nslice      = num_slices,\n",
    "    l_scale     = 0.001, #abcd_lct value #0.004, \n",
    "    n0          = [n0 for _ in range(num_slices)],\n",
    "    n2          = [n2 for _ in range(num_slices)],\n",
    "    pump_energy = 0.035,  # [J]\n",
    "    pump_waist  = 1.2e-3 /1.18,  # [m]\n",
    "    A           = np.cos(gamma*L_cryst),\n",
    "    B           = (1/gamma)*np.sin(gamma*L_cryst),\n",
    "    C           = -gamma*np.sin(gamma*L_cryst),\n",
    "    D           = np.cos(gamma*L_cryst)\n",
    ")\n",
    "\n",
    "e_crystal = crystal.Crystal(crystal_params)"
   ]
  },
  {
   "cell_type": "markdown",
   "id": "16bc1866-1310-48c9-89f0-e0e679962a3d",
   "metadata": {},
   "source": [
    "***\n",
    "## Propagate through Crystal Once"
   ]
  },
  {
   "cell_type": "code",
   "execution_count": null,
   "id": "e0817f69-7d98-466c-b3ca-33a42cf88743",
   "metadata": {
    "tags": []
   },
   "outputs": [],
   "source": [
    "prop_type = 'n0n2_srw'\n",
    "gain = 1\n",
    "radial_n2 = 1\n",
    "\n",
    "LP = pulse.LaserPulse(params, files)\n",
    "nslices_pulse = len(LP.slice)\n",
    "e_crystal = crystal.Crystal(crystal_params)\n",
    "nslices_crystal = len(e_crystal.slice)\n",
    "\n",
    "n_photons_before = 0\n",
    "for laser_index_i in np.arange(LP.nslice):\n",
    "        n_photons_before += np.sum(LP.slice[laser_index_i].n_photons_2d.mesh)\n",
    "\n",
    "print('\\nPropagating ', nslices_pulse, 'laser slices through ', nslices_crystal,' crystal slices')\n",
    "LP = e_crystal.propagate(LP, prop_type, gain, radial_n2)\n",
    "\n",
    "# instantiate a drift\n",
    "L_drift = 0.50  # [m]\n",
    "e_drift = drift.Drift(L_drift)\n",
    "LP = e_drift.propagate(LP, 'default')\n",
    "\n",
    "wfr_sim_final=LP.slice[0].wfr\n",
    "x_sim_final=np.linspace(wfr_sim_final.mesh.xStart,wfr_sim_final.mesh.xFin,wfr_sim_final.mesh.nx)\n",
    "y_sim_final=np.linspace(wfr_sim_final.mesh.yStart,wfr_sim_final.mesh.yFin,wfr_sim_final.mesh.ny)"
   ]
  },
  {
   "cell_type": "markdown",
   "id": "279cf4d2-60b3-47c4-b938-879788580803",
   "metadata": {},
   "source": [
    "***\n",
    "## Simulation Plots"
   ]
  },
  {
   "cell_type": "code",
   "execution_count": null,
   "id": "e2c31ad1-ae93-4cd2-99ae-e2d854132a50",
   "metadata": {
    "jupyter": {
     "source_hidden": true
    },
    "tags": []
   },
   "outputs": [],
   "source": [
    "e_total = LP.extract_total_2d_elec_fields()\n",
    "intens_2d_sim_final = 0.5 *const.c *const.epsilon_0 *(e_total.re**2.0 + e_total.im**2.0)\n",
    "    \n",
    "with plt.style.context(('seaborn-poster')):\n",
    "    fig = plt.figure(figsize=(6,3.6))\n",
    "    ax = fig.gca()\n",
    "    plt.pcolormesh(y_sim_final*(1e3), x_sim_final*(1e3), intens_2d_sim_final, cmap=plt.cm.viridis, shading='auto') #viridis\n",
    "    plt.colorbar()\n",
    "    ax.set_ylabel(r'Vertical Position [mm]')\n",
    "    ax.set_xlabel(r'Horizontal Position [mm]')\n",
    "    ax.set_title('Intensity (simulation)')"
   ]
  },
  {
   "cell_type": "code",
   "execution_count": null,
   "id": "e504aba6-1d5b-43a0-9c1c-e1811f266af4",
   "metadata": {
    "jupyter": {
     "source_hidden": true
    },
    "tags": []
   },
   "outputs": [],
   "source": [
    "# print(np.sum(LP.slice[0].n_photons_2d.mesh))\n",
    "\n",
    "# efield_abs_sqrd_2d = e_total.re**2.0 + e_total.im**2.0\n",
    "# dx = (wfr_sim_final.mesh.xFin - wfr_sim_final.mesh.xStart)/wfr_sim_final.mesh.nx\n",
    "# dy = (wfr_sim_final.mesh.yFin - wfr_sim_final.mesh.yStart)/wfr_sim_final.mesh.ny\n",
    "\n",
    "# # Field energy per grid cell is the area of that cell times the energy density\n",
    "# cell_area = dx * dy\n",
    "# end1 = (LP.slice[0]._pulse_pos -0.5*LP.slice[0].ds) /(np.sqrt(2.0) *LP.slice[0].sig_s)\n",
    "# end2 = (LP.slice[0]._pulse_pos +0.5*LP.slice[0].ds) /(np.sqrt(2.0) *LP.slice[0].sig_s)\n",
    "# energy_2d = cell_area *(const.epsilon_0 /2.0) \\\n",
    "#             *(efield_abs_sqrd_2d /np.exp(-LP.slice[0]._pulse_pos**2.0/(np.sqrt(2.0) *LP.slice[0].sig_s)**2.0)) \\\n",
    "#             *((np.sqrt(np.pi)/2.0) *(np.sqrt(2.0) *LP.slice[0].sig_s) *(special.erf(end2) -special.erf(end1)))\n",
    "\n",
    "# # Get slice value of photon_e (will be in eV)\n",
    "# photon_e = LP.photon_e_ev * const.e\n",
    "\n",
    "# print(np.sum(energy_2d / photon_e))"
   ]
  },
  {
   "cell_type": "code",
   "execution_count": null,
   "id": "374591a3-f04f-4825-b3a2-65c4911d5906",
   "metadata": {
    "jupyter": {
     "source_hidden": true
    },
    "tags": []
   },
   "outputs": [],
   "source": [
    "#Before: 4027293259435.664"
   ]
  },
  {
   "cell_type": "code",
   "execution_count": null,
   "id": "28c1a26f-8ec5-4b86-ab46-59674bd34314",
   "metadata": {
    "jupyter": {
     "source_hidden": true
    },
    "tags": []
   },
   "outputs": [],
   "source": [
    "# transmitted pulse - phase\n",
    "phase_sim_final = srwlib.array('d', [0]*wfr_sim_final.mesh.nx*wfr_sim_final.mesh.ny) # \"flat\" array to take 2D phase data\n",
    "srwl.CalcIntFromElecField(phase_sim_final, wfr_sim_final, 0, 4, 3, wfr_sim_final.mesh.eStart, 0, 0) #extracts the phase; must use double precision\n",
    "\n",
    "# Reshaping data from flat to 2D array\n",
    "phase_2d_sim_final = np.array(phase_sim_final).reshape((wfr_sim_final.mesh.nx, wfr_sim_final.mesh.ny), order='C').astype(np.float64)\n",
    "\n",
    "with plt.style.context(('seaborn-poster')):\n",
    "    fig = plt.figure(figsize=(6,3.6))\n",
    "    ax = fig.gca()\n",
    "    plt.pcolormesh(y_sim_final*(1e3), x_sim_final*(1e3), phase_2d_sim_final, cmap=plt.cm.viridis, shading='auto') #np.unwrap(phase_2d_sim_final)\n",
    "    plt.colorbar()\n",
    "    ax.set_ylabel(r'Vertical Position [mm]')#[mm]')\n",
    "    ax.set_xlabel(r'Horizontal Position [mm]')#[mm]')\n",
    "    ax.set_title('Phase (simulation)')"
   ]
  },
  {
   "cell_type": "code",
   "execution_count": null,
   "id": "09160c88-c5f6-4af8-a390-3eb949543691",
   "metadata": {
    "tags": []
   },
   "outputs": [],
   "source": [
    "# Plot difference in intensities\n",
    "\n",
    "diff_intensity_2D_sim = intens_2d_sim_final - intensity_2D_exp_init\n",
    "\n",
    "with plt.style.context(('seaborn-poster')):\n",
    "    fig = plt.figure(figsize=(6,3.6))\n",
    "    ax = fig.gca()\n",
    "    plt.pcolormesh(y_sim_final*(1e3), x_sim_final*(1e3), diff_intensity_2D_sim, cmap=plt.cm.viridis, shading='auto')\n",
    "    plt.colorbar()\n",
    "    ax.set_ylabel(r'Vertical Position [mm]')\n",
    "    ax.set_xlabel(r'Horizontal Position [mm]')\n",
    "    ax.set_title('Intensity (sim difference)')\n",
    "\n",
    "print(np.max(intens_2d_sim_final)-np.max(intensity_2D_exp_init))\n",
    "\n",
    "prop_n_photons = 0\n",
    "for laser_index_i in np.arange(LP.nslice):\n",
    "        prop_n_photons += np.sum(LP.slice[laser_index_i].n_photons_2d.mesh)\n",
    "print(prop_n_photons -n_photons_before)"
   ]
  },
  {
   "cell_type": "markdown",
   "id": "93b61086-42be-4e0b-b75b-669cef22a673",
   "metadata": {},
   "source": [
    "***\n",
    "## Peak Timing and Off-Peak Timing Plots"
   ]
  },
  {
   "cell_type": "code",
   "execution_count": null,
   "id": "96566261-3cb2-47ac-8b37-e1d27dd1f7f2",
   "metadata": {
    "jupyter": {
     "source_hidden": true
    },
    "tags": []
   },
   "outputs": [],
   "source": [
    "files = PKDict(\n",
    "    meta = os.path.join(package_data_dir, 'wfs_meta.dat'),\n",
    "    ccd = os.path.join(package_data_dir, 'ccd_off_peak_timing.txt'), #_pump_off.txt'),\n",
    "    wfs = os.path.join(package_data_dir, 'wfs_off_peak_timing.txt'), #_pump_off.txt')\n",
    ")\n",
    "\n",
    "offpeakPulse = pulse.LaserPulse(params, files)\n",
    "wfr_exp_final_op = offpeakPulse.slice[0].wfr\n",
    "\n",
    "# _op = _off_peak\n",
    "\n",
    "x_exp_final_op=np.linspace(wfr_exp_final_op.mesh.xStart,wfr_exp_final_op.mesh.xFin,wfr_exp_final_op.mesh.nx)\n",
    "y_exp_final_op=np.linspace(wfr_exp_final_op.mesh.yStart,wfr_exp_final_op.mesh.yFin,wfr_exp_final_op.mesh.ny)"
   ]
  },
  {
   "cell_type": "code",
   "execution_count": null,
   "id": "2fbf5fbf-c2e7-4613-939c-7c96d261e9ff",
   "metadata": {
    "jupyter": {
     "source_hidden": true
    },
    "tags": []
   },
   "outputs": [],
   "source": [
    "e_total = offpeakPulse.extract_total_2d_elec_fields()\n",
    "intensity_2D_exp_final_op = 0.5 *const.c *const.epsilon_0 *(e_total.re**2.0 + e_total.im**2.0)\n",
    "\n",
    "with plt.style.context(('seaborn-poster')):\n",
    "    fig = plt.figure(figsize=(6,3.6))\n",
    "    ax = fig.gca()\n",
    "    plt.pcolormesh(y_exp_final_op*(1e3), x_exp_final_op*(1e3), intensity_2D_exp_final_op, cmap=plt.cm.viridis, shading='auto')\n",
    "    plt.colorbar()\n",
    "    ax.set_ylabel(r'Vertical Position [mm]')\n",
    "    ax.set_xlabel(r'Horizontal Position [mm]')\n",
    "    ax.set_title('Intensity (off-peak timing)')"
   ]
  },
  {
   "cell_type": "code",
   "execution_count": null,
   "id": "87cfde87-3452-4c99-8a12-7b6a8fa5e197",
   "metadata": {
    "jupyter": {
     "source_hidden": true
    },
    "tags": []
   },
   "outputs": [],
   "source": [
    "files = PKDict(\n",
    "    meta = os.path.join(package_data_dir, 'wfs_meta.dat'),\n",
    "    ccd = os.path.join(package_data_dir, 'ccd_peak_timing.txt'), #_off_peak_timing.txt'), #_pump_off.txt'),\n",
    "    wfs = os.path.join(package_data_dir, 'wfs_peak_timing.txt'), #_off_peak_timing.txt'), #_pump_off.txt')\n",
    ")\n",
    "\n",
    "peakPulse = pulse.LaserPulse(params, files)\n",
    "wfr_exp_final = peakPulse.slice[0].wfr\n",
    "\n",
    "x_exp_final=np.linspace(wfr_exp_final.mesh.xStart,wfr_exp_final.mesh.xFin,wfr_exp_final.mesh.nx)\n",
    "y_exp_final=np.linspace(wfr_exp_final.mesh.yStart,wfr_exp_final.mesh.yFin,wfr_exp_final.mesh.ny)"
   ]
  },
  {
   "cell_type": "code",
   "execution_count": null,
   "id": "2222a361-a904-4f1e-95d4-55c891d66fb0",
   "metadata": {
    "jupyter": {
     "source_hidden": true
    },
    "tags": []
   },
   "outputs": [],
   "source": [
    "e_total = peakPulse.extract_total_2d_elec_fields()\n",
    "intensity_2D_exp_final = 0.5 *const.c *const.epsilon_0 *(e_total.re**2.0 + e_total.im**2.0)\n",
    "\n",
    "with plt.style.context(('seaborn-poster')):\n",
    "    fig = plt.figure(figsize=(6,3.6))\n",
    "    ax = fig.gca()\n",
    "    plt.pcolormesh(y_exp_final*(1e3), x_exp_final*(1e3), intensity_2D_exp_final, cmap=plt.cm.viridis, shading='auto')\n",
    "    plt.colorbar()\n",
    "    ax.set_ylabel(r'Vertical Position [mm]')\n",
    "    ax.set_xlabel(r'Horizontal Position [mm]')\n",
    "    ax.set_title('Intensity (peak timing)')"
   ]
  },
  {
   "cell_type": "code",
   "execution_count": null,
   "id": "f4fa6fd0-6c40-40ad-97aa-ee6ce46d6783",
   "metadata": {
    "jupyter": {
     "source_hidden": true
    },
    "tags": []
   },
   "outputs": [],
   "source": [
    "# Extract phase from experimental post-prop wavefront\n",
    "phase_exp_final = srwlib.array('d', [0]*wfr_exp_final.mesh.nx*wfr_exp_final.mesh.ny) # \"flat\" array to take 2D data\n",
    "srwl.CalcIntFromElecField(phase_exp_final, wfr_exp_final, 0, 4, 3, wfr_exp_final.mesh.eStart, 0, 0) #extracts the phase; must use double precision\n",
    "\n",
    "# Reshaping phase data from flat to 2D array\n",
    "phase_2d_exp_final = np.array(phase_exp_final).reshape((wfr_exp_final.mesh.nx, wfr_exp_final.mesh.ny), order='C').astype(np.float64)\n",
    "\n",
    "with plt.style.context(('seaborn-poster')):\n",
    "    fig = plt.figure(figsize=(6,3.6))\n",
    "    ax = fig.gca()\n",
    "    plt.pcolormesh(y_exp_final*(1e3), x_exp_final*(1e3), phase_2d_exp_final, cmap=plt.cm.viridis, shading='auto')\n",
    "    plt.colorbar()\n",
    "    ax.set_xlabel(r'Horizontal Position [mm]')\n",
    "    ax.set_ylabel(r'Vertical Position [mm]')\n",
    "    ax.set_title('Phase (peak timing)')"
   ]
  },
  {
   "cell_type": "code",
   "execution_count": null,
   "id": "7cf21873-38aa-4f36-aa62-cef5bd11b75c",
   "metadata": {
    "jupyter": {
     "source_hidden": true
    },
    "tags": []
   },
   "outputs": [],
   "source": [
    "# Plot difference in intensities\n",
    "\n",
    "diff_intensity_2D_exp_final = intensity_2D_exp_final - intensity_2D_exp_final_op\n",
    "\n",
    "with plt.style.context(('seaborn-poster')):\n",
    "    fig = plt.figure(figsize=(6,3.6))\n",
    "    ax = fig.gca()\n",
    "    plt.pcolormesh(y_exp_final*(1e3), x_exp_final*(1e3), diff_intensity_2D_exp_final, cmap=plt.cm.viridis, shading='auto')\n",
    "    plt.colorbar()\n",
    "    ax.set_ylabel(r'Vertical Position [mm]')\n",
    "    ax.set_xlabel(r'Horizontal Position [mm]')\n",
    "    ax.set_title('Intensity (data difference)')"
   ]
  },
  {
   "cell_type": "code",
   "execution_count": null,
   "id": "5dbb7487-8948-476b-a3ca-2a3b63993b58",
   "metadata": {},
   "outputs": [],
   "source": []
  }
 ],
 "metadata": {
  "kernelspec": {
   "display_name": "Python 3",
   "language": "python",
   "name": "py3"
  },
  "language_info": {
   "codemirror_mode": {
    "name": "ipython",
    "version": 3
   },
   "file_extension": ".py",
   "mimetype": "text/x-python",
   "name": "python",
   "nbconvert_exporter": "python",
   "pygments_lexer": "ipython3",
   "version": "3.7.2"
  }
 },
 "nbformat": 4,
 "nbformat_minor": 5
}
