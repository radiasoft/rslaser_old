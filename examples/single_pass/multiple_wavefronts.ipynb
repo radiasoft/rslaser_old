{
 "cells": [
  {
   "cell_type": "markdown",
   "id": "cc2df31f-f55f-4d97-9a09-433afe96b914",
   "metadata": {},
   "source": [
    "# Compare simulation with experiment\n",
    "________\n",
    "\n",
    "Initiate laser pulse fron the phase-intensity image pairs of a wavefront censor (WFS) diagnostic:\n",
    "\n",
    "ccd_name = 'ccd_pump_off.txt'\n",
    "* This file contains the photon count, perhaps normalized, which we loosely refer to as intensity.\n",
    "\n",
    "wfs_name = 'wfs_pump_off.txt'\n",
    "* This file contains the phase of the electric field.\n",
    "________"
   ]
  },
  {
   "cell_type": "markdown",
   "id": "de0b9b63-16c2-4fe5-affb-5bc90611936b",
   "metadata": {},
   "source": [
    "#### Imports"
   ]
  },
  {
   "cell_type": "code",
   "execution_count": null,
   "id": "9868b20a-75eb-4a2a-82f3-c03317ee6a22",
   "metadata": {
    "jupyter": {
     "source_hidden": true
    },
    "tags": []
   },
   "outputs": [],
   "source": [
    "import array\n",
    "import math\n",
    "import numpy as np\n",
    "from pykern import pkcli\n",
    "from pykern.pkcollections import PKDict\n",
    "import os\n",
    "from scipy.integrate import simpson\n",
    "\n",
    "# The rslaser library may not be installed, so a check is required.\n",
    "try:\n",
    "    import rslaser\n",
    "except:\n",
    "    # Developers should use 'pip install -e .' from the command line.\n",
    "    # Users can install directly from GitHub --\n",
    "    !{sys.executable} -m pip install git+https://github.com/radiasoft/rslaser.git\n",
    "    import rslaser\n",
    "\n",
    "from rslaser.pulse import pulse\n",
    "from rslaser.optics import element\n",
    "from rslaser.optics import drift\n",
    "from rslaser.optics import crystal\n",
    "from rslaser.utils import srwl_uti_data as srwutil\n",
    "\n",
    "import scipy.constants as const\n",
    "from scipy.ndimage import gaussian_filter\n",
    "from scipy import special\n",
    "\n",
    "import srwlib\n",
    "from srwlib import srwl\n",
    "\n",
    "# 2D plotting\n",
    "import matplotlib as mpl\n",
    "import matplotlib.pyplot as plt\n",
    "from matplotlib import cm\n",
    "\n",
    "# reset the notebook style\n",
    "mpl.rcParams.update(mpl.rcParamsDefault)\n",
    "%matplotlib inline"
   ]
  },
  {
   "cell_type": "markdown",
   "id": "1472a424-9a60-45a3-b7e2-ac338ab46ecd",
   "metadata": {},
   "source": [
    "#### File data"
   ]
  },
  {
   "cell_type": "code",
   "execution_count": null,
   "id": "bdce198f-a753-44a8-89a2-bd380aa811a1",
   "metadata": {
    "jupyter": {
     "source_hidden": true
    },
    "tags": []
   },
   "outputs": [],
   "source": [
    "package_data_dir = rslaser.pkg_resources.resource_filename ('rslaser', 'package_data')\n",
    "\n",
    "files = PKDict(\n",
    "    meta = os.path.join(package_data_dir, 'wfs_meta.dat'),\n",
    "    ccd = os.path.join(package_data_dir, 'ccd_pump_off.txt'),\n",
    "    wfs = os.path.join(package_data_dir, 'wfs_pump_off.txt')\n",
    ")"
   ]
  },
  {
   "cell_type": "markdown",
   "id": "0363f7f8-f9f1-4b80-af30-68a7ae0d2886",
   "metadata": {},
   "source": [
    "### Initialize Pulse"
   ]
  },
  {
   "cell_type": "code",
   "execution_count": null,
   "id": "e41d7efc-c5a5-49e0-89ff-164eec6fe701",
   "metadata": {
    "jupyter": {
     "source_hidden": true
    },
    "tags": []
   },
   "outputs": [],
   "source": [
    "params = PKDict(\n",
    "    photon_e_ev = 1.5498, # Photon energy [eV], calculated from 800nm wavelength\n",
    "    nslice      = 1,\n",
    "    pulseE      = 1.0e-6,\n",
    "    tau_fwhm    = 300.0e-12 / math.sqrt(2.),\n",
    "    sigx_waist  = 1.2e-3 /1.18,\n",
    "    sigy_waist  = 1.2e-3 /1.18,\n",
    ")\n",
    "\n",
    "thisPulse = pulse.LaserPulse(params, files)"
   ]
  },
  {
   "cell_type": "markdown",
   "id": "baa1efa5-7193-4e45-b735-b42ba88a20b3",
   "metadata": {},
   "source": [
    "## Plot Intensity From calc_int_from_wfr and combination of fields"
   ]
  },
  {
   "cell_type": "code",
   "execution_count": null,
   "id": "d6feb6ee-1c94-49c7-b321-0b5b35ab26d7",
   "metadata": {
    "jupyter": {
     "source_hidden": true
    },
    "tags": []
   },
   "outputs": [],
   "source": [
    "e_init_total = thisPulse.extract_total_2d_elec_fields()\n",
    "\n",
    "x_init = np.linspace(thisPulse.slice[0].wfr.mesh.xStart, thisPulse.slice[0].wfr.mesh.xFin, thisPulse.slice[0].wfr.mesh.nx)\n",
    "y_init = np.linspace(thisPulse.slice[0].wfr.mesh.yStart, thisPulse.slice[0].wfr.mesh.yFin, thisPulse.slice[0].wfr.mesh.ny)\n",
    "\n",
    "intensity_init_total = 0.5 *const.c *const.epsilon_0 *(e_init_total.re**2.0 + e_init_total.im**2.0)\n",
    "\n",
    "with plt.style.context(('seaborn-poster')):\n",
    "    fig = plt.figure(figsize=(6,3.6))\n",
    "    ax = fig.gca()\n",
    "    plt.pcolormesh(x_init*(1e3), y_init*(1e3), intensity_init_total, cmap=plt.cm.viridis, shading='auto')\n",
    "    plt.colorbar()\n",
    "    ax.set_ylabel(r'Vertical Position [mm]')\n",
    "    ax.set_xlabel(r'Horizontal Position [mm]')\n",
    "    ax.set_title('Intensity (initial)')"
   ]
  },
  {
   "cell_type": "code",
   "execution_count": null,
   "id": "fe283c55-05e7-4ac0-98f2-7d9234c89716",
   "metadata": {
    "jupyter": {
     "source_hidden": true
    },
    "tags": []
   },
   "outputs": [],
   "source": [
    "x_init = np.linspace(thisPulse.slice[0].wfr.mesh.xStart, thisPulse.slice[0].wfr.mesh.xFin, thisPulse.slice[0].wfr.mesh.nx)\n",
    "y_init = np.linspace(thisPulse.slice[0].wfr.mesh.yStart, thisPulse.slice[0].wfr.mesh.yFin, thisPulse.slice[0].wfr.mesh.ny)\n",
    "\n",
    "intensity_init_total = srwutil.calc_int_from_elec(thisPulse.slice[0].wfr)\n",
    "\n",
    "with plt.style.context(('seaborn-poster')):\n",
    "    fig = plt.figure(figsize=(6,3.6))\n",
    "    ax = fig.gca()\n",
    "    plt.pcolormesh(x_init*(1e3), y_init*(1e3), intensity_init_total, cmap=plt.cm.viridis, shading='auto')\n",
    "    plt.colorbar()\n",
    "    ax.set_ylabel(r'Vertical Position [mm]')\n",
    "    ax.set_xlabel(r'Horizontal Position [mm]')\n",
    "    ax.set_title('Intensity (initial)')"
   ]
  },
  {
   "cell_type": "code",
   "execution_count": null,
   "id": "1791660b-d977-4d9c-96eb-256c74bdde8f",
   "metadata": {
    "jupyter": {
     "source_hidden": true
    },
    "tags": []
   },
   "outputs": [],
   "source": [
    "max_num_l_slices = 50\n",
    "max_intensity = np.zeros(max_num_l_slices)\n",
    "\n",
    "for num_l_slices in np.arange(max_num_l_slices):\n",
    "\n",
    "    #print('\\n', num_l_slices+1, ' laser slices')\n",
    "    params = PKDict(\n",
    "        photon_e_ev = 1.5498, # Photon energy [eV], calculated from 800nm wavelength\n",
    "        nslice      = num_l_slices+1,\n",
    "        pulseE      = 1.0e-6,\n",
    "        tau_fwhm    = 300.0e-12 / math.sqrt(2.),\n",
    "        sigx_waist  = 1.2e-3 /1.18,\n",
    "        sigy_waist  = 1.2e-3 /1.18,\n",
    "    )\n",
    "\n",
    "    thisPulse = pulse.LaserPulse(params, files)\n",
    "    nslices_pulse = len(thisPulse.slice)\n",
    "    \n",
    "    e_total = thisPulse.extract_total_2d_elec_fields()\n",
    "    intensity = 0.5 *const.c *const.epsilon_0 *(e_total.re**2.0 + e_total.im**2.0)\n",
    "    max_intensity[num_l_slices] = np.max(intensity)\n",
    "\n",
    "x_init = np.linspace(thisPulse.slice[0].wfr.mesh.xStart, thisPulse.slice[0].wfr.mesh.xFin, thisPulse.slice[0].wfr.mesh.nx)\n",
    "y_init = np.linspace(thisPulse.slice[0].wfr.mesh.yStart, thisPulse.slice[0].wfr.mesh.yFin, thisPulse.slice[0].wfr.mesh.ny)\n",
    "\n",
    "with plt.style.context(('seaborn-poster')):\n",
    "    fig = plt.figure(figsize=(6,3.6))\n",
    "    ax = fig.gca()\n",
    "    plt.pcolormesh(y_init*(1e3), x_init*(1e3), intensity, cmap=plt.cm.viridis, shading='auto')\n",
    "    plt.colorbar()\n",
    "    ax.set_ylabel(r'Vertical Position [mm]')\n",
    "    ax.set_xlabel(r'Horizontal Position [mm]')\n",
    "    ax.set_title('Intensity (initial)')\n",
    "\n",
    "\n",
    "n_l_slice = np.arange(1,max_num_l_slices + 1)\n",
    "\n",
    "fig = plt.figure(figsize=(5,3))\n",
    "ax = fig.gca()\n",
    "plt.plot(n_l_slice,max_intensity,'k')\n",
    "ax.tick_params(direction=\"in\")\n",
    "ax.set_ylabel(r'Maximum Intensity Value')\n",
    "ax.set_xlabel(r'Number of Laser Slices in Pulse')"
   ]
  },
  {
   "cell_type": "code",
   "execution_count": null,
   "id": "fc3ed3d4-0149-4788-a2bf-d24a92097705",
   "metadata": {},
   "outputs": [],
   "source": []
  }
 ],
 "metadata": {
  "kernelspec": {
   "display_name": "Python 3",
   "language": "python",
   "name": "py3"
  },
  "language_info": {
   "codemirror_mode": {
    "name": "ipython",
    "version": 3
   },
   "file_extension": ".py",
   "mimetype": "text/x-python",
   "name": "python",
   "nbconvert_exporter": "python",
   "pygments_lexer": "ipython3",
   "version": "3.7.2"
  }
 },
 "nbformat": 4,
 "nbformat_minor": 5
}
