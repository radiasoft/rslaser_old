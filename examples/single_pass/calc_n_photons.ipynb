{
 "cells": [
  {
   "cell_type": "markdown",
   "id": "db9e3bb2-88ac-42fd-bb89-ecd1e7be5598",
   "metadata": {},
   "source": [
    "Implement python method to convert E-field values to photon number density\n"
   ]
  },
  {
   "cell_type": "markdown",
   "id": "9c74b7d2-82e2-4bf7-8c25-1fb3d5439ad4",
   "metadata": {},
   "source": [
    "_________________\n",
    "Imports"
   ]
  },
  {
   "cell_type": "code",
   "execution_count": 16,
   "id": "d8000c42-298d-4da5-b8bd-9483aea4c0e4",
   "metadata": {},
   "outputs": [],
   "source": [
    "import numpy as np\n",
    "from pykern import pkcli\n",
    "from pykern.pkcollections import PKDict\n",
    "\n",
    "# The rslaser library may not be installed, so a check is required.\n",
    "try:\n",
    "    import rslaser\n",
    "except:\n",
    "    # Developers should use 'pip install -e .' from the command line.\n",
    "    # Users can install directly from GitHub --\n",
    "    !{sys.executable} -m pip install git+https://github.com/radiasoft/rslaser.git\n",
    "    import rslaser\n",
    "\n",
    "from rslaser.pulse import pulse\n",
    "\n",
    "import scipy.constants as const\n",
    "\n",
    "import srwlib\n",
    "from srwlib import srwl\n",
    "\n",
    "# 2D plotting\n",
    "import matplotlib as mpl\n",
    "import matplotlib.pyplot as plt\n",
    "from matplotlib import cm\n",
    "\n",
    "# reset the notebook style\n",
    "mpl.rcParams.update(mpl.rcParamsDefault)\n",
    "%matplotlib inline"
   ]
  },
  {
   "cell_type": "markdown",
   "id": "e35dd8a1-3ec1-4790-b9c3-9d78a1c1292d",
   "metadata": {},
   "source": [
    "_______________\n",
    "Laser defaults"
   ]
  },
  {
   "cell_type": "code",
   "execution_count": 17,
   "id": "0a152a49-f565-4acf-9efb-2827a98c26be",
   "metadata": {},
   "outputs": [],
   "source": [
    "# Specify parameters\n",
    "_LASER_PULSE_SLICE_DEFAULTS = PKDict(\n",
    "    sigx_waist=10.0e-6,  \n",
    "    sigy_waist=10.0e-6, \n",
    ")\n",
    "_LASER_PULSE_DEFAULTS = PKDict(\n",
    "        photon_e_ev=1.5498, # Photon energy [eV], calculated from 800nm wavelength\n",
    "        pulseE=0.001,\n",
    "        w0=128.9e-6,\n",
    "        a0=0.01,\n",
    "        tau_fwhm=0.3e-13,\n",
    "        slice_params=_LASER_PULSE_SLICE_DEFAULTS,\n",
    ")\n",
    "\n",
    "# Instantiate the default parameters:\n",
    "params = _LASER_PULSE_DEFAULTS.copy()"
   ]
  },
  {
   "cell_type": "markdown",
   "id": "b81a9eec-12fd-4599-befd-f5374ea184d2",
   "metadata": {},
   "source": [
    "___________\n",
    "In this section, can change each parameter one at a time:\n",
    "\n",
    "photon_e_ev: wavelength 800nm --> 900nm  \n",
    "pulseE: 0.001 --> 0.002  \n",
    "w0 = 128.9e-6 --> 200.0e-6  \n",
    "a0 = 0.01 --> 0.02  \n",
    "tau_fwhm = 0.3e-13 --> 0.6e-13   \n",
    "\n",
    "and\n",
    "\n",
    "sigx_waist = 10.0e-6 --> 20.0e-6  \n",
    "sigy_waist = 10.0e-6 --> 20.0e-6  "
   ]
  },
  {
   "cell_type": "code",
   "execution_count": 18,
   "id": "fef980cf-8e44-4a87-832a-fff7a8c496e6",
   "metadata": {},
   "outputs": [],
   "source": [
    "\n",
    "# Calculate phE starting value from wavelength\n",
    "# lambda0 = 9.0e-7                    # wavelength [m]\n",
    "# photon_e = const.h * const.c / lambda0   # photon energy [J]\n",
    "# photon_e_ev = photon_e / const.e              # photon energy [eV]\n",
    "# params.photon_e_ev = photon_e_ev\n",
    "# print(' photon energy = {0:4.2E} [J]'.format(photon_e) + ' = {0:4.2f} [eV]'.format(photon_e_ev))\n",
    "\n",
    "\n",
    "# # pulseE\n",
    "# pulseE = 0.002\n",
    "# params.pulseE = pulseE\n",
    "\n",
    "\n",
    "# # w0\n",
    "# w0 = 200.0e-6\n",
    "# params.w0 = w0\n",
    "\n",
    "\n",
    "# # a0\n",
    "# a0 = 0.02\n",
    "# params.a0 = a0\n",
    "\n",
    "\n",
    "# # tau_fwhm\n",
    "# tau_fwhm = 0.6e-13                  # FWHM pulse length [s]\n",
    "# params.tau_fwhm = tau_fwhm\n",
    "\n",
    "\n",
    "# # sigx_waist and sigy_waist\n",
    "# sigx_waist = 20.0e-6\n",
    "# sigy_waist = 20.0e-6\n",
    "# params.slice_params.sigx_waist = sigx_waist\n",
    "# params.slice_params.sigy_waist = sigy_waist\n"
   ]
  },
  {
   "cell_type": "markdown",
   "id": "d68b4842-6922-4cf6-b018-5ff11dcd42f1",
   "metadata": {},
   "source": [
    "Instantiate the laser pulse"
   ]
  },
  {
   "cell_type": "code",
   "execution_count": 19,
   "id": "629bb503-add1-4ee1-84a8-2ea18a584317",
   "metadata": {},
   "outputs": [],
   "source": [
    "# Instantiate the laser pulse\n",
    "thisPulse = pulse.LaserPulse(params)\n",
    "\n",
    "# initial pulse - intensity\n",
    "\n",
    "# choose one of the laser pulse slices, and grab its SRW wavefront object\n",
    "slice_array=thisPulse.slice\n",
    "slice_number = 0\n",
    "wfr0=slice_array[slice_number].wfr\n",
    "\n",
    "intensity0 = srwlib.array('f', [0]*wfr0.mesh.nx*wfr0.mesh.ny) # \"flat\" array to take 2D intensity data\n",
    "srwl.CalcIntFromElecField(intensity0, wfr0, 0, 0, 3, wfr0.mesh.eStart, 0, 0) #extracts intensity\n",
    "\n",
    "##Reshaping electric field data from flat to 2D array\n",
    "intens_2d_0 = np.array(intensity0).reshape((wfr0.mesh.nx, wfr0.mesh.ny), order='C')"
   ]
  },
  {
   "cell_type": "markdown",
   "id": "d30906e3-c53a-488d-aee0-2f480a927554",
   "metadata": {},
   "source": [
    "______________\n",
    "\n",
    "Obtain E [V/m] from the laser pulse instantiation"
   ]
  },
  {
   "cell_type": "code",
   "execution_count": 20,
   "id": "1ca2cf85-93d4-4424-97a1-a2a3795ba000",
   "metadata": {},
   "outputs": [],
   "source": [
    "# SRW intensity variable: intens_2d_0\n",
    "# For vacuum: |E|^2 = sqrt(\\mu0/\\eps0)*2*I\n",
    "\n",
    "efield_abs_sqrd_2d = np.sqrt(const.mu_0 / const.epsilon_0) * 2.0 * intens_2d_0 # [V^2/m^2]"
   ]
  },
  {
   "cell_type": "markdown",
   "id": "36b8eaa2-191d-4e8f-875a-b49f6479a51f",
   "metadata": {},
   "source": [
    "_______________\n",
    "\n",
    "Calculate the number of photons in each grid cell of the laser slice (using the wavelength, grid cell size, and laser slice length)"
   ]
  },
  {
   "cell_type": "code",
   "execution_count": 21,
   "id": "a87d44ad-1095-4ed8-9adf-8b07e4cdb62c",
   "metadata": {},
   "outputs": [
    {
     "name": "stdout",
     "output_type": "stream",
     "text": [
      "Total number of photons in this slice: 1.34E+15\n",
      "Same number using the class function: 1.34E+15\n"
     ]
    }
   ],
   "source": [
    "# Calculate the length of the grid cells\n",
    "dx = (wfr0.mesh.xFin - wfr0.mesh.xStart)/wfr0.mesh.nx\n",
    "dy = (wfr0.mesh.yFin - wfr0.mesh.yStart)/wfr0.mesh.ny\n",
    "\n",
    "# Field energy per grid cell is the area of that cell times the energy density\n",
    "cell_volume = thisPulse.slice[slice_number].ds * dx * dy\n",
    "energy_2d = cell_volume * (const.epsilon_0 / 2.0) * efield_abs_sqrd_2d\n",
    "\n",
    "# Get slice value of phE (will be in eV)\n",
    "photon_e = thisPulse.slice[slice_number].photon_e_ev * const.e\n",
    "\n",
    "# Number of photons in each grid cell can be found by dividing the total energy of the laser \n",
    "# in that grid cell by the energy of a photon (phE is photon energy [J], but params.phE is in [eV]...)\n",
    "n_photons_2d = energy_2d / photon_e\n",
    "\n",
    "total_n_photons = np.sum(np.sum(n_photons_2d))\n",
    "print('Total number of photons in this slice: {0:4.2E}'.format(total_n_photons))\n",
    "\n",
    "tnp_class_fn = thisPulse.slice[slice_number].calc_init_n_photons()\n",
    "print('Same number using the class function: {0:4.2E}'.format(np.sum(np.sum(tnp_class_fn))))"
   ]
  },
  {
   "cell_type": "markdown",
   "id": "bd6a0e56-614c-4f5a-8d6f-78e58a486441",
   "metadata": {},
   "source": [
    "____________\n",
    "\n",
    "Check that pulseE and the calculated total energy for a laser with one slice are the same\n"
   ]
  },
  {
   "cell_type": "code",
   "execution_count": 22,
   "id": "44f45133-1da9-40f3-9e7f-5627489aa685",
   "metadata": {},
   "outputs": [
    {
     "name": "stdout",
     "output_type": "stream",
     "text": [
      "User-specified pulse energy: 3.33E-04 [J]\n",
      "Calculated total pulse energy: 3.33E-04 [J]\n"
     ]
    }
   ],
   "source": [
    "# User-specified value of pulseE [J]\n",
    "print('User-specified pulse energy: {0:4.2E} [J]'.format(thisPulse.slice[slice_number].pulseE_slice))\n",
    "print('Calculated total pulse energy: {0:4.2E} [J]'.format(np.sum(np.sum(energy_2d))))"
   ]
  },
  {
   "cell_type": "code",
   "execution_count": null,
   "id": "52ee431b-da40-4416-ab32-f4465c71058d",
   "metadata": {},
   "outputs": [],
   "source": []
  }
 ],
 "metadata": {
  "kernelspec": {
   "display_name": "Python 3",
   "language": "python",
   "name": "py3"
  },
  "language_info": {
   "codemirror_mode": {
    "name": "ipython",
    "version": 3
   },
   "file_extension": ".py",
   "mimetype": "text/x-python",
   "name": "python",
   "nbconvert_exporter": "python",
   "pygments_lexer": "ipython3",
   "version": "3.7.2"
  }
 },
 "nbformat": 4,
 "nbformat_minor": 5
}
