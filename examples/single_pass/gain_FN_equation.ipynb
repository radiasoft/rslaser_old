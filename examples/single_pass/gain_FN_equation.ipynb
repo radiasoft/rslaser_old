{
 "cells": [
  {
   "cell_type": "markdown",
   "id": "cf549ba6-a29e-478b-b4af-320fa973c936",
   "metadata": {},
   "source": [
    "Add gain method to CrystalSlice class that applies Frantz-Nodvik equation: issue #137\n",
    "https://github.com/radiasoft/rslaser/issues/137\n"
   ]
  },
  {
   "cell_type": "markdown",
   "id": "79a91907-2a02-471e-bb38-ca21c46e9d39",
   "metadata": {},
   "source": [
    "_________________\n",
    "Imports"
   ]
  },
  {
   "cell_type": "code",
   "execution_count": null,
   "id": "656f8da2-d87d-45b7-a76a-7899d6e23e9a",
   "metadata": {
    "tags": []
   },
   "outputs": [],
   "source": [
    "import sys, time\n",
    "import math\n",
    "import numpy as np\n",
    "from pykern import pkcli\n",
    "from pykern.pkcollections import PKDict\n",
    "\n",
    "# The rslaser library may not be installed, so a check is required.\n",
    "try:\n",
    "    import rslaser\n",
    "except:\n",
    "    # Developers should use 'pip install -e .' from the command line.\n",
    "    # Users can install directly from GitHub --\n",
    "    !{sys.executable} -m pip install git+https://github.com/radiasoft/rslaser.git\n",
    "    import rslaser\n",
    "\n",
    "from rslaser.pulse import pulse\n",
    "from rslaser.optics import element\n",
    "from rslaser.optics import drift\n",
    "from rslaser.optics import crystal\n",
    "\n",
    "import scipy.constants as const\n",
    "\n",
    "import srwlib\n",
    "from srwlib import srwl\n",
    "\n",
    "# 2D plotting\n",
    "import matplotlib as mpl\n",
    "import matplotlib.pyplot as plt\n",
    "from matplotlib import cm\n",
    "\n",
    "# reset the notebook style\n",
    "mpl.rcParams.update(mpl.rcParamsDefault)\n",
    "%matplotlib inline"
   ]
  },
  {
   "cell_type": "markdown",
   "id": "6f03dc31-2698-4a6d-b43a-acbbe746856c",
   "metadata": {},
   "source": [
    "______________\n",
    "Set laser defaults"
   ]
  },
  {
   "cell_type": "code",
   "execution_count": null,
   "id": "a9fb1883-924a-49ba-94ad-cfbfbf9c02b3",
   "metadata": {
    "jupyter": {
     "source_hidden": true
    },
    "tags": []
   },
   "outputs": [],
   "source": [
    "# specify parameters\n",
    "params = PKDict(\n",
    "        photon_e_ev=1.5498, # Photon energy [eV], calculated from 800nm wavelength\n",
    "        nslice = 3,\n",
    "        nx_slice = 32,\n",
    "        ny_slice = 32,\n",
    ")"
   ]
  },
  {
   "cell_type": "markdown",
   "id": "263ba347-fec6-4963-9081-b357fe0d472d",
   "metadata": {},
   "source": [
    "______________\n",
    "Define crystal"
   ]
  },
  {
   "cell_type": "code",
   "execution_count": null,
   "id": "a884bddb-b72f-448f-bc50-02f600300640",
   "metadata": {
    "jupyter": {
     "source_hidden": true
    },
    "tags": []
   },
   "outputs": [],
   "source": [
    "# instantiate the crystal\n",
    "crystal_params = PKDict(length = 2.5/100.0,  # [m]\n",
    "                        nslice = 1,\n",
    "                        )"
   ]
  },
  {
   "cell_type": "markdown",
   "id": "7646ff75-76d0-42ad-a762-81f5f2c053b0",
   "metadata": {},
   "source": [
    "______________\n",
    "Look at pulse wavefronts"
   ]
  },
  {
   "cell_type": "code",
   "execution_count": null,
   "id": "867397ff-6147-490c-9be5-d6c001861cbf",
   "metadata": {
    "jupyter": {
     "source_hidden": true
    },
    "tags": []
   },
   "outputs": [],
   "source": [
    "# Initialize laser pulse\n",
    "thisPulse = pulse.LaserPulse(params)\n",
    "\n",
    "# Plot wavefront\n",
    "lp_wfr_x = np.linspace(thisPulse.slice[0].wfr.mesh.xStart,thisPulse.slice[0].wfr.mesh.xFin,thisPulse.slice[0].wfr.mesh.nx)\n",
    "lp_wfr_y = np.linspace(thisPulse.slice[0].wfr.mesh.yStart,thisPulse.slice[0].wfr.mesh.yFin,thisPulse.slice[0].wfr.mesh.ny)\n",
    "\n",
    "intensity0 = srwlib.array('f', [0]*thisPulse.slice[0].wfr.mesh.nx*thisPulse.slice[0].wfr.mesh.ny) # \"flat\" array to take 2D intensity data\n",
    "srwl.CalcIntFromElecField(intensity0, thisPulse.slice[0].wfr, 0, 0, 3, thisPulse.slice[0].wfr.mesh.eStart, 0, 0) #extracts intensity\n",
    "intens_2d_0 = np.array(intensity0).reshape((thisPulse.slice[0].wfr.mesh.nx, thisPulse.slice[0].wfr.mesh.ny), order='C') #reshaping\n",
    "efield_abs_2d_0 = np.sqrt(np.sqrt(const.mu_0 / const.epsilon_0) * 2.0 * intens_2d_0) # [V/m]\n",
    "\n",
    "fig = plt.figure(figsize=(5,3))\n",
    "ax = fig.gca()\n",
    "plt.pcolormesh(lp_wfr_x*1e6, lp_wfr_y*1e6, efield_abs_2d_0, cmap=plt.cm.viridis,shading='auto')#,vmin=0.95,vmax=1.05)\n",
    "plt.colorbar()\n",
    "ax.set_ylabel(r'Vertical Position [um]')\n",
    "ax.set_xlabel(r'Horizontal Position [um]')\n",
    "ax.set_title('wfr 1 abs efield')\n",
    "\n",
    "lp_wfr_x = np.linspace(thisPulse.slice[1].wfr.mesh.xStart,thisPulse.slice[1].wfr.mesh.xFin,thisPulse.slice[1].wfr.mesh.nx)\n",
    "lp_wfr_y = np.linspace(thisPulse.slice[1].wfr.mesh.yStart,thisPulse.slice[1].wfr.mesh.yFin,thisPulse.slice[1].wfr.mesh.ny)\n",
    "\n",
    "intensity1 = srwlib.array('f', [0]*thisPulse.slice[1].wfr.mesh.nx*thisPulse.slice[1].wfr.mesh.ny) # \"flat\" array to take 2D intensity data\n",
    "srwl.CalcIntFromElecField(intensity1, thisPulse.slice[1].wfr, 0, 0, 3, thisPulse.slice[1].wfr.mesh.eStart, 0, 0) #extracts intensity\n",
    "intens_2d_1 = np.array(intensity1).reshape((thisPulse.slice[1].wfr.mesh.nx, thisPulse.slice[1].wfr.mesh.ny), order='C') #reshaping\n",
    "efield_abs_2d_1 = np.sqrt(np.sqrt(const.mu_0 / const.epsilon_0) * 2.0 * intens_2d_1) # [V/m]\n",
    "\n",
    "fig = plt.figure(figsize=(5,3))\n",
    "ax = fig.gca()\n",
    "plt.pcolormesh(lp_wfr_x*1e6, lp_wfr_y*1e6, efield_abs_2d_1, cmap=plt.cm.viridis,shading='auto')#,vmin=0.95,vmax=1.05)\n",
    "plt.colorbar()\n",
    "ax.set_ylabel(r'Vertical Position [um]')\n",
    "ax.set_xlabel(r'Horizontal Position [um]')\n",
    "ax.set_title('wfr 2 abs efield')\n",
    "\n",
    "lp_wfr_x = np.linspace(thisPulse.slice[2].wfr.mesh.xStart,thisPulse.slice[2].wfr.mesh.xFin,thisPulse.slice[2].wfr.mesh.nx)\n",
    "lp_wfr_y = np.linspace(thisPulse.slice[2].wfr.mesh.yStart,thisPulse.slice[2].wfr.mesh.yFin,thisPulse.slice[2].wfr.mesh.ny)\n",
    "\n",
    "intensity3 = srwlib.array('f', [0]*thisPulse.slice[2].wfr.mesh.nx*thisPulse.slice[2].wfr.mesh.ny) # \"flat\" array to take 2D intensity data\n",
    "srwl.CalcIntFromElecField(intensity3, thisPulse.slice[2].wfr, 0, 0, 3, thisPulse.slice[2].wfr.mesh.eStart, 0, 0) #extracts intensity\n",
    "intens_2d_3 = np.array(intensity3).reshape((thisPulse.slice[2].wfr.mesh.nx, thisPulse.slice[2].wfr.mesh.ny), order='C') #reshaping\n",
    "efield_abs_2d_3 = np.sqrt(np.sqrt(const.mu_0 / const.epsilon_0) * 2.0 * intens_2d_3) # [V/m]\n",
    "\n",
    "fig = plt.figure(figsize=(5,3))\n",
    "ax = fig.gca()\n",
    "plt.pcolormesh(lp_wfr_x*1e6, lp_wfr_y*1e6, efield_abs_2d_3, cmap=plt.cm.viridis,shading='auto')#,vmin=0.95,vmax=1.05)\n",
    "plt.colorbar()\n",
    "ax.set_ylabel(r'Vertical Position [um]')\n",
    "ax.set_xlabel(r'Horizontal Position [um]')\n",
    "ax.set_title('wfr 3 abs efield')\n"
   ]
  },
  {
   "cell_type": "markdown",
   "id": "163caf5f-8d1c-4e9f-8935-a1875b8add65",
   "metadata": {},
   "source": [
    "________\n",
    "Interpolate excited state density mesh to match wavefront mesh"
   ]
  },
  {
   "cell_type": "code",
   "execution_count": null,
   "id": "9557cb88-ac98-407d-9067-89c005383124",
   "metadata": {
    "jupyter": {
     "source_hidden": true
    },
    "tags": []
   },
   "outputs": [],
   "source": [
    "e_crystal = crystal.Crystal(crystal_params)\n",
    "\n",
    "# Plot original population inversion mesh\n",
    "\n",
    "pop_inversion_x = np.linspace(e_crystal.slice[0].pop_inversion_xstart,e_crystal.slice[0].pop_inversion_xfin,e_crystal.slice[0].pop_inversion_nx)\n",
    "pop_inversion_y = np.linspace(e_crystal.slice[0].pop_inversion_ystart,e_crystal.slice[0].pop_inversion_yfin,e_crystal.slice[0].pop_inversion_ny)\n",
    "\n",
    "fig = plt.figure(figsize=(5,3))\n",
    "ax = fig.gca()\n",
    "plt.pcolormesh(pop_inversion_x*1e6, pop_inversion_y*1e6, e_crystal.slice[0].pop_inversion_mesh, cmap=plt.cm.viridis,shading='auto')\n",
    "plt.colorbar()\n",
    "ax.set_ylabel(r'Vertical Position [um]')\n",
    "ax.set_xlabel(r'Horizontal Position [um]')\n",
    "ax.set_title('Original Density Mesh')\n",
    "\n",
    "# Plot the mesh adapted for the first laser pulse slice\n",
    "\n",
    "temp_mesh0 = e_crystal.slice[0]._interpolate_pop_inversion(thisPulse.slice[0].wfr)\n",
    "lp_wfr_x = np.linspace(thisPulse.slice[0].wfr.mesh.xStart,thisPulse.slice[0].wfr.mesh.xFin,thisPulse.slice[0].wfr.mesh.nx)\n",
    "lp_wfr_y = np.linspace(thisPulse.slice[0].wfr.mesh.yStart,thisPulse.slice[0].wfr.mesh.yFin,thisPulse.slice[0].wfr.mesh.ny)\n",
    "\n",
    "# plot the excited state density\n",
    "fig = plt.figure(figsize=(5,3))\n",
    "ax = fig.gca()\n",
    "plt.pcolormesh(lp_wfr_x*1e6, lp_wfr_y*1e6, temp_mesh0, cmap=plt.cm.viridis,shading='auto')\n",
    "plt.colorbar()\n",
    "ax.set_ylabel(r'Vertical Position [um]')\n",
    "ax.set_xlabel(r'Horizontal Position [um]')\n",
    "ax.set_title('Temp Density Mesh 1')\n",
    "\n",
    "# Plot the mesh adapted for the second laser pulse slice\n",
    "\n",
    "temp_mesh1 = e_crystal.slice[0]._interpolate_pop_inversion(thisPulse.slice[1].wfr)\n",
    "lp_wfr_x = np.linspace(thisPulse.slice[1].wfr.mesh.xStart,thisPulse.slice[1].wfr.mesh.xFin,thisPulse.slice[1].wfr.mesh.nx)\n",
    "lp_wfr_y = np.linspace(thisPulse.slice[1].wfr.mesh.yStart,thisPulse.slice[1].wfr.mesh.yFin,thisPulse.slice[1].wfr.mesh.ny)\n",
    "\n",
    "# plot the excited state density\n",
    "fig = plt.figure(figsize=(5,3))\n",
    "ax = fig.gca()\n",
    "plt.pcolormesh(lp_wfr_x*1e6, lp_wfr_y*1e6, temp_mesh1, cmap=plt.cm.viridis,shading='auto')\n",
    "plt.colorbar()\n",
    "ax.set_ylabel(r'Vertical Position [um]')\n",
    "ax.set_xlabel(r'Horizontal Position [um]')\n",
    "ax.set_title('Temp Density Mesh 2')\n",
    "\n",
    "# Plot the mesh adapted for the third laser pulse slice\n",
    "\n",
    "temp_mesh2 = e_crystal.slice[0]._interpolate_pop_inversion(thisPulse.slice[2].wfr)\n",
    "lp_wfr_x = np.linspace(thisPulse.slice[2].wfr.mesh.xStart,thisPulse.slice[2].wfr.mesh.xFin,thisPulse.slice[2].wfr.mesh.nx)\n",
    "lp_wfr_y = np.linspace(thisPulse.slice[2].wfr.mesh.yStart,thisPulse.slice[2].wfr.mesh.yFin,thisPulse.slice[2].wfr.mesh.ny)\n",
    "\n",
    "# plot the excited state density\n",
    "fig = plt.figure(figsize=(5,3))\n",
    "ax = fig.gca()\n",
    "plt.pcolormesh(lp_wfr_x*1e6, lp_wfr_y*1e6, temp_mesh2, cmap=plt.cm.viridis,shading='auto')\n",
    "plt.colorbar()\n",
    "ax.set_ylabel(r'Vertical Position [um]')\n",
    "ax.set_xlabel(r'Horizontal Position [um]')\n",
    "ax.set_title('Temp Density Mesh 3')\n"
   ]
  },
  {
   "cell_type": "markdown",
   "id": "96ff1718-b49e-437b-8563-0d79610c1ac0",
   "metadata": {},
   "source": [
    "___________\n",
    "Calcuate gain and change to pop_inversion in notebook"
   ]
  },
  {
   "cell_type": "code",
   "execution_count": null,
   "id": "57d773f0-18f9-4b0e-9223-84027b50a556",
   "metadata": {
    "tags": []
   },
   "outputs": [],
   "source": [
    "thisPulse = pulse.LaserPulse(params)\n",
    "\n",
    "wfr0 = thisPulse.slice[0].wfr\n",
    "wfr1 = thisPulse.slice[1].wfr\n",
    "wfr2 = thisPulse.slice[2].wfr\n",
    "dx0 = (wfr0.mesh.xFin - wfr0.mesh.xStart)/wfr0.mesh.nx\n",
    "dy0 = (wfr0.mesh.yFin - wfr0.mesh.yStart)/wfr0.mesh.ny\n",
    "dx1 = (wfr1.mesh.xFin - wfr1.mesh.xStart)/wfr1.mesh.nx\n",
    "dy1 = (wfr1.mesh.yFin - wfr1.mesh.yStart)/wfr1.mesh.ny\n",
    "dx2 = (wfr2.mesh.xFin - wfr2.mesh.xStart)/wfr2.mesh.nx\n",
    "dy2 = (wfr2.mesh.yFin - wfr2.mesh.yStart)/wfr2.mesh.ny\n",
    "\n",
    "# total number of incident photons per unit area\n",
    "n_incident_photons0 = thisPulse.slice[0].n_photons_2d / (dx0 * dy0)   # [1/m^2]\n",
    "n_incident_photons1 = thisPulse.slice[1].n_photons_2d / (dx1 * dy1)   # [1/m^2]\n",
    "n_incident_photons2 = thisPulse.slice[2].n_photons_2d / (dx2 * dy2)   # [1/m^2]\n",
    "\n",
    "print('Total number photons, lsp 1, initially: ', np.sum(np.sum(thisPulse.slice[0].n_photons_2d)))\n",
    "print('Total number photons, lsp 2, initially: ', np.sum(np.sum(thisPulse.slice[1].n_photons_2d)))\n",
    "print('Total number photons, lsp 3, initially: ', np.sum(np.sum(thisPulse.slice[2].n_photons_2d)))\n",
    "\n",
    "e_crystal = crystal.Crystal(crystal_params)\n",
    "\n",
    "# Calc gain here for comparison with implemented method\n",
    "cslice_length = e_crystal.slice[0].length            # [m]\n",
    "absorp_cross_sec = 2.0e-24                           # [m^2] (2.0e-20 cm^2)\n",
    "degen_factor = 1.0                                   # Not sure what this value should be\n",
    "\n",
    "print('Max pop_inversion, initially: ', np.max(e_crystal.slice[0].pop_inversion_mesh))\n",
    "print('\\n')\n",
    "\n",
    "\n",
    "# Propagate 1st laser pulse slice\n",
    "\n",
    "temp_mesh0 = e_crystal.slice[0]._interpolate_pop_inversion(thisPulse.slice[0].wfr)\n",
    "\n",
    "energy_gain0 = (1.0 /(degen_factor *absorp_cross_sec *n_incident_photons0)) \\\n",
    "                *np.log(1 +np.exp(absorp_cross_sec *temp_mesh0 *cslice_length) \\\n",
    "                *(np.exp(degen_factor *absorp_cross_sec *n_incident_photons0) -1.0))\n",
    "\n",
    "# Update the number of photons\n",
    "new_n_photons0 = thisPulse.slice[0].n_photons_2d * energy_gain0\n",
    "print('Total number photons, lps 1, post gain: ', np.sum(np.sum(new_n_photons0)))\n",
    "\n",
    "# Update the pop_inversion\n",
    "temp_mesh_change0 = -(degen_factor * n_incident_photons0 * (energy_gain0 - 1.0) / cslice_length)\n",
    "temp_mesh_change0 = e_crystal.slice[0]._interpolate_pop_change(thisPulse.slice[0].wfr,temp_mesh_change0)\n",
    "\n",
    "e_crystal.slice[0].pop_inversion_mesh += temp_mesh_change0\n",
    "print('Max pop_inversion, lps 1, post gain: ', np.max(e_crystal.slice[0].pop_inversion_mesh))\n",
    "print('\\n')\n",
    "\n",
    "\n",
    "# Propagate 2nd laser pulse slice\n",
    "\n",
    "temp_mesh1 = e_crystal.slice[0]._interpolate_pop_inversion(thisPulse.slice[1].wfr)\n",
    "\n",
    "energy_gain1 = (1.0 /(degen_factor *absorp_cross_sec *n_incident_photons1)) \\\n",
    "                *np.log(1 +np.exp(absorp_cross_sec *temp_mesh1 *cslice_length) \\\n",
    "                *(np.exp(degen_factor *absorp_cross_sec *n_incident_photons1) -1.0))\n",
    "\n",
    "# Update the number of photons\n",
    "new_n_photons1 = thisPulse.slice[1].n_photons_2d * energy_gain1\n",
    "print('Total number photons, lps 2, post gain: ', np.sum(np.sum(new_n_photons1)))\n",
    "\n",
    "# Update the pop_inversion\n",
    "temp_mesh_change1 = -(degen_factor * n_incident_photons1 * (energy_gain1 - 1.0) / cslice_length)\n",
    "temp_mesh_change1 = e_crystal.slice[0]._interpolate_pop_change(thisPulse.slice[1].wfr,temp_mesh_change1)\n",
    "\n",
    "e_crystal.slice[0].pop_inversion_mesh += temp_mesh_change1\n",
    "print('Max pop_inversion, lps 2, post gain: ', np.max(e_crystal.slice[0].pop_inversion_mesh))\n",
    "print('\\n')\n",
    "\n",
    "\n",
    "# Propagate 3rd laser pulse slice\n",
    "\n",
    "temp_mesh2 = e_crystal.slice[0]._interpolate_pop_inversion(thisPulse.slice[2].wfr)\n",
    "\n",
    "energy_gain2 = (1.0 /(degen_factor *absorp_cross_sec *n_incident_photons2)) \\\n",
    "                *np.log(1 +np.exp(absorp_cross_sec *temp_mesh2 *cslice_length) \\\n",
    "                *(np.exp(degen_factor *absorp_cross_sec *n_incident_photons2) -1.0))\n",
    "\n",
    "# Update the number of photons\n",
    "new_n_photons2 = thisPulse.slice[2].n_photons_2d * energy_gain2\n",
    "print('Total number photons, lps 3, post gain: ', np.sum(np.sum(new_n_photons2)))\n",
    "\n",
    "# Update the pop_inversion\n",
    "temp_mesh_change2 = -(degen_factor * n_incident_photons2 * (energy_gain2 - 1.0) / cslice_length)\n",
    "temp_mesh_change2 = e_crystal.slice[0]._interpolate_pop_change(thisPulse.slice[2].wfr,temp_mesh_change2)\n",
    "\n",
    "e_crystal.slice[0].pop_inversion_mesh += temp_mesh_change2\n",
    "print('Max pop_inversion, lps 3, post gain: ', np.max(e_crystal.slice[0].pop_inversion_mesh))"
   ]
  },
  {
   "cell_type": "markdown",
   "id": "6bdc8e87-b176-45fd-b0de-b3ef6019e5f2",
   "metadata": {},
   "source": [
    "_________\n",
    "Try propagating laser pulse"
   ]
  },
  {
   "cell_type": "code",
   "execution_count": null,
   "id": "17872354-26de-4d78-9b3b-d7e08c0a4bfb",
   "metadata": {
    "tags": []
   },
   "outputs": [],
   "source": [
    "e_crystal = crystal.Crystal(crystal_params)\n",
    "thisPulse = pulse.LaserPulse(params)\n",
    "\n",
    "print('Total number photons, lps 1, initially: ', np.sum(np.sum(thisPulse.slice[0].n_photons_2d)))\n",
    "print('Total number photons, lps 2, initially: ', np.sum(np.sum(thisPulse.slice[1].n_photons_2d)))\n",
    "print('Total number photons, lps 3, initially: ', np.sum(np.sum(thisPulse.slice[2].n_photons_2d)))\n",
    "print('Max pop_inversion, initially: ', np.max(e_crystal.slice[0].pop_inversion_mesh))\n",
    "print('\\n')\n",
    "\n",
    "# Through crystal (1 slice for now)\n",
    "thisPulse = e_crystal.propagate(thisPulse, 'gain_test') #'n0n2_srw')\n",
    "\n",
    "print('\\n')\n",
    "print('Total number photons, lps 1, propagate: ', np.sum(np.sum(thisPulse.slice[0].n_photons_2d)))\n",
    "print('Total number photons, lps 2, propagate: ', np.sum(np.sum(thisPulse.slice[1].n_photons_2d)))\n",
    "print('Total number photons, lps 3, propagate: ', np.sum(np.sum(thisPulse.slice[2].n_photons_2d)))\n",
    "print('Max pop_inversion, propagate: ', np.max(e_crystal.slice[0].pop_inversion_mesh))\n",
    "print('\\n')\n"
   ]
  },
  {
   "cell_type": "markdown",
   "id": "a4eca65a-c0f2-4605-bcf0-d2ff5f290d0d",
   "metadata": {},
   "source": [
    "___________\n",
    "Plot wavefront electric field after"
   ]
  },
  {
   "cell_type": "code",
   "execution_count": null,
   "id": "1932380a-c760-48fd-8fd5-f1dca123f563",
   "metadata": {
    "tags": []
   },
   "outputs": [],
   "source": [
    "# Plot wavefront\n",
    "lp_wfr_x = np.linspace(thisPulse.slice[0].wfr.mesh.xStart,thisPulse.slice[0].wfr.mesh.xFin,thisPulse.slice[0].wfr.mesh.nx)\n",
    "lp_wfr_y = np.linspace(thisPulse.slice[0].wfr.mesh.yStart,thisPulse.slice[0].wfr.mesh.yFin,thisPulse.slice[0].wfr.mesh.ny)\n",
    "\n",
    "intensity0 = srwlib.array('f', [0]*thisPulse.slice[0].wfr.mesh.nx*thisPulse.slice[0].wfr.mesh.ny) # \"flat\" array to take 2D intensity data\n",
    "srwl.CalcIntFromElecField(intensity0, thisPulse.slice[0].wfr, 0, 0, 3, thisPulse.slice[0].wfr.mesh.eStart, 0, 0) #extracts intensity\n",
    "intens_2d_0 = np.array(intensity0).reshape((thisPulse.slice[0].wfr.mesh.nx, thisPulse.slice[0].wfr.mesh.ny), order='C') #reshaping\n",
    "efield_abs_2d_0 = np.sqrt(np.sqrt(const.mu_0 / const.epsilon_0) * 2.0 * intens_2d_0) # [V/m]\n",
    "\n",
    "fig = plt.figure(figsize=(5,3))\n",
    "ax = fig.gca()\n",
    "plt.pcolormesh(lp_wfr_x*1e6, lp_wfr_y*1e6, efield_abs_2d_0, cmap=plt.cm.viridis,shading='auto')#,vmin=0.95,vmax=1.05)\n",
    "plt.colorbar()\n",
    "ax.set_ylabel(r'Vertical Position [um]')\n",
    "ax.set_xlabel(r'Horizontal Position [um]')\n",
    "ax.set_title('wfr 1 abs efield')\n",
    "\n",
    "lp_wfr_x = np.linspace(thisPulse.slice[1].wfr.mesh.xStart,thisPulse.slice[1].wfr.mesh.xFin,thisPulse.slice[1].wfr.mesh.nx)\n",
    "lp_wfr_y = np.linspace(thisPulse.slice[1].wfr.mesh.yStart,thisPulse.slice[1].wfr.mesh.yFin,thisPulse.slice[1].wfr.mesh.ny)\n",
    "\n",
    "intensity1 = srwlib.array('f', [1]*thisPulse.slice[1].wfr.mesh.nx*thisPulse.slice[1].wfr.mesh.ny) # \"flat\" array to take 2D intensity data\n",
    "srwl.CalcIntFromElecField(intensity1, thisPulse.slice[1].wfr, 0, 0, 3, thisPulse.slice[1].wfr.mesh.eStart, 0, 0) #extracts intensity\n",
    "intens_2d_1 = np.array(intensity1).reshape((thisPulse.slice[1].wfr.mesh.nx, thisPulse.slice[1].wfr.mesh.ny), order='C') #reshaping\n",
    "efield_abs_2d_1 = np.sqrt(np.sqrt(const.mu_0 / const.epsilon_0) * 2.0 * intens_2d_1) # [V/m]\n",
    "\n",
    "fig = plt.figure(figsize=(5,3))\n",
    "ax = fig.gca()\n",
    "plt.pcolormesh(lp_wfr_x*1e6, lp_wfr_y*1e6, efield_abs_2d_1, cmap=plt.cm.viridis,shading='auto')#,vmin=0.95,vmax=1.05)\n",
    "plt.colorbar()\n",
    "ax.set_ylabel(r'Vertical Position [um]')\n",
    "ax.set_xlabel(r'Horizontal Position [um]')\n",
    "ax.set_title('wfr 2 abs efield')\n",
    "\n",
    "lp_wfr_x = np.linspace(thisPulse.slice[2].wfr.mesh.xStart,thisPulse.slice[2].wfr.mesh.xFin,thisPulse.slice[2].wfr.mesh.nx)\n",
    "lp_wfr_y = np.linspace(thisPulse.slice[2].wfr.mesh.yStart,thisPulse.slice[2].wfr.mesh.yFin,thisPulse.slice[2].wfr.mesh.ny)\n",
    "\n",
    "intensity3 = srwlib.array('f', [2]*thisPulse.slice[2].wfr.mesh.nx*thisPulse.slice[2].wfr.mesh.ny) # \"flat\" array to take 2D intensity data\n",
    "srwl.CalcIntFromElecField(intensity3, thisPulse.slice[2].wfr, 0, 0, 3, thisPulse.slice[2].wfr.mesh.eStart, 0, 0) #extracts intensity\n",
    "intens_2d_3 = np.array(intensity3).reshape((thisPulse.slice[2].wfr.mesh.nx, thisPulse.slice[2].wfr.mesh.ny), order='C') #reshaping\n",
    "efield_abs_2d_3 = np.sqrt(np.sqrt(const.mu_0 / const.epsilon_0) * 2.0 * intens_2d_3) # [V/m]\n",
    "\n",
    "fig = plt.figure(figsize=(5,3))\n",
    "ax = fig.gca()\n",
    "plt.pcolormesh(lp_wfr_x*1e6, lp_wfr_y*1e6, efield_abs_2d_3, cmap=plt.cm.viridis,shading='auto')#,vmin=0.95,vmax=1.05)\n",
    "plt.colorbar()\n",
    "ax.set_ylabel(r'Vertical Position [um]')\n",
    "ax.set_xlabel(r'Horizontal Position [um]')\n",
    "ax.set_title('wfr 3 abs efield')"
   ]
  },
  {
   "cell_type": "markdown",
   "id": "2cb7f91b-7584-4438-8499-94020502b8b0",
   "metadata": {},
   "source": [
    "_________\n",
    "Compare the number of photons from the wavefront with the number from the gain"
   ]
  },
  {
   "cell_type": "code",
   "execution_count": null,
   "id": "77c332d7-312a-49eb-9660-dab4a892c4d3",
   "metadata": {},
   "outputs": [],
   "source": [
    "print('Total number photons, lps 1, propagate: ', np.sum(np.sum(thisPulse.slice[0].n_photons_2d)))\n",
    "print('Total number photons, lps 2, propagate: ', np.sum(np.sum(thisPulse.slice[1].n_photons_2d)))\n",
    "print('Total number photons, lps 3, propagate: ', np.sum(np.sum(thisPulse.slice[2].n_photons_2d)))\n",
    "print('\\n')\n",
    "\n",
    "#Note: calc_init_n_photons should only really be called when initializing a laser pulse slice... \n",
    "# I call it here just to check that the update to the electric fields of the wavefront match\n",
    "# the update to the number of photons itself.\n",
    "print('Total number photons, lps 1, from wfr: ', np.sum(np.sum(thisPulse.slice[0].calc_init_n_photons())))\n",
    "print('Total number photons, lps 2, from wfr: ', np.sum(np.sum(thisPulse.slice[1].calc_init_n_photons())))\n",
    "print('Total number photons, lps 3, from wfr: ', np.sum(np.sum(thisPulse.slice[2].calc_init_n_photons())))"
   ]
  },
  {
   "cell_type": "markdown",
   "id": "b3dda8d7-e562-40ec-aa4c-bbc249917076",
   "metadata": {},
   "source": [
    "These are very close, just that rounding issue"
   ]
  },
  {
   "cell_type": "code",
   "execution_count": null,
   "id": "da799cac-3c6b-4a71-be3b-17d7c0a627b3",
   "metadata": {},
   "outputs": [],
   "source": []
  }
 ],
 "metadata": {
  "kernelspec": {
   "display_name": "Python 3",
   "language": "python",
   "name": "py3"
  },
  "language_info": {
   "codemirror_mode": {
    "name": "ipython",
    "version": 3
   },
   "file_extension": ".py",
   "mimetype": "text/x-python",
   "name": "python",
   "nbconvert_exporter": "python",
   "pygments_lexer": "ipython3",
   "version": "3.7.2"
  }
 },
 "nbformat": 4,
 "nbformat_minor": 5
}
