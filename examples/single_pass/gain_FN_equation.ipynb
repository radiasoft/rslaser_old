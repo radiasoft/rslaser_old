{
 "cells": [
  {
   "cell_type": "markdown",
   "id": "cf549ba6-a29e-478b-b4af-320fa973c936",
   "metadata": {},
   "source": [
    "Add gain method to CrystalSlice class that applies Frantz-Nodvik equation: issue #137\n",
    "https://github.com/radiasoft/rslaser/issues/137\n",
    "____________\n",
    "\n",
    "Continue with work in only one prop_type of CrystalSlice.propagate(): 'n0n2_srw'."
   ]
  },
  {
   "cell_type": "markdown",
   "id": "79a91907-2a02-471e-bb38-ca21c46e9d39",
   "metadata": {},
   "source": [
    "_________________\n",
    "Imports"
   ]
  },
  {
   "cell_type": "code",
   "execution_count": 7,
   "id": "656f8da2-d87d-45b7-a76a-7899d6e23e9a",
   "metadata": {},
   "outputs": [],
   "source": [
    "import sys, time\n",
    "import math\n",
    "import numpy as np\n",
    "from pykern import pkcli\n",
    "from pykern.pkcollections import PKDict\n",
    "\n",
    "# The rslaser library may not be installed, so a check is required.\n",
    "try:\n",
    "    import rslaser\n",
    "except:\n",
    "    # Developers should use 'pip install -e .' from the command line.\n",
    "    # Users can install directly from GitHub --\n",
    "    !{sys.executable} -m pip install git+https://github.com/radiasoft/rslaser.git\n",
    "    import rslaser\n",
    "\n",
    "from rslaser.pulse import pulse\n",
    "from rslaser.optics import element\n",
    "from rslaser.optics import drift\n",
    "from rslaser.optics import crystal\n",
    "\n",
    "import scipy.constants as const\n",
    "\n",
    "import srwlib\n",
    "from srwlib import srwl\n",
    "\n",
    "# # 2D plotting\n",
    "# import matplotlib as mpl\n",
    "# import matplotlib.pyplot as plt\n",
    "# from matplotlib import cm\n",
    "\n",
    "# # reset the notebook style\n",
    "# mpl.rcParams.update(mpl.rcParamsDefault)\n",
    "# %matplotlib inline"
   ]
  },
  {
   "cell_type": "markdown",
   "id": "6f03dc31-2698-4a6d-b43a-acbbe746856c",
   "metadata": {},
   "source": [
    "______________\n",
    "Set laser defaults"
   ]
  },
  {
   "cell_type": "code",
   "execution_count": 8,
   "id": "a9fb1883-924a-49ba-94ad-cfbfbf9c02b3",
   "metadata": {},
   "outputs": [],
   "source": [
    "# specify parameters\n",
    "_LASER_PULSE_DEFAULTS = PKDict(\n",
    "        photon_e_ev=1.5498, # Photon energy [eV], calculated from 800nm wavelength\n",
    "        nslice = 3,\n",
    "        nx_slice = 32,\n",
    "        ny_slice = 32,\n",
    ")\n",
    "\n",
    "# Instantiate the default parameters\n",
    "params = _LASER_PULSE_DEFAULTS.copy()"
   ]
  },
  {
   "cell_type": "markdown",
   "id": "263ba347-fec6-4963-9081-b357fe0d472d",
   "metadata": {},
   "source": [
    "______________\n",
    "Define a simple lattice"
   ]
  },
  {
   "cell_type": "code",
   "execution_count": 9,
   "id": "a884bddb-b72f-448f-bc50-02f600300640",
   "metadata": {},
   "outputs": [],
   "source": [
    "# instantiate a drift\n",
    "L_drift = 0.50  # [m]\n",
    "e_drift = drift.Drift(L_drift)\n",
    "\n",
    "# instantiate the crystal\n",
    "crystal_params = PKDict(length = 0.01,  # [m]\n",
    "                        nslice = 1,\n",
    "                        )\n",
    "e_crystal = crystal.Crystal(crystal_params)"
   ]
  },
  {
   "cell_type": "markdown",
   "id": "27e9a2e6-13b8-420c-abe3-fe6df47f44e8",
   "metadata": {},
   "source": [
    "___________\n",
    "Instantiate the laser pulse"
   ]
  },
  {
   "cell_type": "code",
   "execution_count": 10,
   "id": "7ea793f3-28ca-49ff-a33c-4c40e87f3c69",
   "metadata": {},
   "outputs": [],
   "source": [
    "thisPulse = pulse.LaserPulse(params)"
   ]
  },
  {
   "cell_type": "markdown",
   "id": "7646ff75-76d0-42ad-a762-81f5f2c053b0",
   "metadata": {},
   "source": [
    "______________\n",
    "Propagate and calculate"
   ]
  },
  {
   "cell_type": "code",
   "execution_count": 11,
   "id": "867397ff-6147-490c-9be5-d6c001861cbf",
   "metadata": {},
   "outputs": [
    {
     "name": "stdout",
     "output_type": "stream",
     "text": [
      "prop_type = n0n2_srw\n",
      "n0: 1.75, n2: 1.75\n",
      "Propagated pulse slice  1  of  3\n",
      "Propagated pulse slice  2  of  3\n",
      "Propagated pulse slice  3  of  3\n"
     ]
    }
   ],
   "source": [
    "# First drift\n",
    "thisPulse = e_drift.propagate(thisPulse, 'default')\n",
    "\n",
    "# Through crystal (1 slice for now)\n",
    "thisPulse = e_crystal.propagate(thisPulse, 'n0n2_srw')\n",
    "\n",
    "# Last drift\n",
    "thisPulse = e_drift.propagate(thisPulse, 'default')\n",
    "\n",
    "\n",
    "# Sorting out initial pop_inversion_mesh\n",
    "\n",
    "# # Calculate change in photon number\n",
    "\n",
    "# cslice_length = e_crystal.length / e_crystal.nslice  # [m]\n",
    "# absorp_cross_sec = 2.0e-24                           # [m^2] (2.0e-20 cm^2)\n",
    "# degen_factor = 1.0                                   # Not sure what this value should be\n",
    "# pop_inversion = e_crystal.slice[0].pop_inversion_mesh\n",
    "\n",
    "# wfr0 = thisPulse.slice[0].wfr\n",
    "# dx = (wfr0.mesh.xFin - wfr0.mesh.xStart)/wfr0.mesh.nx\n",
    "# dy = (wfr0.mesh.yFin - wfr0.mesh.yStart)/wfr0.mesh.ny\n",
    "\n",
    "# # total number of incident photons per unit area\n",
    "# n_incident_photons = thisPulse.slice[0].n_photons_2d / (dx * dy)   # [1/m^2]\n",
    "# print(np.max(thisPulse.slice[0].n_photons_2d))\n",
    "\n",
    "# # Calcualte the gain\n",
    "# energy_gain = (1.0 / (degen_factor * absorp_cross_sec * n_incident_photons)) * \\\n",
    "#                 np.log(1 + np.exp(absorp_cross_sec * pop_inversion * cslice_length) * \\\n",
    "#                 (np.exp(degen_factor * absorp_cross_sec * n_incident_photons) - 1.0))\n",
    "\n",
    "# # Update the number of photons\n",
    "# new_n_photons = thisPulse.slice[0].n_photons_2d * energy_gain\n",
    "# print(np.max(new_n_photons))"
   ]
  },
  {
   "cell_type": "code",
   "execution_count": 12,
   "id": "c75b39ec-f876-423e-81ac-f17de24665b7",
   "metadata": {},
   "outputs": [],
   "source": [
    "# # Update the pop_inversion\n",
    "# print(np.max(pop_inversion))\n",
    "# change_pi = pop_inversion - (degen_factor * n_incident_photons * (energy_gain - 1.0) / cslice_length)\n",
    "# print(np.max(change_pi))\n",
    "# pop_inversion -= degen_factor * n_incident_photons * (energy_gain - 1.0) / cslice_length\n",
    "# print(np.max(pop_inversion))"
   ]
  },
  {
   "cell_type": "markdown",
   "id": "d4fa89b7-0eb7-4300-ace4-66dd3cb44e43",
   "metadata": {},
   "source": [
    "1. Put the calculations into the notebook and element.py\n",
    "2. Fix the pop_inversion initialization"
   ]
  },
  {
   "cell_type": "code",
   "execution_count": null,
   "id": "dcf90afb-408b-4982-bf0b-d0688e53f0f4",
   "metadata": {},
   "outputs": [],
   "source": []
  }
 ],
 "metadata": {
  "kernelspec": {
   "display_name": "Python 3",
   "language": "python",
   "name": "py3"
  },
  "language_info": {
   "codemirror_mode": {
    "name": "ipython",
    "version": 3
   },
   "file_extension": ".py",
   "mimetype": "text/x-python",
   "name": "python",
   "nbconvert_exporter": "python",
   "pygments_lexer": "ipython3",
   "version": "3.7.2"
  }
 },
 "nbformat": 4,
 "nbformat_minor": 5
}
