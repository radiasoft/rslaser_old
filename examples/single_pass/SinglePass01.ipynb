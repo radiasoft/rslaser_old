{
 "cells": [
  {
   "cell_type": "markdown",
   "id": "fb092686-9aa3-41e1-9c97-916579f5cc1e",
   "metadata": {},
   "source": [
    "<div class=\"alert alert-block alert-info\">\n",
    "<p style=\"font-size:24px;text-align:center\"><b>Propagate a low-resolution hand-crafted laser pulse through a thin lens.</b>\n",
    "<br>We initialize the laser pulse from the <b>Off Peak Timing</b> experimental configuration.\n",
    "</div>"
   ]
  },
  {
   "cell_type": "code",
   "execution_count": 1,
   "id": "bb423b42-3560-4c17-a900-8e262e658b94",
   "metadata": {},
   "outputs": [],
   "source": [
    "import array\n",
    "import math\n",
    "from matplotlib import pyplot\n",
    "import matplotlib.pyplot as plt\n",
    "import numpy as np\n",
    "import os\n",
    "\n",
    "from pykern.pkcollections import PKDict\n",
    "# The rslaser library may not be installed, so a check is required.\n",
    "try:\n",
    "    import rslaser\n",
    "except:\n",
    "    print(\"The rslaser library was not found; installing from GitHub...\")\n",
    "    # Developers should use 'pip install -e .' from the command line.\n",
    "    # Users can install directly from GitHub --\n",
    "    !{sys.executable} -m pip install git+https://github.com/radiasoft/rslaser.git\n",
    "    import rslaser\n",
    "from rslaser.optics import wavefront\n",
    "from rslaser.optics import element\n",
    "from rslaser.utils import merit_functions\n",
    "from rslaser.pulse import pulse\n",
    "\n",
    "import scipy\n",
    "from scipy import constants, ndimage, stats\n",
    "from scipy.ndimage.filters import gaussian_filter\n",
    "\n",
    "# SRW and srwlib (the corresponding Python API) are pre-installed on Sirepo/Jupyter\n",
    "import srwlib\n",
    "from srwlib import srwl"
   ]
  },
  {
   "cell_type": "code",
   "execution_count": 2,
   "id": "b7fc1d00-6a1e-4789-8f30-148b8e243111",
   "metadata": {},
   "outputs": [],
   "source": [
    "# 2D plotting\n",
    "import matplotlib as mpl\n",
    "import matplotlib.pyplot as plt\n",
    "from matplotlib import cm\n",
    "\n",
    "# reset the notebook style\n",
    "mpl.rcParams.update(mpl.rcParamsDefault)\n",
    "%matplotlib inline\n",
    "\n",
    "# Specify whether 2D and/or 3D plots should be rendered\n",
    "RENDER_2D_PLOTS = True\n",
    "RENDER_3D_PLOTS = False\n",
    "\n",
    "# 3D plotting\n",
    "if RENDER_3D_PLOTS:\n",
    "    import plotly.graph_objects as go"
   ]
  },
  {
   "cell_type": "code",
   "execution_count": 3,
   "id": "1a92b521-cf9b-4890-afbd-4bae3363ec7d",
   "metadata": {},
   "outputs": [],
   "source": [
    "# Let's read an image-pair of diagnostic data files to instantiate an SRW wavefront.\n",
    "# First, we have to determine the file paths...\n",
    "ccd_name = 'ccd_off_peak_timing.txt'\n",
    "wfs_name = 'wfs_off_peak_timing.txt'\n",
    "\n",
    "package_data_dir = rslaser.pkg_resources.resource_filename('rslaser','package_data')\n",
    "ccd_path_to_file = os.path.join(package_data_dir, ccd_name)\n",
    "wfs_path_to_file = os.path.join(package_data_dir, wfs_name)\n",
    "\n",
    "# read the pixel size from the diagnostic metadata file\n",
    "meta_file_name = 'wfs_meta.dat'\n",
    "meta_path_to_file = os.path.join(package_data_dir, meta_file_name)\n",
    "with open(meta_path_to_file) as fh:\n",
    "    for line in fh:\n",
    "        if line.startswith(\"pixel_size_h_microns\"):\n",
    "            pixel_size_h = float(line.split(\":\")[-1].split(\",\")[0])  # microns\n",
    "        if line.startswith(\"pixel_size_v_microns\"):\n",
    "            pixel_size_v = float(line.split(\":\")[-1].split(\",\")[0])  # microns\n",
    "\n",
    "# central wavelength of the laser pulse\n",
    "lambda0_micron = 0.8"
   ]
  },
  {
   "cell_type": "code",
   "execution_count": 4,
   "id": "2ec70a59-b24a-4185-956b-3128a4c177b7",
   "metadata": {},
   "outputs": [],
   "source": [
    "def rms_calc_2d(_x, _y, f_dist):\n",
    "    \"\"\"\n",
    "    Calculate the x and y averages and RMS of a 2d distribution f_dist(x,y)\n",
    "\n",
    "    Args:\n",
    "        _x, 2d numpy array that defines x values of the distribution\n",
    "        _y, 2d numpy array that defines y values of the distribution\n",
    "        f_dist, 2d numpy array that defines the x,y distribution\n",
    "    \n",
    "    Returns:\n",
    "        x_avg, y_avg, the average values of x and y\n",
    "        x_rms, y_rms, the RMS values of x and y\n",
    "\n",
    "    Example:\n",
    "        >>> xavg, yavg, xrms, yrms = rms_calc_2d(my_array)\n",
    "    \"\"\"\n",
    "    x_f = np.multiply(_x, f_dist)\n",
    "    y_f = np.multiply(_y, f_dist)\n",
    "    sum_f = np.sum(f_dist)\n",
    "    x_avg = np.sum(x_f) / sum_f\n",
    "    y_avg = np.sum(y_f) / sum_f\n",
    "\n",
    "    xsq_f = np.multiply(_x, x_f)\n",
    "    ysq_f = np.multiply(_y, y_f)\n",
    "    x_std = np.sum(xsq_f) / sum_f\n",
    "    y_std = np.sum(ysq_f) / sum_f\n",
    "\n",
    "    x_rms = math.sqrt(x_std - x_avg**2)\n",
    "    y_rms = math.sqrt(y_std - y_avg**2)\n",
    "    return x_avg, y_avg, x_rms, y_rms"
   ]
  },
  {
   "cell_type": "code",
   "execution_count": 5,
   "id": "452518d1-e9b0-48e3-94b6-b8a5ecbacc02",
   "metadata": {},
   "outputs": [],
   "source": [
    "def nan_helper(_arr):\n",
    "    \"\"\"\n",
    "    Clean unwanted NaNs from a numpy array, replacing them via interpolation.\n",
    "\n",
    "    Args:\n",
    "        _arr, numpy array with NaNs\n",
    "    \n",
    "    Returns:\n",
    "        nans, logical indices of NaNs\n",
    "        index, a function with signature indices = index(logical_indices)\n",
    "               to convert logical indices of NaNs to 'equivalent' indices\n",
    "\n",
    "    Example:\n",
    "        >>> nans, x = nan_helper(my_array)\n",
    "        >>> my_array[nans] = np.interp(x(nans), x(~nans), my_array[~nans])\n",
    "    \"\"\"\n",
    "    return np.isnan(_arr), lambda z: z.nonzero()[0]\n",
    "\n",
    "def array_cleaner(_arr, _ind):\n",
    "    \"\"\"\n",
    "    Clean unwanted values from a numpy array, replacing them via interpolation.\n",
    "\n",
    "    Args:\n",
    "        _arr, numpy array with bad values\n",
    "        _ind, precalculated indices of these bad values\n",
    "    \n",
    "    Returns:\n",
    "        _arr, cleaned version of the input array\n",
    "\n",
    "    Example:\n",
    "        >>> indices = np.isnan(my_array)\n",
    "        >>> my_array = array_cleaner(my_array, indices)\n",
    "    \"\"\"\n",
    "    _arr[_ind] = np.nan\n",
    "    nans, x = nan_helper(_arr)\n",
    "    _arr[nans] = np.interp(x(nans), x(~nans), _arr[~nans])\n",
    "    return _arr"
   ]
  },
  {
   "cell_type": "code",
   "execution_count": 6,
   "id": "2253f538-2239-496d-a411-6b1aa3fc588d",
   "metadata": {},
   "outputs": [
    {
     "name": "stdout",
     "output_type": "stream",
     "text": [
      "x1_min =  -0.0028174999999999997\n",
      "x1_max =  0.0028174999999999997\n",
      "y1_min =  -0.0023062499999999997\n",
      "y1_max =  0.0023062499999999997\n",
      "ccd_data.shape =  (40, 48)\n"
     ]
    }
   ],
   "source": [
    "# parse the intensity diagnostic data file\n",
    "ccd_data = np.genfromtxt(ccd_path_to_file, skip_header=1)\n",
    "\n",
    "# pad with zeros\n",
    "ccd_temp = np.pad(ccd_data, 4, mode='constant')\n",
    "\n",
    "# smooth the data\n",
    "blur = 2\n",
    "ccd_data = gaussian_filter(ccd_temp, sigma=blur)\n",
    "\n",
    "# increase the magnitude\n",
    "ccd_data *= 1.08e6\n",
    "\n",
    "# create the x,y arrays with physical units based on the diagnostic pixel dimensions\n",
    "x1_max = 0.5 * (ccd_data.shape[1] + 1.) * pixel_size_h * 1.e-6    # [m]\n",
    "x1_min = -x1_max\n",
    "x1_delta = 2.*x1_max / ccd_data.shape[1]\n",
    "x1 = np.arange(x1_min, x1_max, x1_delta)\n",
    "\n",
    "y1_max = 0.5 * (ccd_data.shape[0] + 1.) * pixel_size_v * 1.e-6    # [m]\n",
    "y1_min = -y1_max\n",
    "y1_delta = 2.*y1_max / ccd_data.shape[0]\n",
    "y1 = np.arange(y1_min, y1_max, y1_delta)\n",
    "\n",
    "x, y = np.meshgrid(x1, y1)\n",
    "\n",
    "print('x1_min = ', x1_min)\n",
    "print('x1_max = ', x1_max)\n",
    "\n",
    "print('y1_min = ', y1_min)\n",
    "print('y1_max = ', y1_max)\n",
    "\n",
    "print('ccd_data.shape = ', ccd_data.shape)"
   ]
  },
  {
   "cell_type": "code",
   "execution_count": 7,
   "id": "b45187bf-487f-4bad-99f0-cb2e8d4ccdc3",
   "metadata": {},
   "outputs": [],
   "source": [
    "# Calculate intensity centroid and RMS values\n",
    "xc, yc, xc_rms, yc_rms = rms_calc_2d(x, y, ccd_data)"
   ]
  },
  {
   "cell_type": "code",
   "execution_count": 8,
   "id": "2e5964d4-329f-4856-a238-9da5656709a5",
   "metadata": {},
   "outputs": [],
   "source": [
    "# parse the measured phases of the wavefront\n",
    "wfs_data = np.genfromtxt(wfs_path_to_file, skip_header=1, skip_footer=0)\n",
    "\n",
    "# clean up any NaN's\n",
    "indices = np.isnan(wfs_data)\n",
    "wfs_data = array_cleaner(wfs_data, indices)\n",
    "\n",
    "# pad with zeros\n",
    "wfs_temp = np.pad(wfs_data, 4, mode='constant')\n",
    "\n",
    "# smooth the data\n",
    "blur = 4\n",
    "wfs_data = gaussian_filter(wfs_temp, sigma=blur)\n",
    "\n",
    "# convert from microns to radians\n",
    "rad_per_micron = math.pi / lambda0_micron\n",
    "wfs_data *= rad_per_micron\n",
    "\n",
    "phi_min=np.min(wfs_data)\n",
    "phi_max=np.max(wfs_data)\n",
    "\n",
    "# we assume the WFS and CCD data are from the same diagnostic\n",
    "# check that the data files have the same number of pixels\n",
    "assert np.shape(wfs_data) == np.shape(ccd_data), error_message('ERROR -- WFS and CCD data have diferent shapes!!')"
   ]
  },
  {
   "cell_type": "code",
   "execution_count": 9,
   "id": "a089f781-22fe-4c3a-9c35-3ba514ba597b",
   "metadata": {},
   "outputs": [],
   "source": [
    "def wfs_ideal(x, y, xc, yc, phi_max, r0):\n",
    "    \"\"\"Idealized wavefront sensor (WFS) data.\n",
    "\n",
    "    Args:\n",
    "        x, y (2d array): horizontal and vertical positions for the wavefront phase data\n",
    "        xc, yc (float): approximate center of the laser pulse\n",
    "        phi_max (float): maximum value of the wavefront phase\n",
    "        r0 (float): defines quadratic behavior for r<r_mid\n",
    "\n",
    "    Returns:\n",
    "        function values (2d array):  phase values of complex E-field in an electromagnetic wavefront\n",
    "    \"\"\"\n",
    "    # calculate radius r, as well as r**2\n",
    "    rsq = (x-xc)**2 + (y-yc)**2\n",
    "    r = np.sqrt(rsq)\n",
    "    \n",
    "    return phi_max * (1. - rsq/r0**2)"
   ]
  },
  {
   "cell_type": "code",
   "execution_count": 10,
   "id": "066dc8df-1c0b-4659-b25c-2db02c46e58f",
   "metadata": {},
   "outputs": [
    {
     "name": "stdout",
     "output_type": "stream",
     "text": [
      " wfs_fit =  [[-0.00245539 -0.00247337 -0.00249058 ... -0.00250053 -0.00248378\n",
      "  -0.00246626]\n",
      " [-0.00246872 -0.0024867  -0.00250391 ... -0.00251385 -0.00249711\n",
      "  -0.00247959]\n",
      " [-0.0024813  -0.00249928 -0.00251649 ... -0.00252644 -0.00250969\n",
      "  -0.00249217]\n",
      " ...\n",
      " [-0.0024526  -0.00247058 -0.00248779 ... -0.00249774 -0.00248099\n",
      "  -0.00246347]\n",
      " [-0.00243838 -0.00245636 -0.00247357 ... -0.00248351 -0.00246677\n",
      "  -0.00244925]\n",
      " [-0.00242341 -0.00244139 -0.0024586  ... -0.00246855 -0.0024518\n",
      "  -0.00243428]]\n"
     ]
    }
   ],
   "source": [
    "# create a phase distribution that works well with SRW\n",
    "# wfs_fit = wfs_data\n",
    "r0 =  0.01 # [m]\n",
    "phi_max = -2.8e-3\n",
    "wfs_fit = wfs_ideal(x, y, xc, yc, phi_max, r0)\n",
    "\n",
    "print(' wfs_fit = ', wfs_fit)"
   ]
  },
  {
   "cell_type": "code",
   "execution_count": 11,
   "id": "5e994367-0811-4e61-97ff-26324e840a59",
   "metadata": {},
   "outputs": [],
   "source": [
    "e_norm = np.sqrt(ccd_data)\n",
    "# ex_real = np.multiply(e_norm, np.cos(wfs_data)).flatten(order='C')\n",
    "# ex_imag = np.multiply(e_norm, np.sin(wfs_data)).flatten(order='C')\n",
    "ex_real = np.multiply(e_norm, np.cos(wfs_fit)).flatten(order='C')\n",
    "ex_imag = np.multiply(e_norm, np.sin(wfs_fit)).flatten(order='C')\n",
    "\n",
    "ex_numpy = np.zeros(2*len(ex_real))\n",
    "for i in range(len(ex_real)):\n",
    "    ex_numpy[2*i] = ex_real[i]\n",
    "    ex_numpy[2*i+1] = ex_imag[i]\n",
    "\n",
    "ex = array.array('f', ex_numpy.tolist())\n",
    "ey = array.array('f', len(ex)*[0.])"
   ]
  },
  {
   "cell_type": "code",
   "execution_count": 12,
   "id": "e73cecb3-97dc-4a64-9ac1-2691f60b31e9",
   "metadata": {},
   "outputs": [
    {
     "name": "stdout",
     "output_type": "stream",
     "text": [
      " avgPhotEn =  1.55\n"
     ]
    }
   ],
   "source": [
    "wfr0 = srwlib.SRWLWfr(_arEx=ex, _arEy=ey, _typeE='f', \n",
    "                    _eStart=1.55, _eFin=1.55, _ne=1, \n",
    "                    _xStart=x1_min, _xFin=x1_max, _nx=np.shape(wfs_data)[0], \n",
    "                    _yStart=y1_min, _yFin=y1_max, _ny=np.shape(wfs_data)[1], \n",
    "                    _zStart=0., _partBeam=None)\n",
    "\n",
    "wfr0.avgPhotEn = 1.55    # average photon energy for time-domain simulations\n",
    "print(' avgPhotEn = ', wfr0.avgPhotEn)"
   ]
  },
  {
   "cell_type": "code",
   "execution_count": 13,
   "id": "81d3e38e-372b-4551-a048-3249b46e7ef5",
   "metadata": {},
   "outputs": [
    {
     "name": "stdout",
     "output_type": "stream",
     "text": [
      "Size of initial wavefront data array (coordinate): (40, 48)\n"
     ]
    },
    {
     "data": {
      "image/png": "[encoded data removed]",
      "text/plain": [
       "<Figure size 864x518.4 with 2 Axes>"
      ]
     },
     "metadata": {
      "needs_background": "light"
     },
     "output_type": "display_data"
    }
   ],
   "source": [
    "#Plot initial wavefront\n",
    "##Initial wfr calculation\n",
    "arIinit = srwlib.array('f', [0]*wfr0.mesh.nx*wfr0.mesh.ny) # \"flat\" array to take 2D intensity data\n",
    "srwl.CalcIntFromElecField(arIinit, wfr0, 6, 0, 3, wfr0.mesh.eStart, 0, 0) #extracts intensity\n",
    "\n",
    "##Reshaping electric field data from flat to 2D array\n",
    "arIinit2D = np.array(arIinit).reshape((wfr0.mesh.nx, wfr0.mesh.ny), order='C')\n",
    "wfrsizei=np.size(arIinit)\n",
    "\n",
    "print('Size of initial wavefront data array (coordinate):',np.shape(arIinit2D))\n",
    "xvalsf02=np.linspace(wfr0.mesh.xStart,wfr0.mesh.xFin,wfr0.mesh.nx)\n",
    "yvalsf02=np.linspace(wfr0.mesh.yStart,wfr0.mesh.yFin,wfr0.mesh.ny)\n",
    "\n",
    "if RENDER_2D_PLOTS:\n",
    "    with plt.style.context(('seaborn-poster')):\n",
    "        fig = plt.figure(figsize=(12,7.2))\n",
    "        ax = fig.gca()\n",
    "        plt.pcolormesh(x, y, arIinit2D, cmap=plt.cm.viridis, shading='auto')\n",
    "        plt.colorbar()\n",
    "        ax.set_ylabel(r'Vertical Position [m]')\n",
    "        ax.set_xlabel(r'Horizontal Position [m]')\n",
    "        ax.set_title('Intensity (initial)')"
   ]
  },
  {
   "cell_type": "code",
   "execution_count": 14,
   "id": "f1c45634-986f-492d-9c00-039e4255ccca",
   "metadata": {},
   "outputs": [
    {
     "name": "stdout",
     "output_type": "stream",
     "text": [
      "Size of initial wavefront data array (coordinate): (40, 48)\n"
     ]
    }
   ],
   "source": [
    "# initial phase\n",
    "phase0 = srwlib.array('d', [0]*wfr0.mesh.nx*wfr0.mesh.ny) # \"flat\" array to take 2D intensity data\n",
    "srwl.CalcIntFromElecField(phase0, wfr0, 0, 4, 3, wfr0.mesh.eStart, 0, 0) #extracts the phase; must use double precision\n",
    "\n",
    "##Reshaping electric field data from flat to 2D array\n",
    "phase_2d_0 = np.array(phase0).reshape((wfr0.mesh.nx, wfr0.mesh.ny), order='C')\n",
    "wfrsize=np.size(phase0)\n",
    "\n",
    "print('Size of initial wavefront data array (coordinate):',np.shape(phase_2d_0))\n",
    "x0=np.linspace(wfr0.mesh.xStart,wfr0.mesh.xFin,wfr0.mesh.nx)\n",
    "y0=np.linspace(wfr0.mesh.yStart,wfr0.mesh.yFin,wfr0.mesh.ny)"
   ]
  },
  {
   "cell_type": "code",
   "execution_count": 15,
   "id": "408073ad-e28c-45ec-9c66-5b18eede75ed",
   "metadata": {},
   "outputs": [
    {
     "data": {
      "image/png": "[encoded data removed]",
      "text/plain": [
       "<Figure size 864x518.4 with 2 Axes>"
      ]
     },
     "metadata": {
      "needs_background": "light"
     },
     "output_type": "display_data"
    }
   ],
   "source": [
    "# plot the phase\n",
    "if RENDER_2D_PLOTS:\n",
    "    with plt.style.context(('seaborn-poster')):\n",
    "        fig = plt.figure(figsize=(12,7.2))\n",
    "        ax = fig.gca()\n",
    "        plt.pcolormesh(x, y, phase_2d_0, cmap=plt.cm.viridis, shading='auto')\n",
    "        plt.colorbar()\n",
    "        ax.set_xlabel(r'Horizontal Position [m]')\n",
    "        ax.set_ylabel(r'Vertical Position [m]')\n",
    "        ax.set_title('Phase (initial)')"
   ]
  },
  {
   "cell_type": "code",
   "execution_count": 16,
   "id": "70d397ad-a880-4831-876e-51f025059daa",
   "metadata": {},
   "outputs": [
    {
     "name": "stdout",
     "output_type": "stream",
     "text": [
      " x_avg = -2.35e-05 [m]\n",
      " y_avg = -1.85e-04 [m]\n",
      " \n",
      " x_rms = 9.67e-04 [m]\n",
      " y_rms = 9.19e-04 [m]\n"
     ]
    }
   ],
   "source": [
    "# we need to know the wavefront centroid and rms properties\n",
    "x_avg, y_avg, x_rms, y_rms = rms_calc_2d(x, y, arIinit2D)\n",
    "\n",
    "print(' x_avg = {0:4.2e} [m]'.format(x_avg))\n",
    "print(' y_avg = {0:4.2e} [m]'.format(y_avg))\n",
    "print(' ')\n",
    "print(' x_rms = {0:4.2e} [m]'.format(x_rms))\n",
    "print(' y_rms = {0:4.2e} [m]'.format(y_rms))\n",
    "\n",
    "wfr0.xc = x_avg       # transverse coordinate of wavefront \"source center\"\n",
    "wfr0.yc = y_avg       # transverse coordinate of wavefront \"source center\"\n",
    "\n",
    "wfr0.Rx = -0.0099227          # wavefront radius\n",
    "wfr0.Ry = -0.0099227          # wavefront radius\n",
    "wfr0.dRx = 9.9227e-5\n",
    "wfr0.dRy = 9.9227e-5"
   ]
  },
  {
   "cell_type": "code",
   "execution_count": 17,
   "id": "aee30085-2fee-4ed3-a10a-e74f00ec9f70",
   "metadata": {},
   "outputs": [],
   "source": [
    "# create a laser pulse, using the wavefront created above\n",
    "\n",
    "# photon energy corresponding to lambda = 1 micron\n",
    "_LASER_PULSE_SLICE = PKDict(\n",
    "    sigrW = math.sqrt(x_rms*y_rms),\n",
    "    propLen = 15,\n",
    "    pulseE = 0.001,\n",
    "    poltype = 1,\n",
    "    sampFact = 0.002,\n",
    "    mx = 0,\n",
    "    my = 0\n",
    ")\n",
    "_LASER_PULSE = PKDict(\n",
    "        phE = 1.55,\n",
    "        nslice = 1,\n",
    "        chirp = 0,\n",
    "        w0 = 2.*math.sqrt(x_rms*y_rms),\n",
    "        a0 = .002,\n",
    "        dw0x = 0.0,\n",
    "        dw0y = 0.0,\n",
    "        z_waist = -0.1,\n",
    "        dzwx = 0.0,\n",
    "        dzwy = 0.0,\n",
    "        tau_fwhm = 0.1 / constants.c / math.sqrt(2.),\n",
    "        z_center = 0.,\n",
    "        x_shift = 0.,\n",
    "        y_shift = 0.,\n",
    "        d_to_w = 0.1,\n",
    "        slice_params=_LASER_PULSE_SLICE,\n",
    ")"
   ]
  },
  {
   "cell_type": "code",
   "execution_count": 18,
   "id": "2604164e-159d-438f-9b3e-60d53b6b05a4",
   "metadata": {},
   "outputs": [
    {
     "name": "stdout",
     "output_type": "stream",
     "text": [
      " nx =  40\n",
      " ny =  48\n",
      " \n",
      " avgPhotEn =  1.55\n",
      " presCA =  0\n",
      " presFT =  0\n",
      " unitElFld =  1\n",
      " unitElFldAng =  0\n",
      " \n",
      " Rx =  -0.0099227\n",
      " Ry =  -0.0099227\n",
      " dRx =  9.9227e-05\n",
      " dRy =  9.9227e-05\n",
      " xc =  -2.3515226842370067e-05\n",
      " yc =  -0.000184635857882563\n",
      " \n",
      " avgPhotEn =  1.55\n",
      " presCA =  0\n",
      " presFT =  0\n",
      " unitElFld =  1\n",
      " unitElFldAng =  0\n"
     ]
    }
   ],
   "source": [
    "# instantiate the laser pulse (this can take a few seconds)\n",
    "in_pulse = PKDict(\n",
    "    **_LASER_PULSE\n",
    "    )\n",
    "LP = pulse.LaserPulse(in_pulse)\n",
    "\n",
    "slice=LP.slice\n",
    "slice[0].wfr = wfr0\n",
    "\n",
    "print(' nx = ', LP.slice[0].wfr.mesh.nx)\n",
    "print(' ny = ', LP.slice[0].wfr.mesh.ny)\n",
    "print(' ')\n",
    "print(' avgPhotEn = ', LP.slice[0].wfr.avgPhotEn)\n",
    "print(' presCA = ', LP.slice[0].wfr.presCA)\n",
    "print(' presFT = ', LP.slice[0].wfr.presFT)\n",
    "print(' unitElFld = ', LP.slice[0].wfr.unitElFld)\n",
    "print(' unitElFldAng = ', LP.slice[0].wfr.unitElFldAng)\n",
    "print(' ')\n",
    "print(' Rx = ', LP.slice[0].wfr.Rx)\n",
    "print(' Ry = ', LP.slice[0].wfr.Ry)\n",
    "print(' dRx = ', LP.slice[0].wfr.dRx)\n",
    "print(' dRy = ', LP.slice[0].wfr.dRy)\n",
    "print(' xc = ', LP.slice[0].wfr.xc)\n",
    "print(' yc = ', LP.slice[0].wfr.yc)\n",
    "print(' ')\n",
    "print(' avgPhotEn = ', LP.slice[0].wfr.avgPhotEn)\n",
    "print(' presCA = ', LP.slice[0].wfr.presCA)\n",
    "print(' presFT = ', LP.slice[0].wfr.presFT)\n",
    "print(' unitElFld = ', LP.slice[0].wfr.unitElFld)\n",
    "print(' unitElFldAng = ', LP.slice[0].wfr.unitElFldAng)\n",
    "\n",
    "    #numTypeElFld = 'f' #electric field numerical type: 'f' (float) or 'd' (double)\n",
    "    #partBeam = SRWLPartBeam() #particle beam source; strictly speaking, it should be just SRWLParticle; however, \"multi-electron\" information can appear useful for those cases when \"multi-electron intensity\" can be deduced from the \"single-electron\" one by convolution\n",
    "    #arElecPropMatr = array('d', [0]*20) #effective 1st order \"propagation matrix\" for electron beam parameters\n",
    "    #arMomX = array('d', [0]*11) #statistical moments (of Wigner distribution); to check the exact number of moments required\n",
    "    #arMomY = array('d', [0]*11)\n",
    "    #arWfrAuxData = array('d', [0]*30) #array of auxiliary wavefront data"
   ]
  },
  {
   "cell_type": "markdown",
   "id": "66274293-d2bf-4017-bd95-4e68b0d62ca2",
   "metadata": {},
   "source": [
    "<div class=\"alert alert-block alert-info\">\n",
    "<p style=\"font-size:18px;\">Create a simple focusing lens and propagate the laser pulse.</p>\n",
    "</div>"
   ]
  },
  {
   "cell_type": "code",
   "execution_count": 19,
   "id": "0dad82b2-073a-4204-b8a1-7fd88109e3ff",
   "metadata": {},
   "outputs": [],
   "source": [
    "# instantiate a simple focusing lens\n",
    "focal_length = 20.   # [m]\n",
    "lattice_lens = [(element.Lens(focal_length),'default')]\n",
    "\n",
    "# propagate the pulse through the lattice\n",
    "for iterator in lattice_lens:\n",
    "    current_elem, prop_type = iterator\n",
    "    LP = current_elem.propagate(LP, prop_type)"
   ]
  },
  {
   "cell_type": "code",
   "execution_count": 20,
   "id": "22bea282-6e25-43fc-be2b-4837e01e4dc3",
   "metadata": {},
   "outputs": [
    {
     "name": "stdout",
     "output_type": "stream",
     "text": [
      "Size of initial wavefront data array (coordinate): (40, 48)\n"
     ]
    }
   ],
   "source": [
    "# transmitted pulse - intensity\n",
    "wfr2=LP.slice[0].wfr\n",
    "\n",
    "intensity2 = srwlib.array('f', [0]*wfr2.mesh.nx*wfr2.mesh.ny) # \"flat\" array to take 2D intensity data\n",
    "srwl.CalcIntFromElecField(intensity2, wfr2, 0, 0, 3, wfr2.mesh.eStart, 0, 0) #extracts intensity\n",
    "\n",
    "##Reshaping electric field data from flat to 2D array\n",
    "intens_2d_2 = np.array(intensity2).reshape((wfr2.mesh.nx, wfr2.mesh.ny), order='C')\n",
    "wfrsizei=np.size(intensity2)\n",
    "\n",
    "print('Size of initial wavefront data array (coordinate):',np.shape(intens_2d_2))\n",
    "x2=np.linspace(wfr2.mesh.xStart,wfr2.mesh.xFin,wfr2.mesh.nx)\n",
    "y2=np.linspace(wfr2.mesh.yStart,wfr2.mesh.yFin,wfr2.mesh.ny)"
   ]
  },
  {
   "cell_type": "code",
   "execution_count": 21,
   "id": "6bd3af43-d38d-4775-88e2-59be7ec5628e",
   "metadata": {},
   "outputs": [
    {
     "data": {
      "image/png": "[encoded data removed]",
      "text/plain": [
       "<Figure size 864x504 with 2 Axes>"
      ]
     },
     "metadata": {
      "needs_background": "light"
     },
     "output_type": "display_data"
    }
   ],
   "source": [
    "# plot the computed intensity\n",
    "if RENDER_2D_PLOTS:\n",
    "    with plt.style.context(('seaborn-poster')):\n",
    "        fig = plt.figure(figsize=(12,7))\n",
    "        ax = fig.gca()\n",
    "\n",
    "        # By setting wfr0a.unitElFldAng=1, default units should  now be in mrad(?)\n",
    "        plt.pcolormesh(intens_2d_2, cmap=plt.cm.viridis,shading='auto')\n",
    "#         plt.pcolormesh(x, y, intens_2d_2, cmap=plt.cm.viridis,shading='auto')\n",
    "        plt.colorbar()\n",
    "        ax.set_ylabel(r'Vertical Position [m]')\n",
    "        ax.set_xlabel(r'Horizontal Position [m]')\n",
    "        ax.set_title('Intensity (after the lens)')"
   ]
  },
  {
   "cell_type": "code",
   "execution_count": 22,
   "id": "97ccb50d-87f6-40df-9079-25eb4d9332de",
   "metadata": {},
   "outputs": [
    {
     "name": "stdout",
     "output_type": "stream",
     "text": [
      "Size of initial wavefront data array (coordinate): (40, 48)\n"
     ]
    }
   ],
   "source": [
    "# transmitted pulse - phase\n",
    "phase2 = srwlib.array('d', [0]*wfr2.mesh.nx*wfr2.mesh.ny) # \"flat\" array to take 2D intensity data\n",
    "srwl.CalcIntFromElecField(phase2, wfr2, 0, 4, 3, wfr2.mesh.eStart, 0, 0) #extracts the phase; must use double precision\n",
    "\n",
    "##Reshaping electric field data from flat to 2D array\n",
    "phase_2d_2 = np.array(phase2).reshape((wfr2.mesh.nx, wfr2.mesh.ny), order='C')\n",
    "wfrsize=np.size(phase2)\n",
    "\n",
    "print('Size of initial wavefront data array (coordinate):',np.shape(phase_2d_2))\n",
    "x2=np.linspace(wfr2.mesh.xStart,wfr2.mesh.xFin,wfr2.mesh.nx)\n",
    "y2=np.linspace(wfr2.mesh.yStart,wfr2.mesh.yFin,wfr2.mesh.ny)\n",
    "\n",
    "# print(' ')\n",
    "# print(' phase_2d_2 = ', phase_2d_2)"
   ]
  },
  {
   "cell_type": "code",
   "execution_count": 23,
   "id": "d450a6d8-500b-4bfe-92d2-08d558d4e2b6",
   "metadata": {},
   "outputs": [
    {
     "data": {
      "image/png": "[encoded data removed]",
      "text/plain": [
       "<Figure size 864x504 with 2 Axes>"
      ]
     },
     "metadata": {
      "needs_background": "light"
     },
     "output_type": "display_data"
    }
   ],
   "source": [
    "# plot the phase\n",
    "if RENDER_2D_PLOTS:\n",
    "    with plt.style.context(('seaborn-poster')):\n",
    "        fig = plt.figure(figsize=(12,7))\n",
    "        ax = fig.gca()\n",
    "\n",
    "        # By setting wfr0a.unitElFldAng=1, default units should  now be in mrad(?)\n",
    "        plt.pcolormesh(phase_2d_2, cmap=plt.cm.viridis,shading='auto')\n",
    "#         plt.pcolormesh(x, y, phase_2d_2, cmap=plt.cm.viridis,shading='auto')\n",
    "        plt.colorbar()\n",
    "        ax.set_ylabel(r'Vertical Position [m]')\n",
    "        ax.set_xlabel(r'Horizontal Position [m]')\n",
    "        ax.set_title('Phase (after the lens)')"
   ]
  },
  {
   "cell_type": "code",
   "execution_count": 24,
   "id": "a8198cec-63fa-4a71-a29d-f3a605c71107",
   "metadata": {},
   "outputs": [
    {
     "name": "stdout",
     "output_type": "stream",
     "text": [
      " min(wfr2.arEx) =  -247371.58\n",
      " max(wfr2.arEx) =  257221.47\n"
     ]
    }
   ],
   "source": [
    "# look at the horizontal electric field\n",
    "print(' min(wfr2.arEx) = ', np.min(wfr2.arEx))\n",
    "print(' max(wfr2.arEx) = ', np.max(wfr2.arEx))"
   ]
  },
  {
   "cell_type": "code",
   "execution_count": null,
   "id": "796f73b5-449c-4b8e-aede-b7fb0dd809fe",
   "metadata": {},
   "outputs": [],
   "source": []
  }
 ],
 "metadata": {
  "kernelspec": {
   "display_name": "Python 3",
   "language": "python",
   "name": "py3"
  },
  "language_info": {
   "codemirror_mode": {
    "name": "ipython",
    "version": 3
   },
   "file_extension": ".py",
   "mimetype": "text/x-python",
   "name": "python",
   "nbconvert_exporter": "python",
   "pygments_lexer": "ipython3",
   "version": "3.7.2"
  }
 },
 "nbformat": 4,
 "nbformat_minor": 5
}
