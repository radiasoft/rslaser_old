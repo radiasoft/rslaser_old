{
 "cells": [
  {
   "cell_type": "markdown",
   "id": "985eafd1-ad30-4064-a950-67c8c9ea114b",
   "metadata": {
    "tags": []
   },
   "source": [
    "Create 2D mesh data member for crystal class: issue #10\n",
    "https://github.com/radiasoft/rslaser/issues/10\n",
    "\n",
    "Note: I did not create a params dict or any of that because I was unsure how this mesh would get \"user values\"\n",
    "\n",
    "____________\n",
    "\n",
    "1. Keep original crystal mesh, call it each time to make a temporary one, and then change the original with results of gain calculation\n",
    "    a. if smaller than persistent mesh, need to augment with zeros so that we can do the algebra with them\n",
    "    b. if larger than persistent mesh, grow to temporary and then shrink back to persistent\n",
    "2. Change to just interpolation... if outside the range just give zeros"
   ]
  },
  {
   "cell_type": "markdown",
   "id": "75dcd2bc-2c94-4c1b-a220-77def6102364",
   "metadata": {
    "tags": []
   },
   "source": [
    "_________________\n",
    "Imports"
   ]
  },
  {
   "cell_type": "code",
   "execution_count": 1,
   "id": "09d0cdba-5383-4be7-8916-6d77e60f36ff",
   "metadata": {
    "tags": []
   },
   "outputs": [
    {
     "ename": "IndentationError",
     "evalue": "unexpected indent (element.py, line 461)",
     "output_type": "error",
     "traceback": [
      "Traceback \u001b[0;36m(most recent call last)\u001b[0m:\n",
      "  File \u001b[1;32m\"/home/vagrant/.pyenv/versions/py3/lib/python3.7/site-packages/IPython/core/interactiveshell.py\"\u001b[0m, line \u001b[1;32m3553\u001b[0m, in \u001b[1;35mrun_code\u001b[0m\n    exec(code_obj, self.user_global_ns, self.user_ns)\n",
      "\u001b[0;36m  File \u001b[0;32m\"/tmp/ipykernel_34392/1617633853.py\"\u001b[0;36m, line \u001b[0;32m17\u001b[0;36m, in \u001b[0;35m<module>\u001b[0;36m\u001b[0m\n\u001b[0;31m    from rslaser.optics import element\u001b[0m\n",
      "\u001b[0;36m  File \u001b[0;32m\"/home/vagrant/jupyter/rslaser/rslaser/optics/element.py\"\u001b[0;36m, line \u001b[0;32m461\u001b[0m\n\u001b[0;31m    def interpolate_pop_inversion(self, lp_wfr):\u001b[0m\n\u001b[0m    ^\u001b[0m\n\u001b[0;31mIndentationError\u001b[0m\u001b[0;31m:\u001b[0m unexpected indent\n"
     ]
    }
   ],
   "source": [
    "import sys, time\n",
    "import math\n",
    "import numpy as np\n",
    "from pykern import pkcli\n",
    "from pykern.pkcollections import PKDict\n",
    "\n",
    "# The rslaser library may not be installed, so a check is required.\n",
    "try:\n",
    "    import rslaser\n",
    "except:\n",
    "    # Developers should use 'pip install -e .' from the command line.\n",
    "    # Users can install directly from GitHub --\n",
    "    !{sys.executable} -m pip install git+https://github.com/radiasoft/rslaser.git\n",
    "    import rslaser\n",
    "\n",
    "from rslaser.pulse import pulse\n",
    "from rslaser.optics import element\n",
    "\n",
    "import scipy.constants as const\n",
    "from scipy.interpolate import RectBivariateSpline\n",
    "\n",
    "import srwlib\n",
    "from srwlib import srwl\n",
    "\n",
    "# 2D plotting\n",
    "import matplotlib as mpl\n",
    "import matplotlib.pyplot as plt\n",
    "from matplotlib import cm\n",
    "\n",
    "# reset the notebook style\n",
    "mpl.rcParams.update(mpl.rcParamsDefault)\n",
    "%matplotlib inline"
   ]
  },
  {
   "cell_type": "markdown",
   "id": "a829e4a3-556c-4652-a368-a61f13499517",
   "metadata": {},
   "source": [
    "______________\n",
    "Set laser defaults"
   ]
  },
  {
   "cell_type": "code",
   "execution_count": null,
   "id": "ba72cf37-a19b-4abc-bbf9-48ffcf330bf5",
   "metadata": {
    "tags": []
   },
   "outputs": [],
   "source": [
    "# specify parameters\n",
    "\n",
    "_LASER_PULSE_DEFAULTS = PKDict(\n",
    "        photon_e_ev=1.5498, # Photon energy [eV], calculated from 800nm wavelength\n",
    "        pulseE=0.001,\n",
    "        tau_fwhm=0.3e-13,\n",
    ")\n",
    "\n",
    "# Instantiate the default parameters\n",
    "params = _LASER_PULSE_DEFAULTS.copy()"
   ]
  },
  {
   "cell_type": "markdown",
   "id": "140e2da9-cdd8-41e2-8be8-9287cb6d3de2",
   "metadata": {},
   "source": [
    "___________\n",
    "Instantiate the laser pulse"
   ]
  },
  {
   "cell_type": "code",
   "execution_count": null,
   "id": "d6163506-e5fe-4cc3-8beb-f5d9228b9b17",
   "metadata": {
    "tags": []
   },
   "outputs": [],
   "source": [
    "thisPulse = pulse.LaserPulse(params)"
   ]
  },
  {
   "cell_type": "markdown",
   "id": "37775719-b8d0-4620-84f7-aa10634db965",
   "metadata": {},
   "source": [
    "______________\n",
    "Define a simple lattice"
   ]
  },
  {
   "cell_type": "code",
   "execution_count": null,
   "id": "9251228d-5694-49ae-a415-0a1d9033d73c",
   "metadata": {
    "tags": []
   },
   "outputs": [],
   "source": [
    "# instantiate a drift\n",
    "L_drift = 0.50  # [m]\n",
    "e_drift = element.Drift(L_drift)\n",
    "\n",
    "# instantiate the crystal\n",
    "crystal_params = PKDict(length = 0.01,  # [m]\n",
    "                        nslice = 1,\n",
    "                        )\n",
    "e_crystal = element.Crystal(crystal_params)\n",
    "\n",
    "# define a simple lattice\n",
    "lattice = [(e_drift,'default'), \n",
    "           (e_crystal,'n0n2_srw'), \n",
    "           (e_drift,'default')\n",
    "          ]"
   ]
  },
  {
   "cell_type": "markdown",
   "id": "0f736196-7314-4e85-a8c3-affaf71d672d",
   "metadata": {},
   "source": [
    "______________\n",
    "Propagate"
   ]
  },
  {
   "cell_type": "code",
   "execution_count": null,
   "id": "479b7b92-6d72-4a85-89ad-b3b7139b83e4",
   "metadata": {
    "tags": []
   },
   "outputs": [],
   "source": [
    "# Propagate the pulse through the lattice\n",
    "for iterator in lattice:\n",
    "    current_elem, prop_type = iterator\n",
    "    thisPulse = current_elem.propagate(thisPulse, prop_type)"
   ]
  },
  {
   "cell_type": "markdown",
   "id": "de5d5849-7626-434b-aab9-691e4f450586",
   "metadata": {},
   "source": [
    "______________\n",
    "Plot the CrystalSlice.sigma_mesh for the single slice"
   ]
  },
  {
   "cell_type": "code",
   "execution_count": null,
   "id": "ba4e8a27-b3d1-497f-b7f9-20a69b9a3fe8",
   "metadata": {},
   "outputs": [],
   "source": [
    "slice = e_crystal.slice[0]\n",
    "\n",
    "x = np.linspace(slice.pop_inversion_xstart,slice.pop_inversion_xfin,slice.pop_inversion_nx)\n",
    "y = np.linspace(slice.pop_inversion_ystart,slice.pop_inversion_yfin,slice.pop_inversion_ny)\n",
    "    \n",
    "# plot the excited state density\n",
    "fig = plt.figure(figsize=(5,3))\n",
    "ax = fig.gca()\n",
    "plt.pcolormesh(x*1e6, y*1e6, slice.temp_inversion_mesh, cmap=plt.cm.viridis,shading='auto')#,vmin=0.95,vmax=1.05)\n",
    "plt.colorbar()\n",
    "ax.set_ylabel(r'Vertical Position [um]')\n",
    "ax.set_xlabel(r'Horizontal Position [um]')\n",
    "ax.set_title('Excited State Density - After Propagation')"
   ]
  },
  {
   "cell_type": "markdown",
   "id": "fb61369f-5f05-468f-aeef-8b1bde7a0830",
   "metadata": {},
   "source": [
    "________________\n",
    "For comparison, create ExcitedStates object containing 2d mesh of excited state density (sigma) for comparison #Old Method"
   ]
  },
  {
   "cell_type": "code",
   "execution_count": null,
   "id": "3bc27466-9270-4d7e-ade8-ac1a07fc0fd0",
   "metadata": {
    "tags": []
   },
   "outputs": [],
   "source": [
    "class ExcitedStates():\n",
    "    \n",
    "    def __init__(self, params=None):\n",
    "        self.nx = params.nx\n",
    "        self.ny = params.ny\n",
    "        self.xStart = params.xStart\n",
    "        self.xFin = params.xFin\n",
    "        self.yStart = params.yStart\n",
    "        self.yFin = params.yFin\n",
    "        \n",
    "        x = np.linspace(self.xStart,self.xFin,self.nx)\n",
    "        y = np.linspace(self.yStart,self.yFin,self.ny)\n",
    "        xv, yv = np.meshgrid(x, y)\n",
    "        self.mesh = np.exp(-(xv**2.0 + yv**2.0)/((self.xFin-self.xStart)/4.0)**2.0)\n",
    "\n",
    "    # Scale the excited states mesh to match the pulse wavefront params\n",
    "    # For increaing the mesh size: use values of zero\n",
    "    def _scale(self, lp_wfr):       # Assumes wfr xFin, yFin > 0 and xStart, yStart < 0\n",
    "        \n",
    "        dx = (self.xFin - self.xStart)/self.nx\n",
    "        dy = (self.yFin - self.yStart)/self.ny\n",
    "        nx_init = self.nx\n",
    "        ny_init = self.ny\n",
    "        \n",
    "        d_xFin = (lp_wfr.mesh.xFin - self.xFin)\n",
    "        d_yFin = (lp_wfr.mesh.yFin - self.yFin)\n",
    "        \n",
    "        if d_xFin > 0:         # Add rows to the end of the mesh\n",
    "            self.nx += math.ceil(d_xFin/dx)\n",
    "            self.xFin += math.ceil(d_xFin/dx)*dx\n",
    "            self.mesh = np.append(self.mesh, np.zeros((math.ceil(d_xFin/dx),np.shape(self.mesh)[1])), axis=0)\n",
    "        #elif d_xFin < 0:       # Remove rows from the end of the mesh\n",
    "        #    self.mesh = np.delete(self.mesh, np.s_[self.nx:nx_init], axis=0)    \n",
    "            \n",
    "        if d_yFin > 0:         # Add columns to the end of the mesh\n",
    "            self.ny += math.ceil(d_yFin/dy)\n",
    "            self.yFin += math.ceil(d_yFin/dy)*dy\n",
    "            self.mesh = np.append(self.mesh, np.zeros((np.shape(self.mesh)[0],math.ceil(d_yFin/dy))), axis=1)\n",
    "        #elif d_yFin < 0:       # Delete columns from the end of the mesh\n",
    "        #    self.mesh = np.delete(self.mesh, np.s_[self.ny:ny_init], axis=1)\n",
    "                \n",
    "        d_xStart = (self.xStart - lp_wfr.mesh.xStart)\n",
    "        d_yStart = (self.yStart - lp_wfr.mesh.yStart)\n",
    "                     \n",
    "        if d_xStart > 0:       # Add rows to the start of the mesh\n",
    "            self.nx += math.ceil(d_xStart/dx)\n",
    "            self.xStart -= math.ceil(d_xStart/dx)*dx\n",
    "            self.mesh = np.append(np.zeros((math.ceil(d_xStart/dx),np.shape(self.mesh)[1])), self.mesh, axis=0)\n",
    "        #elif d_xStart < 0:     # Delete rows from the start of the mesh\n",
    "        #    self.mesh = np.delete(self.mesh, np.s_[0:-math.ceil(d_xStart/dx)], axis=0)\n",
    "            \n",
    "        if d_yStart > 0:       # Add columns to the start of the mesh\n",
    "            self.ny += math.ceil(d_yStart/dy)\n",
    "            self.yStart -= math.ceil(d_yStart/dy)*dy\n",
    "            self.mesh = np.append(np.zeros((np.shape(self.mesh)[0],math.ceil(d_yStart/dy))), self.mesh, axis=1)\n",
    "        #elif d_yStart < 0:     # Delete columns from the start of the mesh\n",
    "        #    self.mesh = np.delete(self.mesh,  np.s_[0:-math.ceil(d_yStart/dy)], axis=1)\n",
    "\n",
    "    # Interpolate the excited states mesh to match the pulse wavefront params\n",
    "    def interpolate(self, lp_wfr):\n",
    "        \n",
    "        self._scale(lp_wfr)\n",
    "            \n",
    "        # check if n cells matches\n",
    "        \n",
    "        excited_states_x = np.linspace(self.xStart,self.xFin,self.nx)\n",
    "        excited_states_y = np.linspace(self.yStart,self.yFin,self.ny)\n",
    "        \n",
    "        lp_wfr_x = np.linspace(lp_wfr.mesh.xStart,lp_wfr.mesh.xFin,lp_wfr.mesh.nx)\n",
    "        lp_wfr_y = np.linspace(lp_wfr.mesh.yStart,lp_wfr.mesh.yFin,lp_wfr.mesh.ny)\n",
    "            \n",
    "        # Interpolate the excited states mesh to match the pulse wavefront params\n",
    "        if not (np.array_equal(excited_states_x, lp_wfr_x) and np.array_equal(excited_states_y, lp_wfr_y)):\n",
    "            rect_biv_spline = RectBivariateSpline(excited_states_x, excited_states_y, self.mesh)\n",
    "\n",
    "            self.mesh = rect_biv_spline(lp_wfr_x, lp_wfr_y) #Evaluate the spline at points\n",
    "            self.xStart = lp_wfr.mesh.xStart\n",
    "            self.xFin = lp_wfr.mesh.xFin\n",
    "            self.yStart = lp_wfr.mesh.yStart\n",
    "            self.yFin = lp_wfr.mesh.yFin\n",
    "            self.nx = np.shape(self.mesh)[0]\n",
    "            self.ny = np.shape(self.mesh)[1]\n",
    "            "
   ]
  },
  {
   "cell_type": "markdown",
   "id": "ba41ec1a-e5d2-409e-90a7-710f9df0772d",
   "metadata": {},
   "source": [
    "_____________\n",
    "Interpolating to a smaller grid: plot the mesh values before and after"
   ]
  },
  {
   "cell_type": "code",
   "execution_count": null,
   "id": "93b3c26b-78c8-4f0f-9afa-e78c5d62f312",
   "metadata": {
    "tags": []
   },
   "outputs": [],
   "source": [
    "_EXCITED_STATES_DEFAULTS = PKDict(\n",
    "        nx = 100,\n",
    "        ny = 100,\n",
    "        xStart = -10.0e-5, #10.0e-5\n",
    "        xFin = 10.0e-5,\n",
    "        yStart = -10.0e-5,\n",
    "        yFin = 10.0e-5,    \n",
    ")\n",
    "\n",
    "# Instantiate the default parameters:\n",
    "params = _EXCITED_STATES_DEFAULTS.copy()\n",
    "\n",
    "thisSigma = ExcitedStates(params)\n",
    "thisPulse_wfr = thisPulse.slice[0].wfr\n",
    "\n",
    "x = np.linspace(thisSigma.xStart,thisSigma.xFin,thisSigma.nx)\n",
    "y = np.linspace(thisSigma.yStart,thisSigma.yFin,thisSigma.ny)\n",
    "    \n",
    "# plot the excited state density\n",
    "fig = plt.figure(figsize=(5,3))\n",
    "ax = fig.gca()\n",
    "plt.pcolormesh(x*1e6, y*1e6, thisSigma.mesh, cmap=plt.cm.viridis,shading='auto')#,vmin=0.95,vmax=1.05)\n",
    "plt.colorbar()\n",
    "ax.set_ylabel(r'Vertical Position [um]')\n",
    "ax.set_xlabel(r'Horizontal Position [um]')\n",
    "ax.set_title('Excited State Density - After Initialization')\n",
    "\n",
    "thisSigma.interpolate(thisPulse_wfr)\n",
    "\n",
    "x = np.linspace(thisSigma.xStart,thisSigma.xFin,thisSigma.nx)\n",
    "y = np.linspace(thisSigma.yStart,thisSigma.yFin,thisSigma.ny)\n",
    "    \n",
    "# plot the excited state density\n",
    "fig = plt.figure(figsize=(5,3))\n",
    "ax = fig.gca()\n",
    "plt.pcolormesh(x*1e6, y*1e6, thisSigma.mesh, cmap=plt.cm.viridis,shading='auto')#,vmin=0.95,vmax=1.05)\n",
    "plt.colorbar()\n",
    "ax.set_ylabel(r'Vertical Position [um]')\n",
    "ax.set_xlabel(r'Horizontal Position [um]')\n",
    "ax.set_title('Excited State Density - After Interpolation')\n"
   ]
  },
  {
   "cell_type": "markdown",
   "id": "221605fa-e801-4636-9835-255f3caad102",
   "metadata": {},
   "source": [
    "_____________\n",
    "Interpolating to a larger grid: plot the mesh values before and after"
   ]
  },
  {
   "cell_type": "code",
   "execution_count": null,
   "id": "88b94d99-7aa8-4c2c-8496-b697f82cf1c8",
   "metadata": {
    "tags": []
   },
   "outputs": [],
   "source": [
    "_EXCITED_STATES_DEFAULTS = PKDict(\n",
    "        nx = 100,\n",
    "        ny = 100,\n",
    "        xStart = -1.0e-5, #10.0e-5\n",
    "        xFin = 1.0e-5,\n",
    "        yStart = -1.0e-5,\n",
    "        yFin = 1.0e-5,    \n",
    ")\n",
    "\n",
    "# Instantiate the default parameters:\n",
    "params = _EXCITED_STATES_DEFAULTS.copy()\n",
    "\n",
    "thisSigma = ExcitedStates(params)\n",
    "thisPulse_wfr = thisPulse.slice[0].wfr\n",
    "\n",
    "x = np.linspace(thisSigma.xStart,thisSigma.xFin,thisSigma.nx)\n",
    "y = np.linspace(thisSigma.yStart,thisSigma.yFin,thisSigma.ny)\n",
    "    \n",
    "# plot the excited state density\n",
    "fig = plt.figure(figsize=(5,3))\n",
    "ax = fig.gca()\n",
    "plt.pcolormesh(x*1e6, y*1e6, thisSigma.mesh, cmap=plt.cm.viridis,shading='auto')#,vmin=0.95,vmax=1.05)\n",
    "plt.colorbar()\n",
    "ax.set_ylabel(r'Vertical Position [um]')\n",
    "ax.set_xlabel(r'Horizontal Position [um]')\n",
    "ax.set_title('Excited State Density - After Init')\n",
    "\n",
    "thisSigma.interpolate(thisPulse_wfr)\n",
    "\n",
    "x = np.linspace(thisSigma.xStart,thisSigma.xFin,thisSigma.nx)\n",
    "y = np.linspace(thisSigma.yStart,thisSigma.yFin,thisSigma.ny)\n",
    "    \n",
    "# plot the excited state density\n",
    "fig = plt.figure(figsize=(5,3))\n",
    "ax = fig.gca()\n",
    "plt.pcolormesh(x*1e6, y*1e6, thisSigma.mesh, cmap=plt.cm.viridis,shading='auto')#,vmin=0.95,vmax=1.05)\n",
    "plt.colorbar()\n",
    "ax.set_ylabel(r'Vertical Position [um]')\n",
    "ax.set_xlabel(r'Horizontal Position [um]')\n",
    "ax.set_title('Excited State Density - After Interpolation')\n"
   ]
  },
  {
   "cell_type": "code",
   "execution_count": null,
   "id": "bbbc6b40-22e9-4bcc-884b-a8387c9327f0",
   "metadata": {
    "tags": []
   },
   "outputs": [],
   "source": [
    "# print('\\nwfr nx: ', thisPulse_wfr.mesh.nx)\n",
    "# print('wfr ny: ', thisPulse_wfr.mesh.ny)\n",
    "# print('wfr xStart: ', thisPulse_wfr.mesh.xStart)\n",
    "# print('wfr xFin: ', thisPulse_wfr.mesh.xFin)\n",
    "# print('wfr yStart: ', thisPulse_wfr.mesh.yStart)\n",
    "# print('wfr yFin: ', thisPulse_wfr.mesh.yFin)\n",
    "\n",
    "# print('\\nSigma nx: ', thisSigma.nx)\n",
    "# print('Sigma ny: ', thisSigma.ny)\n",
    "# print('Sigma xStart: ', thisSigma.xStart)\n",
    "# print('Sigma xFin: ', thisSigma.xFin)\n",
    "# print('Sigma yStart: ', thisSigma.yStart)\n",
    "# print('Sigma yFin: ', thisSigma.yFin)\n",
    "# print('Sigma mesh shape: ', np.shape(thisSigma.mesh))"
   ]
  },
  {
   "cell_type": "markdown",
   "id": "7f966cc0-c429-4a29-85b6-340ccc606b29",
   "metadata": {},
   "source": [
    "____________\n",
    "An example of if we interpolate before scaling..."
   ]
  },
  {
   "attachments": {
    "633e17d7-acf1-4e04-88a8-9b6d964c869c.png": {
     "image/png": "[encoded data removed]"
    }
   },
   "cell_type": "markdown",
   "id": "11663131-f748-4886-9c0d-364f8087a0f0",
   "metadata": {},
   "source": [
    "![7M9MQ5bHWdFrG_uOY2UMTdN8cbc3_N4DZN_7K1QWa4rAhiJ4iSf2-TUqVZ_F_HIONXIyaNi71nbZo8Q-JFoo1o2VDrtbbVhpwjrKsm_RqgcF0xLoQjq4e9LVT-0C.png](attachment:633e17d7-acf1-4e04-88a8-9b6d964c869c.png)"
   ]
  },
  {
   "cell_type": "markdown",
   "id": "82571070-5508-4967-bacc-a2f3c9844224",
   "metadata": {},
   "source": [
    "What do we get for values outside the interpolation map?"
   ]
  },
  {
   "cell_type": "code",
   "execution_count": null,
   "id": "189dca2b-f183-43e2-a3ad-bcf825fa7d9c",
   "metadata": {},
   "outputs": [],
   "source": [
    "# original_array = np.ones((50,50))\n",
    "# x = np.linspace(-1,1,50)\n",
    "# y = np.linspace(-1,1,50)\n",
    "\n",
    "# rbs_test = RectBivariateSpline(x, y, original_array)\n",
    "\n",
    "# test_array = rbs_test(x_test, y_test)\n",
    "\n",
    "x = np.array([1,2,3,4])\n",
    "y = np.array([1,2,3,4,5])\n",
    "vals = np.array([\n",
    "    [4,1,4,4,2],\n",
    "    [4,2,3,2,6],\n",
    "    [3,7,4,3,5],\n",
    "    [2,4,5,3,4]\n",
    "])\n",
    "\n",
    "rect_B_spline = RectBivariateSpline(x, y, vals)\n",
    "\n",
    "a = np.array([-1.0, 100.0, -1.0, 2.5, -0.001])\n",
    "b = np.array([-1.0, 100.0, 7.0, 100.0, 0.0])\n",
    "\n",
    "#print(rect_B_spline.ev(a,b))\n",
    "\n",
    "# What if we wrap it in zeros?\n",
    "    # Smaller: no big deal right? not looking at the edge\n",
    "    # Larger: only one row of zeros all the way around... (mesh might already be zero at edge, but can't count on that)\n",
    "    \n",
    "x2 = np.array([0,1,2,3,4,5])\n",
    "y2 = np.array([0,1,2,3,4,5,6])\n",
    "vals2 = np.array([\n",
    "    [0,0,0,0,0,0,0],\n",
    "    [0,4,1,4,4,2,0],\n",
    "    [0,4,2,3,2,6,0],\n",
    "    [0,3,7,4,3,5,0],\n",
    "    [0,2,4,5,3,4,0],\n",
    "    [0,0,0,0,0,0,0]\n",
    "])\n",
    "\n",
    "rect_B_spline2 = RectBivariateSpline(x2, y2, vals2)\n",
    "\n",
    "rect_B_spline2.ev(a,b)\n",
    "\n",
    "# Do this for now, with comment for why and where it might fail"
   ]
  }
 ],
 "metadata": {
  "kernelspec": {
   "display_name": "Python 3",
   "language": "python",
   "name": "py3"
  },
  "language_info": {
   "codemirror_mode": {
    "name": "ipython",
    "version": 3
   },
   "file_extension": ".py",
   "mimetype": "text/x-python",
   "name": "python",
   "nbconvert_exporter": "python",
   "pygments_lexer": "ipython3",
   "version": "3.7.2"
  }
 },
 "nbformat": 4,
 "nbformat_minor": 5
}
