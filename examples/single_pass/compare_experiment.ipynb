{
 "cells": [
  {
   "cell_type": "markdown",
   "id": "cc2df31f-f55f-4d97-9a09-433afe96b914",
   "metadata": {},
   "source": [
    "Compare simulation with experiment\n",
    "________"
   ]
  },
  {
   "cell_type": "markdown",
   "id": "de0b9b63-16c2-4fe5-affb-5bc90611936b",
   "metadata": {},
   "source": [
    "Imports"
   ]
  },
  {
   "cell_type": "code",
   "execution_count": null,
   "id": "9868b20a-75eb-4a2a-82f3-c03317ee6a22",
   "metadata": {
    "jupyter": {
     "source_hidden": true
    },
    "tags": []
   },
   "outputs": [],
   "source": [
    "import array\n",
    "import math\n",
    "import numpy as np\n",
    "from pykern import pkcli\n",
    "from pykern.pkcollections import PKDict\n",
    "import os\n",
    "\n",
    "# The rslaser library may not be installed, so a check is required.\n",
    "try:\n",
    "    import rslaser\n",
    "except:\n",
    "    # Developers should use 'pip install -e .' from the command line.\n",
    "    # Users can install directly from GitHub --\n",
    "    !{sys.executable} -m pip install git+https://github.com/radiasoft/rslaser.git\n",
    "    import rslaser\n",
    "\n",
    "from rslaser.pulse import pulse\n",
    "from rslaser.optics import element\n",
    "from rslaser.optics import drift\n",
    "from rslaser.optics import crystal\n",
    "from rslaser.utils import srwl_uti_data as srwutil\n",
    "\n",
    "import scipy.constants as const\n",
    "from scipy.ndimage import gaussian_filter\n",
    "\n",
    "import srwlib\n",
    "from srwlib import srwl\n",
    "\n",
    "# 2D plotting\n",
    "import matplotlib as mpl\n",
    "import matplotlib.pyplot as plt\n",
    "from matplotlib import cm\n",
    "\n",
    "# reset the notebook style\n",
    "mpl.rcParams.update(mpl.rcParamsDefault)\n",
    "%matplotlib inline"
   ]
  },
  {
   "cell_type": "markdown",
   "id": "7bdba355-5be7-4d28-963b-ddea3828eea7",
   "metadata": {},
   "source": [
    "Useful functions"
   ]
  },
  {
   "cell_type": "code",
   "execution_count": null,
   "id": "3581f447-2ee0-4288-8f85-47c924bce5fb",
   "metadata": {
    "jupyter": {
     "source_hidden": true
    },
    "tags": []
   },
   "outputs": [],
   "source": [
    "def _nan_helper(_arr):\n",
    "    \"\"\"\n",
    "    Clean unwanted NaNs from a numpy array, replacing them via interpolation.\n",
    "\n",
    "    Args:\n",
    "        _arr, numpy array with NaNs\n",
    "\n",
    "    Returns:\n",
    "        nans, logical indices of NaNs\n",
    "        index, a function with signature indices = index(logical_indices)\n",
    "               to convert logical indices of NaNs to 'equivalent' indices\n",
    "\n",
    "    Example:\n",
    "        >>> nans, x = nan_helper(my_array)\n",
    "        >>> my_array[nans] = np.interp(x(nans), x(~nans), my_array[~nans])\n",
    "    \"\"\"\n",
    "    return np.isnan(_arr), lambda z: z.nonzero()[0]\n",
    "\n",
    "\n",
    "def _array_cleaner(_arr, _ind):\n",
    "    \"\"\"\n",
    "    Clean unwanted values from a numpy array, replacing them via interpolation.\n",
    "\n",
    "    Args:\n",
    "        _arr, numpy array with bad values\n",
    "        _ind, precalculated indices of these bad values\n",
    "\n",
    "    Returns:\n",
    "        _arr, cleaned version of the input array\n",
    "\n",
    "    Example:\n",
    "        >>> indices = np.isnan(my_array)\n",
    "        >>> my_array = array_cleaner(my_array, indices)\n",
    "    \"\"\"\n",
    "    _arr[_ind] = np.nan\n",
    "    nans, x = _nan_helper(_arr)\n",
    "    _arr[nans] = np.interp(x(nans), x(~nans), _arr[~nans])\n",
    "    return _arr\n",
    "\n",
    "\n",
    "def _reshape_data(data):\n",
    "    data = np.delete(data, 0, axis=1)\n",
    "    data = np.delete(data, 1, axis=1)\n",
    "    data = np.delete(data, 2, axis=1)\n",
    "    data = np.delete(data, 3, axis=1)\n",
    "    data = np.delete(data, -4, axis=1)\n",
    "    data = np.delete(data, -3, axis=1)\n",
    "    data = np.delete(data, -2, axis=1)\n",
    "    data = np.delete(data, -1, axis=1)\n",
    "    return data\n",
    "\n",
    "\n",
    "def rms_calc_2d(_x, _y, f_dist):\n",
    "    \"\"\"\n",
    "    Calculate the x and y averages and RMS of a 2d distribution f_dist(x,y)\n",
    "\n",
    "    Args:\n",
    "        _x, 2d numpy array that defines x values of the distribution\n",
    "        _y, 2d numpy array that defines y values of the distribution\n",
    "        f_dist, 2d numpy array that defines the x,y distribution\n",
    "    \n",
    "    Returns:\n",
    "        x_avg, y_avg, the average values of x and y\n",
    "        x_rms, y_rms, the RMS values of x and y\n",
    "\n",
    "    Example:\n",
    "        >>> xavg, yavg, xrms, yrms = rms_calc_2d(my_array)\n",
    "    \"\"\"\n",
    "    x_f = np.multiply(_x, f_dist)\n",
    "    y_f = np.multiply(_y, f_dist)\n",
    "    sum_f = np.sum(f_dist)\n",
    "    x_avg = np.sum(x_f) / sum_f\n",
    "    y_avg = np.sum(y_f) / sum_f\n",
    "\n",
    "    xsq_f = np.multiply(_x, x_f)\n",
    "    ysq_f = np.multiply(_y, y_f)\n",
    "    x_std = np.sum(xsq_f) / sum_f\n",
    "    y_std = np.sum(ysq_f) / sum_f\n",
    "\n",
    "    x_rms = math.sqrt(x_std - x_avg**2)\n",
    "    y_rms = math.sqrt(y_std - y_avg**2)\n",
    "    return x_avg, y_avg, x_rms, y_rms\n",
    "\n",
    "def extract_data(wfs_file_name, ccd_file_name):\n",
    "    \n",
    "    # Let's read an image-pair of diagnostic data files to instantiate an SRW wavefront.\n",
    "    # First, we have to determine the file paths...\n",
    "    ccd_name = ccd_file_name\n",
    "    wfs_name = wfs_file_name\n",
    "    \n",
    "    package_data_dir = rslaser.pkg_resources.resource_filename('rslaser','package_data')\n",
    "    ccd_path_to_file = os.path.join(package_data_dir, ccd_name)\n",
    "    wfs_path_to_file = os.path.join(package_data_dir, wfs_name)\n",
    "\n",
    "    # read the pixel size from the diagnostic metadata file\n",
    "    meta_file_name = 'wfs_meta.dat'\n",
    "    meta_path_to_file = os.path.join(package_data_dir, meta_file_name)\n",
    "    with open(meta_path_to_file) as fh:\n",
    "        for line in fh:\n",
    "            if line.startswith(\"pixel_size_h_microns\"):\n",
    "                pixel_size_h = float(line.split(\":\")[-1].split(\",\")[0])  # microns\n",
    "            if line.startswith(\"pixel_size_v_microns\"):\n",
    "                pixel_size_v = float(line.split(\":\")[-1].split(\",\")[0])  # microns\n",
    "\n",
    "    # central wavelength of the laser pulse\n",
    "    lambda0_micron = 0.8\n",
    "\n",
    "    # convert from microns to radians\n",
    "    rad_per_micron = math.pi / lambda0_micron\n",
    "\n",
    "    # parse the wave front sensor (WFS) diagnostic data file\n",
    "    wfs_data = np.genfromtxt(wfs_path_to_file, skip_header=1, skip_footer=0)\n",
    "\n",
    "    #print('wfs_data.shape = ', wfs_data.shape)\n",
    "    \n",
    "    wfs_data = np.delete(wfs_data, 0, axis=1)\n",
    "    wfs_data = np.delete(wfs_data, 1, axis=1)\n",
    "    wfs_data = np.delete(wfs_data, 2, axis=1)\n",
    "    wfs_data = np.delete(wfs_data, 3, axis=1)\n",
    "    wfs_data = np.delete(wfs_data, -4, axis=1)\n",
    "    wfs_data = np.delete(wfs_data, -3, axis=1)\n",
    "    wfs_data = np.delete(wfs_data, -2, axis=1)\n",
    "    wfs_data = np.delete(wfs_data, -1, axis=1)\n",
    "\n",
    "    # clean up any NaN's\n",
    "    indices_wfs = np.isnan(wfs_data)\n",
    "    wfs_data = _array_cleaner(wfs_data, indices_wfs)\n",
    "    \n",
    "    # # smooth the data\n",
    "    # blur = 4\n",
    "    # print(wfs_data)\n",
    "    # print(gaussian_filter(wfs_data, sigma=blur))\n",
    "    # wfs_data = gaussian_filter(wfs_data, sigma=blur)\n",
    "\n",
    "    #print('wfs_data.shape = ', wfs_data.shape)\n",
    "\n",
    "    # convert from microns to radians\n",
    "    wfs_data *= rad_per_micron\n",
    "    \n",
    "\n",
    "    # parse the intensity diagnostic data file\n",
    "    ccd_data = np.genfromtxt(ccd_path_to_file, skip_header=1)\n",
    "    \n",
    "    #print('ccd_data.shape = ', ccd_data.shape)\n",
    "\n",
    "    ccd_data = np.delete(ccd_data, 0, axis=1)\n",
    "    ccd_data = np.delete(ccd_data, 1, axis=1)\n",
    "    ccd_data = np.delete(ccd_data, 2, axis=1)\n",
    "    ccd_data = np.delete(ccd_data, 3, axis=1)\n",
    "    ccd_data = np.delete(ccd_data, -4, axis=1)\n",
    "    ccd_data = np.delete(ccd_data, -3, axis=1)\n",
    "    ccd_data = np.delete(ccd_data, -2, axis=1)\n",
    "    ccd_data = np.delete(ccd_data, -1, axis=1)\n",
    "\n",
    "    # # smooth the data\n",
    "    # blur = 2\n",
    "    # print(ccd_data)\n",
    "    # print(gaussian_filter(ccd_data, sigma=blur))\n",
    "    # ccd_data = gaussian_filter(ccd_data, sigma=blur)\n",
    "    \n",
    "    #print('ccd_data.shape = ', ccd_data.shape)\n",
    "\n",
    "    # we assume the WFS and CCD data are from the same diagnostic\n",
    "    # check that the data files have the same number of pixels\n",
    "    assert np.shape(wfs_data) == np.shape(ccd_data), error_message('ERROR -- WFS and CCD data have diferent shapes!!')    \n",
    "    \n",
    "    \n",
    "    # create the x,y arrays with physical units based on the diagnostic pixel dimensions\n",
    "    x1_max = 0.5 * (wfs_data.shape[1] + 1.) * pixel_size_h * 1.0e-6    # [m] #* 1.0e-3    # [mm]\n",
    "    x1_min = -x1_max\n",
    "\n",
    "    y1_max = 0.5 * (wfs_data.shape[0] + 1.) * pixel_size_v * 1.0e-6    # [m] #* 1.0e-3    # [m]\n",
    "    y1_min = -y1_max\n",
    "\n",
    "    # Construct the real and imaginary parts of the horizontal electric field\n",
    "    e_norm = np.sqrt(ccd_data)\n",
    "    ex_real = np.multiply(e_norm, np.cos(wfs_data)).flatten(order='C')\n",
    "    ex_imag = np.multiply(e_norm, np.sin(wfs_data)).flatten(order='C')\n",
    "\n",
    "    ex_numpy = np.zeros(2*len(ex_real))\n",
    "    for i in range(len(ex_real)):\n",
    "        ex_numpy[2*i] = ex_real[i]\n",
    "        ex_numpy[2*i+1] = ex_imag[i]\n",
    "\n",
    "    ex = array.array('f', ex_numpy.tolist())\n",
    "\n",
    "    # Assume the vertical electric field is zero\n",
    "    ey = array.array('f', len(ex)*[0.])\n",
    "\n",
    "    # Create an SRW wavefront with the electric fields that we have inferred from the wave front sensor\n",
    "    wfr = srwlib.SRWLWfr(_arEx=ex, _arEy=ey, _typeE='f', \n",
    "                         _eStart=1.55, _eFin=1.55, _ne=1, \n",
    "                         _xStart=x1_min, _xFin=x1_max, _nx=np.shape(wfs_data)[0], \n",
    "                         _yStart=y1_min, _yFin=y1_max, _ny=np.shape(wfs_data)[1], \n",
    "                         _zStart=0., _partBeam=None)\n",
    "    \n",
    "    return wfr"
   ]
  },
  {
   "cell_type": "markdown",
   "id": "cbdb64e9-e75e-4c8b-bf85-42c620fdfc93",
   "metadata": {},
   "source": [
    "______\n",
    "Initiate laser pulse fron the phase-intensity image pairs of a wavefront censor (WFS) diagnostic:\n",
    "\n",
    "ccd_name = 'ccd_pump_off.txt'\n",
    "* This file contains the photon count, perhaps normalized, which we loosely refer to as intensity.\n",
    "\n",
    "wfs_name = 'wfs_pump_off.txt'\n",
    "* This file contains the phase of the electric field."
   ]
  },
  {
   "cell_type": "code",
   "execution_count": null,
   "id": "8df93189-3868-4572-845a-63e8fcb55d6b",
   "metadata": {
    "jupyter": {
     "source_hidden": true
    },
    "tags": []
   },
   "outputs": [],
   "source": [
    "wfr_exp_init = extract_data('wfs_pump_off.txt', 'ccd_pump_off.txt') # Currently no gaussian filter... uncomment if you want, but changes the values a good bit\n",
    "x_max_cut = wfr_exp_init.mesh.xFin\n",
    "x_min_cut = wfr_exp_init.mesh.xStart\n",
    "y_max_cut = wfr_exp_init.mesh.yFin\n",
    "y_min_cut = wfr_exp_init.mesh.yStart\n",
    "\n",
    "x_exp_init=np.linspace(wfr_exp_init.mesh.xStart,wfr_exp_init.mesh.xFin,wfr_exp_init.mesh.nx)\n",
    "y_exp_init=np.linspace(wfr_exp_init.mesh.yStart,wfr_exp_init.mesh.yFin,wfr_exp_init.mesh.ny)"
   ]
  },
  {
   "cell_type": "code",
   "execution_count": null,
   "id": "683ba4a2-909b-4921-9ace-6eb9bd5175ae",
   "metadata": {
    "jupyter": {
     "source_hidden": true
    },
    "tags": []
   },
   "outputs": [],
   "source": [
    "# Plot initial wavefront\n",
    "\n",
    "intensity_exp_init = srwlib.array('f', [0]*wfr_exp_init.mesh.nx*wfr_exp_init.mesh.ny) # \"flat\" array to take 2D intensity data\n",
    "srwl.CalcIntFromElecField(intensity_exp_init, wfr_exp_init, 6, 0, 3, wfr_exp_init.mesh.eStart, 0, 0) # extracts intensity\n",
    "\n",
    "# Reshaping data from flat to 2D array\n",
    "intensity_2D_exp_init = np.array(intensity_exp_init).reshape((wfr_exp_init.mesh.nx, wfr_exp_init.mesh.ny), order='C').astype(np.float64)\n",
    "\n",
    "with plt.style.context(('seaborn-poster')):\n",
    "    fig = plt.figure(figsize=(6,3.6))\n",
    "    ax = fig.gca()\n",
    "    plt.pcolormesh(y_exp_init*(1e3), x_exp_init*(1e3), intensity_2D_exp_init, cmap=plt.cm.viridis, shading='auto')\n",
    "    plt.colorbar()\n",
    "    ax.set_ylabel(r'Vertical Position [mm]')\n",
    "    ax.set_xlabel(r'Horizontal Position [mm]')\n",
    "    ax.set_title('Intensity (initial)')"
   ]
  },
  {
   "cell_type": "code",
   "execution_count": null,
   "id": "2f947da9-97d0-40bb-aca3-22e734a129ce",
   "metadata": {
    "jupyter": {
     "source_hidden": true
    },
    "tags": []
   },
   "outputs": [],
   "source": [
    "# initial phase\n",
    "phase_exp_init = srwlib.array('d', [0]*wfr_exp_init.mesh.nx*wfr_exp_init.mesh.ny) # \"flat\" array to take 2D data\n",
    "srwl.CalcIntFromElecField(phase_exp_init, wfr_exp_init, 0, 4, 3, wfr_exp_init.mesh.eStart, 0, 0) #extracts the phase; must use double precision\n",
    "\n",
    "##Reshaping electric field data from flat to 2D array\n",
    "phase_2d_exp_init = np.array(phase_exp_init).reshape((wfr_exp_init.mesh.nx, wfr_exp_init.mesh.ny), order='C').astype(np.float64)\n",
    "\n",
    "with plt.style.context(('seaborn-poster')):\n",
    "    fig = plt.figure(figsize=(6,3.6))\n",
    "    ax = fig.gca()\n",
    "    plt.pcolormesh(y_exp_init*(1e3), x_exp_init*(1e3), phase_2d_exp_init, cmap=plt.cm.viridis, shading='auto')\n",
    "    plt.colorbar()\n",
    "    ax.set_xlabel(r'Horizontal Position [mm]')\n",
    "    ax.set_ylabel(r'Vertical Position [mm]')\n",
    "    ax.set_title('Phase (initial)')"
   ]
  },
  {
   "cell_type": "markdown",
   "id": "c1dc9966-bcb5-47d4-b5de-cabada3c3d3a",
   "metadata": {},
   "source": [
    "________\n",
    "Create pulse"
   ]
  },
  {
   "cell_type": "code",
   "execution_count": null,
   "id": "eebf38fb-d82d-4464-8d5d-1ed2292fc943",
   "metadata": {
    "jupyter": {
     "source_hidden": true
    },
    "tags": []
   },
   "outputs": [],
   "source": [
    "# create a laser pulse, using the wavefront created above\n",
    "\n",
    "_LASER_PULSE = PKDict(\n",
    "        nslice       = 1,\n",
    "        chirp        = 0,\n",
    "        photon_e_ev  = wfr_exp_init.mesh.eStart,\n",
    "        num_sig_long = 3.,\n",
    "        #dist_waist   = 0, #.002,\n",
    "        tau_fwhm     = 0.1 / const.c / math.sqrt(2.),\n",
    "        pulseE       = 0.001,\n",
    "        sigx_waist   = 0.000186, # 1.0e-3,\n",
    "        sigy_waist   = 0.000186, # 1.0e-3,\n",
    ")\n",
    "\n",
    "# instantiate the laser pulse (this can take a few seconds)\n",
    "in_pulse = PKDict(\n",
    "    **_LASER_PULSE\n",
    "    )"
   ]
  },
  {
   "cell_type": "markdown",
   "id": "0b7669c2-6c91-4c9d-9a3e-a99c242c50e1",
   "metadata": {},
   "source": [
    "_______\n",
    "Initialize crystal"
   ]
  },
  {
   "cell_type": "code",
   "execution_count": null,
   "id": "278d0d2f-f708-4b6f-8e80-d4c8feb35bb4",
   "metadata": {
    "jupyter": {
     "source_hidden": true
    },
    "tags": []
   },
   "outputs": [],
   "source": [
    "# _N_SLICE_DEFAULT = 50\n",
    "# _N0_DEFAULT = 1.75\n",
    "# _N2_DEFAULT = 0.001\n",
    "# _CRYSTAL_DEFAULTS = PKDict(\n",
    "#     n0=[_N0_DEFAULT for _ in range(_N_SLICE_DEFAULT)],\n",
    "#     n2=[_N2_DEFAULT for _ in range(_N_SLICE_DEFAULT)],\n",
    "#     length=0.2,\n",
    "#     l_scale=1,\n",
    "#     nslice=_N_SLICE_DEFAULT,\n",
    "#     slice_index=0,\n",
    "#     A = 9.99988571e-01,\n",
    "#     B = 1.99999238e-01,\n",
    "#     C = -1.14285279e-04,\n",
    "#     D = 9.99988571e-01,\n",
    "#     inversion_n_cells = 64,\n",
    "#     inversion_mesh_extent = 0.01, # [m]\n",
    "#     crystal_alpha   = 120.0,      # [1/m], 1.2 1/cm\n",
    "#     pump_waist      = 0.00164,  # [m]\n",
    "#     pump_wavelength = 532.0e-9, # [m]\n",
    "#     pump_energy     = 0.0211,   # [J], pump laser energy onto the crystal\n",
    "# )\n",
    "\n",
    "num_slices = 1 #5\n",
    "\n",
    "crystal_params = PKDict(\n",
    "        length      = 0.025, # [m]\n",
    "        nslice      = num_slices,\n",
    "        l_scale     = 0.08, #abcd_lct value #0.004, \n",
    "        n0          = [1.00 for _ in range(num_slices)], #[1.76 for _ in range(num_slices)],\n",
    "        n2          = [0.00 for _ in range(num_slices)], #[16.0 for _ in range(num_slices)],\n",
    "        pump_energy = 0.035,    # [J]\n",
    "        #pump_waist  = (0.0012)/2.355,  # [m]\n",
    ")"
   ]
  },
  {
   "cell_type": "markdown",
   "id": "1c3aef28-07f1-4b7b-8007-457fb1846051",
   "metadata": {},
   "source": [
    "_________\n",
    "Propagate through crystal once"
   ]
  },
  {
   "cell_type": "code",
   "execution_count": null,
   "id": "986c00bc-7ea4-49a8-bf3b-32d1b6f320aa",
   "metadata": {
    "jupyter": {
     "source_hidden": true
    },
    "tags": []
   },
   "outputs": [],
   "source": [
    "LP = pulse.LaserPulse(in_pulse)\n",
    "nslices_pulse = len(LP.slice)\n",
    "\n",
    "slice=LP.slice\n",
    "slice[0].wfr = wfr_exp_init\n",
    "slice[0].n_photons_2d = slice[0].calc_init_n_photons() # Need to recalculate number of photons when updating the wavefront\n",
    "n_photons_before = np.copy(slice[0].n_photons_2d.mesh)\n",
    "\n",
    "e_crystal = crystal.Crystal(crystal_params)\n",
    "nslices_crystal = len(e_crystal.slice)\n",
    "\n",
    "print('\\nPropagating ', nslices_pulse, 'laser slices through ', nslices_crystal,' crystal slices')\n",
    "prop_type = 'gain_calc' #'abcd_lct' #'n0n2_lct' #'n0n2_srw' #'gain_calc'\n",
    "LP = e_crystal.propagate(LP, prop_type, 1)\n",
    "\n",
    "wfr_sim_final=LP.slice[0].wfr\n",
    "\n",
    "x_sim_final=np.linspace(wfr_sim_final.mesh.xStart,wfr_sim_final.mesh.xFin,wfr_sim_final.mesh.nx)\n",
    "y_sim_final=np.linspace(wfr_sim_final.mesh.yStart,wfr_sim_final.mesh.yFin,wfr_sim_final.mesh.ny)"
   ]
  },
  {
   "cell_type": "markdown",
   "id": "5c1d6976-4578-4169-b863-12579988ae37",
   "metadata": {},
   "source": [
    "______\n",
    "Plot intensity and phase again"
   ]
  },
  {
   "cell_type": "code",
   "execution_count": null,
   "id": "b0274780-c9a0-4397-ae1c-83882a4606d5",
   "metadata": {
    "jupyter": {
     "source_hidden": true
    },
    "tags": []
   },
   "outputs": [],
   "source": [
    "# transmitted pulse - intensity\n",
    "intensity_sim_final = srwlib.array('f', [0]*wfr_sim_final.mesh.nx*wfr_sim_final.mesh.ny) # \"flat\" array to take 2D intensity data\n",
    "srwl.CalcIntFromElecField(intensity_sim_final, wfr_sim_final, 0, 0, 3, wfr_sim_final.mesh.eStart, 0, 0) #extracts intensity\n",
    "\n",
    "# # Reshaping data from flat to 2D array\n",
    "intens_2d_sim_final = np.array(intensity_sim_final).reshape((wfr_sim_final.mesh.nx, wfr_sim_final.mesh.ny), order='C').astype(np.float64)\n",
    "    \n",
    "with plt.style.context(('seaborn-poster')):\n",
    "    fig = plt.figure(figsize=(6,3.6))\n",
    "    ax = fig.gca()\n",
    "    plt.pcolormesh(y_sim_final*(1e3), x_sim_final*(1e3), intens_2d_sim_final, cmap=plt.cm.viridis, shading='auto') #viridis\n",
    "    plt.colorbar()\n",
    "    ax.set_ylabel(r'Vertical Position [mm]')\n",
    "    ax.set_xlabel(r'Horizontal Position [mm]')\n",
    "    ax.set_title('Intensity (simulation post-prop)')\n",
    "\n",
    "x_sim_plot = x_sim_final[np.logical_and(x_sim_final <= x_max_cut,x_sim_final >= x_min_cut)]\n",
    "y_sim_plot = y_sim_final[np.logical_and(y_sim_final <= y_max_cut,y_sim_final >= y_min_cut)]\n",
    "\n",
    "intens_2d_sim_final_cut = intens_2d_sim_final[np.logical_and(x_sim_final <= x_max_cut,x_sim_final >= x_min_cut),:]\n",
    "intens_2d_sim_final_cut = intens_2d_sim_final_cut[:,np.logical_and(y_sim_final <= y_max_cut,y_sim_final >= y_min_cut)]\n",
    "   \n",
    "with plt.style.context(('seaborn-poster')):\n",
    "    fig = plt.figure(figsize=(6,3.6))\n",
    "    ax = fig.gca()\n",
    "    plt.pcolormesh(y_sim_plot*(1e3), x_sim_plot*(1e3), intens_2d_sim_final_cut, cmap=plt.cm.viridis, shading='auto') #viridis\n",
    "    plt.colorbar()\n",
    "    ax.set_ylabel(r'Vertical Position [mm]')\n",
    "    ax.set_xlabel(r'Horizontal Position [mm]')\n",
    "    ax.set_title('Intensity (simulation post-prop)')"
   ]
  },
  {
   "cell_type": "code",
   "execution_count": null,
   "id": "7c1eae63-d449-42df-8cb7-9d935b618267",
   "metadata": {
    "jupyter": {
     "source_hidden": true
    },
    "tags": []
   },
   "outputs": [],
   "source": [
    "#Plot difference in intensities\n",
    "\n",
    "diff_intensity_2D_sim = intens_2d_sim_final - intensity_2D_exp_init\n",
    "\n",
    "with plt.style.context(('seaborn-poster')):\n",
    "    fig = plt.figure(figsize=(6,3.6))\n",
    "    ax = fig.gca()\n",
    "    plt.pcolormesh(y_sim_final*(1e3), x_sim_final*(1e3), diff_intensity_2D_sim, cmap=plt.cm.viridis, shading='auto')\n",
    "    plt.colorbar()\n",
    "    ax.set_ylabel(r'Vertical Position [mm]')\n",
    "    ax.set_xlabel(r'Horizontal Position [mm]')\n",
    "    ax.set_title('Intensity (difference)')"
   ]
  },
  {
   "cell_type": "code",
   "execution_count": null,
   "id": "0cb248a5-5838-41f9-8b7f-8905b21fa5b6",
   "metadata": {
    "tags": []
   },
   "outputs": [],
   "source": [
    "print(np.max(intens_2d_sim_final)-np.max(intensity_2D_exp_init))"
   ]
  },
  {
   "cell_type": "code",
   "execution_count": null,
   "id": "d10eab58-0c5d-40f4-bdee-8901875674a6",
   "metadata": {
    "tags": []
   },
   "outputs": [],
   "source": [
    "print(np.sum(np.sum(LP.slice[0].n_photons_2d.mesh)) -np.sum(np.sum(n_photons_before)))\n",
    "print(np.sum(np.sum(n_photons_before)))"
   ]
  },
  {
   "cell_type": "code",
   "execution_count": null,
   "id": "cb07251f-ded6-4fe9-91ff-0e3a5e2ec2f8",
   "metadata": {
    "jupyter": {
     "source_hidden": true
    },
    "tags": []
   },
   "outputs": [],
   "source": [
    "# transmitted pulse - phase\n",
    "phase_sim_final = srwlib.array('d', [0]*wfr_sim_final.mesh.nx*wfr_sim_final.mesh.ny) # \"flat\" array to take 2D phase data\n",
    "srwl.CalcIntFromElecField(phase_sim_final, wfr_sim_final, 0, 4, 3, wfr_sim_final.mesh.eStart, 0, 0) #extracts the phase; must use double precision\n",
    "\n",
    "# Reshaping data from flat to 2D array\n",
    "phase_2d_sim_final = np.array(phase_sim_final).reshape((wfr_sim_final.mesh.nx, wfr_sim_final.mesh.ny), order='C').astype(np.float64)\n",
    "\n",
    "with plt.style.context(('seaborn-poster')):\n",
    "    fig = plt.figure(figsize=(6,3.6))\n",
    "    ax = fig.gca()\n",
    "    plt.pcolormesh(y_sim_final*(1e3), x_sim_final*(1e3), np.unwrap(phase_2d_sim_final), cmap=plt.cm.viridis, shading='auto') #np.unwrap(phase_2d_sim_final)\n",
    "    plt.colorbar()\n",
    "    ax.set_ylabel(r'Vertical Position [mm]')#[mm]')\n",
    "    ax.set_xlabel(r'Horizontal Position [mm]')#[mm]')\n",
    "    ax.set_title('Phase (simulation post-prop)')\n",
    "\n",
    "phase_2d_sim_final_cut = phase_2d_sim_final[np.logical_and(x_sim_final <= x_max_cut,x_sim_final >= x_min_cut),:]\n",
    "phase_2d_sim_final_cut = phase_2d_sim_final_cut[:,np.logical_and(y_sim_final <= y_max_cut,y_sim_final >= y_min_cut)]\n",
    "   \n",
    "with plt.style.context(('seaborn-poster')):\n",
    "    fig = plt.figure(figsize=(6,3.6))\n",
    "    ax = fig.gca()\n",
    "    plt.pcolormesh(y_sim_plot*(1e3), x_sim_plot*(1e3), np.unwrap(phase_2d_sim_final_cut), cmap=plt.cm.viridis, shading='auto') #viridis\n",
    "    plt.colorbar()\n",
    "    ax.set_ylabel(r'Vertical Position [mm]')\n",
    "    ax.set_xlabel(r'Horizontal Position [mm]')\n",
    "    ax.set_title('Phase (simulation post-prop)')\n"
   ]
  },
  {
   "cell_type": "markdown",
   "id": "7814fca0-199b-46f8-93f2-c052e3c2ca40",
   "metadata": {},
   "source": [
    "________\n",
    "Plots from ccd/wfs peak timing data"
   ]
  },
  {
   "cell_type": "code",
   "execution_count": null,
   "id": "1de7b661-7371-423d-9673-75bf276cb691",
   "metadata": {
    "jupyter": {
     "source_hidden": true
    },
    "tags": []
   },
   "outputs": [],
   "source": [
    "wfr_exp_final = extract_data('wfs_peak_timing.txt', 'ccd_peak_timing.txt') # Currently no gaussian filter... uncomment if you want\n",
    "\n",
    "x_exp_final=np.linspace(wfr_exp_final.mesh.xStart,wfr_exp_final.mesh.xFin,wfr_exp_final.mesh.nx)\n",
    "y_exp_final=np.linspace(wfr_exp_final.mesh.yStart,wfr_exp_final.mesh.yFin,wfr_exp_final.mesh.ny)"
   ]
  },
  {
   "cell_type": "code",
   "execution_count": null,
   "id": "1c2e1939-7fd9-466c-995c-0da859cf6703",
   "metadata": {
    "jupyter": {
     "source_hidden": true
    },
    "tags": []
   },
   "outputs": [],
   "source": [
    "# Extract intensity from experimental post-prop wavefront\n",
    "intensity_exp_final = srwlib.array('f', [0]*wfr_exp_final.mesh.nx*wfr_exp_final.mesh.ny) # \"flat\" array to take 2D data\n",
    "srwl.CalcIntFromElecField(intensity_exp_final, wfr_exp_final, 6, 0, 3, wfr_exp_final.mesh.eStart, 0, 0) #extracts intensity\n",
    "\n",
    "##Reshaping electric field data from flat to 2D array\n",
    "intensity_2D_exp_final = np.array(intensity_exp_final).reshape((wfr_exp_final.mesh.nx, wfr_exp_final.mesh.ny), order='C').astype(np.float64)\n",
    "\n",
    "with plt.style.context(('seaborn-poster')):\n",
    "    fig = plt.figure(figsize=(6,3.6))\n",
    "    ax = fig.gca()\n",
    "    plt.pcolormesh(y_exp_final*(1e3), x_exp_final*(1e3), intensity_2D_exp_final, cmap=plt.cm.viridis, shading='auto')\n",
    "    plt.colorbar()\n",
    "    ax.set_ylabel(r'Vertical Position [mm]')\n",
    "    ax.set_xlabel(r'Horizontal Position [mm]')\n",
    "    ax.set_title('Intensity (experimental peak timing)')"
   ]
  },
  {
   "cell_type": "code",
   "execution_count": null,
   "id": "02d160f2-e092-4fe7-89c2-edef537ea3e8",
   "metadata": {
    "jupyter": {
     "source_hidden": true
    },
    "tags": []
   },
   "outputs": [],
   "source": [
    "# Extract phase from experimental post-prop wavefront\n",
    "phase_exp_final = srwlib.array('d', [0]*wfr_exp_final.mesh.nx*wfr_exp_final.mesh.ny) # \"flat\" array to take 2D data\n",
    "srwl.CalcIntFromElecField(phase_exp_final, wfr_exp_final, 0, 4, 3, wfr_exp_final.mesh.eStart, 0, 0) #extracts the phase; must use double precision\n",
    "\n",
    "# Reshaping phase data from flat to 2D array\n",
    "phase_2d_exp_final = np.array(phase_exp_final).reshape((wfr_exp_final.mesh.nx, wfr_exp_final.mesh.ny), order='C').astype(np.float64)\n",
    "\n",
    "with plt.style.context(('seaborn-poster')):\n",
    "    fig = plt.figure(figsize=(6,3.6))\n",
    "    ax = fig.gca()\n",
    "    plt.pcolormesh(y_exp_final*(1e3), x_exp_final*(1e3), phase_2d_exp_final, cmap=plt.cm.viridis, shading='auto')\n",
    "    plt.colorbar()\n",
    "    ax.set_xlabel(r'Horizontal Position [mm]')\n",
    "    ax.set_ylabel(r'Vertical Position [mm]')\n",
    "    ax.set_title('Phase (experimental post-prop)')"
   ]
  },
  {
   "cell_type": "markdown",
   "id": "216d04fb-bda0-446f-8055-29291bf11fd1",
   "metadata": {},
   "source": [
    "________\n",
    "With gain on, n1 = 1, n2 = 0, should see gain in peak intensity (gain) that matches the difference between two maximum intensities for peak and off peak timing"
   ]
  },
  {
   "cell_type": "code",
   "execution_count": null,
   "id": "8f25f213-6463-4b96-9f15-00f0b84ffb0c",
   "metadata": {
    "jupyter": {
     "source_hidden": true
    },
    "tags": []
   },
   "outputs": [],
   "source": [
    "# _op = _off_peak\n",
    "wfr_exp_final_op = extract_data('wfs_off_peak_timing.txt', 'ccd_off_peak_timing.txt') # Currently no gaussian filter... uncomment if you want\n",
    "\n",
    "x_exp_final_op=np.linspace(wfr_exp_final_op.mesh.xStart,wfr_exp_final_op.mesh.xFin,wfr_exp_final_op.mesh.nx)\n",
    "y_exp_final_op=np.linspace(wfr_exp_final_op.mesh.yStart,wfr_exp_final_op.mesh.yFin,wfr_exp_final_op.mesh.ny)"
   ]
  },
  {
   "cell_type": "code",
   "execution_count": null,
   "id": "353d2c02-acdf-4aa6-b1ff-490236ba7798",
   "metadata": {
    "jupyter": {
     "source_hidden": true
    },
    "tags": []
   },
   "outputs": [],
   "source": [
    "# Plot off-peak timing intensity\n",
    "\n",
    "# Extract intensity from experimental post-prop wavefront\n",
    "intensity_exp_final_op = srwlib.array('f', [0]*wfr_exp_final_op.mesh.nx*wfr_exp_final_op.mesh.ny) # \"flat\" array to take 2D data\n",
    "srwl.CalcIntFromElecField(intensity_exp_final_op, wfr_exp_final_op, 6, 0, 3, wfr_exp_final_op.mesh.eStart, 0, 0) #extracts intensity\n",
    "\n",
    "##Reshaping electric field data from flat to 2D array\n",
    "intensity_2D_exp_final_op = np.array(intensity_exp_final_op).reshape((wfr_exp_final_op.mesh.nx, wfr_exp_final_op.mesh.ny), order='C').astype(np.float64)\n",
    "\n",
    "with plt.style.context(('seaborn-poster')):\n",
    "    fig = plt.figure(figsize=(6,3.6))\n",
    "    ax = fig.gca()\n",
    "    plt.pcolormesh(y_exp_final_op*(1e3), x_exp_final_op*(1e3), intensity_2D_exp_final_op, cmap=plt.cm.viridis, shading='auto')\n",
    "    plt.colorbar()\n",
    "    ax.set_ylabel(r'Vertical Position [mm]')\n",
    "    ax.set_xlabel(r'Horizontal Position [mm]')\n",
    "    ax.set_title('Intensity (experimental off-peak timing)')"
   ]
  },
  {
   "cell_type": "code",
   "execution_count": null,
   "id": "48e063a0-87bc-4ad5-9c78-9da1fa3d1263",
   "metadata": {
    "jupyter": {
     "source_hidden": true
    },
    "tags": []
   },
   "outputs": [],
   "source": [
    "# Plot difference in intensities\n",
    "\n",
    "diff_intensity_2D_exp_final = intensity_2D_exp_final - intensity_2D_exp_final_op\n",
    "\n",
    "with plt.style.context(('seaborn-poster')):\n",
    "    fig = plt.figure(figsize=(6,3.6))\n",
    "    ax = fig.gca()\n",
    "    plt.pcolormesh(y_exp_final*(1e3), x_exp_final*(1e3), diff_intensity_2D_exp_final, cmap=plt.cm.viridis, shading='auto')\n",
    "    plt.colorbar()\n",
    "    ax.set_ylabel(r'Vertical Position [mm]')\n",
    "    ax.set_xlabel(r'Horizontal Position [mm]')\n",
    "    ax.set_title('Intensity (difference)')"
   ]
  },
  {
   "cell_type": "code",
   "execution_count": null,
   "id": "f1355e96-5e48-457b-882a-2cbe07bb5703",
   "metadata": {
    "tags": []
   },
   "outputs": [],
   "source": [
    "print(np.max(intensity_2D_exp_final) - np.max(intensity_2D_exp_final_op))"
   ]
  },
  {
   "cell_type": "code",
   "execution_count": null,
   "id": "9218be19-061d-47db-8e71-4cfd3352f761",
   "metadata": {
    "tags": []
   },
   "outputs": [],
   "source": [
    "LP_peak = pulse.LaserPulse(in_pulse)\n",
    "LP_peak.slice[0].wfr = wfr_exp_init\n",
    "\n",
    "LP_off_peak = pulse.LaserPulse(in_pulse)\n",
    "LP_off_peak.slice[0].wfr = wfr_exp_final_op\n",
    "\n",
    "print(np.sum(np.sum(LP_peak.slice[0].calc_init_n_photons().mesh)) -np.sum(np.sum(LP_off_peak.slice[0].calc_init_n_photons().mesh)))"
   ]
  }
 ],
 "metadata": {
  "kernelspec": {
   "display_name": "Python 3",
   "language": "python",
   "name": "py3"
  },
  "language_info": {
   "codemirror_mode": {
    "name": "ipython",
    "version": 3
   },
   "file_extension": ".py",
   "mimetype": "text/x-python",
   "name": "python",
   "nbconvert_exporter": "python",
   "pygments_lexer": "ipython3",
   "version": "3.7.2"
  }
 },
 "nbformat": 4,
 "nbformat_minor": 5
}
