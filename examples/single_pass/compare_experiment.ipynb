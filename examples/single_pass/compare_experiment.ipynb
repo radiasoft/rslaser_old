{
 "cells": [
  {
   "cell_type": "markdown",
   "id": "cc2df31f-f55f-4d97-9a09-433afe96b914",
   "metadata": {},
   "source": [
    "Compare simulation with experiment"
   ]
  },
  {
   "cell_type": "markdown",
   "id": "de0b9b63-16c2-4fe5-affb-5bc90611936b",
   "metadata": {},
   "source": [
    "***\n",
    "#### Imports"
   ]
  },
  {
   "cell_type": "code",
   "execution_count": null,
   "id": "9868b20a-75eb-4a2a-82f3-c03317ee6a22",
   "metadata": {
    "jupyter": {
     "source_hidden": true
    },
    "tags": []
   },
   "outputs": [],
   "source": [
    "import array\n",
    "import math\n",
    "import numpy as np\n",
    "from pykern import pkcli\n",
    "from pykern.pkcollections import PKDict\n",
    "import os\n",
    "\n",
    "# The rslaser library may not be installed, so a check is required.\n",
    "try:\n",
    "    import rslaser\n",
    "except:\n",
    "    # Developers should use 'pip install -e .' from the command line.\n",
    "    # Users can install directly from GitHub --\n",
    "    !{sys.executable} -m pip install git+https://github.com/radiasoft/rslaser.git\n",
    "    import rslaser\n",
    "\n",
    "from rslaser.pulse import pulse\n",
    "from rslaser.optics import element\n",
    "from rslaser.optics import drift\n",
    "from rslaser.optics import crystal\n",
    "from rslaser.utils import srwl_uti_data as srwutil\n",
    "from rsmath import lct as rslct\n",
    "\n",
    "import scipy.constants as const\n",
    "from scipy.ndimage import gaussian_filter\n",
    "from scipy import interpolate\n",
    "from scipy import special\n",
    "\n",
    "import srwlib\n",
    "from srwlib import srwl\n",
    "\n",
    "# 2D plotting\n",
    "import matplotlib as mpl\n",
    "import matplotlib.pyplot as plt\n",
    "from matplotlib import cm\n",
    "\n",
    "# reset the notebook style\n",
    "mpl.rcParams.update(mpl.rcParamsDefault)\n",
    "%matplotlib inline"
   ]
  },
  {
   "cell_type": "markdown",
   "id": "7bdba355-5be7-4d28-963b-ddea3828eea7",
   "metadata": {},
   "source": [
    "#### File Data"
   ]
  },
  {
   "cell_type": "code",
   "execution_count": null,
   "id": "88d754d6-1bfc-43b7-8794-0160c73d5b58",
   "metadata": {
    "jupyter": {
     "source_hidden": true
    },
    "tags": []
   },
   "outputs": [],
   "source": [
    "package_data_dir = rslaser.pkg_resources.resource_filename ('rslaser', 'package_data')\n",
    "\n",
    "files = PKDict(\n",
    "    meta = os.path.join(package_data_dir, 'wfs_meta.dat'),\n",
    "    ccd = os.path.join(package_data_dir, 'ccd_pump_off.txt'), #_off_peak_timing.txt'), #_pump_off.txt'),\n",
    "    wfs = os.path.join(package_data_dir, 'wfs_pump_off.txt'), #_off_peak_timing.txt'), #_pump_off.txt')\n",
    ")"
   ]
  },
  {
   "cell_type": "markdown",
   "id": "b89a89c2-a4b6-4881-b26d-dbe210aeccfd",
   "metadata": {},
   "source": [
    "### Pulse Init"
   ]
  },
  {
   "cell_type": "code",
   "execution_count": null,
   "id": "8df93189-3868-4572-845a-63e8fcb55d6b",
   "metadata": {
    "jupyter": {
     "source_hidden": true
    },
    "tags": []
   },
   "outputs": [],
   "source": [
    "wp = 1.64e-3#1.2e-3 /1.18#1.64e-3\n",
    "\n",
    "params = PKDict(\n",
    "    photon_e_ev = 1.5498, # Photon energy [eV], calculated from 800nm wavelength\n",
    "    nslice      = 10,\n",
    "    pulseE      = 1.0e-6,\n",
    "    tau_fwhm    = 300.0e-12 / math.sqrt(2.),\n",
    "    sigx_waist  = wp,\n",
    "    sigy_waist  = wp,\n",
    ")\n",
    "\n",
    "thisPulse = pulse.LaserPulse(params, files)"
   ]
  },
  {
   "cell_type": "code",
   "execution_count": null,
   "id": "683ba4a2-909b-4921-9ace-6eb9bd5175ae",
   "metadata": {
    "jupyter": {
     "source_hidden": true
    },
    "tags": []
   },
   "outputs": [],
   "source": [
    "# Plot initial wavefront\n",
    "wfr_exp_init = thisPulse.slice[0].wfr\n",
    "\n",
    "x_exp_init=np.linspace(wfr_exp_init.mesh.xStart,wfr_exp_init.mesh.xFin,wfr_exp_init.mesh.nx)\n",
    "y_exp_init=np.linspace(wfr_exp_init.mesh.yStart,wfr_exp_init.mesh.yFin,wfr_exp_init.mesh.ny)\n",
    "\n",
    "e_total = thisPulse.extract_total_2d_elec_fields()\n",
    "intensity_2D_exp_init = 0.5 *const.c *const.epsilon_0 *(e_total.re**2.0 + e_total.im**2.0)\n",
    "\n",
    "fig = plt.figure()#figsize=(6,3.6))\n",
    "ax = fig.gca()\n",
    "plt.pcolormesh(y_exp_init*(1e3), x_exp_init*(1e3), intensity_2D_exp_init, cmap=plt.cm.viridis, shading='auto')\n",
    "plt.colorbar()\n",
    "ax.set_ylabel(r'Vertical Position [mm]')\n",
    "ax.set_xlabel(r'Horizontal Position [mm]')\n",
    "ax.set_title('Intensity (pump_off)')"
   ]
  },
  {
   "cell_type": "code",
   "execution_count": null,
   "id": "2f947da9-97d0-40bb-aca3-22e734a129ce",
   "metadata": {
    "jupyter": {
     "source_hidden": true
    },
    "tags": []
   },
   "outputs": [],
   "source": [
    "# initial phase\n",
    "phase_exp_init = srwlib.array('d', [0]*wfr_exp_init.mesh.nx*wfr_exp_init.mesh.ny) # \"flat\" array to take 2D data\n",
    "srwl.CalcIntFromElecField(phase_exp_init, wfr_exp_init, 0, 4, 3, wfr_exp_init.mesh.eStart, 0, 0) #extracts the phase; must use double precision\n",
    "\n",
    "# Reshaping data from flat to 2D array\n",
    "phase_2d_exp_init = np.unwrap(np.unwrap(np.array(phase_exp_init).reshape((wfr_exp_init.mesh.nx, wfr_exp_init.mesh.ny), order='C').astype(np.float64),axis=0),axis=1)\n",
    "\n",
    "fig = plt.figure()\n",
    "plt.pcolormesh(y_exp_init*(1e3), x_exp_init*(1e3), phase_2d_exp_init, cmap=plt.cm.viridis, shading='auto')\n",
    "plt.colorbar()\n",
    "plt.xlabel(r'Horizontal Position [mm]')\n",
    "plt.ylabel(r'Vertical Position [mm]')\n",
    "plt.title('Phase (pump off)')"
   ]
  },
  {
   "cell_type": "markdown",
   "id": "0b7669c2-6c91-4c9d-9a3e-a99c242c50e1",
   "metadata": {},
   "source": [
    "***\n",
    "### Crystal Init"
   ]
  },
  {
   "cell_type": "code",
   "execution_count": null,
   "id": "278d0d2f-f708-4b6f-8e80-d4c8feb35bb4",
   "metadata": {
    "jupyter": {
     "source_hidden": true
    },
    "tags": []
   },
   "outputs": [],
   "source": [
    "z       = np.array([ 0.0,  0.5,  1.0, 1.5, 2.0, 2.5])/100.0\n",
    "n2_plot = np.array([29.0, 19.0, 11.5, 6.7, 4.0, 2.5])\n",
    "plot_fit = interpolate.splrep(z, n2_plot)\n",
    "\n",
    "n2_plot2 = np.array([30.5, 18.3, 10.4, 5.9, 3.3, 1.9])\n",
    "plot2_fit = interpolate.splrep(z, n2_plot2)\n",
    "\n",
    "num_slices = 10\n",
    "n0 = 1.76\n",
    "n2 = 16.0\n",
    "L_cryst = 0.025\n",
    "# gamma = np.sqrt(n2/n0)\n",
    "\n",
    "new_z = (L_cryst /num_slices) *(np.arange(num_slices)+0.5)\n",
    "print(new_z[0])\n",
    "\n",
    "crystal_params = PKDict(\n",
    "    length      = L_cryst, # [m]\n",
    "    nslice      = num_slices,\n",
    "    # l_scale     = 0.001,\n",
    "    n0          = [n0 for _ in range(num_slices)],\n",
    "    n2          = interpolate.splev(new_z, plot2_fit).tolist(), #[n2 for _ in range(num_slices)],#\n",
    "    pump_energy = 0.035,  # [J]\n",
    "    pump_waist  = wp, # [m]\n",
    "    # A           = np.cos(gamma*L_cryst),\n",
    "    # B           = (1/gamma)*np.sin(gamma*L_cryst),\n",
    "    # C           = -gamma*np.sin(gamma*L_cryst),\n",
    "    # D           = np.cos(gamma*L_cryst)\n",
    ")\n",
    "\n",
    "# test_z = np.linspace(0.0,2.5,100)/100.0\n",
    "# fig = plt.figure()\n",
    "# plt.plot(test_z*(1e2), interpolate.splev(test_z, plot_fit), 'k', label='Old Fit')\n",
    "# plt.plot(test_z*(1e2), interpolate.splev(test_z, plot2_fit), 'r', label='New Fit')\n",
    "# plt.legend()\n",
    "# plt.ylim(0,40)\n",
    "# plt.xlim(0,2.5)\n",
    "# plt.ylabel(r'n2 [1/m$^2$]')#[mm]')\n",
    "# plt.xlabel(r'z [cm]')#[mm]')\n",
    "# plt.title('Simulation n2 Variation')\n",
    "\n",
    "e_crystal = crystal.Crystal(crystal_params)"
   ]
  },
  {
   "cell_type": "markdown",
   "id": "4df214ff-6848-4a7b-9c69-8cb76eba1c73",
   "metadata": {},
   "source": [
    "***\n",
    "## Check scale factor and resampling"
   ]
  },
  {
   "cell_type": "code",
   "execution_count": null,
   "id": "8ff88606-3294-4346-b78a-12451f96c1dc",
   "metadata": {
    "jupyter": {
     "source_hidden": true
    },
    "tags": []
   },
   "outputs": [],
   "source": [
    "# # photon_e_ev = laser_pulse.photon_e_ev\n",
    "\n",
    "# ##Convert energy to wavelength\n",
    "# hc_ev_um = 1.23984198   # hc [eV*um]\n",
    "# phLambda = hc_ev_um / params.photon_e_ev * 1e-6 # wavelength corresponding to photon_e_ev in meters\n",
    "# print(\"Wavelength corresponding to %g keV: %g microns\" %(params.photon_e_ev * 1e-3, phLambda / 1e-6))\n",
    "\n",
    "# # rescale ABCD matrix with wavelength and scale factor for use in LCT algorithm\n",
    "# A = 0.99765495\n",
    "# B = 1.41975385 * phLambda / (crystal_params.l_scale**2)\n",
    "# C = -0.0023775 / phLambda * (crystal_params.l_scale**2)\n",
    "# D = 0.99896716\n",
    "# abcd_mat_cryst = np.array([[ A,  B  ],\n",
    "#             [ C, D ]])\n",
    "# abcd_decomp = rslct.lct_decomposition(abcd_mat_cryst)\n",
    "# print(abcd_decomp)"
   ]
  },
  {
   "cell_type": "code",
   "execution_count": null,
   "id": "2a570cf9-b159-4432-8608-59ba4c63da28",
   "metadata": {
    "jupyter": {
     "source_hidden": true
    },
    "tags": []
   },
   "outputs": [],
   "source": [
    "# prop_mesh_den_pred = abcd_decomp[2][1] * abcd_decomp[5][1] * np.shape(phase_2d_exp_init)[0]\n",
    "# print('predicted propagated mesh density: %g, %g' %(prop_mesh_den_pred, prop_mesh_den_pred))"
   ]
  },
  {
   "cell_type": "markdown",
   "id": "1c3aef28-07f1-4b7b-8007-457fb1846051",
   "metadata": {},
   "source": [
    "***\n",
    "## Propagate through crystal once\n",
    "\n",
    "Requires two separate propagations (one at n2=max, one at n2=0) that are then combined\n",
    "\n",
    "Phase requires np.unwrap to be called once for each axis"
   ]
  },
  {
   "cell_type": "code",
   "execution_count": null,
   "id": "986c00bc-7ea4-49a8-bf3b-32d1b6f320aa",
   "metadata": {
    "tags": []
   },
   "outputs": [],
   "source": [
    "prop_type = 'n0n2_srw' #'gain_calc' #'abcd_lct' #'n0n2_lct' #'n0n2_srw'\n",
    "gain = 1\n",
    "radial_n2 = 1\n",
    "\n",
    "LP = pulse.LaserPulse(params, files)\n",
    "nslices_pulse = len(LP.slice)\n",
    "e_crystal = crystal.Crystal(crystal_params)\n",
    "nslices_crystal = len(e_crystal.slice)\n",
    "\n",
    "n_photons_before = 0\n",
    "for laser_index_i in np.arange(LP.nslice):\n",
    "        n_photons_before += np.sum(LP.slice[laser_index_i].n_photons_2d.mesh)\n",
    "\n",
    "print('\\nPropagating ', nslices_pulse, 'laser slices through ', nslices_crystal,' crystal slices')\n",
    "LP = e_crystal.propagate(LP, prop_type, gain, radial_n2)"
   ]
  },
  {
   "cell_type": "code",
   "execution_count": null,
   "id": "e9ea0fc9-42f6-4524-8bba-9da2f8916862",
   "metadata": {
    "tags": []
   },
   "outputs": [],
   "source": [
    "# instantiate a drift\n",
    "L_drift = 0.50  # [m]\n",
    "e_drift = drift.Drift(L_drift)\n",
    "LP = e_drift.propagate(LP, 'default')\n",
    "\n",
    "wfr_sim_final=LP.slice[0].wfr\n",
    "x_sim_final=np.linspace(wfr_sim_final.mesh.xStart,wfr_sim_final.mesh.xFin,wfr_sim_final.mesh.nx)\n",
    "y_sim_final=np.linspace(wfr_sim_final.mesh.yStart,wfr_sim_final.mesh.yFin,wfr_sim_final.mesh.ny)\n",
    "\n",
    "# transmitted pulse - phase\n",
    "phase_sim_final = srwlib.array('d', [0]*wfr_sim_final.mesh.nx*wfr_sim_final.mesh.ny) # \"flat\" array to take 2D phase data\n",
    "srwl.CalcIntFromElecField(phase_sim_final, wfr_sim_final, 0, 4, 3, wfr_sim_final.mesh.eStart, 0, 0) #extracts the phase; must use double precision\n",
    "\n",
    "# Reshaping data from flat to 2D array\n",
    "phase_2d_sim_final = np.unwrap(np.unwrap(np.array(phase_sim_final).reshape((wfr_sim_final.mesh.nx, wfr_sim_final.mesh.ny), order='C').astype(np.float64),axis=0),axis=1)\n",
    "\n",
    "fig = plt.figure()\n",
    "plt.pcolormesh(y_sim_final*(1e3), x_sim_final*(1e3), phase_2d_sim_final, cmap=plt.cm.viridis, shading='auto') #np.unwrap(phase_2d_sim_final)\n",
    "plt.colorbar()\n",
    "plt.ylabel(r'Vertical Position [mm]')#[mm]')\n",
    "plt.xlabel(r'Horizontal Position [mm]')#[mm]')\n",
    "plt.title('Phase after Drift (no gain)')"
   ]
  },
  {
   "cell_type": "markdown",
   "id": "5c1d6976-4578-4169-b863-12579988ae37",
   "metadata": {},
   "source": [
    "***\n",
    "#### Post Propagation Plots"
   ]
  },
  {
   "cell_type": "code",
   "execution_count": null,
   "id": "b0274780-c9a0-4397-ae1c-83882a4606d5",
   "metadata": {
    "jupyter": {
     "source_hidden": true
    },
    "tags": []
   },
   "outputs": [],
   "source": [
    "e_total = LP.extract_total_2d_elec_fields()\n",
    "intens_2d_sim_final = 0.5 *const.c *const.epsilon_0 *(e_total.re**2.0 + e_total.im**2.0)\n",
    "    \n",
    "# with plt.style.context(('seaborn-poster')):\n",
    "fig = plt.figure()#figsize=(10,6))#(6,3.6))\n",
    "ax = fig.gca()\n",
    "plt.pcolormesh(y_sim_final*(1e3), x_sim_final*(1e3), intens_2d_sim_final, cmap=plt.cm.viridis, shading='auto') #viridis\n",
    "plt.colorbar()\n",
    "ax.set_ylabel(r'Vertical Position [mm]')\n",
    "ax.set_xlabel(r'Horizontal Position [mm]')\n",
    "ax.set_title('Intensity (propagation with gain)')#'E$_{im}$ (radial n2, no gain)')#"
   ]
  },
  {
   "cell_type": "code",
   "execution_count": null,
   "id": "cb07251f-ded6-4fe9-91ff-0e3a5e2ec2f8",
   "metadata": {
    "jupyter": {
     "source_hidden": true
    },
    "tags": []
   },
   "outputs": [],
   "source": [
    "# # transmitted pulse - phase\n",
    "# phase_sim_final = srwlib.array('d', [0]*wfr_sim_final.mesh.nx*wfr_sim_final.mesh.ny) # \"flat\" array to take 2D phase data\n",
    "# srwl.CalcIntFromElecField(phase_sim_final, wfr_sim_final, 0, 4, 3, wfr_sim_final.mesh.eStart, 0, 0) #extracts the phase; must use double precision\n",
    "\n",
    "# # Reshaping data from flat to 2D array\n",
    "# phase_2d_sim_final = np.array(phase_sim_final).reshape((wfr_sim_final.mesh.nx, wfr_sim_final.mesh.ny), order='C').astype(np.float64)\n",
    "\n",
    "# with plt.style.context(('seaborn-poster')):\n",
    "#     fig = plt.figure(figsize=(10,6))#(6,3.6))\n",
    "#     ax = fig.gca()\n",
    "#     plt.pcolormesh(y_sim_final*(1e3), x_sim_final*(1e3), phase_2d_sim_final+1.93, cmap=plt.cm.viridis, shading='auto') #np.unwrap(phase_2d_sim_final)\n",
    "#     plt.colorbar()\n",
    "#     # plt.xlim(0,2)\n",
    "#     # plt.ylim(0,2)\n",
    "#     ax.set_ylabel(r'Vertical Position [mm]')#[mm]')\n",
    "#     ax.set_xlabel(r'Horizontal Position [mm]')#[mm]')\n",
    "#     ax.set_title('Phase (radial n2, no gain) +1.93')"
   ]
  },
  {
   "cell_type": "markdown",
   "id": "55280fbe-0255-48e6-a7cb-3cdf46090605",
   "metadata": {},
   "source": [
    "***\n",
    "## Compare meshes"
   ]
  },
  {
   "cell_type": "code",
   "execution_count": null,
   "id": "1b65780d-9b49-413e-a870-2b820e5fbfdf",
   "metadata": {
    "jupyter": {
     "source_hidden": true
    },
    "tags": []
   },
   "outputs": [],
   "source": [
    "# # compare initial and final phase mesh density and range\n",
    "# print('Phase mesh analysis:')\n",
    "# print('initial mesh shape: %s , %s' %(np.shape(phase_2d_exp_init)[0], np.shape(phase_2d_exp_init)[1]))\n",
    "# print('initial horizontal range: %g [mm]' %(np.max(x_exp_init)*(1e3) - np.min(x_exp_init)*(1e3)))\n",
    "# print('initial vertical range: %g [mm]' %(np.max(y_exp_init)*(1e3) - np.min(y_exp_init)*(1e3)))\n",
    "# print('final phase mesh shape: %s, %s' %(np.shape(phase_2d_sim_final)[0], np.shape(phase_2d_sim_final)[1]))\n",
    "# print('final horizontal range: %g [mm]' %(np.max(x_sim_final)*(1e3) - np.min(x_sim_final)*(1e3)))\n",
    "# print('final vertical range: %g [mm]' %(np.max(y_sim_final)*(1e3) - np.min(y_sim_final)*(1e3)))"
   ]
  },
  {
   "cell_type": "markdown",
   "id": "5ac00541-a7b7-49f5-9233-7b2574594d7d",
   "metadata": {},
   "source": [
    "# Plot of Intensity Gain"
   ]
  },
  {
   "cell_type": "code",
   "execution_count": null,
   "id": "7c1eae63-d449-42df-8cb7-9d935b618267",
   "metadata": {
    "jupyter": {
     "source_hidden": true
    },
    "tags": []
   },
   "outputs": [],
   "source": [
    "# Plot difference in intensities\n",
    "\n",
    "diff_intensity_2D_sim = intens_2d_sim_final - intensity_2D_exp_init\n",
    "\n",
    "# with plt.style.context(('seaborn-poster')):\n",
    "fig = plt.figure()#figsize=(10,6))\n",
    "ax = fig.gca()\n",
    "plt.pcolormesh(y_sim_final*(1e3), x_sim_final*(1e3), diff_intensity_2D_sim, cmap=plt.cm.viridis, shading='auto')\n",
    "plt.colorbar()\n",
    "ax.set_ylabel(r'Vertical Position [mm]')\n",
    "ax.set_xlabel(r'Horizontal Position [mm]')\n",
    "ax.set_title('Intensity (simulation gain minus pump-off data)')"
   ]
  },
  {
   "cell_type": "code",
   "execution_count": null,
   "id": "0cb248a5-5838-41f9-8b7f-8905b21fa5b6",
   "metadata": {
    "jupyter": {
     "source_hidden": true
    },
    "tags": []
   },
   "outputs": [],
   "source": [
    "# print(np.max(intens_2d_sim_final)-np.max(intensity_2D_exp_init))"
   ]
  },
  {
   "cell_type": "code",
   "execution_count": null,
   "id": "d10eab58-0c5d-40f4-bdee-8901875674a6",
   "metadata": {
    "jupyter": {
     "source_hidden": true
    },
    "tags": []
   },
   "outputs": [],
   "source": [
    "prop_n_photons = 0\n",
    "for laser_index_i in np.arange(LP.nslice):\n",
    "        prop_n_photons += np.sum(LP.slice[laser_index_i].n_photons_2d.mesh)\n",
    "\n",
    "# print(prop_n_photons -n_photons_before)\n",
    "print('Initial number: ', n_photons_before)\n",
    "print('Number from array: ',prop_n_photons)"
   ]
  },
  {
   "cell_type": "code",
   "execution_count": null,
   "id": "4e4e0be0-002e-49f2-9f7e-e0211cbb5141",
   "metadata": {
    "jupyter": {
     "source_hidden": true
    },
    "tags": []
   },
   "outputs": [],
   "source": [
    "total = 0\n",
    "\n",
    "for laser_index_i in np.arange(LP.nslice):\n",
    "    \n",
    "    dx = (LP.slice[laser_index_i].wfr.mesh.xFin - LP.slice[laser_index_i].wfr.mesh.xStart)/LP.slice[laser_index_i].wfr.mesh.nx\n",
    "    dy = (LP.slice[laser_index_i].wfr.mesh.yFin - LP.slice[laser_index_i].wfr.mesh.yStart)/LP.slice[laser_index_i].wfr.mesh.ny\n",
    "    cell_area = dx * dy\n",
    "    \n",
    "    intens_2d = srwutil.calc_int_from_elec(LP.slice[laser_index_i].wfr) #extract 2d intensity\n",
    "    efield_abs_sqrd_2d = np.sqrt(const.mu_0 / const.epsilon_0) * 2.0 * intens_2d # [V^2/m^2]\n",
    "    \n",
    "    end1 = (LP.slice[laser_index_i]._pulse_pos -0.5*LP.slice[laser_index_i].ds) /(np.sqrt(2.0) *LP.slice[laser_index_i].sig_s)\n",
    "    end2 = (LP.slice[laser_index_i]._pulse_pos +0.5*LP.slice[laser_index_i].ds) /(np.sqrt(2.0) *LP.slice[laser_index_i].sig_s)\n",
    "    energy_2d = cell_area *(const.epsilon_0 /2.0) \\\n",
    "                *(efield_abs_sqrd_2d /np.exp(-LP.slice[laser_index_i]._pulse_pos**2.0/(np.sqrt(2.0) *LP.slice[laser_index_i].sig_s)**2.0)) \\\n",
    "                *((np.sqrt(np.pi)/2.0) *(np.sqrt(2.0) *LP.slice[laser_index_i].sig_s) *(special.erf(end2) -special.erf(end1)))\n",
    "    photon_e = LP.slice[laser_index_i].photon_e_ev * const.e\n",
    "    n_photons_2d = energy_2d / photon_e\n",
    "    total += np.sum(n_photons_2d)\n",
    "\n",
    "print('Number from fields: ',total)"
   ]
  },
  {
   "cell_type": "markdown",
   "id": "7814fca0-199b-46f8-93f2-c052e3c2ca40",
   "metadata": {},
   "source": [
    "***\n",
    "# Plots of peak timing and off-peak timing (assuming same laser params as pump_off case)"
   ]
  },
  {
   "cell_type": "code",
   "execution_count": null,
   "id": "1de7b661-7371-423d-9673-75bf276cb691",
   "metadata": {
    "jupyter": {
     "source_hidden": true
    },
    "tags": []
   },
   "outputs": [],
   "source": [
    "files = PKDict(\n",
    "    meta = os.path.join(package_data_dir, 'wfs_meta.dat'),\n",
    "    ccd = os.path.join(package_data_dir, 'ccd_peak_timing.txt'), #_off_peak_timing.txt'), #_pump_off.txt'),\n",
    "    wfs = os.path.join(package_data_dir, 'wfs_peak_timing.txt'), #_off_peak_timing.txt'), #_pump_off.txt')\n",
    ")\n",
    "\n",
    "peakPulse = pulse.LaserPulse(params, files)\n",
    "wfr_exp_final = peakPulse.slice[0].wfr\n",
    "\n",
    "x_exp_final=np.linspace(wfr_exp_final.mesh.xStart,wfr_exp_final.mesh.xFin,wfr_exp_final.mesh.nx)\n",
    "y_exp_final=np.linspace(wfr_exp_final.mesh.yStart,wfr_exp_final.mesh.yFin,wfr_exp_final.mesh.ny)"
   ]
  },
  {
   "cell_type": "code",
   "execution_count": null,
   "id": "1c2e1939-7fd9-466c-995c-0da859cf6703",
   "metadata": {
    "jupyter": {
     "source_hidden": true
    },
    "tags": []
   },
   "outputs": [],
   "source": [
    "e_total = peakPulse.extract_total_2d_elec_fields()\n",
    "intensity_2D_exp_final = 0.5 *const.c *const.epsilon_0 *(e_total.re**2.0 + e_total.im**2.0)\n",
    "\n",
    "# with plt.style.context(('seaborn-poster')):\n",
    "fig = plt.figure()#figsize=(10,6))\n",
    "ax = fig.gca()\n",
    "plt.pcolormesh(y_exp_final*(1e3), x_exp_final*(1e3), intensity_2D_exp_final, cmap=plt.cm.viridis, shading='auto')\n",
    "plt.colorbar()\n",
    "ax.set_ylabel(r'Vertical Position [mm]')\n",
    "ax.set_xlabel(r'Horizontal Position [mm]')\n",
    "ax.set_title('Intensity (peak timing)')"
   ]
  },
  {
   "cell_type": "code",
   "execution_count": null,
   "id": "02d160f2-e092-4fe7-89c2-edef537ea3e8",
   "metadata": {
    "jupyter": {
     "source_hidden": true
    },
    "tags": []
   },
   "outputs": [],
   "source": [
    "# Extract phase from experimental post-prop wavefront\n",
    "phase_exp_final = srwlib.array('d', [0]*wfr_exp_final.mesh.nx*wfr_exp_final.mesh.ny) # \"flat\" array to take 2D data\n",
    "srwl.CalcIntFromElecField(phase_exp_final, wfr_exp_final, 0, 4, 3, wfr_exp_final.mesh.eStart, 0, 0) #extracts the phase; must use double precision\n",
    "\n",
    "# Reshaping phase data from flat to 2D array\n",
    "phase_2d_exp_final = np.unwrap(np.unwrap(np.array(phase_exp_final).reshape((wfr_exp_final.mesh.nx, wfr_exp_final.mesh.ny), order='C').astype(np.float64),axis=0),axis=1)\n",
    "\n",
    "# with plt.style.context(('seaborn-poster')):\n",
    "fig = plt.figure()#figsize=(10,6))#(6,3.6))\n",
    "ax = fig.gca()\n",
    "plt.pcolormesh(y_exp_final*(1e3), x_exp_final*(1e3), phase_2d_exp_final, cmap=plt.cm.viridis, shading='auto')\n",
    "plt.colorbar()\n",
    "ax.set_xlabel(r'Horizontal Position [mm]')\n",
    "ax.set_ylabel(r'Vertical Position [mm]')\n",
    "ax.set_title('Phase (peak timing)')"
   ]
  },
  {
   "cell_type": "markdown",
   "id": "216d04fb-bda0-446f-8055-29291bf11fd1",
   "metadata": {},
   "source": [
    "________\n",
    "With gain on, n1 = 1, n2 = 0, should see gain in peak intensity (gain) that matches the difference between two maximum intensities for peak and off peak timing"
   ]
  },
  {
   "cell_type": "code",
   "execution_count": null,
   "id": "8f25f213-6463-4b96-9f15-00f0b84ffb0c",
   "metadata": {
    "jupyter": {
     "source_hidden": true
    },
    "tags": []
   },
   "outputs": [],
   "source": [
    "files = PKDict(\n",
    "    meta = os.path.join(package_data_dir, 'wfs_meta.dat'),\n",
    "    ccd = os.path.join(package_data_dir, 'ccd_off_peak_timing.txt'), #_pump_off.txt'),\n",
    "    wfs = os.path.join(package_data_dir, 'wfs_off_peak_timing.txt'), #_pump_off.txt')\n",
    ")\n",
    "\n",
    "offpeakPulse = pulse.LaserPulse(params, files)\n",
    "wfr_exp_final_op = offpeakPulse.slice[0].wfr\n",
    "\n",
    "# _op = _off_peak\n",
    "\n",
    "x_exp_final_op=np.linspace(wfr_exp_final_op.mesh.xStart,wfr_exp_final_op.mesh.xFin,wfr_exp_final_op.mesh.nx)\n",
    "y_exp_final_op=np.linspace(wfr_exp_final_op.mesh.yStart,wfr_exp_final_op.mesh.yFin,wfr_exp_final_op.mesh.ny)"
   ]
  },
  {
   "cell_type": "code",
   "execution_count": null,
   "id": "353d2c02-acdf-4aa6-b1ff-490236ba7798",
   "metadata": {
    "jupyter": {
     "source_hidden": true
    },
    "tags": []
   },
   "outputs": [],
   "source": [
    "e_total = offpeakPulse.extract_total_2d_elec_fields()\n",
    "intensity_2D_exp_final_op = 0.5 *const.c *const.epsilon_0 *(e_total.re**2.0 + e_total.im**2.0)\n",
    "\n",
    "#with plt.style.context(('seaborn-poster')):\n",
    "fig = plt.figure()#figsize=(10,6))\n",
    "ax = fig.gca()\n",
    "plt.pcolormesh(y_exp_final_op*(1e3), x_exp_final_op*(1e3), intensity_2D_exp_final_op, cmap=plt.cm.viridis, shading='auto')\n",
    "plt.colorbar()\n",
    "ax.set_ylabel(r'Vertical Position [mm]')\n",
    "ax.set_xlabel(r'Horizontal Position [mm]')\n",
    "ax.set_title('Intensity (off-peak timing)')"
   ]
  },
  {
   "cell_type": "code",
   "execution_count": null,
   "id": "48e063a0-87bc-4ad5-9c78-9da1fa3d1263",
   "metadata": {
    "jupyter": {
     "source_hidden": true
    },
    "tags": []
   },
   "outputs": [],
   "source": [
    "# Plot difference in intensities\n",
    "\n",
    "diff_intensity_2D_exp_final = intensity_2D_exp_final - intensity_2D_exp_final_op\n",
    "\n",
    "# with plt.style.context(('seaborn-poster')):\n",
    "fig = plt.figure()#figsize=(10,6))\n",
    "ax = fig.gca()\n",
    "plt.pcolormesh(y_exp_final*(1e3), x_exp_final*(1e3), diff_intensity_2D_exp_final, cmap=plt.cm.viridis, shading='auto')\n",
    "plt.colorbar()\n",
    "ax.set_ylabel(r'Vertical Position [mm]')\n",
    "ax.set_xlabel(r'Horizontal Position [mm]')\n",
    "ax.set_title('Intensity (peak timing minus off-peak timing)')"
   ]
  },
  {
   "cell_type": "code",
   "execution_count": null,
   "id": "f1355e96-5e48-457b-882a-2cbe07bb5703",
   "metadata": {
    "jupyter": {
     "source_hidden": true
    },
    "tags": []
   },
   "outputs": [],
   "source": [
    "# print(np.max(intensity_2D_exp_final) - np.max(intensity_2D_exp_final_op))"
   ]
  },
  {
   "cell_type": "code",
   "execution_count": null,
   "id": "9218be19-061d-47db-8e71-4cfd3352f761",
   "metadata": {
    "jupyter": {
     "source_hidden": true
    },
    "tags": []
   },
   "outputs": [],
   "source": [
    "# peak_n_photons = 0\n",
    "# for laser_index_i in np.arange(peakPulse.nslice):\n",
    "#         peak_n_photons += np.sum(peakPulse.slice[laser_index_i].n_photons_2d.mesh)\n",
    "\n",
    "# offpeak_n_photons = 0\n",
    "# for laser_index_i in np.arange(offpeakPulse.nslice):\n",
    "#         offpeak_n_photons += np.sum(offpeakPulse.slice[laser_index_i].n_photons_2d.mesh)\n",
    "\n",
    "# print(peak_n_photons -offpeak_n_photons)"
   ]
  },
  {
   "cell_type": "code",
   "execution_count": null,
   "id": "cf7a79f6-9486-44ea-bbc5-1533ec6e939c",
   "metadata": {
    "jupyter": {
     "source_hidden": true
    },
    "tags": []
   },
   "outputs": [],
   "source": [
    "# Extract phase from experimental post-prop wavefront\n",
    "phase_exp_final = srwlib.array('d', [0]*wfr_exp_final_op.mesh.nx*wfr_exp_final_op.mesh.ny) # \"flat\" array to take 2D data\n",
    "srwl.CalcIntFromElecField(phase_exp_final, wfr_exp_final_op, 0, 4, 3, wfr_exp_final_op.mesh.eStart, 0, 0) #extracts the phase; must use double precision\n",
    "\n",
    "# Reshaping phase data from flat to 2D array\n",
    "phase_2d_op = np.unwrap(np.unwrap(np.array(phase_exp_final).reshape((wfr_exp_final_op.mesh.nx, wfr_exp_final_op.mesh.ny), order='C').astype(np.float64),axis=0),axis=1)\n",
    "\n",
    "# with plt.style.context(('seaborn-poster')):\n",
    "fig = plt.figure()#figsize=(10,6))#(6,3.6))\n",
    "ax = fig.gca()\n",
    "plt.pcolormesh(x_exp_final_op*(1e3), y_exp_final_op*(1e3), phase_2d_op, cmap=plt.cm.viridis, shading='auto')\n",
    "plt.colorbar()\n",
    "ax.set_xlabel(r'Horizontal Position [mm]')\n",
    "ax.set_ylabel(r'Vertical Position [mm]')\n",
    "ax.set_title('Phase (off-peak timing)')"
   ]
  },
  {
   "cell_type": "code",
   "execution_count": null,
   "id": "22c53dbc-e08b-4adc-908b-609f5d73dbab",
   "metadata": {
    "tags": []
   },
   "outputs": [],
   "source": [
    "compare = phase_2d_exp_final #phase_2d_exp_final -phase_2d_op #phase_2d_op #\n",
    "sim_phase = phase_2d_sim_final #phase_2d_sim_final - phase_2d_exp_init #\n",
    "\n",
    "scale_factor = np.max(compare[:,int(len(y_exp_final)/2.0)]) -np.max(np.unwrap(sim_phase[:,int(len(y_sim_final)/2.0)]))\n",
    "#print(scale_factor)\n",
    "# with plt.style.context(('seaborn-poster')):\n",
    "fig = plt.figure()#figsize=(10,6))#(6,3.6))#\n",
    "ax = fig.gca()\n",
    "plt.plot(x_exp_final*(1e3), compare[:,int(len(y_exp_final)/2.0)], 'r', label='Peak timing minus')# off-peak timing')\n",
    "plt.plot((x_sim_final)*(1e3), scale_factor +sim_phase[:,int(len(y_sim_final)/2.0)], '--k', label='Propagation with gain +{:.3}'.format(scale_factor))\n",
    "# plt.plot((x_sim_final)*(1e3), np.unwrap(sim_phase[:,int(len(y_sim_final)/2.0)],axis=0), '--k', label='Gain calc minus pump-off data')\n",
    "fig.legend(loc='upper center', bbox_to_anchor=(0.5, -0.01), fancybox=True, shadow=True, ncol=5)\n",
    "ax.set_ylabel(r'Phase Lineout')#[mm]')\n",
    "ax.set_xlabel(r'Horizontal Position [mm]')\n",
    "ax.set_title('Phase: Simulation vs Experiment')\n",
    "\n",
    "#+np.diff(x_sim_final)[0]/2.0"
   ]
  },
  {
   "cell_type": "code",
   "execution_count": null,
   "id": "922c4c0f-37db-4c6f-a84f-ef2372b61755",
   "metadata": {
    "jupyter": {
     "source_hidden": true
    },
    "tags": []
   },
   "outputs": [],
   "source": [
    "\n",
    "# scale_factor = np.max(phase_2d_exp_final[:,int(len(x_exp_final)/2.0)])/np.max(-1.0 *phase_2d_sim_final[:,int(len(x_sim_final)/2.0)])\n",
    "# print(scale_factor)\n",
    "# with plt.style.context(('seaborn-poster')):\n",
    "#     fig = plt.figure(figsize=(10,6))#(6,3.6))#\n",
    "#     ax = fig.gca()\n",
    "#     plt.plot(y_exp_final*(1e3), phase_2d_exp_final[int(len(x_exp_final)/2.0),:], 'r', label='Peak timing data')\n",
    "#     plt.plot(y_sim_final*(1e3), -1.0 *phase_2d_sim_final[int(len(x_sim_final)/2.0),:], 'k', label='Propagation with gain')\n",
    "#     #plt.plot(y_sim_final*(1e3), -10.0 *phase_2d_sim_final[int(len(x_sim_final)/2.0),:], ':k', label='PwG x10')\n",
    "#     plt.plot(y_sim_final*(1e3), -1.0 *scale_factor *phase_2d_sim_final[int(len(x_sim_final)/2.0),:], '--k', label='PwG x16.98')\n",
    "#     fig.legend(loc='upper center', bbox_to_anchor=(0.5, -0.01), fancybox=True, shadow=True, ncol=5)\n",
    "#     ax.set_ylabel(r'Phase Lineout')#[mm]')\n",
    "#     ax.set_xlabel(r'Vertical Position [mm]')\n",
    "#     ax.set_title('Phase: Simulation vs Experiment')"
   ]
  },
  {
   "cell_type": "code",
   "execution_count": null,
   "id": "dc2a6fd6-535e-434d-a5da-da0c5dddccea",
   "metadata": {},
   "outputs": [],
   "source": [
    "\n",
    "fig = plt.figure()#figsize=(10,6))#(6,3.6))\n",
    "ax = fig.gca()\n",
    "plt.pcolormesh(x_exp_final_op*(1e3), y_exp_final_op*(1e3), compare, cmap=plt.cm.viridis, shading='auto')\n",
    "plt.colorbar()\n",
    "ax.set_xlabel(r'Horizontal Position [mm]')\n",
    "ax.set_ylabel(r'Vertical Position [mm]')\n",
    "ax.set_title('Phase (peak timing)')\n",
    "\n",
    "fig = plt.figure()#figsize=(10,6))#(6,3.6))\n",
    "ax = fig.gca()\n",
    "plt.pcolormesh(x_exp_final_op*(1e3), y_exp_final_op*(1e3), scale_factor +sim_phase, cmap=plt.cm.viridis, shading='auto')\n",
    "plt.colorbar()\n",
    "ax.set_xlabel(r'Horizontal Position [mm]')\n",
    "ax.set_ylabel(r'Vertical Position [mm]')\n",
    "ax.set_title('Phase (propagation with gain +{:.3})'.format(scale_factor))"
   ]
  },
  {
   "cell_type": "code",
   "execution_count": null,
   "id": "ee131c98-60ca-48f5-95b3-565948cfaff5",
   "metadata": {},
   "outputs": [],
   "source": []
  }
 ],
 "metadata": {
  "kernelspec": {
   "display_name": "Python 3",
   "language": "python",
   "name": "py3"
  },
  "language_info": {
   "codemirror_mode": {
    "name": "ipython",
    "version": 3
   },
   "file_extension": ".py",
   "mimetype": "text/x-python",
   "name": "python",
   "nbconvert_exporter": "python",
   "pygments_lexer": "ipython3",
   "version": "3.7.2"
  }
 },
 "nbformat": 4,
 "nbformat_minor": 5
}
