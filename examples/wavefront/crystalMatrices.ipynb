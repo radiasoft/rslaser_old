{
 "cells": [
  {
   "cell_type": "markdown",
   "metadata": {
    "tags": []
   },
   "source": [
    "# Linear Optics Phase Calculation for the BELLA Laser Experimant"
   ]
  },
  {
   "cell_type": "markdown",
   "metadata": {
    "tags": []
   },
   "source": [
    "## Boaz Nash, _RadiaSoft LLC_"
   ]
  },
  {
   "cell_type": "markdown",
   "metadata": {
    "tags": []
   },
   "source": [
    "### _LaTeX_ macros"
   ]
  },
  {
   "cell_type": "markdown",
   "metadata": {
    "tags": []
   },
   "source": [
    "$$\n",
    "\\newcommand{\\lambdabar}{{\\mkern0.75mu\\mathchar '26\\mkern -9.75mu\\lambda}}\n",
    "$$"
   ]
  },
  {
   "cell_type": "markdown",
   "metadata": {
    "tags": []
   },
   "source": [
    "### _Preamble_"
   ]
  },
  {
   "cell_type": "code",
   "execution_count": 11,
   "metadata": {},
   "outputs": [],
   "source": [
    "import numpy as np"
   ]
  },
  {
   "cell_type": "markdown",
   "metadata": {},
   "source": [
    "The seed laser passes through a crystal of length L ($L_c$=1cm). In the case that the crystal isn't pumped first,\n",
    "it arrives at a waist at 50 cm from the end of the crystal. Now, assume it is pumped and heated, giving rise to\n",
    "a thermal lensing effect. We want to find the ABCD matrix that gets us between these two cases.\n",
    "We need to go backwards through the unheated crystal and then forward through the heated crystal.\n",
    "The matrix to pass through the crystal with $n_2 = 0$ is \n",
    "$$M_c = \\pmatrix{1 & \\frac{L_c}{n_0} \\cr 0 & 1} $$\n",
    "The crystal matrix with n_0 and n_2 is [Siegman, p 586]\n",
    "\\begin{equation}\n",
    "  \\bar M_c = \\pmatrix{\\cos(\\gamma L) & \\frac{1}{n_0 \\gamma} \\sin(\\gamma L)\\cr \n",
    "            -(n_0 \\gamma) \\sin(\\gamma L) & \\cos(\\gamma L) }\n",
    "\\end{equation}\n",
    "\n",
    "This acts on a ray via\n",
    "$$\\pmatrix{ x_f \\cr n_f \\theta_f } = \\pmatrix{ A & B \\cr C & D }\\pmatrix{x_i \\cr n_i \\theta_i}$$\n",
    "Next, we consider the drift from the crystal to the wavefront sensor of length $L_d$ = 0.5m, the matrix of which is\n",
    "\n",
    "$$M_d = \\pmatrix{1 & L_d \\cr 0 & 1} $$\n",
    "\n",
    "Finally, we need to consider the impact of the curvature of the front and back of the crystal due to heating. This\n",
    "introduces a thin lens which is represented by the matrix\n",
    "\n",
    "$$M_{tl} = \\pmatrix{1 & 0\\cr -\\frac{1}{f} & 1} $$\n",
    "\n",
    "The total matrix we want to apply to transform between the two measurmed wavefronts is\n",
    "$$M_T = M_d M_{tl} \\bar M_c M_c^{-1} M_{tl}^{-1} M_d^{-1}$$\n",
    "\n",
    "The index of refraction is given by $$n(r) = n_0 - \\frac{1}{2} n_2 r^2$$ \n",
    "and $\\gamma$ is defined as \n",
    "$$\\gamma = \\sqrt{\\frac{n_2}{n_0}}$$\n",
    "\n",
    "Lengths are given in m and angles in radians."
   ]
  },
  {
   "cell_type": "markdown",
   "metadata": {
    "tags": []
   },
   "source": [
    "### Calculations"
   ]
  },
  {
   "cell_type": "code",
   "execution_count": 49,
   "metadata": {},
   "outputs": [
    {
     "name": "stdout",
     "output_type": "stream",
     "text": [
      "2.9561184623821086\n",
      "[[ 9.97270419e-01  2.58459534e-05]\n",
      " [-3.84150095e-01  1.00272710e+00]]\n",
      "[[ 9.97267482e-01  2.58459534e-05]\n",
      " [-6.11422206e-01  1.00272416e+00]]\n"
     ]
    }
   ],
   "source": [
    "n0 = 1.76\n",
    "#n2=1.6e-3 #cm^-2\n",
    "#n2 = 16 #m^-2 from Fenics calculation\n",
    "n2 = 15.38\n",
    "\n",
    "flen_front = 4.9 #measured front of crystal focal length from thermal bulging\n",
    "flen_back = 8.8 #measured back of crystal focal length from thermal bulging\n",
    "f = flen_back\n",
    "\n",
    "Lc = 0.025\n",
    "#Ld = 0.5\n",
    "Ld = 0.0\n",
    "Matcinv = np.array( [[ 1, -Lc/n0], [0, 1]])\n",
    "gamma = np.sqrt(n2/n0)\n",
    "A = np.cos(gamma*Lc)\n",
    "B = 1/(n0 * gamma) * np.sin(gamma*Lc)\n",
    "C = -n0 * gamma * np.sin(gamma * Lc)\n",
    "D = np.cos(gamma*Lc)\n",
    "Matcbar = np.array( [[ A, B], [C, D]] )\n",
    "Matd = np.array( [[ 1, Ld], [0, 1]] )\n",
    "Matdinv = np.array( [[ 1, -Ld], [0, 1]] )\n",
    "Mat_tl = np.array( [[ 1, 0], [-1/f, 1]] )\n",
    "Mat_tlinv = np.array( [[ 1, 0], [1/f, 1]] )\n",
    "Mattot0 = np.matmul(np.matmul(np.matmul(Matd,Matcbar),Matcinv),Matdinv)\n",
    "#Mattot1 = np.matmul(np.matmul(np.matmul(np.matmul(np.matmul(Matd,Mat_tl),Matcbar),Matcinv),Mat_tlinv),Matdinv)\n",
    "Mattot1 = np.matmul(np.matmul(np.matmul(np.matmul(np.matmul(Matd,Mat_tl),Matcbar),Matcinv),Mat_tl),Matdinv)\n",
    "print(gamma)\n",
    "print(Mattot0)\n",
    "print(Mattot1)\n",
    "Mattot = Mattot1"
   ]
  },
  {
   "cell_type": "code",
   "execution_count": 38,
   "metadata": {},
   "outputs": [
    {
     "data": {
      "text/plain": [
       "array([[ 1.        ,  0.        ],\n",
       "       [-0.11363636,  1.        ]])"
      ]
     },
     "execution_count": 38,
     "metadata": {},
     "output_type": "execute_result"
    }
   ],
   "source": [
    "Mat_tl"
   ]
  },
  {
   "cell_type": "code",
   "execution_count": 23,
   "metadata": {},
   "outputs": [
    {
     "data": {
      "text/plain": [
       "6.250947070142776"
      ]
     },
     "execution_count": 23,
     "metadata": {},
     "output_type": "execute_result"
    }
   ],
   "source": [
    "-1/Matcbar[1,0]"
   ]
  },
  {
   "cell_type": "code",
   "execution_count": 45,
   "metadata": {},
   "outputs": [
    {
     "data": {
      "text/plain": [
       "15.384615384615383"
      ]
     },
     "execution_count": 45,
     "metadata": {},
     "output_type": "execute_result"
    }
   ],
   "source": [
    "1/(0.025*2.6)"
   ]
  },
  {
   "cell_type": "markdown",
   "metadata": {},
   "source": [
    "Now we construct the initial moment matrix $\\Sigma_i$ and transform it via $M$, using the fact that\n",
    "$$\\Sigma_f = M\\Sigma_i M^T$$\n",
    "where $\\Sigma_{i,f}$ are the initial and final second moment matrices respectively."
   ]
  },
  {
   "cell_type": "code",
   "execution_count": 60,
   "metadata": {},
   "outputs": [
    {
     "name": "stdout",
     "output_type": "stream",
     "text": [
      "Rayleigh range[m] 6.637527140690282\n",
      "sigma_theta[rad] 9.792803648444322e-05\n",
      "Sigma matrix without pumping: [[4.22500000e-07 0.00000000e+00]\n",
      " [0.00000000e+00 9.58990033e-09]]\n",
      "sigmaf: [[ 4.20194177e-07 -2.57619753e-07]\n",
      " [-2.57619753e-07  1.67588401e-07]]\n"
     ]
    }
   ],
   "source": [
    "#sigmax = 64e-6 #rms beam size [m]\n",
    "#sigmax = 1e-3\n",
    "w0=1.3e-3 #beamsize at WFS in [m] from the fit in data02\n",
    "#sigma = 0.5 w0\n",
    "sigmax = 0.5*w0\n",
    "lambda_rad = 799.89e-9 #wavelength [m]\n",
    "Zr = np.pi*w0**2/lambda_rad\n",
    "sigtheta = lambda_rad/(4*np.pi*sigmax) #rms divergence [rad]\n",
    "\n",
    "sigmai = np.array( [[sigmax**2, 0], [0, sigtheta**2] ] ) \n",
    "sigmaf = np.matmul(np.matmul(Mattot, sigmai),np.transpose(Mattot))\n",
    "print(\"Rayleigh range[m]\",Zr)\n",
    "print(\"sigma_theta[rad]\",sigtheta)\n",
    "print(\"Sigma matrix without pumping:\",sigmai)\n",
    "print(\"sigmaf:\",sigmaf)"
   ]
  },
  {
   "cell_type": "markdown",
   "metadata": {},
   "source": [
    "Now, we relate this to the phase of a Gaussian wavefront.\n",
    "We consider a coherent Gaussian given by\n",
    "$$\n",
    "  E(x) = E_0 e^{-\\frac{a+i b}{2} x^2}\n",
    "$$\n",
    "We define a second moment matrix via\n",
    "$$\n",
    "  \\Sigma = \\pmatrix{\\Sigma_{xx} & \\Sigma_{x\\theta} \\cr \\Sigma_{x\\theta} & \\Sigma_{\\theta\\theta}}\n",
    "$$\n",
    "We can relate the second moment matrix to the real parameters $a$ and $b$.\n",
    "\\begin{align}\n",
    "  \\Sigma_{xx}           &= \\frac{1}{2a} \\\\\n",
    "  \\Sigma_{x\\theta}      &= \\frac{\\lambda}{4\\pi} \\frac{b}{a} \\\\\n",
    "  \\Sigma_{\\theta\\theta} &= \\frac{\\lambda}{4\\pi} \\left( a+ \\frac{b^2}{a}\\right)\n",
    "\\end{align}\n",
    "\n",
    "From the equations for $\\Sigma_{xx}$ and $\\Sigma_{x\\theta}$, we find\n",
    "$$ b = \\frac{2\\pi}{\\lambda} \\frac{\\Sigma_{x\\theta}}{\\Sigma_{xx}} $$\n",
    "\n",
    "Now, we want to compare to the phase measurement from the wavefront sensor.\n",
    "The measured phase is given by\n",
    "$$\n",
    "  \\Phi(x) = \\frac{\\lambda}{2\\pi} \\phi(x) = \\frac{\\lambda}{2\\pi} \\left(\\phi_0 - \\frac{b}{2}x^2 \\right),\n",
    "$$\n",
    "Where $\\Phi$ denotes the phase expressed as a length.\n",
    "\n",
    "Comparing this to the definition of the phase curvature by JVT, we find\n",
    "$$\n",
    "  \\alpha = -\\frac{\\lambda b}{4\\pi} = -\\frac{1}{2}\\frac{\\sigma_{x\\theta}}{\\sigma_{xx}}\n",
    "$$"
   ]
  },
  {
   "cell_type": "code",
   "execution_count": 63,
   "metadata": {},
   "outputs": [
    {
     "name": "stdout",
     "output_type": "stream",
     "text": [
      "0.30654845737224323 0.5199285\n"
     ]
    }
   ],
   "source": [
    "alpha_micron_m2_JVT = 6.5e-7 #This number from JVT email\n",
    "alpha_meter_m2_JVT = 1e12*lambda_rad*alpha_micron_m2\n",
    "lambda_micron = 0.8\n",
    "alpha = -0.5* sigmaf[0,1]/sigmaf[0,0]\n",
    "print(alpha, alpha_meter_m2_JVT)"
   ]
  },
  {
   "cell_type": "markdown",
   "metadata": {},
   "source": [
    "Now do the calculation using the <a href=https://en.wikipedia.org/wiki/Gaussian_beam#Complex_beam_parameter>complex beam parameter</a>, $q$.\n",
    "$$u(r,z)=\\frac{1}{q} e^{-ik \\frac{r^2}{2q}}$$\n",
    "$q$ transforms under an ABCD matrix via\n",
    "$$q_f = \\frac{A q_i + B}{C q_i + D}$$\n",
    "We connect to the approach above with\n",
    "$$a+ib = -\\frac{ik}{q}$$"
   ]
  },
  {
   "cell_type": "code",
   "execution_count": null,
   "metadata": {},
   "outputs": [],
   "source": [
    "lam"
   ]
  }
 ],
 "metadata": {
  "kernelspec": {
   "display_name": "Python 3",
   "language": "python",
   "name": "py3"
  },
  "language_info": {
   "codemirror_mode": {
    "name": "ipython",
    "version": 3
   },
   "file_extension": ".py",
   "mimetype": "text/x-python",
   "name": "python",
   "nbconvert_exporter": "python",
   "pygments_lexer": "ipython3",
   "version": "3.7.2"
  },
  "toc-autonumbering": false,
  "toc-showmarkdowntxt": false
 },
 "nbformat": 4,
 "nbformat_minor": 4
}
