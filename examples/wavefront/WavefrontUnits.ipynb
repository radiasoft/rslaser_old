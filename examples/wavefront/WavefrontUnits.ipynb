{
 "cells": [
  {
   "cell_type": "code",
   "execution_count": 1,
   "id": "bb423b42-3560-4c17-a900-8e262e658b94",
   "metadata": {},
   "outputs": [],
   "source": [
    "import math\n",
    "from matplotlib import pyplot\n",
    "import matplotlib.pyplot as plt\n",
    "import numpy as np\n",
    "\n",
    "from pykern.pkcollections import PKDict\n",
    "# The rslaser library may not be installed, so a check is required.\n",
    "try:\n",
    "    import rslaser\n",
    "except:\n",
    "    print(\"The rslaser library was not found; installing from GitHub...\")\n",
    "    # Developers should use 'pip install -e .' from the command line.\n",
    "    # Users can install directly from GitHub --\n",
    "    !{sys.executable} -m pip install git+https://github.com/radiasoft/rslaser.git\n",
    "    import rslaser\n",
    "from rslaser.optics import wavefront\n",
    "from rslaser.pulse import pulse\n",
    "\n",
    "import scipy\n",
    "import scipy.constants as const\n",
    "\n",
    "# SRW and srwlib (the corresponding Python API) are pre-installed on Sirepo/Jupyter\n",
    "import srwlib\n",
    "from srwlib import srwl"
   ]
  },
  {
   "cell_type": "code",
   "execution_count": 2,
   "id": "76b523fe-812d-434d-8c1b-bb446cf5f00b",
   "metadata": {},
   "outputs": [],
   "source": [
    "# specify all default values of system parameters in a Pykern dictionary object\n",
    "\n",
    "# photon energy corresponding to lambda = 1 micron\n",
    "_LASER_PULSE_SLICE_DEFAULTS = PKDict(\n",
    "    sigrW=0.000186,\n",
    "    propLen=15,\n",
    "    pulseE=0.001,\n",
    "    poltype=1,\n",
    "    sampFact=1,\n",
    "    mx=0,\n",
    "    my=0\n",
    ")\n",
    "_LASER_PULSE_DEFAULTS = PKDict(\n",
    "        phE=1.55,\n",
    "        nslice=1,\n",
    "        chirp=0,\n",
    "        w0=.1,\n",
    "        a0=.01,\n",
    "        dw0x=0.0,\n",
    "        dw0y=0.0,\n",
    "        z_waist=0.,\n",
    "        dzwx=0.0,\n",
    "        dzwy=0.0,\n",
    "        tau_fwhm=0.1 / const.c / math.sqrt(2.),\n",
    "        z_center=0.,\n",
    "        x_shift = 0.,\n",
    "        y_shift=0.,\n",
    "        d_to_w=0.002,\n",
    "        slice_params=_LASER_PULSE_SLICE_DEFAULTS,\n",
    ")"
   ]
  },
  {
   "cell_type": "code",
   "execution_count": 3,
   "id": "f999d24e-0dd6-4930-be4c-55c00669bd59",
   "metadata": {},
   "outputs": [],
   "source": [
    "# the laser pulse parameters are loaded into a Pykern dictionary object\n",
    "# the slice parameters are included hierarchically\n",
    "in_pulse = PKDict(\n",
    "    **_LASER_PULSE_DEFAULTS\n",
    "    )\n",
    "\n",
    "# Specify non-default values for laser pulse parameters at center of crystal\n",
    "in_pulse.w0 = 400.e-6         # waist size [m]   "
   ]
  },
  {
   "cell_type": "code",
   "execution_count": 4,
   "id": "0d601644-91b6-4b7f-9eb8-70e2b699d9d1",
   "metadata": {},
   "outputs": [],
   "source": [
    "# instantiate the laser pulse (this can take a few seconds)\n",
    "LP = pulse.LaserPulse(in_pulse)"
   ]
  },
  {
   "cell_type": "code",
   "execution_count": 5,
   "id": "5b5bf3a4-723b-42b0-84f7-b9a3463ff28f",
   "metadata": {},
   "outputs": [
    {
     "name": "stdout",
     "output_type": "stream",
     "text": [
      "np.size(wfr0.arEx) =  3200\n",
      "np.shape(wfr0.arEx) =  (3200,)\n",
      "np.max(wfr0.arEx) =  1906004.4\n",
      "np.max(wfr0.arEy) =  0.0\n",
      " \n",
      " wfr0.mesh.nx =  40\n",
      " wfr0.mesh.ny =  40\n"
     ]
    },
    {
     "data": {
      "text/plain": [
       "73728"
      ]
     },
     "execution_count": 5,
     "metadata": {},
     "output_type": "execute_result"
    }
   ],
   "source": [
    "# choose one of the laser pulse slices, and grab its SRW wavefront object\n",
    "slice=LP.slice\n",
    "wfr0=slice[0].wfr\n",
    "print('np.size(wfr0.arEx) = ', np.size(wfr0.arEx))\n",
    "print('np.shape(wfr0.arEx) = ', np.shape(wfr0.arEx))\n",
    "print('np.max(wfr0.arEx) = ', np.max(wfr0.arEx))\n",
    "print('np.max(wfr0.arEy) = ', np.max(wfr0.arEy))\n",
    "\n",
    "print(' ')\n",
    "print(' wfr0.mesh.nx = ', wfr0.mesh.nx)\n",
    "print(' wfr0.mesh.ny = ', wfr0.mesh.ny)\n",
    "192**2 * 2"
   ]
  },
  {
   "cell_type": "code",
   "execution_count": 6,
   "id": "81d3e38e-372b-4551-a048-3249b46e7ef5",
   "metadata": {},
   "outputs": [
    {
     "name": "stdout",
     "output_type": "stream",
     "text": [
      "Size of initial wavefront data array (coordinate): (40, 40)\n"
     ]
    },
    {
     "data": {
      "image/png": "[encoded data removed]",
      "text/plain": [
       "<Figure size 864x504 with 2 Axes>"
      ]
     },
     "metadata": {
      "needs_background": "light"
     },
     "output_type": "display_data"
    }
   ],
   "source": [
    "#Plot initial wavefront\n",
    "##Initial wfr calculation\n",
    "arIinit = srwlib.array('f', [0]*wfr0.mesh.nx*wfr0.mesh.ny) # \"flat\" array to take 2D intensity data\n",
    "srwl.CalcIntFromElecField(arIinit, wfr0, 6, 0, 3, wfr0.mesh.eStart, 0, 0) #extracts intensity\n",
    "\n",
    "##Reshaping electric field data from flat to 2D array\n",
    "arIinit2D = np.array(arIinit).reshape((wfr0.mesh.nx, wfr0.mesh.ny), order='C')\n",
    "wfrsizei=np.size(arIinit)\n",
    "\n",
    "print('Size of initial wavefront data array (coordinate):',np.shape(arIinit2D))\n",
    "xvalsf02=np.linspace(wfr0.mesh.xStart,wfr0.mesh.xFin,wfr0.mesh.nx)\n",
    "yvalsf02=np.linspace(wfr0.mesh.yStart,wfr0.mesh.yFin,wfr0.mesh.ny)\n",
    "\n",
    "fig = plt.figure(figsize=(12,7))\n",
    "ax = fig.gca()\n",
    "\n",
    "# By setting wfr0a.unitElFldAng=1, default units should  now be in mrad(?)\n",
    "plt.pcolormesh(np.multiply(xvalsf02,1e6), np.multiply(yvalsf02,1e6), arIinit2D, cmap=plt.cm.viridis,shading='auto')\n",
    "plt.colorbar()\n",
    "#['Horizontal Position [mm]', , 'Intensity']\n",
    "# ax.set_ylim(-1e4,1e4)\n",
    "# ax.set_xlim(-1e4,1e4)\n",
    "ax.set_ylabel(r'Vertical Position [$\\mu m$]')\n",
    "ax.set_xlabel(r'Horizontal Position [$\\mu m$]')\n",
    "ax.set_title('Intensity')\n",
    "plt.show()"
   ]
  },
  {
   "cell_type": "code",
   "execution_count": 7,
   "id": "408073ad-e28c-45ec-9c66-5b18eede75ed",
   "metadata": {},
   "outputs": [
    {
     "name": "stdout",
     "output_type": "stream",
     "text": [
      "wfr0.mesh.xStart =  -0.0007440050373154675\n",
      "wfr0.mesh.eStart =  1.55\n",
      "wfr0.mesh.eFin =  1.55\n",
      "wfr0.mesh.ne =  1\n",
      "Help on SRWLWfr in module srwlib object:\n",
      "\n",
      "class SRWLWfr(builtins.object)\n",
      " |  SRWLWfr(_arEx=None, _arEy=None, _typeE='f', _eStart=0, _eFin=0, _ne=0, _xStart=0, _xFin=0, _nx=0, _yStart=0, _yFin=0, _ny=0, _zStart=0, _partBeam=None)\n",
      " |  \n",
      " |  Radiation Wavefront (Electric Field)\n",
      " |  \n",
      " |  Methods defined here:\n",
      " |  \n",
      " |  __init__(self, _arEx=None, _arEy=None, _typeE='f', _eStart=0, _eFin=0, _ne=0, _xStart=0, _xFin=0, _nx=0, _yStart=0, _yFin=0, _ny=0, _zStart=0, _partBeam=None)\n",
      " |      :param _arEx: horizontal complex electric field component array; NOTE: only 'f' (float) is supported for the moment (Jan. 2011)\n",
      " |      :param _arEy: vertical complex electric field component array\n",
      " |      :param _typeE: electric field numerical type: 'f' (float) or 'd' (double)\n",
      " |      :param _eStart: initial value of photon energy (/time)\n",
      " |      :param _eFin: final value of photon energy (/time)\n",
      " |      :param _ne: numbers of points vs photon energy\n",
      " |      :param _xStart: initial value of horizontal positions\n",
      " |      :param _xFin: final value of horizontal positions\n",
      " |      :param _nx: numbers of points vs horizontal positions\n",
      " |      :param _yStart: initial vertical positions\n",
      " |      :param _yFin: final value of vertical positions\n",
      " |      :param _ny: numbers of points vs vertical positions\n",
      " |      :param _zStart: longitudinal position\n",
      " |      :param _partBeam: particle beam source; strictly speaking, it should be just SRWLParticle; however, \"multi-electron\" information can appear useful for those cases when \"multi-electron intensity\" can be deduced from the \"single-electron\" one by convolution\n",
      " |      \n",
      " |      Some additional parameters, that are not included in constructor arguments:\n",
      " |      Rx, Ry: instant wavefront radii\n",
      " |      dRx, dRy: error of wavefront radii\n",
      " |      xc, yc: transverse coordinates of wavefront instant \"source center\"\n",
      " |      avgPhotEn: average photon energy for time-domain simulations\n",
      " |      presCA: presentation/domain: 0- coordinates, 1- angles\n",
      " |      presFT: presentation/domain: 0- frequency (photon energy), 1- time\n",
      " |      unitElFld: electric field units: 0- arbitrary, 1- sqrt(Phot/s/0.1%bw/mm^2)\n",
      " |      arElecPropMatr: effective 1st order \"propagation matrix\" for electron beam parameters\n",
      " |      arMomX, arMomY: statistical moments (of Wigner distribution); to check the exact number of moments required\n",
      " |      arWfrAuxData: array of auxiliary wavefront data\n",
      " |  \n",
      " |  addE(self, _wfr, _meth=0)\n",
      " |      Add Another Electric Field Wavefront\n",
      " |      :param _wfr: wavefront to be added\n",
      " |      :param _meth: method of adding the wavefront _wfr:\n",
      " |      0- simple addition assuming _wfr to have same mesh as this wavefront\n",
      " |      1- add using bilinear interpolation (taking into account meshes of the two wavefronts)\n",
      " |      2- add using bi-quadratic interpolation (taking into account meshes of the two wavefronts)\n",
      " |      3- add using bi-cubic interpolation (taking into account meshes of the two wavefronts)\n",
      " |  \n",
      " |  allocate(self, _ne, _nx, _ny, _EXNeeded=1, _EYNeeded=1, _typeE='f', _backupNeeded=0)\n",
      " |      Allocate Electric Field data\n",
      " |      :param _ne: number of points vs photon energy / time\n",
      " |      :param _nx: number of points vs horizontal position / angle\n",
      " |      :param _ny: number of points vs vertical position / angle\n",
      " |      :param _EXNeeded: switch specifying whether Ex data is necessary or not (1 or 0)\n",
      " |      :param _EYNeeded: switch specifying whether Ey data is necessary or not (1 or 0)\n",
      " |      :param _typeE: numerical type of Electric Field data: float (single precision) or double ('f' or 'd'); double is not yet supported\n",
      " |      :param _backupNeeded: switch specifying whether backup of Electric Field data (arExAux, arEyAux) should be created or not (1 or 0)\n",
      " |  \n",
      " |  calc_stokes(self, _stokes, _n_stokes_comp=4, _rx_avg=0, _ry_avg=0, _xc_avg=0, _yc_avg=0)\n",
      " |      Calculate Stokes parameters from Electric Field\n",
      " |  \n",
      " |  copy_comp(self, _stokes)\n",
      " |      Copy compenents of Electric Field to Stokes structure\n",
      " |  \n",
      " |  delE(self, _type=0, _treatEX=1, _treatEY=1)\n",
      " |      Delete Electric Field data\n",
      " |      :param _type: type of data to be deleted: 0- arEx, arEy, arExAux, arEyAux; 1- arEx, arEy only; 2- arExAux, arEyAux only\n",
      " |      :param _treatEX: switch specifying whether Ex data should be deleted or not (1 or 0)\n",
      " |      :param _treatEY: switch specifying whether Ey data should be deleted or not (1 or 0)\n",
      " |  \n",
      " |  ----------------------------------------------------------------------\n",
      " |  Data descriptors defined here:\n",
      " |  \n",
      " |  __dict__\n",
      " |      dictionary for instance variables (if defined)\n",
      " |  \n",
      " |  __weakref__\n",
      " |      list of weak references to the object (if defined)\n",
      "\n"
     ]
    }
   ],
   "source": [
    "print('wfr0.mesh.xStart = ', wfr0.mesh.xStart)\n",
    "print('wfr0.mesh.eStart = ', wfr0.mesh.eStart)\n",
    "print('wfr0.mesh.eFin = ', wfr0.mesh.eFin)\n",
    "print('wfr0.mesh.ne = ', wfr0.mesh.ne)\n",
    "\n",
    "help(wfr0)"
   ]
  },
  {
   "cell_type": "code",
   "execution_count": 8,
   "id": "ce5ddc95-1e14-4c22-aff1-e59eb2a873c5",
   "metadata": {},
   "outputs": [],
   "source": [
    "wfr3 = srwlib.SRWLWfr(_arEx=wfr0.arEy, _arEy=wfr0.arEx, _typeE='f', \n",
    "                      _eStart=wfr0.mesh.eStart, _eFin=wfr0.mesh.eFin, _ne=wfr0.mesh.ne, \n",
    "                      _xStart=wfr0.mesh.xStart, _xFin=wfr0.mesh.xFin, _nx=wfr0.mesh.nx, \n",
    "                      _yStart=wfr0.mesh.yStart, _yFin=wfr0.mesh.yFin, _ny=wfr0.mesh.ny, \n",
    "                      _zStart=0., _partBeam=None)\n",
    "# print('wfr3.arEy = ', wfr3.arEy)"
   ]
  },
  {
   "cell_type": "code",
   "execution_count": 9,
   "id": "b8049840-eff5-43d0-b157-56cc48f367d3",
   "metadata": {},
   "outputs": [
    {
     "name": "stdout",
     "output_type": "stream",
     "text": [
      "Size of initial wavefront data array (coordinate): (40, 40)\n"
     ]
    },
    {
     "data": {
      "image/png": "[encoded data removed]",
      "text/plain": [
       "<Figure size 864x504 with 2 Axes>"
      ]
     },
     "metadata": {
      "needs_background": "light"
     },
     "output_type": "display_data"
    }
   ],
   "source": [
    "# plot intensity of the hand-built wavefront\n",
    "intensity = srwlib.array('f', [0]*wfr3.mesh.nx*wfr3.mesh.ny) # \"flat\" array to take 2D intensity data\n",
    "srwl.CalcIntFromElecField(intensity, wfr3, 6, 0, 3, wfr3.mesh.eStart, 0, 0) #extracts intensity\n",
    "\n",
    "##Reshaping electric field data from flat to 2D array\n",
    "intens_2d = np.array(intensity).reshape((wfr3.mesh.nx, wfr3.mesh.ny), order='C')\n",
    "wfrsizei=np.size(intensity)\n",
    "\n",
    "print('Size of initial wavefront data array (coordinate):',np.shape(intens_2d))\n",
    "x3 = np.linspace(wfr3.mesh.xStart, wfr3.mesh.xFin, wfr3.mesh.nx)\n",
    "y3 = np.linspace(wfr3.mesh.yStart, wfr3.mesh.yFin, wfr3.mesh.ny)\n",
    "\n",
    "fig = plt.figure(figsize=(12,7))\n",
    "ax = fig.gca()\n",
    "\n",
    "plt.pcolormesh(np.multiply(x3,1e6), np.multiply(y3,1e6), intens_2d, cmap=plt.cm.viridis,shading='auto')\n",
    "plt.colorbar()\n",
    "\n",
    "ax.set_ylabel(r'Vertical Position [$\\mu m$]')\n",
    "ax.set_xlabel(r'Horizontal Position [$\\mu m$]')\n",
    "ax.set_title('Intensity')\n",
    "plt.show()"
   ]
  },
  {
   "cell_type": "code",
   "execution_count": 10,
   "id": "7d25cf11-4134-438b-9325-55d5aa9293d4",
   "metadata": {},
   "outputs": [],
   "source": [
    "wfr4 = srwlib.SRWLWfr(_arEx=wfr0.arEy, _arEy=wfr0.arEx, _typeE='f', \n",
    "                      _eStart=wfr0.mesh.eStart, _eFin=wfr0.mesh.eFin, _ne=wfr0.mesh.ne, \n",
    "                      _xStart=-400e-6, _xFin=400e-6, _nx=wfr0.mesh.nx, \n",
    "                      _yStart=0., _yFin=1.e-3, _ny=wfr0.mesh.ny, \n",
    "                      _zStart=0., _partBeam=None)\n",
    "# print('wfr4.arEy = ', wfr4.arEy)"
   ]
  },
  {
   "cell_type": "code",
   "execution_count": 11,
   "id": "30c6c6ee-2eaf-4847-806b-8730bd4b29c7",
   "metadata": {},
   "outputs": [
    {
     "name": "stdout",
     "output_type": "stream",
     "text": [
      "Size of initial wavefront data array (coordinate): (40, 40)\n"
     ]
    },
    {
     "data": {
      "image/png": "[encoded data removed]",
      "text/plain": [
       "<Figure size 864x504 with 2 Axes>"
      ]
     },
     "metadata": {
      "needs_background": "light"
     },
     "output_type": "display_data"
    }
   ],
   "source": [
    "# plot intensity of the hand-built wavefront\n",
    "intensity = srwlib.array('f', [0]*wfr4.mesh.nx*wfr4.mesh.ny) # \"flat\" array to take 2D intensity data\n",
    "srwl.CalcIntFromElecField(intensity, wfr4, 6, 0, 3, wfr4.mesh.eStart, 0, 0) #extracts intensity\n",
    "\n",
    "##Reshaping electric field data from flat to 2D array\n",
    "intens_2d_4 = np.array(intensity).reshape((wfr4.mesh.nx, wfr4.mesh.ny), order='C')\n",
    "wfrsizei=np.size(intensity)\n",
    "\n",
    "print('Size of initial wavefront data array (coordinate):',np.shape(intens_2d))\n",
    "x4 = np.linspace(wfr4.mesh.xStart, wfr4.mesh.xFin, wfr4.mesh.nx)\n",
    "y4 = np.linspace(wfr4.mesh.yStart, wfr4.mesh.yFin, wfr4.mesh.ny)\n",
    "\n",
    "fig = plt.figure(figsize=(12,7))\n",
    "ax = fig.gca()\n",
    "\n",
    "plt.pcolormesh(np.multiply(x4,1e6), np.multiply(y4,1e6), intens_2d_4, cmap=plt.cm.viridis,shading='auto')\n",
    "plt.colorbar()\n",
    "\n",
    "ax.set_ylabel(r'Vertical Position [$\\mu m$]')\n",
    "ax.set_xlabel(r'Horizontal Position [$\\mu m$]')\n",
    "ax.set_title('Intensity')\n",
    "plt.show()"
   ]
  },
  {
   "cell_type": "code",
   "execution_count": null,
   "id": "5e7f16a0-386d-4421-869d-5de3f1278af3",
   "metadata": {},
   "outputs": [],
   "source": []
  }
 ],
 "metadata": {
  "kernelspec": {
   "display_name": "Python 3",
   "language": "python",
   "name": "py3"
  },
  "language_info": {
   "codemirror_mode": {
    "name": "ipython",
    "version": 3
   },
   "file_extension": ".py",
   "mimetype": "text/x-python",
   "name": "python",
   "nbconvert_exporter": "python",
   "pygments_lexer": "ipython3",
   "version": "3.7.2"
  }
 },
 "nbformat": 4,
 "nbformat_minor": 5
}
