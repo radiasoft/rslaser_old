{
 "cells": [
  {
   "cell_type": "markdown",
   "metadata": {
    "tags": []
   },
   "source": [
    "Linear Optics Phase Calculation for the BELLA Laser Experiment"
   ]
  },
  {
   "cell_type": "markdown",
   "metadata": {
    "tags": []
   },
   "source": [
    "Boaz Nash, _RadiaSoft LLC_"
   ]
  },
  {
   "cell_type": "markdown",
   "metadata": {
    "tags": []
   },
   "source": [
    "#### Imports and definitions"
   ]
  },
  {
   "cell_type": "code",
   "execution_count": 1,
   "metadata": {},
   "outputs": [],
   "source": [
    "import numpy as np\n",
    "\n",
    "import matplotlib.pyplot as plt\n",
    "\n",
    "from IPython.display import Markdown, display\n",
    "def printmd(string):\n",
    "    display(Markdown(string))"
   ]
  },
  {
   "cell_type": "markdown",
   "metadata": {},
   "source": [
    "$$M_T = M_d \\bar M_c M_c^{-1} M_d^{-1}$$"
   ]
  },
  {
   "cell_type": "markdown",
   "metadata": {
    "tags": []
   },
   "source": [
    "#### Calculate alpha over range of n2 values"
   ]
  },
  {
   "cell_type": "code",
   "execution_count": 2,
   "metadata": {},
   "outputs": [],
   "source": [
    "# define n0\n",
    "n0 = 1.76\n",
    "#n2=1.6e-3 #cm^-2\n",
    "#n2 = 16 #m^-2 from Fenics calculation\n",
    "#n2 = 15.38\n",
    "# n2 = 11.76\n",
    "# n2 = 1.75\n"
   ]
  },
  {
   "cell_type": "code",
   "execution_count": 3,
   "metadata": {},
   "outputs": [
    {
     "name": "stdout",
     "output_type": "stream",
     "text": [
      "Rayleigh range[m] 6.637527140690282\n",
      "sigma_theta[rad] 9.792803648444322e-05\n",
      "Sigma matrix without pumping: [[4.22500000e-07 0.00000000e+00]\n",
      " [0.00000000e+00 9.58990033e-09]]\n"
     ]
    }
   ],
   "source": [
    "# define beam size, wavelength, and calculate initial moments\n",
    "\n",
    "#sigmax = 64e-6 #rms beam size [m]\n",
    "#sigmax = 1e-3\n",
    "w0=1.3e-3 #beamsize at WFS in [m] from the fit in data02\n",
    "#sigma = 0.5 w0\n",
    "sigmax = 0.5*w0\n",
    "lambda_rad = 799.89e-9 #wavelength [m]\n",
    "Zr = np.pi*w0**2/lambda_rad\n",
    "sigtheta = lambda_rad/(4*np.pi*sigmax) #rms divergence [rad]\n",
    "\n",
    "sigmai = np.array( [[sigmax**2, 0], [0, sigtheta**2] ] ) \n",
    "\n",
    "print(\"Rayleigh range[m]\",Zr)\n",
    "print(\"sigma_theta[rad]\",sigtheta)\n",
    "print(\"Sigma matrix without pumping:\",sigmai)\n",
    "# print(\"sigmaf:\",sigmaf)"
   ]
  },
  {
   "cell_type": "code",
   "execution_count": 4,
   "metadata": {},
   "outputs": [],
   "source": [
    "flen_front = 4.4 #measured front of crystal focal length from thermal bulging\n",
    "flen_back = 6.2 #measured back of crystal focal length from thermal bulging\n",
    "f = flen_back\n",
    "\n",
    "Lc = 0.025\n",
    "#Ld = 0.5\n",
    "Ld = 0.5\n",
    "Matcinv = np.array( [[ 1, -Lc/n0], [0, 1]])\n"
   ]
  },
  {
   "cell_type": "code",
   "execution_count": 5,
   "metadata": {},
   "outputs": [
    {
     "data": {
      "text/markdown": [
       "$M_{ABCD}$: [[ 0.99366141  0.00321452]\n",
       " [-0.01249963  1.00633859]]"
      ],
      "text/plain": [
       "<IPython.core.display.Markdown object>"
      ]
     },
     "metadata": {},
     "output_type": "display_data"
    },
    {
     "name": "stdout",
     "output_type": "stream",
     "text": [
      "n2: 0.5, alpha: 0.0062525\n"
     ]
    },
    {
     "data": {
      "text/markdown": [
       "$M_{ABCD}$: [[ 0.98732319  0.00642886]\n",
       " [-0.02499852  1.0126768 ]]"
      ],
      "text/plain": [
       "<IPython.core.display.Markdown object>"
      ]
     },
     "metadata": {},
     "output_type": "display_data"
    },
    {
     "name": "stdout",
     "output_type": "stream",
     "text": [
      "n2: 1, alpha: 0.0125839\n"
     ]
    },
    {
     "data": {
      "text/markdown": [
       "$M_{ABCD}$: [[ 0.98098534  0.009643  ]\n",
       " [-0.03749667  1.01901464]]"
      ],
      "text/plain": [
       "<IPython.core.display.Markdown object>"
      ]
     },
     "metadata": {},
     "output_type": "display_data"
    },
    {
     "name": "stdout",
     "output_type": "stream",
     "text": [
      "n2: 1.5, alpha: 0.0189958\n"
     ]
    },
    {
     "data": {
      "text/markdown": [
       "$M_{ABCD}$: [[ 0.97464787  0.01285695]\n",
       " [-0.04999408  1.02535209]]"
      ],
      "text/plain": [
       "<IPython.core.display.Markdown object>"
      ]
     },
     "metadata": {},
     "output_type": "display_data"
    },
    {
     "name": "stdout",
     "output_type": "stream",
     "text": [
      "n2: 2, alpha: 0.0254897\n"
     ]
    },
    {
     "data": {
      "text/markdown": [
       "$M_{ABCD}$: [[ 0.96831076  0.01607072]\n",
       " [-0.06249075  1.03168917]]"
      ],
      "text/plain": [
       "<IPython.core.display.Markdown object>"
      ]
     },
     "metadata": {},
     "output_type": "display_data"
    },
    {
     "name": "stdout",
     "output_type": "stream",
     "text": [
      "n2: 2.5, alpha: 0.032067\n"
     ]
    },
    {
     "data": {
      "text/markdown": [
       "$M_{ABCD}$: [[ 0.96197403  0.01928429]\n",
       " [-0.07498668  1.03802587]]"
      ],
      "text/plain": [
       "<IPython.core.display.Markdown object>"
      ]
     },
     "metadata": {},
     "output_type": "display_data"
    },
    {
     "name": "stdout",
     "output_type": "stream",
     "text": [
      "n2: 3, alpha: 0.0387296\n"
     ]
    },
    {
     "data": {
      "text/markdown": [
       "$M_{ABCD}$: [[ 0.95563768  0.02249767]\n",
       " [-0.08748188  1.04436219]]"
      ],
      "text/plain": [
       "<IPython.core.display.Markdown object>"
      ]
     },
     "metadata": {},
     "output_type": "display_data"
    },
    {
     "name": "stdout",
     "output_type": "stream",
     "text": [
      "n2: 3.5, alpha: 0.0454789\n"
     ]
    },
    {
     "data": {
      "text/markdown": [
       "$M_{ABCD}$: [[ 0.94930169  0.02571087]\n",
       " [-0.09997633  1.05069814]]"
      ],
      "text/plain": [
       "<IPython.core.display.Markdown object>"
      ]
     },
     "metadata": {},
     "output_type": "display_data"
    },
    {
     "name": "stdout",
     "output_type": "stream",
     "text": [
      "n2: 4, alpha: 0.0523167\n"
     ]
    },
    {
     "data": {
      "text/markdown": [
       "$M_{ABCD}$: [[ 0.94296608  0.02892387]\n",
       " [-0.11247004  1.05703371]]"
      ],
      "text/plain": [
       "<IPython.core.display.Markdown object>"
      ]
     },
     "metadata": {},
     "output_type": "display_data"
    },
    {
     "name": "stdout",
     "output_type": "stream",
     "text": [
      "n2: 4.5, alpha: 0.0592448\n"
     ]
    },
    {
     "data": {
      "text/markdown": [
       "$M_{ABCD}$: [[ 0.93663084  0.03213668]\n",
       " [-0.12496301  1.0633689 ]]"
      ],
      "text/plain": [
       "<IPython.core.display.Markdown object>"
      ]
     },
     "metadata": {},
     "output_type": "display_data"
    },
    {
     "name": "stdout",
     "output_type": "stream",
     "text": [
      "n2: 5, alpha: 0.0662649\n"
     ]
    },
    {
     "data": {
      "text/markdown": [
       "$M_{ABCD}$: [[ 0.93029597  0.0353493 ]\n",
       " [-0.13745525  1.06970371]]"
      ],
      "text/plain": [
       "<IPython.core.display.Markdown object>"
      ]
     },
     "metadata": {},
     "output_type": "display_data"
    },
    {
     "name": "stdout",
     "output_type": "stream",
     "text": [
      "n2: 5.5, alpha: 0.0733789\n"
     ]
    },
    {
     "data": {
      "text/markdown": [
       "$M_{ABCD}$: [[ 0.92396148  0.03856173]\n",
       " [-0.14994674  1.07603814]]"
      ],
      "text/plain": [
       "<IPython.core.display.Markdown object>"
      ]
     },
     "metadata": {},
     "output_type": "display_data"
    },
    {
     "name": "stdout",
     "output_type": "stream",
     "text": [
      "n2: 6, alpha: 0.0805886\n"
     ]
    },
    {
     "data": {
      "text/markdown": [
       "$M_{ABCD}$: [[ 0.91762736  0.04177398]\n",
       " [-0.16243749  1.0823722 ]]"
      ],
      "text/plain": [
       "<IPython.core.display.Markdown object>"
      ]
     },
     "metadata": {},
     "output_type": "display_data"
    },
    {
     "name": "stdout",
     "output_type": "stream",
     "text": [
      "n2: 6.5, alpha: 0.087896\n"
     ]
    },
    {
     "data": {
      "text/markdown": [
       "$M_{ABCD}$: [[ 0.91129361  0.04498603]\n",
       " [-0.17492751  1.08870588]]"
      ],
      "text/plain": [
       "<IPython.core.display.Markdown object>"
      ]
     },
     "metadata": {},
     "output_type": "display_data"
    },
    {
     "name": "stdout",
     "output_type": "stream",
     "text": [
      "n2: 7, alpha: 0.095303\n"
     ]
    },
    {
     "data": {
      "text/markdown": [
       "$M_{ABCD}$: [[ 0.90496023  0.04819789]\n",
       " [-0.18741678  1.09503918]]"
      ],
      "text/plain": [
       "<IPython.core.display.Markdown object>"
      ]
     },
     "metadata": {},
     "output_type": "display_data"
    },
    {
     "name": "stdout",
     "output_type": "stream",
     "text": [
      "n2: 7.5, alpha: 0.102812\n"
     ]
    },
    {
     "data": {
      "text/markdown": [
       "$M_{ABCD}$: [[ 0.89862722  0.05140956]\n",
       " [-0.19990532  1.1013721 ]]"
      ],
      "text/plain": [
       "<IPython.core.display.Markdown object>"
      ]
     },
     "metadata": {},
     "output_type": "display_data"
    },
    {
     "name": "stdout",
     "output_type": "stream",
     "text": [
      "n2: 8, alpha: 0.110424\n"
     ]
    },
    {
     "data": {
      "text/markdown": [
       "$M_{ABCD}$: [[ 0.89229459  0.05462104]\n",
       " [-0.21239311  1.10770465]]"
      ],
      "text/plain": [
       "<IPython.core.display.Markdown object>"
      ]
     },
     "metadata": {},
     "output_type": "display_data"
    },
    {
     "name": "stdout",
     "output_type": "stream",
     "text": [
      "n2: 8.5, alpha: 0.118143\n"
     ]
    },
    {
     "data": {
      "text/markdown": [
       "$M_{ABCD}$: [[ 0.88596233  0.05783233]\n",
       " [-0.22488017  1.11403682]]"
      ],
      "text/plain": [
       "<IPython.core.display.Markdown object>"
      ]
     },
     "metadata": {},
     "output_type": "display_data"
    },
    {
     "name": "stdout",
     "output_type": "stream",
     "text": [
      "n2: 9, alpha: 0.125969\n"
     ]
    },
    {
     "data": {
      "text/markdown": [
       "$M_{ABCD}$: [[ 0.87963044  0.06104343]\n",
       " [-0.23736648  1.12036861]]"
      ],
      "text/plain": [
       "<IPython.core.display.Markdown object>"
      ]
     },
     "metadata": {},
     "output_type": "display_data"
    },
    {
     "name": "stdout",
     "output_type": "stream",
     "text": [
      "n2: 9.5, alpha: 0.133906\n"
     ]
    },
    {
     "data": {
      "text/markdown": [
       "$M_{ABCD}$: [[ 0.87329893  0.06425434]\n",
       " [-0.24985206  1.12670002]]"
      ],
      "text/plain": [
       "<IPython.core.display.Markdown object>"
      ]
     },
     "metadata": {},
     "output_type": "display_data"
    },
    {
     "name": "stdout",
     "output_type": "stream",
     "text": [
      "n2: 10, alpha: 0.141956\n"
     ]
    },
    {
     "data": {
      "text/markdown": [
       "$M_{ABCD}$: [[ 0.86696778  0.06746506]\n",
       " [-0.2623369   1.13303106]]"
      ],
      "text/plain": [
       "<IPython.core.display.Markdown object>"
      ]
     },
     "metadata": {},
     "output_type": "display_data"
    },
    {
     "name": "stdout",
     "output_type": "stream",
     "text": [
      "n2: 10.5, alpha: 0.150121\n"
     ]
    },
    {
     "data": {
      "text/markdown": [
       "$M_{ABCD}$: [[ 0.86063701  0.07067559]\n",
       " [-0.274821    1.13936172]]"
      ],
      "text/plain": [
       "<IPython.core.display.Markdown object>"
      ]
     },
     "metadata": {},
     "output_type": "display_data"
    },
    {
     "name": "stdout",
     "output_type": "stream",
     "text": [
      "n2: 11, alpha: 0.158403\n"
     ]
    },
    {
     "data": {
      "text/markdown": [
       "$M_{ABCD}$: [[ 0.85430661  0.07388593]\n",
       " [-0.28730436  1.145692  ]]"
      ],
      "text/plain": [
       "<IPython.core.display.Markdown object>"
      ]
     },
     "metadata": {},
     "output_type": "display_data"
    },
    {
     "name": "stdout",
     "output_type": "stream",
     "text": [
      "n2: 11.5, alpha: 0.166806\n"
     ]
    },
    {
     "data": {
      "text/markdown": [
       "$M_{ABCD}$: [[ 0.84797659  0.07709608]\n",
       " [-0.29978698  1.1520219 ]]"
      ],
      "text/plain": [
       "<IPython.core.display.Markdown object>"
      ]
     },
     "metadata": {},
     "output_type": "display_data"
    },
    {
     "name": "stdout",
     "output_type": "stream",
     "text": [
      "n2: 12, alpha: 0.175331\n"
     ]
    },
    {
     "data": {
      "text/markdown": [
       "$M_{ABCD}$: [[ 0.84164693  0.08030604]\n",
       " [-0.31226886  1.15835143]]"
      ],
      "text/plain": [
       "<IPython.core.display.Markdown object>"
      ]
     },
     "metadata": {},
     "output_type": "display_data"
    },
    {
     "name": "stdout",
     "output_type": "stream",
     "text": [
      "n2: 12.5, alpha: 0.183982\n"
     ]
    },
    {
     "data": {
      "text/markdown": [
       "$M_{ABCD}$: [[ 0.83531765  0.08351581]\n",
       " [-0.32475     1.16468057]]"
      ],
      "text/plain": [
       "<IPython.core.display.Markdown object>"
      ]
     },
     "metadata": {},
     "output_type": "display_data"
    },
    {
     "name": "stdout",
     "output_type": "stream",
     "text": [
      "n2: 13, alpha: 0.192761\n"
     ]
    },
    {
     "data": {
      "text/markdown": [
       "$M_{ABCD}$: [[ 0.82898874  0.08672539]\n",
       " [-0.3372304   1.17100935]]"
      ],
      "text/plain": [
       "<IPython.core.display.Markdown object>"
      ]
     },
     "metadata": {},
     "output_type": "display_data"
    },
    {
     "name": "stdout",
     "output_type": "stream",
     "text": [
      "n2: 13.5, alpha: 0.201671\n"
     ]
    },
    {
     "data": {
      "text/markdown": [
       "$M_{ABCD}$: [[ 0.8226602   0.08993478]\n",
       " [-0.34971006  1.17733774]]"
      ],
      "text/plain": [
       "<IPython.core.display.Markdown object>"
      ]
     },
     "metadata": {},
     "output_type": "display_data"
    },
    {
     "name": "stdout",
     "output_type": "stream",
     "text": [
      "n2: 14, alpha: 0.210716\n"
     ]
    },
    {
     "data": {
      "text/markdown": [
       "$M_{ABCD}$: [[ 0.81633204  0.09314398]\n",
       " [-0.36218899  1.18366575]]"
      ],
      "text/plain": [
       "<IPython.core.display.Markdown object>"
      ]
     },
     "metadata": {},
     "output_type": "display_data"
    },
    {
     "name": "stdout",
     "output_type": "stream",
     "text": [
      "n2: 14.5, alpha: 0.219897\n"
     ]
    },
    {
     "data": {
      "text/markdown": [
       "$M_{ABCD}$: [[ 0.81000424  0.09635299]\n",
       " [-0.37466717  1.18999339]]"
      ],
      "text/plain": [
       "<IPython.core.display.Markdown object>"
      ]
     },
     "metadata": {},
     "output_type": "display_data"
    },
    {
     "name": "stdout",
     "output_type": "stream",
     "text": [
      "n2: 15, alpha: 0.229218\n"
     ]
    },
    {
     "data": {
      "text/markdown": [
       "$M_{ABCD}$: [[ 0.80367682  0.09956181]\n",
       " [-0.38714461  1.19632065]]"
      ],
      "text/plain": [
       "<IPython.core.display.Markdown object>"
      ]
     },
     "metadata": {},
     "output_type": "display_data"
    },
    {
     "name": "stdout",
     "output_type": "stream",
     "text": [
      "n2: 15.5, alpha: 0.238682\n"
     ]
    },
    {
     "data": {
      "text/markdown": [
       "$M_{ABCD}$: [[ 0.79734978  0.10277044]\n",
       " [-0.39962132  1.20264753]]"
      ],
      "text/plain": [
       "<IPython.core.display.Markdown object>"
      ]
     },
     "metadata": {},
     "output_type": "display_data"
    },
    {
     "name": "stdout",
     "output_type": "stream",
     "text": [
      "n2: 16, alpha: 0.248294\n"
     ]
    },
    {
     "data": {
      "text/markdown": [
       "$M_{ABCD}$: [[ 0.7910231   0.10597888]\n",
       " [-0.41209729  1.20897404]]"
      ],
      "text/plain": [
       "<IPython.core.display.Markdown object>"
      ]
     },
     "metadata": {},
     "output_type": "display_data"
    },
    {
     "name": "stdout",
     "output_type": "stream",
     "text": [
      "n2: 16.5, alpha: 0.258055\n"
     ]
    },
    {
     "data": {
      "text/markdown": [
       "$M_{ABCD}$: [[ 0.7846968   0.10918712]\n",
       " [-0.42457251  1.21530017]]"
      ],
      "text/plain": [
       "<IPython.core.display.Markdown object>"
      ]
     },
     "metadata": {},
     "output_type": "display_data"
    },
    {
     "name": "stdout",
     "output_type": "stream",
     "text": [
      "n2: 17, alpha: 0.267969\n"
     ]
    },
    {
     "data": {
      "text/markdown": [
       "$M_{ABCD}$: [[ 0.77837086  0.11239518]\n",
       " [-0.437047    1.22162592]]"
      ],
      "text/plain": [
       "<IPython.core.display.Markdown object>"
      ]
     },
     "metadata": {},
     "output_type": "display_data"
    },
    {
     "name": "stdout",
     "output_type": "stream",
     "text": [
      "n2: 17.5, alpha: 0.278041\n"
     ]
    },
    {
     "data": {
      "text/markdown": [
       "$M_{ABCD}$: [[ 0.7720453   0.11560305]\n",
       " [-0.44952075  1.22795129]]"
      ],
      "text/plain": [
       "<IPython.core.display.Markdown object>"
      ]
     },
     "metadata": {},
     "output_type": "display_data"
    },
    {
     "name": "stdout",
     "output_type": "stream",
     "text": [
      "n2: 18, alpha: 0.288274\n"
     ]
    },
    {
     "data": {
      "text/markdown": [
       "$M_{ABCD}$: [[ 0.76572012  0.11881073]\n",
       " [-0.46199376  1.23427629]]"
      ],
      "text/plain": [
       "<IPython.core.display.Markdown object>"
      ]
     },
     "metadata": {},
     "output_type": "display_data"
    },
    {
     "name": "stdout",
     "output_type": "stream",
     "text": [
      "n2: 18.5, alpha: 0.298671\n"
     ]
    },
    {
     "data": {
      "text/markdown": [
       "$M_{ABCD}$: [[ 0.7593953   0.12201822]\n",
       " [-0.47446603  1.24060091]]"
      ],
      "text/plain": [
       "<IPython.core.display.Markdown object>"
      ]
     },
     "metadata": {},
     "output_type": "display_data"
    },
    {
     "name": "stdout",
     "output_type": "stream",
     "text": [
      "n2: 19, alpha: 0.309237\n"
     ]
    },
    {
     "data": {
      "text/markdown": [
       "$M_{ABCD}$: [[ 0.75307086  0.12522552]\n",
       " [-0.48693756  1.24692515]]"
      ],
      "text/plain": [
       "<IPython.core.display.Markdown object>"
      ]
     },
     "metadata": {},
     "output_type": "display_data"
    },
    {
     "name": "stdout",
     "output_type": "stream",
     "text": [
      "n2: 19.5, alpha: 0.319976\n"
     ]
    },
    {
     "data": {
      "text/markdown": [
       "$M_{ABCD}$: [[ 0.74674679  0.12843263]\n",
       " [-0.49940835  1.25324901]]"
      ],
      "text/plain": [
       "<IPython.core.display.Markdown object>"
      ]
     },
     "metadata": {},
     "output_type": "display_data"
    },
    {
     "name": "stdout",
     "output_type": "stream",
     "text": [
      "n2: 20, alpha: 0.330891\n"
     ]
    }
   ],
   "source": [
    "# define array of n2 values and calculate corresponding alpha values\n",
    "\n",
    "n_n2 = 40\n",
    "n2_min = 0.5\n",
    "n2_max = 20\n",
    "n2_vals = np.linspace(n2_min, n2_max, n_n2)\n",
    "\n",
    "alpha_vals = []\n",
    "\n",
    "for n2 in n2_vals:\n",
    "\n",
    "    \n",
    "    gamma = np.sqrt(n2/n0)\n",
    "    A = np.cos(gamma*Lc)\n",
    "    B = 1/(n0 * gamma) * np.sin(gamma*Lc)\n",
    "    C = -n0 * gamma * np.sin(gamma * Lc)\n",
    "    D = np.cos(gamma*Lc)\n",
    "    Matcbar = np.array( [[ A, B], [C, D]] )\n",
    "    Matd = np.array( [[ 1, Ld], [0, 1]] )\n",
    "    Matdinv = np.array( [[ 1, -Ld], [0, 1]] )\n",
    "    Mat_tl = np.array( [[ 1, 0], [-1/f, 1]] )\n",
    "    Mat_tl_front = np.array( [[ 1, 0], [-1/flen_front, 1]] )\n",
    "    Mat_tlinv = np.array( [[ 1, 0], [1/f, 1]] )\n",
    "    MatId = np.array( [[1, 0], [0, 1]] )\n",
    "    Mattot0 = np.matmul(np.matmul(np.matmul(Matd,Matcbar),Matcinv),Matdinv)\n",
    "    #Mattot1 = np.matmul(np.matmul(np.matmul(np.matmul(np.matmul(Matd,Mat_tl),Matcbar),Matcinv),Mat_tlinv),Matdinv)\n",
    "    #Mattot1 = np.matmul(np.matmul(np.matmul(np.matmul(np.matmul(Matd,Mat_tl),Matcbar),Matcinv),Mat_tl),Matdinv)\n",
    "    Mattot1 = np.matmul(np.matmul(np.matmul(np.matmul(np.matmul(np.matmul(Matd,Mat_tl),Matcbar),Mat_tl_front),Matcinv),Mat_tl),Matdinv)\n",
    "\n",
    "    # print(gamma)\n",
    "    # print(Mattot0)\n",
    "    printmd('$M_{ABCD}$: %s' %(Mattot0))\n",
    "    Mattot = Mattot0\n",
    "    \n",
    "    sigmaf = np.matmul(np.matmul(Mattot, sigmai),np.transpose(Mattot))\n",
    "    \n",
    "    alpha = -0.5* sigmaf[0,1]/sigmaf[0,0]\n",
    "    print('n2: %g, alpha: %g' %(n2, alpha))\n",
    "    \n",
    "    alpha_vals.append(alpha)"
   ]
  },
  {
   "cell_type": "markdown",
   "metadata": {},
   "source": [
    "#### Calculate alpha via overall ABCD matrix"
   ]
  },
  {
   "cell_type": "code",
   "execution_count": 6,
   "metadata": {},
   "outputs": [
    {
     "name": "stdout",
     "output_type": "stream",
     "text": [
      "det(ABCD): 1\n",
      "alpha_abcd: 0.176284\n"
     ]
    }
   ],
   "source": [
    "# define ABCD matrix from values calculated by multiplying component ABCD matrices in thermal simulation [cm]\n",
    "# A = 9.99685237e-01\n",
    "# B = 1.42040659 / 1e2        # divide by 1e2 to convert cm to m\n",
    "# C = -3.20164929e-04 * 1e2    # multiply by 1e2 to convert 1/cm to 1/m\n",
    "# D = 9.99859955e-01\n",
    "\n",
    "# from thermal simulation (K_c = 0.33 [W/cm/K], standard BELLA params) \n",
    "A = 9.98822400e-01\n",
    "B = 1.42013835 / 1e2\n",
    "C = -1.19776239e-03 * 1e2\n",
    "D = 9.99475995e-01\n",
    "\n",
    "# # from thermal simulation (K_c = 0.14 [W/cm/K], standard BELLA params - yields alpha_pi in agreement with alpha_pi_JVT) \n",
    "# A = 0.99721995\n",
    "# B = 1.41960963 / 1e2\n",
    "# C = -0.00282665 * 1e2\n",
    "# D = 0.99876387\n",
    "\n",
    "# A = 0.99765495\n",
    "# B = 1.41975385 / 1e2\n",
    "# C = -0.0023775 * 1e2\n",
    "# D = 0.99896716\n",
    "\n",
    "# A = 0.97544003\n",
    "# B = 0.01245522\n",
    "# C = -0.04843195\n",
    "# D = 1.02455993\n",
    "\n",
    "print('det(ABCD): %g' %(A*D - B*C))\n",
    "\n",
    "flen_front = 5                       # focal length [m] of lens at crystal entrance face\n",
    "flen_back = flen_front / 12          # focal length [m] of lens at crystal end face\n",
    "\n",
    "Matcbar = np.array( [[ A, B], [C, D]] )                       # propagation through crystal with focusing\n",
    "Matd = np.array( [[ 1, Ld], [0, 1]] )                         # drift (distance between crystal and wfs)\n",
    "Matdinv = np.array( [[ 1, -Ld], [0, 1]] )                     # inverse drift (distance between crystal and wfs)\n",
    "Mat_tl_back = np.array( [[ 1, 0], [-1/flen_back, 1]] )        # thin lens due to mech stress at crystal end face\n",
    "Mat_tl_front = np.array( [[ 1, 0], [-1/flen_front, 1]] )      # thin lens due to mech stress at crystal entrance face\n",
    "Mat_tl_back_inv = np.array( [[ 1, 0], [1/flen_back, 1]] )           # inverse of thin lens due to mech stress at crystal end face\n",
    "MatId = np.array( [[1, 0], [0, 1]] )                          # identity matrix\n",
    "Mattot0 = np.matmul(np.matmul(np.matmul(Matd,Matcbar),Matcinv),Matdinv)\n",
    "#Mattot1 = np.matmul(np.matmul(np.matmul(np.matmul(np.matmul(Matd,Mat_tl),Matcbar),Matcinv),Mat_tlinv),Matdinv)\n",
    "#Mattot1 = np.matmul(np.matmul(np.matmul(np.matmul(np.matmul(Matd,Mat_tl),Matcbar),Matcinv),Mat_tl),Matdinv)\n",
    "Mattot1 = np.matmul(np.matmul(np.matmul(np.matmul(np.matmul(np.matmul(Matd,Mat_tl_back),Matcbar),Mat_tl_front),Matcinv),Mat_tl_back_inv),Matdinv)\n",
    "\n",
    "# print(gamma)\n",
    "# print(Mattot0)\n",
    "Mattot = Mattot1\n",
    "\n",
    "sigmaf = np.matmul(np.matmul(Mattot, sigmai),np.transpose(Mattot))\n",
    "\n",
    "alpha_abcd = -0.5* sigmaf[0,1]/sigmaf[0,0]\n",
    "print('alpha_abcd: %g' %(alpha_abcd))"
   ]
  },
  {
   "cell_type": "markdown",
   "metadata": {
    "tags": []
   },
   "source": [
    "#### Calculate alpha via complex beam parameter, q"
   ]
  },
  {
   "cell_type": "code",
   "execution_count": 7,
   "metadata": {},
   "outputs": [
    {
     "name": "stdout",
     "output_type": "stream",
     "text": [
      "(-2.476591024703272+0.9248405310713015j)\n"
     ]
    }
   ],
   "source": [
    "#Compute initial q\n",
    "lambda_rad = 799.89e-9 #wavelength [m]\n",
    "lambdabar = lambda_rad/(2*np.pi)\n",
    "k = 1/lambdabar\n",
    "w0 = 1.64e-3 #beamsize at WFS in [m]\n",
    "sigmar = 0.5*w0\n",
    "q0 = 1j*np.pi*w0**2/lambda_rad\n",
    "A = Mattot[0,0]\n",
    "B = Mattot[0,1]\n",
    "C = Mattot[1,0]\n",
    "D = Mattot[1,1]\n",
    "qf = (A*q0 + B)/(C*q0 + D)\n",
    "print(qf)"
   ]
  },
  {
   "cell_type": "code",
   "execution_count": 8,
   "metadata": {},
   "outputs": [
    {
     "name": "stdout",
     "output_type": "stream",
     "text": [
      "alpha_q: 0.177182\n"
     ]
    }
   ],
   "source": [
    "bf = k*np.real(1/qf)\n",
    "alpha_q = -lambda_rad * bf/(4*np.pi)\n",
    "print('alpha_q: %g' %alpha_q)"
   ]
  },
  {
   "cell_type": "code",
   "execution_count": 9,
   "metadata": {},
   "outputs": [
    {
     "data": {
      "image/png": "[encoded data removed]",
      "text/plain": [
       "<Figure size 800x650 with 1 Axes>"
      ]
     },
     "metadata": {},
     "output_type": "display_data"
    }
   ],
   "source": [
    "# plot alpha vs n2\n",
    "fig = plt.figure(figsize=(8,6.5))\n",
    "ax = fig.gca()\n",
    "ax.plot(n2_vals, alpha_vals,'r.-', lw = 1)\n",
    "ax.set_xlabel(r'n$_2$ [$m^{-2}$]')\n",
    "ax.set_ylabel(r'phase curvature, $\\alpha$ [$\\mu m^{-1}$]')\n",
    "fig.show()"
   ]
  },
  {
   "cell_type": "code",
   "execution_count": 10,
   "metadata": {},
   "outputs": [
    {
     "name": "stdout",
     "output_type": "stream",
     "text": [
      "alpha_pi_jvt: 0.170068 [1/m], alpha_sigma_jvt: 0.105042 [1/m]\n",
      "alpha_pi_abcd: 0.176284 [1/m]\n"
     ]
    }
   ],
   "source": [
    "# measured focal lengths (as of 02012023) - convert to alpha values\n",
    "f_pi_jvt = 2.94       # focal length [m]\n",
    "f_sigma_jvt = 4.76    # focal length [m]\n",
    "\n",
    "alpha_pi_jvt = 1 / (2 * f_pi_jvt)\n",
    "alpha_sigma_jvt = 1 / (2 * f_sigma_jvt)\n",
    "\n",
    "print('alpha_pi_jvt: %g [1/m], alpha_sigma_jvt: %g [1/m]' %(alpha_pi_jvt, alpha_sigma_jvt))\n",
    "print('alpha_pi_abcd: %g [1/m]' %(alpha_abcd))"
   ]
  },
  {
   "cell_type": "code",
   "execution_count": 11,
   "metadata": {},
   "outputs": [
    {
     "name": "stdout",
     "output_type": "stream",
     "text": [
      "f_pi_jvt: 2.94 [m], f_pi_abcd: 2.83633 [m]\n"
     ]
    }
   ],
   "source": [
    "f_pi_abcd = 1 / 2 / alpha_abcd\n",
    "\n",
    "print('f_pi_jvt: %g [m], f_pi_abcd: %g [m]' %(f_pi_jvt, f_pi_abcd))"
   ]
  },
  {
   "cell_type": "markdown",
   "metadata": {},
   "source": [
    "#### Calculate radius of curvature and displacement required for thin lens via lens maker's equation - focal length agreement"
   ]
  },
  {
   "cell_type": "markdown",
   "metadata": {},
   "source": [
    "\\begin{equation}\n",
    "\\frac{1}{f} = \\frac{n_l - n_{air}}{n_{air}} \\left(\\frac{1}{R_1} - \\frac{1}{R_2} \\right)\n",
    "\\end{equation}\n",
    "where $R_1$ and $R_2$ are the front back radii of curvature respectively.\n",
    "\n",
    "Now let $R_2 \\rightarrow \\infty$, then\n",
    "\\begin{equation}\n",
    "\\frac{1}{f} = \\frac{n_l - n_{air}}{R_1 n_{air}}\n",
    "\\end{equation}\n",
    "\n",
    "\n",
    "For a more precise calculation, we may consider the more general formula,\n",
    "\\begin{equation}\n",
    "\\frac{1}{f} = (n_l - 1) \\left[\\frac{1}{R_1} - \\frac{1}{R_2} + \\frac{(n_l-1)d}{n_l R_1 R_2} \\right]\n",
    "\\end{equation}\n",
    "where d is the crystal length."
   ]
  },
  {
   "cell_type": "code",
   "execution_count": 12,
   "metadata": {},
   "outputs": [
    {
     "data": {
      "text/markdown": [
       "$R_1$ = 3.797 [m]"
      ],
      "text/plain": [
       "<IPython.core.display.Markdown object>"
      ]
     },
     "metadata": {},
     "output_type": "display_data"
    }
   ],
   "source": [
    "# define inputs for len's makers formula\n",
    "n_l = 1.75991         # index of refraction (n_0) for Ti-Sapphire\n",
    "n_air = 1.00029       # index of refraction for air\n",
    "\n",
    "# calculate radius of curvature for displacement at crystal entrance\n",
    "R_1 = flen_front * (n_l - n_air) / n_air\n",
    "\n",
    "printmd(r'$R_1$ = %g [m]' %(R_1))"
   ]
  },
  {
   "cell_type": "markdown",
   "metadata": {},
   "source": [
    "\\begin{equation}\n",
    "x = R - \\sqrt{R^2 - r^2} \n",
    "\\end{equation}"
   ]
  },
  {
   "cell_type": "code",
   "execution_count": 13,
   "metadata": {},
   "outputs": [
    {
     "data": {
      "text/markdown": [
       "diseplacement at crystal entrance: 3.29208 [$\\mu m$]"
      ],
      "text/plain": [
       "<IPython.core.display.Markdown object>"
      ]
     },
     "metadata": {},
     "output_type": "display_data"
    }
   ],
   "source": [
    "# calculate displacement at crystal entrance\n",
    "r_crystal = 0.005     # crystal radius [m]\n",
    "disp_ent = R_1 - np.sqrt(R_1**2 - r_crystal**2)\n",
    "printmd(r'diseplacement at crystal entrance: %g [$\\mu m$]' %(disp_ent*1e6))"
   ]
  },
  {
   "cell_type": "markdown",
   "metadata": {},
   "source": []
  },
  {
   "cell_type": "code",
   "execution_count": null,
   "metadata": {},
   "outputs": [],
   "source": []
  },
  {
   "cell_type": "code",
   "execution_count": null,
   "metadata": {},
   "outputs": [],
   "source": []
  },
  {
   "cell_type": "code",
   "execution_count": null,
   "metadata": {},
   "outputs": [],
   "source": []
  },
  {
   "cell_type": "code",
   "execution_count": null,
   "metadata": {},
   "outputs": [],
   "source": []
  },
  {
   "cell_type": "code",
   "execution_count": null,
   "metadata": {},
   "outputs": [],
   "source": []
  },
  {
   "cell_type": "code",
   "execution_count": null,
   "metadata": {},
   "outputs": [],
   "source": []
  },
  {
   "cell_type": "code",
   "execution_count": null,
   "metadata": {},
   "outputs": [],
   "source": []
  },
  {
   "cell_type": "code",
   "execution_count": null,
   "metadata": {},
   "outputs": [],
   "source": []
  },
  {
   "cell_type": "code",
   "execution_count": null,
   "metadata": {},
   "outputs": [],
   "source": []
  },
  {
   "cell_type": "code",
   "execution_count": null,
   "metadata": {},
   "outputs": [],
   "source": []
  },
  {
   "cell_type": "code",
   "execution_count": null,
   "metadata": {},
   "outputs": [],
   "source": []
  }
 ],
 "metadata": {
  "kernelspec": {
   "display_name": "Python 3",
   "language": "python",
   "name": "py3"
  },
  "language_info": {
   "codemirror_mode": {
    "name": "ipython",
    "version": 3
   },
   "file_extension": ".py",
   "mimetype": "text/x-python",
   "name": "python",
   "nbconvert_exporter": "python",
   "pygments_lexer": "ipython3",
   "version": "3.7.2"
  },
  "toc-autonumbering": false,
  "toc-showmarkdowntxt": false
 },
 "nbformat": 4,
 "nbformat_minor": 4
}
