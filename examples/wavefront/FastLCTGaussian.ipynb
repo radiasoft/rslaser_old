{
 "cells": [
  {
   "cell_type": "markdown",
   "id": "d48f1bd4-1990-4bd7-bb0d-31f254dd6819",
   "metadata": {
    "tags": []
   },
   "source": [
    "# Implement and Test Fast LCT Algorithms"
   ]
  },
  {
   "cell_type": "markdown",
   "id": "56cb6736-7832-4a3e-bde4-268c5d009a73",
   "metadata": {
    "tags": []
   },
   "source": [
    "## _Dan T. Abell, Boaz Nash (RadiaSoft LLC)_"
   ]
  },
  {
   "cell_type": "markdown",
   "id": "ae40d36f-3ce7-41c8-bada-a2db1937fc6c",
   "metadata": {
    "tags": []
   },
   "source": [
    "### References"
   ]
  },
  {
   "cell_type": "markdown",
   "id": "1418c58e-f2b8-46c5-b4c3-9ade62bcd24d",
   "metadata": {
    "tags": []
   },
   "source": [
    "<a id='references'></a>\n",
    "\n",
    "Herewith a collection of references. Most concern the linear canonical transform (LCT), with an emphasis on computation—and fast computation in particular. The two we consulted most heavily are references 8 and 9, which describe the 1D algorithm implemented here. Reference 2 describes a _very_ different algorithm, which might prove useful for comparison.\n",
    "\n",
    "<a id='ref:Alieva-2007-PropLCT'></a>\n",
    "1. T. Alieva and M.J. Bastiaans, ”Properties of the linear canonical integral transformation”, _J. Opt. Soc. Amer. A_, 24(11):3658–3665, Nov. 2007. [doi: 10.1364/JOSAA.24.003658](https://doi.org/10.1364/JOSAA.24.003658).\n",
    "<a id='ref:Campos-2011-FastLCT'></a>\n",
    "2. R.G. Campos and J. Figueroa, “A fast algorithm for the linear canonical transform”. _Signal Process._, 91(6):1444–1447, June 2011. [doi: 10.1016/j.sigpro.2010.07.007](https://doi.org/10.1016/j.sigpro.2010.07.007).\n",
    "<a id='ref:Gonnet-2011-RobustRatInterp'></a>\n",
    "3. P. Gonnet, R. Pachón, and L.N. Trefethen, “Robust rational interpolation and least-squares”, _Electron. Trans. Numer. Anal._, 38:146–167, 2011.\n",
    "<a id='ref:Healy-2010-FastLCT'></a>\n",
    "4. J.J. Healy and J.T. Sheridan, “Fast linear canonical transforms”, _J. Opt. Soc. Amer. A_, 27(1):21–30, Jan. 2010. [doi: 10.1364/JOSAA.27.000021](https://doi.org/10.1364/JOSAA.27.000021).\n",
    "<a id='ref:Healy-2016-LCTs'></a>\n",
    "5. J.J. Healy, M.A. Kutay, H.M. Ozaktas, and J.T. Sheridan, editors, _Linear Canonical Transforms: Theory and Applications_, volume 198 of _Springer Series in Optical Sciences_ (Springer, New York), 2016.\n",
    "<a id='ref:Hennelly-2005-GenNumLCT'></a>\n",
    "6. B.M. Hennelly and J.T. Sheridan, “Generalizing, optimizing, and inventing numerical algorithms for the fractional Fourier, Fresnel, and linear canonical transforms”, _J. Opt. Soc. Amer. A_, 22(5):917–927, May 2005a. [doi: 10.1364/JOSAA.22.000917](https://doi.org/10.1364/JOSAA.22.000917).\n",
    "<a id='ref:Hennelly-2005-FastLCT'></a>\n",
    "7. B.M. Hennelly and J.T. Sheridan, “Fast numerical algorithm for the linear canonical transform”, _J. Opt. Soc. Amer. A_, 22(5):928–937, 2005b. [doi: 10.1364/JOSAA.22.000928](https://doi.org/10.1364/JOSAA.22.000928).\n",
    "<a id='ref:Koc-2011-thesis'></a>\n",
    "8. A. Koç, _Fast Algorithms for Digital Computation of Linear Canonical Transforms_, PhD dissertation, Stanford University, Stanford, CA, Mar. 2011.\n",
    "<a id='ref:Koc-2008-DCLCT'></a>\n",
    "9. A. Koç, H.M. Ozaktas, C. Candan, and M.A. Kutay, “Digital computation of linear canonical transforms”, _IEEE Trans. Signal Process._, 56(6):2383–2394, May 2008. [doi: 10.1109/TSP.2007.912890](https://doi.org/10.1109/TSP.2007.912890).\n",
    "<a id='ref:Koc-2010-FastCLCT'></a>\n",
    "10. A. Koç, H.M. Ozaktas, and L. Hesselink, “Fast and accurate algorithm for the computation of complex linear canonical transforms”, _J. Opt. Soc. Amer. A_, 27(9):1896–1908, Sept. 2010. [doi: 10.1364/JOSAA.27.001896](https://doi.org/10.1364/JOSAA.27.001896).\n",
    "<a id='ref:Nakatsukasa-2011-AAARatApprox'></a>\n",
    "11. Y. Nakatsukasa, O. Sète, and L.N. Trefethen, “The AAA algorithm for rational approximation”, _SIAM J. Sci. Comput._, 40(3):A1494–A1522, 2018. [doi: 10.1137/16M1106122](https://doi.org/10.1137/16M1106122).\n",
    "<a id='ref:Nakatsukasa-2020-RCMinimax'></a>\n",
    "12. Y. Nakatsukasa and L.N. Trefethen. “An algorithm for real and complex rational minimax approximation”, _SIAM J. Sci. Comput._, 2020. A preprint version is available at https://arxiv.org/abs/1908.06001.\n",
    "<a id='ref:Oktem-2009-ContDiscLCT'></a>\n",
    "13. F.S. Oktem and H.M. Ozaktas, “Exact relation between continuous and discrete linear canonical transforms”, _IEEE Signal Process. Lett._, 16(8):727–730, May 2009. [doi: 10.1109/LSP.2009.2023940](https://doi.org/10.1109/LSP.2009.2023940).\n",
    "<a id='ref:Pachon-2012-RatInterpRootsUnity'></a>\n",
    "14. R. Pachón, P. Gonnet, and J. van Deun, “Fast and stable rational interpolations in roots of unity and Chebyshev points”, _SIAM J. Numer. Anal._, 50(3):1713–1734, 2012. [doi: 10.1137/100797291](https://doi.org/10.1137/100797291). One may obtain this paper in [preprint form](https://core.ac.uk/download/pdf/1568392.pdf).\n",
    "<a id='ref:Pei-2016-FastDLCT'></a>\n",
    "15. S.-C. Pei and S.-G. Huang, “Fast discrete linear canonical transform based on CM-CC-CM decomposition and FFT”, _IEEE Trans. Signal Process._, 64(4):855–866, Feb. 2016. [doi: 10.1109/tsp.2015.2491891](https://doi.org/10.1109/tsp.2015.2491891).\n",
    "<a id='ref:Stern-2006-SamplingLCT'></a>\n",
    "16. A. Stern, “Sampling of linear canonical transformed signals”, _Signal Process._, 86(7):1421–1425, July 2006a. [doi: 10.1016/j.sigpro.2005.07.031](https://doi.org/10.1016/j.sigpro.2005.07.031).\n",
    "<a id='ref:Stern-2006-WhyLC'></a>\n",
    "17. A. Stern, “Why is the linear canonical transform so little known?”, in G. Cristóbal, B. Javidi, and S. Vallmitjana, editors, _5th International Workshop on Information Optics (WIO’06)_, volume 860 of _AIP Conference Proceedings_, pages 225–234, Woodbury, NY, 2006b (AIP Press). [doi: 10.1063/1.2361224](https://doi.org/10.1063/1.2361224).\n",
    "<a id='ref:Stern-2007-Sampling'></a>\n",
    "18. A. Stern, “Sampling of compact signals in offset linear canonical transform domains”, _Signal, Image and Video Processing_, 1(4):359–367, July 2007. [doi: 10.1007/s11760-007-0029-0](https://doi.org/10.1007/s11760-007-0029-0).\n",
    "<a id='ref:Wolf-1979-IntegralXformsSE'></a>\n",
    "19. K.B. Wolf, _Integral Transforms in Science and Engineering_, volume&#8239;11 of _Mathematical Concepts and Methods in Science and Engineering_, Plenum Press, New York, 1979. Available [here](https://www.fis.unam.mx/~bwolf/integral.html), from Bernardo Wolf’s website.\n",
    "<a id='ref:Wolf-2012-TopDownLCT'></a>\n",
    "20. K.B. Wolf, “A top-down account of linear canonical transforms”, _SIGMA Symmetry Integrability Geom. Methods Appl._, 8:033, June 2012. [doi: 10.3842/SIGMA.2012.033](https://doi.org/10.3842/SIGMA.2012.033).\n",
    "<a id='ref:Yang-2004-FastFrFt'></a>\n",
    "21. X. Yang, Q. Tan, X. Wei, Y. Xiang, Y. Yan, and G. Jin, “Improved fast fractional-Fourier-transform algorithm”, _J. Opt. Soc. Amer. A_, 21(9):1677–1681, Sept. 2004. [doi: 10.1364/JOSAA.21.001677](https://doi.org/10.1364/JOSAA.21.001677).\n",
    "<a id='ref:Zhao-2017-UnitaryNSLCT'></a>\n",
    "22. L. Zhao, J.T. Sheridan, and J.J. Healy, “Unitary algorithm for nonseparable linear canonical transforms applied to iterative phase retrieval”, _IEEE Signal Process. Lett._, 24(6):814–817, Mar. 2017. [doi: 10.1109/LSP.2017.2684829](https://doi.org/10.1109/LSP.2017.2684829)."
   ]
  },
  {
   "cell_type": "markdown",
   "id": "5c8e2ee4-cdd3-4411-b2a9-e62b625e9066",
   "metadata": {
    "tags": []
   },
   "source": [
    "---\n",
    "#### Preamble"
   ]
  },
  {
   "cell_type": "markdown",
   "id": "34e44e58-b33a-4e86-b5bb-45b5a0780cbd",
   "metadata": {
    "tags": []
   },
   "source": [
    "### _LaTeX_ macros"
   ]
  },
  {
   "cell_type": "markdown",
   "id": "4264de92-c993-4e91-8e38-534f1cc46489",
   "metadata": {
    "tags": []
   },
   "source": [
    "$$\n",
    "%% math text\n",
    "\\newcommand{\\mhsp}{\\mskip{1.5mu}}\n",
    "\\newcommand{\\hmhsp}{\\mskip{0.75mu}}\n",
    "\\newcommand{\\nmhsp}{\\mskip{-1.5mu}}\n",
    "\\newcommand{\\nhmhsp}{\\mskip{-0.75mu}}\n",
    "\\newcommand{\\ud}{\\mathop{}\\!\\mathrm{d}}% upright d for differential\n",
    "\\newcommand{\\ue}{\\mathrm{e}}% upright e for Euler number\n",
    "\\newcommand{\\ui}{\\mathrm{i}}% upright i for unit imaginary\n",
    "\\newcommand{\\uj}{\\mathrm{j}}% upright j for unit imaginary\n",
    "\\newcommand{\\uk}{\\mathrm{k}}% upright k for unit imaginary\n",
    "%%\n",
    "%% derivatives\n",
    "\\newcommand{\\dd}[3][]{\\ud^{#1}{#2}/\\nmhsp\\ud{#3}^{#1}}\n",
    "\\newcommand{\\dt}[2][]{\\ud^{#1}{#2}/\\nmhsp\\ud{t}^{#1}}\n",
    "\\newcommand{\\Dd}[3][]{\\frac{\\ud^{#1}{#2}}{\\ud{#3}^{#1}}}\n",
    "\\newcommand{\\Dt}[2][]{\\frac{\\ud^{#1}{#2}}{\\ud{t}^{#1}}}\n",
    "\\newcommand{\\ptdd}[3][]{\\partial^{#1}{#2}/\\partial{#3}^{#1}}\n",
    "\\newcommand{\\ptDd}[3][]{\\frac{\\partial^{#1}{#2}}{\\partial{#3}^{#1}}}\n",
    "%%\n",
    "%% vector operators\n",
    "\\DeclareMathOperator{\\grad}{\\nabla\\nmhsp\\nmhsp}\n",
    "\\DeclareMathOperator{\\divrg}{{\\nabla\\cdot}\\nmhsp\\nhmhsp}\n",
    "\\DeclareMathOperator{\\curl}{{\\nabla\\times}\\nmhsp\\nhmhsp}\n",
    "%%\n",
    "%% vectors\n",
    "%% -- using \\boldsymbol\n",
    "% \\newcommand{\\uV}[1]{\\hat{\\boldsymbol{#1}}}% unit vector\n",
    "% \\newcommand{\\V}[1]{\\boldsymbol{#1}}% vector\n",
    "% \\newcommand{\\uVg}[1]{\\hat{\\boldsymbol{#1}}}% unit vector\n",
    "% \\newcommand{\\Vg}[1]{\\boldsymbol{#1}}% vector\n",
    "%% -- using \\vec\n",
    "\\newcommand{\\uV}[1]{\\hat{{#1}}}% unit vector\n",
    "\\newcommand{\\V}[1]{\\vec{#1}}% vector\n",
    "\\newcommand{\\uVg}[1]{\\hat{{#1}}}% unit vector\n",
    "\\newcommand{\\Vg}[1]{\\vec{#1}}% vector\n",
    "$$"
   ]
  },
  {
   "cell_type": "markdown",
   "id": "682b4c74-561b-4317-87fe-a4226d11b7ea",
   "metadata": {
    "tags": []
   },
   "source": [
    "### Import modules"
   ]
  },
  {
   "cell_type": "code",
   "execution_count": 1,
   "id": "cc18af42",
   "metadata": {},
   "outputs": [],
   "source": [
    "import matplotlib.pyplot as plt\n",
    "import numpy as np\n",
    "import time as tm"
   ]
  },
  {
   "cell_type": "markdown",
   "id": "645b2a48-bdb8-4cb4-965a-db3e388a4a6b",
   "metadata": {
    "tags": []
   },
   "source": [
    "### Set defaults and constants"
   ]
  },
  {
   "cell_type": "code",
   "execution_count": 2,
   "id": "33bab1c6",
   "metadata": {},
   "outputs": [],
   "source": [
    "# plt.style.available\n",
    "plt.rcParams['font.size'] = 15\n",
    "plt.style.use('Solarize_Light2')"
   ]
  },
  {
   "cell_type": "code",
   "execution_count": 3,
   "id": "6253b349-90f9-4737-a8f7-5e180536dc01",
   "metadata": {},
   "outputs": [],
   "source": [
    "gr = (1 + np.sqrt(5)) / 2\n",
    "d2r = np.pi / 180.\n",
    "r2d = 1 / d2r"
   ]
  },
  {
   "cell_type": "markdown",
   "id": "cf8b7168-8dfd-4152-852f-39070aeda284",
   "metadata": {
    "tags": []
   },
   "source": [
    "### Define utility functions"
   ]
  },
  {
   "cell_type": "code",
   "execution_count": 4,
   "id": "1de20db2",
   "metadata": {},
   "outputs": [],
   "source": [
    "def minmax(arr):\n",
    "    \"\"\"\n",
    "    Compute and return the min and max of a given array.\n",
    "    \"\"\"\n",
    "    return np.min(arr), np.max(arr)\n",
    "\n",
    "def even_ceil(x):\n",
    "    \"\"\"\n",
    "    Return smallest even integer greater than or equal to x.\n",
    "    \"\"\"\n",
    "    ec = int(np.ceil(x))\n",
    "    if ec % 2 != 0: ec += 1\n",
    "    return ec\n",
    "\n",
    "def odd_ceil(x):\n",
    "    \"\"\"\n",
    "    Return smallest odd integer greater than or equal to x.\n",
    "    \"\"\"\n",
    "    oc = int(np.ceil(x))\n",
    "    if oc % 2 == 0: oc += 1\n",
    "    return oc\n",
    "\n",
    "def round_to_even(x):\n",
    "    \"\"\"\n",
    "    Return even integer closest to x.\n",
    "    \"\"\"\n",
    "    return 2 * round(x / 2)"
   ]
  },
  {
   "cell_type": "markdown",
   "id": "25a0e2cf",
   "metadata": {
    "tags": []
   },
   "source": [
    "### Define functions that convert between parameter sets {_A_, _B_, _C_, _D_&#8239;} and {_α_, _β_, _γ_&#8239;}"
   ]
  },
  {
   "cell_type": "markdown",
   "id": "ecd463b5-4360-457a-9779-30cf401176ce",
   "metadata": {},
   "source": [
    "**NB:** We still need to understand, and address, the cases $B\\rightarrow0$ and $\\beta\\rightarrow0$."
   ]
  },
  {
   "cell_type": "code",
   "execution_count": 5,
   "id": "e413f039-4d97-4ed3-890e-057e2a5c1314",
   "metadata": {
    "tags": []
   },
   "outputs": [],
   "source": [
    "def convert_params_3to4(alpha, beta, gamma):\n",
    "    \"\"\"\n",
    "    Given LCT parameters (α,β,γ), return the associated 2x2 ABCD matrix.\n",
    "\n",
    "    Caveats: Not all authors use the same convention for the parameters\n",
    "    (α,β,γ): some reverse the rôles of α and γ.\n",
    "    We follow the notation of [Koç [7]](#ref:Koc-2011-thesis)\n",
    "    and [Koç, et al. [8]](#ref:Koc-2008-DCLCT),\n",
    "    also [Healy [4], ch.10](#ref:Healy:2016:LCTs).\n",
    "\n",
    "    Restrictions: The parameter beta may not take the value zero.\n",
    "\n",
    "    Arguments:\n",
    "    α, β, γ -- a parameter triplet defining a 1D LCT\n",
    "\n",
    "    Return a symplectic 2x2 ABCD martrix.\n",
    "    \"\"\"\n",
    "    if beta == 0.:\n",
    "        print(\"The parameter beta may not take the value zero!\")\n",
    "        return -1\n",
    "    M = np.zeros((2,2))\n",
    "    M[0,0] = gamma / beta\n",
    "    M[0,1] = 1. / beta\n",
    "    M[1,0] = -beta + alpha * gamma / beta\n",
    "    M[1,1] = alpha / beta\n",
    "\n",
    "    return M"
   ]
  },
  {
   "cell_type": "code",
   "execution_count": 6,
   "id": "1b9a6e4a-6715-4718-8c56-4aae90278a6d",
   "metadata": {},
   "outputs": [],
   "source": [
    "def convert_params_4to3(M_lct):\n",
    "    \"\"\"\n",
    "    Given a symplectic 2x2 ABCD matrix, return the associated parameter triplet (α,β,γ).\n",
    "\n",
    "    Caveats: Not all authors use the same convention for the parameters\n",
    "    (α,β,γ): some reverse the rôles of α and γ.\n",
    "    We follow the notation of [Koç [7]](#ref:Koc-2011-thesis)\n",
    "    and [Koç, et al. [8]](#ref:Koc-2008-DCLCT),\n",
    "    also [Healy [4], ch.10](#ref:Healy:2016:LCTs).\n",
    "\n",
    "    Restrictions: The (1,2) matrix entry may not take the value zero.\n",
    "\n",
    " ** DTA: We need to decide how best to handle b very near zero.\n",
    "\n",
    "    Arguments:\n",
    "    M_lct -- a symplectic 2x2 ABCD martrix that defines a 1D LCT\n",
    "\n",
    "    Return the parameter triplet α, β, γ.\n",
    "    \"\"\"\n",
    "    a, b, c, d = np.asarray(M_lct).flatten()\n",
    "    if b == 0.:\n",
    "        print(\"The (1,2) matrix entry may not take the value zero!\")\n",
    "        return -1\n",
    "    beta = 1 / b\n",
    "    alpha = d / b\n",
    "    gamma = a / b\n",
    "\n",
    "    return alpha, beta, gamma"
   ]
  },
  {
   "cell_type": "markdown",
   "id": "92d70274-19a4-455f-aa05-fd5832aa0cb7",
   "metadata": {
    "tags": []
   },
   "source": [
    "### Define functions for computing the 1D LCT"
   ]
  },
  {
   "cell_type": "markdown",
   "id": "a5816cb9-950d-41e9-85b1-b4ec34c7ac42",
   "metadata": {},
   "source": [
    "The _Linear Canonical Transform_, or LCT, of a function $f(u)$ is defined by the rule\n",
    "$$\n",
    "  \\mathcal{L}_M[f](v) = \\ue^{-\\ui\\pi/4} \\sqrt{\\beta}\\int_{-\\infty}^\\infty\n",
    "      \\!f(u)\\, \\ue^{-\\ui\\pi(\\alpha v^2 - 2\\beta uv + \\gamma u^2)} \\ud{u}.\n",
    "$$\n",
    "(KB Wolf says that leading factor “requires some care”.)\n",
    "The relation between the symplectic $2\\times2$ matrix $M$ and\n",
    "the parameters $(\\alpha, \\beta, \\gamma)$ is given by the relation\n",
    "$$\n",
    "  \\left( \\begin{matrix} A & B \\\\ C & D \\end{matrix} \\right) = \n",
    "  \\left( \\begin{matrix}\n",
    "             \\gamma/\\beta              &       1/\\beta \\\\\n",
    "             \\alpha\\gamma/\\beta - \\beta & \\alpha/\\beta\n",
    "         \\end{matrix} \\right).\n",
    "$$\n",
    "One may represent many of the well-known integral transforms,\n",
    "including the Fourier transform, as special cases of the general LCT.\n",
    "\n",
    "The LCT obeys the _group property_\n",
    "$$\n",
    "  \\mathcal{L}_{M_2} \\circ \\mathcal{L}_{M_1} = \\mathcal{L}_{M_2 \\cdot M_1}.\n",
    "$$\n",
    "As a consequence, one may compute a given LCT as a composition\n",
    "of simpler LCTs.\n",
    "\n",
    "The algorithms given by [Koç [8]](#ref:Koc-2011-thesis), and\n",
    "by [Koç, _et al._ [9]](#ref:Koc-2008-DCLCT), first decompose\n",
    "the symplectic matrix defining a given LCT into a product of\n",
    "simpler symplectic matrices.\n",
    "Those simpler matrices define specific special cases of the LCT:\n",
    "scaling, chirp multiplication, and Fourier transform.\n",
    "The group property obeyed by LCTs allows one to write any LCT\n",
    "as a corresponding composition of those simpler transforms.\n",
    "Because chirp multiplication enlarges the _effective_ time-bandwidth\n",
    "product, we must also, at some points in the computation, resample\n",
    "the signal."
   ]
  },
  {
   "cell_type": "markdown",
   "id": "040d1ad1-9248-4eda-877a-3dee985ee827",
   "metadata": {
    "tags": []
   },
   "source": [
    "#### ABSC: LCT Abscissae"
   ]
  },
  {
   "cell_type": "code",
   "execution_count": 7,
   "id": "ddc1c3d5-b07b-41dd-9ec2-ec470235c054",
   "metadata": {},
   "outputs": [],
   "source": [
    "def lct_abscissae(nn, du, ishift = False):\n",
    "    \"\"\"\n",
    "    Return abscissae for a signal of length nn with spacing du.\n",
    "    \n",
    "    With the default setting `ishift = False`, the abscissae will\n",
    "    be either centered on the origin (if an odd number of points),\n",
    "    or one step off of that (if an even number of points).\n",
    "    If one sets `ishift = True`, then the computed array of abscissae\n",
    "    will be shifted, or “rolled”, to place the origin at the beginning.\n",
    "\n",
    "    Arguments:\n",
    "    nn -- length of signal for which to construct abscissae,\n",
    "            i.e. number of samples\n",
    "    du -- sample spacing\n",
    "    ishift -- a boolean argument: if True, the array of abcissae will\n",
    "                be rotated so as to place the origin in entry [0]\n",
    "    \"\"\"\n",
    "    u_vals = du * (np.arange(0, nn) - nn // 2)\n",
    "    # if ishift == True: u_vals = np.roll(u_vals, (nn + 1) // 2)\n",
    "    if ishift == True: u_vals = np.fft.ifftshift(u_vals)\n",
    "    return u_vals"
   ]
  },
  {
   "cell_type": "markdown",
   "id": "b99269d9-dea3-4a3b-9e39-df5717cbe741",
   "metadata": {},
   "source": [
    "To illustrate the action of `ifftshift`, also `fftshift`, we display the following examples:"
   ]
  },
  {
   "cell_type": "markdown",
   "id": "7de79d59-34b0-46c4-b6e3-553971e5de2c",
   "metadata": {},
   "source": [
    "For an even number of samples ..."
   ]
  },
  {
   "cell_type": "code",
   "execution_count": 8,
   "id": "11435047-ad23-4991-a645-b5be9f037ed4",
   "metadata": {},
   "outputs": [
    {
     "data": {
      "text/plain": [
       "array([ 0,  1,  2,  3, -4, -3, -2, -1])"
      ]
     },
     "execution_count": 8,
     "metadata": {},
     "output_type": "execute_result"
    }
   ],
   "source": [
    "np.fft.ifftshift([-4, -3, -2, -1, 0, 1, 2, 3])"
   ]
  },
  {
   "cell_type": "code",
   "execution_count": 9,
   "id": "53555a75-e197-4228-9a2e-f4a24edd9df6",
   "metadata": {},
   "outputs": [
    {
     "data": {
      "text/plain": [
       "array([-4, -3, -2, -1,  0,  1,  2,  3])"
      ]
     },
     "execution_count": 9,
     "metadata": {},
     "output_type": "execute_result"
    }
   ],
   "source": [
    "np.fft.fftshift(_)"
   ]
  },
  {
   "cell_type": "markdown",
   "id": "103ff7f9-bd44-4333-b654-933a2b505f3c",
   "metadata": {},
   "source": [
    "And an odd number of samples ..."
   ]
  },
  {
   "cell_type": "code",
   "execution_count": 10,
   "id": "4b3a9cb8-bf91-420f-a0d0-624fc4244834",
   "metadata": {},
   "outputs": [
    {
     "data": {
      "text/plain": [
       "array([ 0,  1,  2,  3,  4, -4, -3, -2, -1])"
      ]
     },
     "execution_count": 10,
     "metadata": {},
     "output_type": "execute_result"
    }
   ],
   "source": [
    "np.fft.ifftshift([-4, -3, -2, -1, 0, 1, 2, 3, 4])"
   ]
  },
  {
   "cell_type": "code",
   "execution_count": 11,
   "id": "2653d4ee-d4f8-4755-a87f-3aa6f28f4dba",
   "metadata": {},
   "outputs": [
    {
     "data": {
      "text/plain": [
       "array([-4, -3, -2, -1,  0,  1,  2,  3,  4])"
      ]
     },
     "execution_count": 11,
     "metadata": {},
     "output_type": "execute_result"
    }
   ],
   "source": [
    "np.fft.fftshift(_)"
   ]
  },
  {
   "cell_type": "markdown",
   "id": "b86b050d-bfba-42e5-bc11-41b10c0ee8de",
   "metadata": {},
   "source": [
    "We shall need to use both these functions later, surrounding our computation of the LC Fourier transform."
   ]
  },
  {
   "cell_type": "markdown",
   "id": "95e74daa-32c0-4c9f-9524-778cdba11339",
   "metadata": {
    "tags": []
   },
   "source": [
    "#### RSMP: Resample the Signal"
   ]
  },
  {
   "cell_type": "markdown",
   "id": "446144cc-0857-454f-be1b-8f91a86ea165",
   "metadata": {},
   "source": [
    "The _resampling_ algorithm implemented here is relatively unsophisticated.\n",
    "In particular, it performs only linear interpolation, though is does do so\n",
    "assuming a periodic function. To improve on this, we want to explore more\n",
    "sophisticaed means of interpolating a function on the unit circle.\n",
    "See, for example, [Pachón, _et al._ [14]](#ref:Pachon-2012-RatInterpRootsUnity)."
   ]
  },
  {
   "cell_type": "code",
   "execution_count": 12,
   "id": "5260100b-4423-4ffb-a924-3ecdd78e4cc4",
   "metadata": {
    "tags": []
   },
   "outputs": [],
   "source": [
    "def resample_signal(k, in_signal, debug = False):\n",
    "    \"\"\"\n",
    "    Resample the input signal, and return the resultant signal.\n",
    "\n",
    "    This function takes an input signal\n",
    "        U = [dt, [u0, u1, ..., u_{n-1}]]\n",
    "    and resamples it by a factor of k, returning the new signal\n",
    "        SMPL(k){U} = [dt', [u0, u1, ..., u_{n'-1}]],\n",
    "    where n' is _roughly_ k * n. The “roughly” has to do with the\n",
    "    fact that k need not be an integer.\n",
    "\n",
    "    This function requires interpolating the data to a new sample\n",
    "    interval: The initial range is Δt = n * dt, with sample points\n",
    "    at the centers of n equal-size intervals, and the function is\n",
    "    taken to have period Δt. The points for the resampled signal\n",
    "    will occupy the _same_ range Δt.\n",
    "\n",
    " ** DTA: This function currently uses 1D _linear_ interpolation.\n",
    "         We should upgrade this to use a more sophisticated\n",
    "         interpolation scheme, such as those available in SciPy\n",
    "         or that described by Pachón, et al.\n",
    "\n",
    "    Arguments:\n",
    "        k -- factor by which to resample the data\n",
    "        in_signal -- [dt, [u_0, ..., u_{n-1}]], where dt denotes\n",
    "                     the sample interval of the input signal [u]\n",
    "\n",
    "    Return the resampled signal.\n",
    "    \"\"\"\n",
    "    dt, signal_u = in_signal\n",
    "    n = len(signal_u)\n",
    "\n",
    "    # number of samples and sample spacing for resampled signal\n",
    "    n_bar = int(np.ceil(k * n))\n",
    "    dt_bar = dt * n / n_bar\n",
    "\n",
    "    # abscissae\n",
    "    t_vals = lct_abscissae(n,     dt    )\n",
    "    t_bar  = lct_abscissae(n_bar, dt_bar)\n",
    "\n",
    "    # interpolate signal at the new abscissae\n",
    "    p = n * abs(dt)\n",
    "    u_bar = np.interp(t_bar, t_vals, signal_u, period = p)\n",
    "\n",
    "    if debug:\n",
    "        print(\"n    = \", n, \"   n_bar = \", n_bar)\n",
    "        print(\"dt   =\", dt, \"  dt_bar =\", dt_bar, \"\\n\")\n",
    "        print(\"t_in =\", t_vals, \"\\n\")\n",
    "        print(\"t_up =\", t_bar)\n",
    "\n",
    "    return [dt_bar, u_bar]"
   ]
  },
  {
   "cell_type": "markdown",
   "id": "bbdb8bce-d04a-4411-a03c-c23b10b1efe8",
   "metadata": {
    "tags": []
   },
   "source": [
    "#### SCL: Scaling"
   ]
  },
  {
   "cell_type": "markdown",
   "id": "dd5fb752-dc5b-4cae-8412-5a43c127b9cc",
   "metadata": {
    "tags": []
   },
   "source": [
    "The operation of _scaling_ corresponds to the LCT with matrix\n",
    "$$\n",
    "  M_m = \\Biggl(\\begin{matrix}\n",
    "    m &  0  \\\\\n",
    "    0 & 1/m\n",
    "  \\end{matrix}\\Biggr).\n",
    "$$\n",
    "Its acts on a function $f(u)$ according to the rule\n",
    "$$\n",
    "  \\bigl[ \\mathcal{M}_m f \\bigr](u) = \\frac{1}{\\sqrt{m}} f\\Bigl(\\frac{u}{m}\\Bigr),\n",
    "$$\n",
    "or, equivalently,\n",
    "$$\n",
    "  \\bigl[ \\mathcal{M}_m f \\bigr](m\\cdot u) = \\frac{1}{\\sqrt{m}} f(u).\n",
    "$$\n",
    "_NB:_ If $m<0$, then we must introduce a factor of $\\pm\\mathrm{i}$,\n",
    "with present evidence suggesting use of the positive root."
   ]
  },
  {
   "cell_type": "code",
   "execution_count": 13,
   "id": "eb83f5dd-f183-4180-9f70-4730c41156f8",
   "metadata": {
    "tags": []
   },
   "outputs": [],
   "source": [
    "def scale_signal(m, in_signal):\n",
    "    \"\"\"\n",
    "    Scale the input signal, and return the result.\n",
    "\n",
    "    This function implements the LCT version of 1D Scaling (SCL),\n",
    "    with parameter m acting on a given input signal:\n",
    "        SCL(m): LCT[m 0, 0 1/m]{f}(m.x) <- f(x) / sqrt(|m|).\n",
    "    The input data must have the form\n",
    "        [dX, [f_0, ..., f_{N-1}]],\n",
    "    where dX denotes the sample interval of the incoming signal.\n",
    "\n",
    "    Arguments:\n",
    "    m -- scale factor\n",
    "    in_signal -- the signal to transform, [dX, signal_array],\n",
    "                 where dX denotes the incoming sample interval\n",
    "\n",
    "    Return the scaled signal.\n",
    "    \"\"\"\n",
    "    # NB: dX . ΔY = ΔX . dY = 1\n",
    "    # and Ns = 1 + ΔX / dX = 1 + ΔY / dY\n",
    "    dX, signalX = in_signal\n",
    "    \n",
    "    dY = abs(m) * dX\n",
    "    signalY = np.copy(signalX) / np.sqrt(abs(m))\n",
    "    if m < 0: # reverse signal\n",
    "        ii = 0 + 1j  # “double-struck” i as unit imaginary\n",
    "        signalY = ii * signalY[::-1]\n",
    "        if len(signalY) % 2 == 0:\n",
    "            # move what was the most negative frequency component,\n",
    "            # now the most positive, back to the beginning\n",
    "            signalY = np.roll(signalY, 1)\n",
    "\n",
    "    return [dY, signalY]"
   ]
  },
  {
   "cell_type": "markdown",
   "id": "a2d9392a-9dbd-4305-a7be-75cdf5f0ebdb",
   "metadata": {
    "tags": []
   },
   "source": [
    "#### LCFT: LC Fourier Transform"
   ]
  },
  {
   "cell_type": "markdown",
   "id": "febceca4-1cb5-4bd9-aad0-ba961ef0895e",
   "metadata": {
    "tags": []
   },
   "source": [
    "Aside from an overall phase factor, the _Fourier transform_ operation corresponds to the LCT with matrix\n",
    "$$\n",
    "  F_\\text{LC} = \\Biggl(\\begin{matrix}\n",
    "    0 & 1  \\\\\n",
    "   -1 & 0\n",
    "  \\end{matrix}\\Biggr).\n",
    "$$\n",
    "More specifically, the LC Fourier transform acts on a function $f(u)$ according to the rule\n",
    "$$\n",
    "  \\bigl[ \\mathcal{F}_\\text{LC} f \\bigr](v) = \\ue^{-\\ui\\mhsp\\pi/4} \\int_{-\\infty}^\\infty \\ue^{-\\ui\\mhsp 2\\pi u v} f(u) \\ud{u}.\n",
    "$$\n",
    "\n",
    "In numerical work, we approximate that integral as\n",
    "$$\n",
    "  \\int_{-\\infty}^\\infty \\ue^{-\\ui\\mhsp 2\\pi u v} f(u) \\ud{u}\n",
    "  \\approx\n",
    "  \\int_{-P/2}^{P/2} \\ue^{-\\ui\\mhsp 2\\pi u v} f(u) \\ud{u}\n",
    "  \\approx\n",
    "  \\frac{P}{N}\\sum\\nolimits_j^N \\ue^{-\\ui\\mhsp 2\\pi j k/N} f\\Bigl(j\\frac{P}{N}\\Bigr)\n",
    "  .\n",
    "$$"
   ]
  },
  {
   "cell_type": "code",
   "execution_count": 14,
   "id": "7306b81b-2ff5-4b37-b469-2eed232b7bd6",
   "metadata": {
    "tags": []
   },
   "outputs": [],
   "source": [
    "def lct_fourier(in_signal):\n",
    "    \"\"\"\n",
    "    Fourier transform the input signal, and return the result.\n",
    "\n",
    "    This function implements the LCT version of a 1D Fourier transform (FT),\n",
    "        FT(): LCT[0 1, -1 0]{f}(y) <- e^{-ii φ} FT(f),\n",
    "    using numpy’s FFT to do the heavy lifting. As indicated here, the LCT\n",
    "    version differs by an overall phase.\n",
    "\n",
    " ** DTA: KB Wolf remarks that correctly identifying the phase is a delicate\n",
    "         matter. In light of that, we need to verify the phase used here.\n",
    "    \n",
    "    Argument:\n",
    "    in_signal -- the signal to transform, [dX, signal_array], where dX\n",
    "                 denotes the incoming sample interval, and we assume the\n",
    "                 signal array is assumed symmetric (in the DFT sense)\n",
    "                 about the origin\n",
    "\n",
    "    Return the transformed signal in the form [dY, e^{-ii φ} FFT(signal)].\n",
    "    \"\"\"\n",
    "    # NB: dX . ΔY = ΔX . dY = 1\n",
    "    dX, signalX = in_signal\n",
    "    Npts = len(signalX)\n",
    "    dY = 1 / (Npts * dX)\n",
    "\n",
    "    ii = 0 + 1j  # “double-struck” i as unit imaginary\n",
    "    lct_coeff = np.exp(-ii * np.pi / 4) # DTA: KB Wolf says this requires care(!).\n",
    "\n",
    "    # convert to frequency domain\n",
    "    signalX = np.fft.ifftshift(signalX)\n",
    "    signalY = dX * np.fft.fft(signalX)\n",
    "    signalY = np.fft.fftshift(signalY)\n",
    "\n",
    "    return [dY, lct_coeff * signalY]"
   ]
  },
  {
   "cell_type": "markdown",
   "id": "47997d0d-8976-4848-b694-5ea47c205586",
   "metadata": {
    "tags": []
   },
   "source": [
    "#### CM: Chirp Multiplication"
   ]
  },
  {
   "cell_type": "markdown",
   "id": "a9bb28ce-844b-4e1e-b5c6-6c8a9375bae9",
   "metadata": {
    "tags": []
   },
   "source": [
    "The operation of _chirp multiplication_ corresponds to the LCT with matrix\n",
    "$$\n",
    "  Q_q = \\Biggl(\\begin{matrix}\n",
    "    1 & 0  \\\\\n",
    "   -q & 1\n",
    "  \\end{matrix}\\Biggr).\n",
    "$$\n",
    "Its acts on a function $f(u)$ according to the rule\n",
    "$$\n",
    "  \\bigl[ \\mathcal{Q}_q f \\bigr](u) = \\mathrm{e}^{-\\mathrm{i}\\pi{q}u^2}f(u).\n",
    "$$"
   ]
  },
  {
   "cell_type": "code",
   "execution_count": 15,
   "id": "d8db9f61-fb5a-465f-9d03-3d7fc3ff7a00",
   "metadata": {
    "tags": []
   },
   "outputs": [],
   "source": [
    "def chirp_multiply(q, in_signal):\n",
    "    \"\"\"\n",
    "    Transform the input signal by chirp multiplication with parameter q.\n",
    "\n",
    "    This function implements the LCT version of chirp multiplication (CM)\n",
    "    with parameter q acting on a given input signal:\n",
    "        CM(q): LCT[1 0, q 1]{f}(x) <- e^{-ii π q x^2}f(x).\n",
    "    The input data must have the form\n",
    "        [dX, [f_0, ..., f_{N-1}]],\n",
    "    where dX denotes the sample interval of the incoming signal.\n",
    "\n",
    "    Arguments:\n",
    "    q -- CM factor\n",
    "    in_signal -- the signal to transform, [dX, signal_array],\n",
    "                 where dX denotes the incoming sample interval\n",
    "\n",
    "    Return the transformed signal.\n",
    "    \"\"\"\n",
    "    # NB: dX . ΔY = ΔX . dY = 1\n",
    "    dX, signalX = in_signal\n",
    "\n",
    "    ii = 0 + 1j  # “double-struck” i as unit imaginary\n",
    "    ptsX2 = lct_abscissae(len(signalX), dX) ** 2\n",
    "\n",
    "    return [ dX, np.exp(-ii * np.pi * q * ptsX2) * signalX]"
   ]
  },
  {
   "cell_type": "markdown",
   "id": "ea06136e-0540-4d6d-acb7-d8462fc6c7a9",
   "metadata": {
    "tags": []
   },
   "source": [
    "#### DCMP: LCT Decomposition"
   ]
  },
  {
   "cell_type": "markdown",
   "id": "a272d233-d4f5-4316-b87b-a6dd8e59dd05",
   "metadata": {},
   "source": [
    "Here we define a function to compute the appropriate decomposition\n",
    "and insert the necessary resamplings."
   ]
  },
  {
   "cell_type": "code",
   "execution_count": 16,
   "id": "068937a5",
   "metadata": {
    "tags": []
   },
   "outputs": [],
   "source": [
    "def lct_decomposition(M_lct):\n",
    "    \"\"\"\n",
    "    Given an LCT matrix, M_lct, return a decomposition into simpler matrices. \n",
    "\n",
    "    Any symplectic 2x2 ABCD matrix that defines a linear canonical transform\n",
    "    (LCT) may be decomposed as a product of matrices that each correspond to\n",
    "    simpler transforms for which fast [i.e., ~O(N log N)] algorithms exist.\n",
    "    The transforms required here are scaling (SCL), chirp multiplication (CM),\n",
    "    and the Fourier transform (FT). In addition, we must sometimes resample\n",
    "    the data (SMPL) so as to maintain a time-bandwidh product sufficient to\n",
    "    recover the original signal.\n",
    "\n",
    " ** DTA: Must we handle separately the case B = M_lct[1,2] = 0?\n",
    "         What about the case |B| << 1?\n",
    "\n",
    "    The decompositions used here comes from the work of Koç, et al.,\n",
    "    in _IEEE Trans. Signal Proc._ 56(6):2383--2394, June 2008.\n",
    "\n",
    "    Argument:\n",
    "    M_lct -- symplectic 2x2 matrix that describes the desired LCT\n",
    "\n",
    "    Return an array of size mx2, where m denotes the total number of\n",
    "    operations in the decomposition. Each row has the form ['STR', p],\n",
    "    where 'STR' specifies the operation, and p the parameter relevant\n",
    "    for that operation.\n",
    "    \"\"\"\n",
    "    alpha, beta, gamma = convert_params_4to3(M_lct)\n",
    "    ag = abs(gamma)\n",
    "    if ag <= 1:\n",
    "        k = 1 + ag + abs(alpha) / beta ** 2 * (1 + ag) ** 2\n",
    "        seq = [ [ 'SCL',   beta              ],\n",
    "                ['RSMP',     2.              ],\n",
    "                [  'CM', - gamma / beta ** 2 ],\n",
    "                ['LCFT',     0               ],\n",
    "                ['RSMP',    k/2              ],\n",
    "                [  'CM', - alpha             ] ]\n",
    "    else:\n",
    "        k = 1 + 1 / ag + abs(alpha - beta ** 2 / gamma) / beta ** 2 * (1 + ag) ** 2\n",
    "        seq = [ [ 'SCL', - gamma / beta              ],\n",
    "                ['LCFT',     0                       ],\n",
    "                ['RSMP',     2.                      ],\n",
    "                [  'CM',   gamma / beta ** 2         ],\n",
    "                ['LCFT',     0                       ],\n",
    "                ['RSMP',    k/2                      ],\n",
    "                [  'CM', - alpha + beta ** 2 / gamma ] ]\n",
    "\n",
    "    return seq"
   ]
  },
  {
   "cell_type": "markdown",
   "id": "19c867f2-1efd-4864-9918-f4474a0fbf00",
   "metadata": {},
   "source": [
    "As a convenience for future testing, we here also define functions\n",
    "that generate the relevant LCT matrices:"
   ]
  },
  {
   "cell_type": "code",
   "execution_count": 17,
   "id": "d41558d5-c72d-4d52-a63c-296c9f5ad4ec",
   "metadata": {
    "tags": []
   },
   "outputs": [],
   "source": [
    "def lctmx_scale(m):\n",
    "    return np.array([[ m,  0  ],\n",
    "                     [ 0, 1/m ]])\n",
    "\n",
    "def lctmx_chirp_x(q):\n",
    "    return np.array([[  1, 0 ],\n",
    "                     [ -q, 1 ]])\n",
    "\n",
    "def lctmx_fourier():\n",
    "    return np.array([[  0, 1 ],\n",
    "                     [ -1, 0 ]])"
   ]
  },
  {
   "cell_type": "markdown",
   "id": "4dbb3cc3-2dbc-400d-8b70-f60087e9ff67",
   "metadata": {
    "tags": []
   },
   "source": [
    "#### LCT: Apply LCT"
   ]
  },
  {
   "cell_type": "markdown",
   "id": "26666063-c8e9-4d6d-aaf8-4ce4e9f4bcfe",
   "metadata": {},
   "source": [
    "Here we pull together our work above, and define a function to compute the\n",
    "general linear canonical ransform."
   ]
  },
  {
   "cell_type": "code",
   "execution_count": 18,
   "id": "95111310",
   "metadata": {
    "tags": []
   },
   "outputs": [],
   "source": [
    "def apply_lct(M_lct, in_signal):\n",
    "    \"\"\"\n",
    "    Apply LCT[M_lct] to a given input signal, and return the result.\n",
    "\n",
    "    Given a symplectic 2x2 ABCD matrix that defines an LCT, decompose\n",
    "    the matrix into a sequence of simpler operations, so as to achieve\n",
    "    an operation count of ~O(N log N).\n",
    "\n",
    "    The algorithm implemented here is that given by Koç, et al.\n",
    "    in IEEE Trans. Signal Proc. 56(6):2383--2394, June 2008.\n",
    "\n",
    " ** DTA: Consider implementing one or more of the other known\n",
    "         fast LCT algorithms. Doing so can help with verifying\n",
    "         correctness, as well as allow us to learn something\n",
    "         about the relative performance of different algorithms.\n",
    "\n",
    "    Arguments:\n",
    "    M_lct -- symplectic 2x2 matrix that describes the desired LCT\n",
    "    in_signal -- the signal to transform, [ dX, signal_array], where\n",
    "                 dX denotes the sample interval of the given signal\n",
    "\n",
    "    Return the transformed signal in the form [ dY, LCT[M_lct](signal)].\n",
    "    \"\"\"\n",
    "    seq = lct_decomposition(M_lct)\n",
    "    signal0 = in_signal\n",
    "    for lct in seq:\n",
    "        if   lct[0] == 'CM':\n",
    "            signal1 = chirp_multiply(lct[1], signal0)\n",
    "            signal0 = signal1\n",
    "        elif lct[0] == 'LCFT':\n",
    "            signal1 = lct_fourier(signal0)\n",
    "            signal0 = signal1\n",
    "        elif lct[0] == 'SCL':\n",
    "            signal1 = scale_signal(lct[1], signal0)\n",
    "            signal0 = signal1\n",
    "        elif lct[0] == 'RSMP':\n",
    "            signal1 = resample_signal(lct[1], signal0)\n",
    "            signal0 = signal1\n",
    "        else:\n",
    "            assert False, 'LCT code ' + lct[0] + ' not recognized! Exiting now.'\n",
    "            return -1\n",
    "\n",
    "    return signal1"
   ]
  },
  {
   "cell_type": "markdown",
   "id": "ab899e6e-61ae-46b8-ba78-47970a88f9e4",
   "metadata": {},
   "source": [
    "Here we extend the above to the case of uncoupled (also called separable)\n",
    "linear canonical transforms in two dimensions."
   ]
  },
  {
   "cell_type": "code",
   "execution_count": 19,
   "id": "341ac50e-372e-4a53-a682-915180f8c629",
   "metadata": {},
   "outputs": [],
   "source": [
    "def apply_lct_2d_sep(MX_lct, MY_lct, in_signal):\n",
    "    \"\"\"\n",
    "    Apply LCT[M_lct] to a given input signal, and return the result.\n",
    "    In this case, the 4x4 matrix M_lct is assumed separable and defined\n",
    "    by the pair of 2x2 matrices MX_lct and MY_lct. In addition, the\n",
    "    input signal is taken to have the form ( dX, dY, signal_array ),\n",
    "    where dX and dY denote the sample intervals along the rows and\n",
    "    columns respectively of the given 2D signal_array.\n",
    "\n",
    "    Given a pair of symplectic 2x2 ABCD matrices that define an\n",
    "    uncoupled LCT in two dimensions, apply LCT[MX_lct] to each row,\n",
    "    and then LCT[MY_lct] to each column.\n",
    "\n",
    "    The algorithm implemented here is that given by Koç, et al.\n",
    "    in IEEE Trans. Signal Proc. 56(6):2383--2394, June 2008.\n",
    "\n",
    "    Arguments:\n",
    "    MX_lct -- symplectic 2x2 matrix that describes the desired LCT\n",
    "    MY_lct -- symplectic 2x2 matrix that describes the desired LCT\n",
    "    in_signal -- the signal to transform, [ dX, dY, signal_array], where\n",
    "                 dX and dY denote the sample intervals of the given\n",
    "                 signal along its two axes\n",
    "\n",
    "    Return the transformed signal in the form [ dY, LCT[M_lct](signal)].\n",
    "    \"\"\"\n",
    "    # extract the pieces\n",
    "    dX, dY, signal_array = in_signal\n",
    "\n",
    "    # apply LCT[MX_lct] to each row\n",
    "    lct_x = [ apply_lct(MX_lct, (dX, sig_x)) for sig_x in signal_array  ]\n",
    "    dX_out = lct_x[0][0]\n",
    "\n",
    "    # apply LCT[MY_lct] to each column\n",
    "    signal_array = np.asarray([ s[-1] for s in lct_x ]).T\n",
    "    lct_y = [ apply_lct(MY_lct, (dY, sig_y)) for sig_y in signal_array ]\n",
    "    dY_out = lct_y[0][0]\n",
    "\n",
    "    signal_array = np.asarray([ s[-1] for s in lct_y ]).T\n",
    "    return (dX_out, dY_out, signal_array)"
   ]
  },
  {
   "cell_type": "markdown",
   "id": "71e14301-b435-4257-a43b-84bd81e91ff4",
   "metadata": {},
   "source": [
    "### Create 2D Gaussian and apply LCT"
   ]
  },
  {
   "cell_type": "code",
   "execution_count": 20,
   "id": "9c9d08e6-e073-455f-a7b5-3075115ad4b7",
   "metadata": {},
   "outputs": [],
   "source": [
    "from pykern import pkcli\n",
    "from pykern.pkcollections import PKDict\n",
    "try:\n",
    "    import rslaser\n",
    "except:\n",
    "    # Developers should use 'pip install -e .' from the command line.\n",
    "    # Users can install directly from GitHub --\n",
    "    !{sys.executable} -m pip install git+https://github.com/radiasoft/rslaser.git\n",
    "    import rslaser\n",
    "\n",
    "from rslaser.pulse import pulse\n",
    "from rslaser.optics import element\n",
    "\n",
    "import scipy.constants as const\n",
    "\n",
    "import srwlib\n",
    "from srwlib import srwl\n",
    "\n",
    "# specify parameters\n",
    "_LASER_PULSE_SLICE_DEFAULTS = PKDict(\n",
    "    sigrW=0.0002,\n",
    "    propLen=15,\n",
    "    pulseE=0.001,\n",
    "    poltype=1,\n",
    "    sampFact=1,\n",
    "    mx=0,\n",
    "    my=0,\n",
    ")\n",
    "_LASER_PULSE_DEFAULTS = PKDict(\n",
    "        phE=1.55,\n",
    "        nslice=1,\n",
    "        chirp=0,\n",
    "        w0=128.9e-6,\n",
    "        a0=.01,\n",
    "        dw0x=0.0,\n",
    "        dw0y=0.0,\n",
    "        z_waist=0.,\n",
    "        dzwx=0.0,\n",
    "        dzwy=0.0,\n",
    "        tau_fwhm=2.e-10,\n",
    "        z_center=0.,\n",
    "        sigma_cutoff=3.,\n",
    "        x_shift = 0.,\n",
    "        y_shift=0.,\n",
    "        d_to_w=0.0,\n",
    "        slice_params=_LASER_PULSE_SLICE_DEFAULTS,\n",
    ")"
   ]
  },
  {
   "cell_type": "code",
   "execution_count": 21,
   "id": "70a8b5ed-46bf-40b8-91bb-3384428357c4",
   "metadata": {},
   "outputs": [
    {
     "name": "stdout",
     "output_type": "stream",
     "text": [
      " photon energy = 2.48E-19 [J] = 1.55 [eV]\n",
      " params.tau_fwhm = 2.00E-10 [s]\n"
     ]
    }
   ],
   "source": [
    "# Override some of the default parameters\n",
    "# First, instantiate the default parameters:\n",
    "params = _LASER_PULSE_DEFAULTS.copy()\n",
    "\n",
    "lambda0 = 8.e-7                     # wavelength [m]\n",
    "phE = const.h * const.c / lambda0   # photon energy [J]\n",
    "phE_ev = phE / const.e              # photon energy [eV]\n",
    "print(' photon energy = {0:4.2E} [J]'.format(phE) + ' = {0:4.2f} [eV]'.format(phE_ev))\n",
    "\n",
    "print(' params.tau_fwhm = {0:4.2E} [s]'.format(params.tau_fwhm))\n",
    "tau_fwhm = 0.3e-13                  # FWHM pulse length [s]\n",
    "params.tau_fwhm = tau_fwhm\n",
    "\n",
    "# params.d_to_w = 0.0     #  [m] distance from the initial pulse location to the loc-n of the beam waist, > 0 if converging \n",
    "params.d_to_w = 0.011     #  [m] distance from the initial pulse location to the loc-n of the beam waist, > 0 if converging "
   ]
  },
  {
   "cell_type": "code",
   "execution_count": 22,
   "id": "c8bde2d7-df77-482b-b5b5-951505e2c03e",
   "metadata": {},
   "outputs": [],
   "source": [
    "# Instantiate the laser pulse\n",
    "thisPulse = pulse.LaserPulse(params)"
   ]
  },
  {
   "cell_type": "code",
   "execution_count": 23,
   "id": "1acf09b4-6c0e-4888-b799-48798d30f0ff",
   "metadata": {},
   "outputs": [
    {
     "name": "stdout",
     "output_type": "stream",
     "text": [
      "Size of initial wavefront data array (coordinate): (350, 350)\n"
     ]
    }
   ],
   "source": [
    "# initial pulse - intensity\n",
    "\n",
    "# choose one of the laser pulse slices, and grab its SRW wavefront object\n",
    "slice_array = thisPulse.slice\n",
    "slice_number = 0\n",
    "wfr0 = slice_array[slice_number].wfr\n",
    "\n",
    "intensity0 = srwlib.array('f', [0]*wfr0.mesh.nx*wfr0.mesh.ny) # \"flat\" array to take 2D intensity data\n",
    "ReE = srwlib.array('f', [0]*wfr0.mesh.nx*wfr0.mesh.ny) # \"flat\" array to take 2D electric field data\n",
    "ImE = srwlib.array('f', [0]*wfr0.mesh.nx*wfr0.mesh.ny) # \"flat\" array to take 2D electric field data\n",
    "#srwl.CalcIntFromElecField(intensity0, wfr0, 0, 0, 3, wfr0.mesh.eStart, 0, 0) #extracts intensity\n",
    "srwl.CalcIntFromElecField(ReE, wfr0, 0, 0, 5, wfr0.mesh.eStart, 0, 0) #extracts Re(E)\n",
    "srwl.CalcIntFromElecField(ImE, wfr0, 0, 0, 6, wfr0.mesh.eStart, 0, 0) #extracts Im(E)\n",
    "\n",
    "##Reshaping electric field data from flat to 2D array\n",
    "ReE_2d = np.array(ReE).reshape((wfr0.mesh.nx, wfr0.mesh.ny), order='C')\n",
    "ImE_2d = np.array(ImE).reshape((wfr0.mesh.nx, wfr0.mesh.ny), order='C')\n",
    "wfrsizei=np.size(ReE_2d)\n",
    "# print(wfrsizei)\n",
    "# print(np.size(ImE_2d))\n",
    "\n",
    "print('Size of initial wavefront data array (coordinate):',np.shape(ReE_2d))\n",
    "x0=np.linspace(wfr0.mesh.xStart,wfr0.mesh.xFin,wfr0.mesh.nx)\n",
    "y0=np.linspace(wfr0.mesh.yStart,wfr0.mesh.yFin,wfr0.mesh.ny)"
   ]
  },
  {
   "cell_type": "code",
   "execution_count": 24,
   "id": "975a1709-fd6a-4322-8e0a-8becfc620a61",
   "metadata": {},
   "outputs": [
    {
     "data": {
      "text/plain": [
       "(350, 350)"
      ]
     },
     "execution_count": 24,
     "metadata": {},
     "output_type": "execute_result"
    }
   ],
   "source": [
    "ETot = ReE_2d + np.multiply(ImE_2d,1j)\n",
    "np.shape(ETot)"
   ]
  },
  {
   "cell_type": "code",
   "execution_count": 25,
   "id": "2fb7bf9e-58c1-4068-89fe-aa1c46028d4e",
   "metadata": {},
   "outputs": [
    {
     "name": "stdout",
     "output_type": "stream",
     "text": [
      "[1.1214492e+09+376227.16j]\n"
     ]
    }
   ],
   "source": [
    "print(ETot[[0],[0]])"
   ]
  },
  {
   "cell_type": "markdown",
   "id": "1f03bfbc-f7ec-411a-99a5-f68813c16a37",
   "metadata": {},
   "source": [
    "### Construct transfer matrix for drift and apply to wavefront"
   ]
  },
  {
   "cell_type": "code",
   "execution_count": 26,
   "id": "27a6dff2-3cf2-44a5-8d68-86d3990a4198",
   "metadata": {},
   "outputs": [
    {
     "name": "stdout",
     "output_type": "stream",
     "text": [
      "[['SCL', 0.6666666666666666], ['RSMP', 2.0], ['CM', -1.5], ['LCFT', 0], ['RSMP', 2.916666666666666], ['CM', -0.6666666666666666]]\n",
      "[['SCL', -1.0], ['LCFT', 0], ['RSMP', 2.0], ['CM', 1.5e-09], ['LCFT', 0], ['RSMP', 0.50000000075], ['CM', 0.0]]\n"
     ]
    }
   ],
   "source": [
    "L = 1.5 #drift length (m)\n",
    "wavelength = 1e-9 #wavelength (m)\n",
    "M_drift = np.array([[ 1,  L  ],\n",
    "                     [ 0, 1 ]])\n",
    "M_drift_lam = np.array([[ 1,  L*wavelength  ],\n",
    "                     [ 0, 1 ]])\n",
    "print(lct_decomposition(M_drift))\n",
    "print(lct_decomposition(M_drift_lam))"
   ]
  },
  {
   "cell_type": "code",
   "execution_count": null,
   "id": "a2fefe8d-54de-43c5-b4a0-ee4b153573de",
   "metadata": {},
   "outputs": [],
   "source": []
  },
  {
   "cell_type": "code",
   "execution_count": 27,
   "id": "a8a5b63b-8f57-406f-9d2a-1160f42efc21",
   "metadata": {},
   "outputs": [],
   "source": [
    "ns = 350                                       # no. of samples\n",
    "dX = 0.002857                                   # spacing [mm]\n",
    "xv = lct_abscissae(ns, dX, ishift = False)      # x values array"
   ]
  },
  {
   "cell_type": "code",
   "execution_count": 28,
   "id": "5403e4bb-fb88-4741-84e7-a6949efa30aa",
   "metadata": {},
   "outputs": [],
   "source": [
    "ns = 350                                       # no. of samples\n",
    "dY = 0.002857                                   # spacing [mm]\n",
    "yv = lct_abscissae(ns, dY, ishift = False)      # y values array"
   ]
  },
  {
   "cell_type": "code",
   "execution_count": 29,
   "id": "e46aea79-506a-42cb-9876-cf2d0702a145",
   "metadata": {},
   "outputs": [],
   "source": [
    "in_signal_2d = (dX, dY, ETot)"
   ]
  },
  {
   "cell_type": "code",
   "execution_count": 30,
   "id": "b1a87e8f-1eec-49e4-aa85-f561a69eb6dc",
   "metadata": {},
   "outputs": [],
   "source": [
    "dX_out, dY_out, out_signal_2d = apply_lct_2d_sep(M_drift_lam, M_drift_lam, in_signal_2d)"
   ]
  },
  {
   "cell_type": "code",
   "execution_count": 31,
   "id": "8651be8e-51ec-4297-8ba5-a9fcae258b6d",
   "metadata": {},
   "outputs": [
    {
     "name": "stdout",
     "output_type": "stream",
     "text": [
      "[[1.1214492e+09 1.2288141e+09 1.3457508e+09 ... 1.3457508e+09\n",
      "  1.2288141e+09 1.1214492e+09]\n",
      " [0.0000000e+00 0.0000000e+00 0.0000000e+00 ... 0.0000000e+00\n",
      "  0.0000000e+00 0.0000000e+00]\n",
      " [0.0000000e+00 0.0000000e+00 0.0000000e+00 ... 0.0000000e+00\n",
      "  0.0000000e+00 0.0000000e+00]\n",
      " ...\n",
      " [0.0000000e+00 0.0000000e+00 0.0000000e+00 ... 0.0000000e+00\n",
      "  0.0000000e+00 0.0000000e+00]\n",
      " [0.0000000e+00 0.0000000e+00 0.0000000e+00 ... 0.0000000e+00\n",
      "  0.0000000e+00 0.0000000e+00]\n",
      " [0.0000000e+00 0.0000000e+00 0.0000000e+00 ... 0.0000000e+00\n",
      "  0.0000000e+00 0.0000000e+00]]\n"
     ]
    }
   ],
   "source": [
    "print(np.real(ETot))"
   ]
  },
  {
   "cell_type": "code",
   "execution_count": 32,
   "id": "9e4f57d4-acff-4c01-9476-bbd993794a1f",
   "metadata": {},
   "outputs": [
    {
     "name": "stderr",
     "output_type": "stream",
     "text": [
      "/home/vagrant/.pyenv/versions/py3/lib/python3.7/site-packages/ipykernel_launcher.py:18: MatplotlibDeprecationWarning: shading='flat' when X and Y have the same dimensions as C is deprecated since 3.3.  Either specify the corners of the quadrilaterals with X and Y, or pass shading='auto', 'nearest' or 'gouraud', or set rcParams['pcolor.shading'].  This will become an error two minor releases later.\n"
     ]
    },
    {
     "data": {
      "text/plain": [
       "Text(0, 0.5, '$y \\\\,/\\\\, \\\\mathrm{m}$')"
      ]
     },
     "execution_count": 32,
     "metadata": {},
     "output_type": "execute_result"
    },
    {
     "data": {
      "image/png": "[encoded data removed]",
      "text/plain": [
       "<Figure size 1008x1260 with 8 Axes>"
      ]
     },
     "metadata": {},
     "output_type": "display_data"
    }
   ],
   "source": [
    "idx = 0\n",
    "n_rows = 3\n",
    "n_cols = 2\n",
    "sz_h = 7\n",
    "sz_v = sz_h / 1.2\n",
    "plt.figure(figsize = (n_cols * sz_h, n_rows * sz_v))\n",
    "# shading = 'gouraud'\n",
    "shading = 'nearest'\n",
    "\n",
    "hx, hy, sig_arr = in_signal_2d\n",
    "ny, nx = np.shape(sig_arr)\n",
    "local_xv = lct_abscissae(nx, hx)\n",
    "local_yv = lct_abscissae(ny, hy)\n",
    "\n",
    "idx += 1\n",
    "ax = plt.subplot(n_rows, n_cols, idx)\n",
    "# pcm = ax.pcolormesh(local_xv, local_yv, np.real(ETot), cmap = plt.cm.viridis, shading = shading)\n",
    "pcm = ax.pcolormesh(local_xv, local_yv, np.real(ETot), cmap = plt.cm.Blues)\n",
    "plt.colorbar(pcm)\n",
    "plt.title(r'$R[120°]$(input signal), real part')\n",
    "plt.xlabel(r'$x \\,/\\, \\mathrm{m}$')\n",
    "plt.ylabel(r'$y \\,/\\, \\mathrm{m}$')\n",
    "\n",
    "idx += 1\n",
    "ax = plt.subplot(n_rows, n_cols, idx)\n",
    "pcm = ax.pcolormesh(local_xv, local_yv, np.imag(sig_arr), cmap = plt.cm.viridis, shading = shading)\n",
    "plt.colorbar(pcm)\n",
    "plt.title(r'$R[120°]$(input signal), imaginary part')\n",
    "plt.xlabel(r'$x \\,/\\, \\mathrm{m}$')\n",
    "plt.ylabel(r'$y \\,/\\, \\mathrm{m}$')\n",
    "\n",
    "sig_arr = out_signal_2d\n",
    "hx = dX_out\n",
    "hy = dY_out\n",
    "ny, nx = np.shape(sig_arr)\n",
    "local_xv = lct_abscissae(nx, hx)\n",
    "local_yv = lct_abscissae(ny, hy)\n",
    "\n",
    "idx += 1\n",
    "ax = plt.subplot(n_rows, n_cols, idx)\n",
    "pcm = ax.pcolormesh(local_xv, local_yv, np.real(sig_arr), cmap = plt.cm.Blues, shading = shading)\n",
    "ax.set_xlim(-20, 20)\n",
    "ax.set_ylim(-20, 20)\n",
    "plt.colorbar(pcm)\n",
    "plt.title(r'$R[120°]^2$(input signal), real part')\n",
    "plt.xlabel(r'$x \\,/\\, \\mathrm{m}$')\n",
    "plt.ylabel(r'$y \\,/\\, \\mathrm{m}$')\n",
    "\n",
    "idx += 1\n",
    "ax = plt.subplot(n_rows, n_cols, idx)\n",
    "pcm = ax.pcolormesh(local_xv, local_yv, np.imag(sig_arr), cmap = plt.cm.Blues, shading = shading)\n",
    "ax.set_xlim(-20, 20)\n",
    "ax.set_ylim(-20, 20)\n",
    "plt.colorbar(pcm)\n",
    "plt.title(r'$R[120°]^2$(input signal), imaginary part')\n",
    "plt.xlabel(r'$x \\,/\\, \\mathrm{m}$')\n",
    "plt.ylabel(r'$y \\,/\\, \\mathrm{m}$')"
   ]
  },
  {
   "cell_type": "code",
   "execution_count": 33,
   "id": "d149915e-bf47-4b82-98e0-c056abcd6669",
   "metadata": {},
   "outputs": [
    {
     "name": "stdout",
     "output_type": "stream",
     "text": [
      "(351, 351)\n"
     ]
    }
   ],
   "source": [
    "print(np.shape(out_signal_2d))"
   ]
  },
  {
   "cell_type": "code",
   "execution_count": null,
   "id": "a6aef25e-fd2f-4797-8faf-568c4bf4f2b3",
   "metadata": {},
   "outputs": [],
   "source": []
  }
 ],
 "metadata": {
  "kernelspec": {
   "display_name": "Python 3",
   "language": "python",
   "name": "py3"
  },
  "language_info": {
   "codemirror_mode": {
    "name": "ipython",
    "version": 3
   },
   "file_extension": ".py",
   "mimetype": "text/x-python",
   "name": "python",
   "nbconvert_exporter": "python",
   "pygments_lexer": "ipython3",
   "version": "3.7.2"
  },
  "toc-autonumbering": false,
  "toc-showcode": false,
  "toc-showmarkdowntxt": false
 },
 "nbformat": 4,
 "nbformat_minor": 5
}
