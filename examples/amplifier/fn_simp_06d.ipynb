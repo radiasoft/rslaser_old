{
 "cells": [
  {
   "cell_type": "markdown",
   "metadata": {},
   "source": [
    "# *FEniCS NB:* Laser Pulse Crossing a Crystal\n",
    "### *File:*    fn_simp_06d.py — propagate the laser pulse, now with a dynamic crystal\n",
    "\n",
    "#### —— not yet working ——\n",
    "#### ***:-(***\n",
    "\n",
    "The Frantz-Nodvik equations\n",
    "$$\n",
    "\\begin{align}\n",
    "  \\partial_t n + c\\partial x &= \\sigma c n \\Delta, \\\\\n",
    "  \\partial_t \\Delta          &= -\\gamma \\sigma c n \\Delta, \\\\\n",
    "\\end{align}\n",
    "$$\n",
    "are a pair of coupled, first-order PDEs that describe\n",
    "the propagation of a one-dimensional laser pulse across a\n",
    "slab of laser gain material composed of two-level atoms.\n",
    "Here, $x$ and $t$ denote respectively distance along the beam axis and\n",
    "the time; $n(x,t)$ denotes photon number density in the medium;\n",
    "and $\\Delta(x,t)$ denotes the “population inversion”, $N_2 - N_1$,\n",
    "giving the difference between the number density of atoms\n",
    "in the excited state as compared to those in the ground state.\n",
    "In addition, $c$ denotes the speed of light in the medium,\n",
    "$\\sigma$ the resonance absorption cross-section,\n",
    "and $\\gamma$ a factor related to the relative degeneracy\n",
    "of the ground and excited states.\n",
    "\n",
    "This problem has both spatial and temporal boundary conditions (BCs).\n",
    "For the spatial BC, we apply Dirichlet to the left-hand edge,\n",
    "and leave the right-hand edge free.\n",
    "For the temporal BC, we specify the initial population inversion\n",
    "across the domain of interest, and the initial profile of the\n",
    "incident laser pulse."
   ]
  },
  {
   "cell_type": "code",
   "execution_count": null,
   "metadata": {},
   "outputs": [],
   "source": [
    "%matplotlib inline\n",
    "import matplotlib.pyplot as plt\n",
    "import numpy as np\n",
    "\n",
    "# import os\n",
    "# import sys\n",
    "# from IPython.display import Image\n",
    "# from IPython.core.interactiveshell import InteractiveShell\n",
    "# InteractiveShell.ast_node_interactivity = \"all\""
   ]
  },
  {
   "cell_type": "code",
   "execution_count": null,
   "metadata": {},
   "outputs": [],
   "source": [
    "from fenics import *\n",
    "from mshr import *"
   ]
  },
  {
   "cell_type": "markdown",
   "metadata": {},
   "source": [
    "Describe the simulation: parameters, domain, boundary conditions, initial conditions."
   ]
  },
  {
   "cell_type": "code",
   "execution_count": null,
   "metadata": {},
   "outputs": [],
   "source": [
    "# set simulation parameters: domain, crystal, laser, time step\n",
    "# -- simulation domain\n",
    "Ld     = 1.00          # length of simulation domain (we force, see below, domain to [0,1])\n",
    "mesh_d = 226           # mesh density\n",
    "ds     = Ld / mesh_d   # size of individual mesh cells\n",
    "# -- laser pulse\n",
    "p_w  = (50 - 4) * ds   # laser pulse width\n",
    "p_hw = p_w / 2         # laser pulse half-width\n",
    "p_x0 = p_hw + 2 * ds   # laser pulse starting point\n",
    "p_n0 = 1.00e02         # incident photon density\n",
    "cl = 1.00              # speed of light in vacuum, β_0\n",
    "cm = 163 * ds          # speed of light in crystal, β_c\n",
    "# -- crystal\n",
    "c_w   = 70 * ds        # crystal width\n",
    "c_hw  = c_w / 2        # crystal half-width\n",
    "c_x0  = 85 * ds        # crystal center\n",
    "c_D0  = 1.00e06        # initial population inversion density\n",
    "sigma = 2.70e-9        # resonance absorption cross-section\n",
    "gamma = 2.             # degeneracy factor, 1 + γ_1 / γ_2\n",
    "# -- time step    \n",
    "T       = 183 * ds     # total simulation time\n",
    "n_steps =  800         # number of time steps\n",
    "dt      = T / n_steps  # size of time step\n",
    "nip     = 100          # number of intervals between plots\n",
    "\n",
    "# create domain: a 1D mesh on the unit interval [0,1]\n",
    "mesh = UnitIntervalMesh(mesh_d)\n",
    "V = FunctionSpace(mesh, \"P\", 2)\n",
    "\n",
    "# define boundary functions: left and right ends\n",
    "def on_L(x, on_boundary):\n",
    "    return (on_boundary and near(x[0], 0.))\n",
    "\n",
    "def on_R(x, on_boundary):\n",
    "    return (on_boundary and near (x[0], 1.))\n",
    "    \n",
    "# specify boundary conditions\n",
    "# (leaving RH boundary free)\n",
    "bc_L = DirichletBC(V, Constant(0), on_L)\n",
    "bc_R = DirichletBC(V, Constant(0), on_R)\n",
    "bc = [bc_L, bc_R]\n",
    "# bc = bc_L\n",
    "\n",
    "# specify initial conditions\n",
    "# -- define profile of incident laser pulse: half wave near left edge of domain\n",
    "nph_init = Expression('abs(x[0] - p_x0) < p_hw ? p_n0 * cos(pi * (x[0] - p_x0) / p_w) : 0.',\n",
    "                       degree=2, p_w=p_w, p_hw=p_hw, p_x0=p_x0, p_n0=p_n0)\n",
    "# -- define profile of crystal's initial population inversion\n",
    "Dcr_init = Expression('abs(x[0] - c_x0) < c_hw ? c_D0 * cos(pi * (x[0] - c_x0) / c_w) : 0.',\n",
    "                    degree=2, c_w=c_w, c_hw=c_hw, c_x0=c_x0, c_D0=c_D0)\n",
    "# -- initialize nph_j = nph_init\n",
    "nph_j = interpolate(nph_init, V)\n",
    "# -- initialize Dc_j = nph_init\n",
    "Dcr_j = interpolate(Dcr_init, V)"
   ]
  },
  {
   "cell_type": "markdown",
   "metadata": {},
   "source": [
    "Set up the variational problem."
   ]
  },
  {
   "cell_type": "code",
   "execution_count": null,
   "metadata": {},
   "outputs": [],
   "source": [
    "# define variational problem\n",
    "nph = TrialFunction(V)\n",
    "Dcr = TrialFunction(V)\n",
    "v   = TestFunction(V)\n",
    "# ∂n/∂t + c ∂n/∂x - σ c Δ n + ∂Δ/∂t + γ σ c n Δ = 0\n",
    "F = (nph - nph_j + cm * dt * nph.dx(0) - sigma * cm * dt * Dcr_j * nph + (Dcr - Dcr_j) + gamma * sigma * cm * dt * nph_j * Dcr) * v * dx\n",
    "a, L = lhs(F), rhs(F)"
   ]
  },
  {
   "cell_type": "markdown",
   "metadata": {},
   "source": [
    "Execute simulation."
   ]
  },
  {
   "cell_type": "code",
   "execution_count": null,
   "metadata": {},
   "outputs": [],
   "source": [
    "# initializations\n",
    "nph = Function(V)\n",
    "Dcr = Function(V)\n",
    "Dcr.assign(Dcr_j)\n",
    "t = 0\n",
    "plt.figure(figsize=(13,8))\n",
    "plt.title(\"population inversion density\")\n",
    "# plot(Dcr_j / (c_D0 / p_n0), ls='-.', c='b', lw=1.2)\n",
    "\n",
    "# time steps\n",
    "for ii in range(n_steps):\n",
    "\n",
    "    # update time\n",
    "    t += dt\n",
    "\n",
    "    # compute solution\n",
    "    solve(a == L, nph, bc)\n",
    "\n",
    "    # update plot at nip-step intervals\n",
    "    if ii % nip == 0:\n",
    "        plot(Dcr / (c_D0 / p_n0))\n",
    "#         plot(nph)\n",
    "\n",
    "    # update previous solution\n",
    "    nph_j.assign(nph)\n",
    "    Dcr_j.assign(Dcr)\n",
    "\n",
    "# final envelope of laser pulse (if necessary)\n",
    "# if ii % nip != 0:\n",
    "#     plot(nph)\n",
    "\n",
    "# finish plot\n",
    "# plt.xlim([0.00, 0.20])\n",
    "# plt.ylim([0.00, 175.0])\n",
    "# plt.axvline(c_x0 - c_hw,   c='b', lw=1.2)\n",
    "# plt.axvline(c_x0 + c_hw,   c='b', lw=1.2)\n",
    "plt.axvline(p_x0,          c='g', lw=1.2)\n",
    "plt.axvline(p_x0 + cm * T, c='r', lw=1.2)\n",
    "# plt.axhline(p_n0 * 0.970,  c='b', lw=0.5)\n",
    "\n",
    "plot(Dcr / (c_D0 / p_n0), ls=':',  c='g', lw=1.2)\n",
    "plt.grid(True)\n",
    "plt.show()\n",
    "plt.close()"
   ]
  },
  {
   "cell_type": "markdown",
   "metadata": {},
   "source": [
    "The following approach is useful for 2D and 3D systems,\n",
    "when overlaying plots may not make sense."
   ]
  },
  {
   "cell_type": "code",
   "execution_count": null,
   "metadata": {},
   "outputs": [],
   "source": [
    "# define time-evolution function\n",
    "def evolve():\n",
    "\n",
    "    # initialization\n",
    "    nph = Function(V)\n",
    "    t = 0\n",
    "\n",
    "    # time steps\n",
    "    for ii in range(n_steps):\n",
    "\n",
    "        # update current time\n",
    "        t += dt\n",
    "\n",
    "        # compute solution\n",
    "        solve(a == L, nph, bc)\n",
    "\n",
    "        # report solution at nip-step intervals\n",
    "        if ii % nip == 0:\n",
    "            yield nph\n",
    "\n",
    "        # update previous solution\n",
    "        nph_j.assign(nph)\n",
    "\n",
    "    # final envelope of laser pulse (if necessary)\n",
    "    if ii % nip == 0:\n",
    "        yield nph"
   ]
  },
  {
   "cell_type": "code",
   "execution_count": null,
   "metadata": {},
   "outputs": [],
   "source": [
    "n_rows = 3\n",
    "n_cols = 5\n",
    "fig_wd = 15\n",
    "# default sizing here yields unit aspect ratio\n",
    "plt.figure(figsize = (fig_wd, fig_wd * n_rows // n_cols))\n",
    "plt.subplots_adjust(wspace=0.3, hspace=0.3)\n",
    "\n",
    "idx = 0\n",
    "for u in evolve():\n",
    "    idx += 1\n",
    "    plt.subplot(n_rows, n_cols, idx)\n",
    "    plot(u)\n",
    "#     plot(u, vmin=u_min, vmax=u_max)"
   ]
  },
  {
   "cell_type": "code",
   "execution_count": null,
   "metadata": {},
   "outputs": [],
   "source": []
  }
 ],
 "metadata": {
  "kernelspec": {
   "display_name": "Python 3",
   "language": "python",
   "name": "python3"
  },
  "language_info": {
   "codemirror_mode": {
    "name": "ipython",
    "version": 3
   },
   "file_extension": ".py",
   "mimetype": "text/x-python",
   "name": "python",
   "nbconvert_exporter": "python",
   "pygments_lexer": "ipython3",
   "version": "3.7.2"
  }
 },
 "nbformat": 4,
 "nbformat_minor": 4
}
