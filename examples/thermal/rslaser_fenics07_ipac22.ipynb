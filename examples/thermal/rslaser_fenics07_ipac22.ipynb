{
 "cells": [
  {
   "cell_type": "markdown",
   "id": "ad179e84-bd1c-4752-b5d4-11bace35bfc8",
   "metadata": {
    "tags": []
   },
   "source": [
    "<h1 align='center'> FEniCS Thermal Transport in TiAl$_2$O$_3$ Cylindrical Geometry </h1>\n",
    "<center>\n",
    "Nicholas Goldring <br>\n",
    "RadiaSoft LLC <br>\n",
    "April 2022 <br>"
   ]
  },
  {
   "cell_type": "markdown",
   "id": "dd2ecbf6-e876-4248-9c05-1eca63905ed5",
   "metadata": {
    "tags": []
   },
   "source": [
    "***\n",
    "## Notes\n",
    "***"
   ]
  },
  {
   "cell_type": "markdown",
   "id": "275f6c2b-21e5-4cd0-ab55-66db55534465",
   "metadata": {},
   "source": [
    "\n",
    "model diagram\n",
    "\n",
    "<img src=\"figures/crystal_diagram01.PNG\">"
   ]
  },
  {
   "cell_type": "markdown",
   "id": "e2ea9dac-ce82-4748-a3a8-78cebc5923b6",
   "metadata": {},
   "source": [
    "<!-- $\n",
    "hse = T_0 + T_1 \\left( e^{-\\frac{z + l/2}{0.3l}} + e^{\\frac{z - l/2}{0.3l}} \\right) e^{-\\frac{1}{2} {\\left(\\frac{x^2 + y^2}{w^2} \\right)}^{p_x} }\n",
    "$ -->\n",
    "\n",
    "<!-- $x, \\hspace{1mm} y, \\hspace{1mm} z$ : spatial coordinates [cm] \\\n",
    "$T_0$ : temperature input at time = 0s [$^\\circ$C] \\\n",
    "$T_1$ : temperature input at time of incident heat load [$^\\circ$C] \\\n",
    "$l$ : crystal length [cm] \\\n",
    "$w^2$ : variance [cm$^2$] \\\n",
    "$p_x$ : x-component of Super Gaussian exponent -->"
   ]
  },
  {
   "cell_type": "markdown",
   "id": "d1c6b24f-91e7-46e8-9dab-1f08d890e427",
   "metadata": {},
   "source": [
    "***\n",
    "$\\textbf{Imports and definitions}$\n",
    "***"
   ]
  },
  {
   "cell_type": "code",
   "execution_count": null,
   "id": "d766df4b-c42f-4c67-9deb-19550c6f2c62",
   "metadata": {
    "tags": []
   },
   "outputs": [],
   "source": [
    "import numpy as np\n",
    "from scipy.optimize import curve_fit\n",
    "from scipy.optimize import differential_evolution\n",
    "from scipy.stats import norm\n",
    "import time as tm\n",
    "import copy\n",
    "import warnings\n",
    "from IPython.display import Latex\n",
    "\n",
    "from fenics import*\n",
    "from mshr import*\n",
    "\n",
    "%matplotlib inline\n",
    "import matplotlib.pyplot as plt\n",
    "import plotly.graph_objects\n",
    "from matplotlib.ticker import LinearLocator, FormatStrFormatter\n",
    "from IPython.display import Markdown, display\n",
    "def printmd(string):\n",
    "    display(Markdown(string))\n",
    "hfontLarge = {'fontname':'Latin Modern Roman', 'size' : 24, 'weight' : 'bold'}\n",
    "hfontMed = {'fontname':'Latin Modern Roman', 'size' : 19, 'weight' : 'bold'}\n",
    "hfontMed2 = {'fontname':'Cambria', 'size' : 19, 'weight' : 'bold'}\n"
   ]
  },
  {
   "cell_type": "markdown",
   "id": "dc0f6dac-b2e7-4d5d-8cb2-e5abd558d4c3",
   "metadata": {},
   "source": [
    "***\n",
    "$\\textbf{Create and mesh geometry}$"
   ]
  },
  {
   "cell_type": "code",
   "execution_count": null,
   "id": "cc360626-6c1e-4cf4-85af-7a8e10d194b0",
   "metadata": {},
   "outputs": [],
   "source": [
    "# geometry dimensions\n",
    "leng = 2.5  # cylinder length [cm]\n",
    "diam = 1.0  # cylinder diameter [cm]\n",
    "\n",
    "# derived parameters\n",
    "rad = diam / 2    # radius [cm]\n",
    "lh = leng / 2     # half-length [cm]\n",
    "rad2 = rad * rad  # radius squared [cm^2]\n",
    "\n",
    "\n",
    "# create a cylindrical geometry\n",
    "# cylinder = Cylinder('coordinate of center of the top circle', 'coordinate of center of the bottom circle', 'radius of the circle at the top', 'radius of the circle at the bottom')\n",
    "cylinder = Cylinder(Point(0, 0, lh), Point(0, 0, -lh), rad, rad)\n",
    "# cylinder = Cylinder(Point(0, 0, 2*lh), Point(0, 0, 0*(-lh)), rad, rad)\n",
    "geometry = cylinder\n",
    "\n",
    "# define mesh\n",
    "mden = 60  # 45  # mesh density\n",
    "mesh = generate_mesh(geometry, mden)\n",
    "\n",
    "# save the mesh\n",
    "File(\"cylinder.pvd\") << mesh\n",
    "print('rad: %s cm' %(rad))"
   ]
  },
  {
   "cell_type": "code",
   "execution_count": null,
   "id": "ea73f6cd-efd8-469d-8e80-630b0660aebb",
   "metadata": {},
   "outputs": [],
   "source": [
    "# plot mesh\n",
    "print('Geometry')\n",
    "print('length: %s cm, radius: %s cm' %(leng, rad))\n",
    "print('Mesh')\n",
    "print('mesh density: %s, no. of tetrahedral elements: %s, no. of vertices: %s' %(mden, mesh.num_cells(), mesh.num_vertices()))\n",
    "mesh"
   ]
  },
  {
   "cell_type": "markdown",
   "id": "56ca98ea-9fee-4844-8889-f1af76129cec",
   "metadata": {},
   "source": [
    "***\n",
    "$\\textbf{Define boundary and initial conditions, sources}$"
   ]
  },
  {
   "cell_type": "code",
   "execution_count": null,
   "id": "153a7c25-e070-4ce8-8048-2d6c323aae4b",
   "metadata": {},
   "outputs": [],
   "source": [
    "# constants\n",
    "T0 =  0.0        # deg C : T_0\n",
    "# dT    = 20.0   # deg C : T_1 - used in earlier heat load expressions\n",
    "# wdT   = 0.25   # laser radius [cm] (1/2 crystal radius)\n",
    "# wdT = 0.162    # laser radius [cm] - calculated via w_p = sqrt(2) * c_1\n",
    "wdT = 0.055      # laser radius [cm] - BELLA pump laser radius (1.1 mm diameter)\n",
    "# ldT   =  0.40  # cm\n",
    "# sg_px = 8      # 1 : x-component of super gaussian exponent\n",
    "# sg_py = 1      # 1 : y-component of super gaussian exponent\n",
    "# rad_ratio_sq = (rad**2) / (wdT**2)\n",
    "# log_rrsq = np.log(rad_ratio_sq)\n",
    "# print('log of square of radius ratio: %s' %(log_rrsq))\n",
    "\n",
    "# define function space on mesh\n",
    "V = FunctionSpace(mesh, 'P', 1)\n",
    "\n",
    "# define Dirichlet boundary condition for sides at r_max\n",
    "tol = 1.e-13\n",
    "def boundary_D(x, on_boundary):\n",
    "    return on_boundary and near(x[0]*x[0] + x[1]*x[1], rad2, tol)\n",
    "bc = DirichletBC(V, Constant(T0), boundary_D)\n",
    "\n",
    "# Gaussian (BELLA pump laser)\n",
    "pix_to_deg = 6.9                  # pix to micron ratio 1 pixel/6.9 micron  <formerly 1 pixel/6.9 micron>\n",
    "# a1 = 3.84e4                     # Gaussian amplitude\n",
    "b1 = 0.0   # 361.5\n",
    "c1 = 166.0 * pix_to_deg / 1e4     # variance [cm]\n",
    "print('variance, c1: %s [cm]' %(c1))\n",
    "\n",
    "# absorption length inferred from Chenais paper: alpha = ~0.4 1/cm\n",
    "# absorption length for BELLA pi-polarized pump: 1.2 1/cm  (95.5% absorption)\n",
    "# absorption length for BELLA sigma-polarized pump: 0.58 1/cm (76.5% absorption)\n",
    "alpha_h = 1.2           # absorption length [1/cm]\n",
    "\n",
    "# calculate incremental temperature deposition\n",
    "PumpPower = 20                                                      # pump laser power [W]\n",
    "P_abs = PumpPower * (800-532)/800                                   # absorbed power [W]  (previously used 35 * 2 in top hat heat load)\n",
    "print('Absorbed power: %f [W]' %(P_abs))\n",
    "# V_abs = np.pi * (wdT/100)**2 * (leng/100)                         # absorption volume [m^3]  (1/100 to convert cm to m)\n",
    "V_eff = np.pi * c1**2 * (1 - np.exp(-alpha_h * leng)) / alpha_h     # effective volume [cm^3]\n",
    "K_c_tisaph = 33/100                                                 # thermal conductivity [W/cm/K]    https://www.rp-photonics.com/titanium_sapphire_lasers.html\n",
    "K_c_calc = 0.31                                                     # thermal conductivity [W/cm/K] inferred from experimental delta T and Innocenzi eqn (7)\n",
    "K_c_ndyag = 0.1                                                     # thermal conductivity of Nd:YAG [W/cm/K]\n",
    "rho_tisaph = 3.98                                                   # density of Ti:Sapphire [gm/cm^3]\n",
    "rho_ndyag = 4.56                                                    # density of Nd:YAG [gm/cm^3]\n",
    "# rho = rho_ndyag   \n",
    "rho = rho_tisaph\n",
    "c_p_tisaph = 0.756                                                  # specific heat of Ti:Sapphire [J/gm/K]\n",
    "c_p_calc = 0.267                                                    # specific heat of Ti:Sapphire [J/gm/K] inferred from thermal diffusivity via the experimental thermal time constant (150 ms)\n",
    "c_p_ndyag = 0.59                                                    # specific heat of Nd:YAG [J/gm/K]\n",
    "# c_p = c_p_ndyag                                                   \n",
    "# c_p = c_p_tisaph\n",
    "c_p = c_p_calc\n",
    "\n",
    "# dQ_incr = P_abs / V_abs             # incremental heat deposition [W/cm^3]\n",
    "dQ_incr = P_abs / V_eff               # incremental heat deposition [W/cm^3]\n",
    "dT_incr = dQ_incr / rho / c_p         # incremental temperature deposition [K/s]\n",
    "\n",
    "print('dQ_incr: %f [W/cm^3], dT_incr: %f [K/s]' %(dQ_incr, dT_incr))"
   ]
  },
  {
   "cell_type": "code",
   "execution_count": null,
   "id": "55837f04-2115-4e6a-9828-c989c0167d03",
   "metadata": {},
   "outputs": [],
   "source": [
    "(800-532)/800"
   ]
  },
  {
   "cell_type": "markdown",
   "id": "712046cd-a19b-47d8-bc5a-9c6d2c6ee9b7",
   "metadata": {},
   "source": [
    "***\n",
    "**Define heat load expression**"
   ]
  },
  {
   "cell_type": "code",
   "execution_count": null,
   "id": "8d8c1996-183c-444b-a80b-da5bc1bf0c29",
   "metadata": {},
   "outputs": [],
   "source": [
    "# define heat load expressions\n",
    "gsn_bella_heat_load = Expression('dT * exp( -(pow((x[0] - b1) / c1, 2) + pow((x[1] - b1) / c1, 2)) ) * exp(-alpha_h * (x[2] + lh))',\n",
    "                                 degree = 1, dT = dT_incr, b1 = b1, c1 = c1, alpha_h = alpha_h, lh = lh)\n",
    "\n",
    "# gsn_bella_heat_load = Expression('dT * exp( -(pow((x[0] - b1) / c1, 2) + pow((x[1] - b1) / c1, 2)) ) * exp(-alpha_h * x[2])',\n",
    "#                                  degree = 1, dT = dT_incr, b1 = b1, c1 = c1, alpha_h = alpha_h)\n",
    "\n",
    "# # exp(decay) x Super Gaussian\n",
    "# expsg_heat_load = Expression('T0 + dT * (exp(-(x[2]+l/2)/dl) + exp((x[2]-l/2)/dl)) \\\n",
    "#                     * exp(-0.5 * pow((x[0]*x[0] + x[1]*x[1])/(w*w), px))',\n",
    "#                  degree=1, T0=T0, dT=dT_incr, w=wdT, l=leng, dl=0.3*leng, px=sg_px)\n",
    "\n",
    "# uniform top-hat\n",
    "uniform_heat_load = Expression('dT * ((x[0]*x[0] + x[1]*x[1])/(w*w) < 1 ? 1 : 0)',\n",
    "                   degree=1, dT=dT_incr, w=wdT)\n",
    "\n",
    "# z-dependent heat load with abs. length\n",
    "# long_abs_heat_load = Expression('dT * ((x[0]*x[0] + x[1]*x[1])/(w*w) < 1 ? 1 : 0)*(alpha_h*exp(-alpha_h*x[2]) / (1 - exp(-alpha_h*leng)))',\n",
    "#                    degree=1, alpha_h=alpha_h, leng=leng, dT=dT_incr, w=wdT)\n",
    "\n",
    "long_abs_heat_load = Expression('dT * ((x[0]*x[0] + x[1]*x[1])/(w*w) < 1 ? 1 : 0)*(exp(-alpha_h*x[2]))',\n",
    "                   degree=1, alpha_h=alpha_h, leng=leng, dT=dT_incr, w=wdT)\n",
    "\n",
    "# # chenais top-hat w/ absorption coefficient term and log term\n",
    "# chenais_heat_load_logterm = Expression('dT * ((x[0]*x[0] + x[1]*x[1])/(w*w) < 1 ? 1 : 0) * (exp(-alpha_h*x[2]) / (1 - exp(-alpha_h*leng))) * log_rrsq',\n",
    "#                    degree=1, alpha_h=alpha_h, leng=leng, dT=dT_incr, log_rrsq=log_rrsq, w=wdT)\n",
    "\n",
    "#test_cpp_func01 = Expression('(alpha_h*exp(alpha_h) / (1 - exp(alpha_h)))', degree=1, alpha_h=alpha_h, dT=dQ, w=wdT)\n",
    "\n",
    "# # T0 + dT x Θ(w–r)\n",
    "# # standard cylinder running length of crystal with given radius\n",
    "# # Heaviside theta function: 1 everywhere argument is positive, 0 everwhere argument is negative\n",
    "# # Vary radius (w^2) - rate of decay.  Try double size of w  \n",
    "# bolus = Expression('T0 + dT * ((x[0]*x[0] + x[1]*x[1])/(w*w) < 1 ? 1 : 0)',\n",
    "#                    degree=1, T0=T0, dT=dT, w=wdT)\n",
    "\n",
    "# define initial value\n",
    "# u_n = interpolate(uniform_heat_load, V)\n",
    "# u_n = interpolate(bolus, V)\n",
    "# u_n = interpolate(hse, V)\n",
    "u_n = interpolate(Constant(T0), V)\n",
    "\n",
    "# tol = 1e-2  # originally set to 1e-2 by Dan\n",
    "tol = 2e-2\n",
    "u_min = u_n(rad-tol, 0., 0.)\n",
    "u_max = u_n(0., 0., lh-tol)\n",
    "#print(u_min, u_max)\n",
    "u_n(rad-tol, 0., 0.), u_n(0., 0., lh-tol)\n",
    "#print(u_min, u_max)"
   ]
  },
  {
   "cell_type": "code",
   "execution_count": null,
   "id": "a7b7cc93-1a65-4187-a332-646c86fab12a",
   "metadata": {},
   "outputs": [],
   "source": [
    "print(Expression('x[0]',\n",
    "                degree = 1))"
   ]
  },
  {
   "cell_type": "code",
   "execution_count": null,
   "id": "ac9ff28f-58a7-475f-9de6-d745d705c239",
   "metadata": {},
   "outputs": [],
   "source": []
  },
  {
   "cell_type": "code",
   "execution_count": null,
   "id": "e2bf832e-9375-4f1c-b7a3-63e9e3567da1",
   "metadata": {},
   "outputs": [],
   "source": [
    "# define crystal properties\n",
    "\n",
    "a_Al2O3 = 7.98e-2  # cm^2/s diffusion constant of sapphire (Al2O3): (thermal conductivity [W/cm/K] / rho [gm/cm^3] / specific heat capacity(J/gm/K))\n",
    "a_perp  = 7.64e-2  # perpendicular to C\n",
    "a_para  = 8.57e-2  # parallel to C\n",
    "\n",
    "a_tisaph = K_c_tisaph / c_p_tisaph / rho_tisaph  \n",
    "a_ndyag = K_c_ndyag / c_p_ndyag / rho_ndyag\n",
    "a_calc = K_c_calc / c_p_calc / rho_tisaph\n",
    "\n",
    "# a_crystal = a_ndyag\n",
    "# a_crystal = a_tisaph\n",
    "# a_crystal = a_tisaph * 2.5\n",
    "a_crystal = a_calc\n",
    "# a_crystal = a_tisaph * 1.0\n",
    "# a_crystal = 0.69   # 0.5\n",
    "\n",
    "print('a_tisaph: %s [cm^2/s]' %a_tisaph)\n",
    "print('a_ndyag: %s [cm^2/s]' %a_ndyag)\n",
    "\n",
    "print('K_c_calc: %s [W/cm/K]' %K_c_calc)\n",
    "print('c_p_calc: %s [J/gm/K]' %c_p_calc)\n",
    "print('a_calc: %s [cm^2/s]' %a_calc)\n",
    "\n",
    "print('a_crystal: %s [cm^2/s]' %a_crystal)"
   ]
  },
  {
   "cell_type": "markdown",
   "id": "53ba9276-2aec-4ac6-8ec1-fc229f926ee4",
   "metadata": {},
   "source": [
    "***\n",
    "### Evolve function\n",
    "**Define simulation time stepping**\n",
    "\n",
    "Variational formulation \\\n",
    "*A straightforward approach to solving time-dependent PDEs by the finite\n",
    "element method is to first discretize the time derivative by a finite difference\n",
    "approximation, which yields a sequence of stationary problems, and then turn\n",
    "each stationary problem into a variational formulation.*"
   ]
  },
  {
   "cell_type": "code",
   "execution_count": null,
   "id": "182f0edf-7ba3-4bdf-8385-7490c350c9b2",
   "metadata": {
    "tags": []
   },
   "outputs": [],
   "source": [
    "# define time stepping\n",
    "T = 1.5e1          # total simulation time [s]\n",
    "# n_steps = 1000     # number of time steps\n",
    "n_steps = 1000     # number of time steps\n",
    "dt = T / n_steps   # size of time step [s]\n",
    "# nip = 20           # number of intervals between records\n",
    "nip = 2           # number of intervals between records\n",
    "print('dt: %s s' %dt)\n",
    "\n",
    "# define variational problem\n",
    "u = TrialFunction(V)\n",
    "v = TestFunction(V)\n",
    "\n",
    "# source term \n",
    "f = gsn_bella_heat_load           # Gaussian heat load for BELLA pump laser\n",
    "# f = Constant(0)                 # no source term\n",
    "# f = uniform_heat_load           # uniform cylindrical heat load\n",
    "# f = long_abs_heat_load          # Chenais heat load formula (2.1.6) without log term\n",
    "# f = chenais_heat_load_logterm   # chenais heat load eqn. 2.1.6 with log term\n",
    "# f = bolus                       # source term bolus\n",
    "# f = expsg_heat_load             # source term hse\n",
    "\n",
    "# F = u*v*dx + dt*a_Al2O3*dot(grad(u), grad(v))*dx - (u_n + dt*f)*v*dx + gi*v*ds  # w/ Neumann BC\n",
    "# F = u*v*dx + dt*a_crystal*dot(grad(u), grad(v))*dx - (u_n + dt*f)*v*dx  # w/ Dirichlet + initial condition\n",
    "F = u*v*dx + dt*a_crystal*dot(grad(u), grad(v))*dx - (u_n + dt*f)*v*dx  # w/ Dirichlet + initial condition\n",
    "a, L = lhs(F), rhs(F)\n",
    "\n",
    "\n",
    "def evolve():\n",
    "\n",
    "    # g_src = gsn_bella_heat_load\n",
    "    \n",
    "    # time-stepping\n",
    "    u = Function(V)\n",
    "    t = 0\n",
    "    \n",
    "    # report initial state\n",
    "    yield u_n, t\n",
    "\n",
    "    # source_on = True\n",
    "    # eom_set = False\n",
    "    \n",
    "    for n in range(1, n_steps + 1):\n",
    "\n",
    "        # update current time\n",
    "        t += dt\n",
    "        \n",
    "        # uncomment below to switch off pump laser at t = t_off [s]    \n",
    "        # if t_off < t:\n",
    "        #     # print('turning off source')\n",
    "        #     gsn_bella_heat_load.dT = 0.  \n",
    "            \n",
    "        # print('t: %s [s], gsn_bella_heat_load: %s' %(t, assemble(gsn_bella_heat_load*dx(domain=mesh))) )\n",
    "        \n",
    "        # compute solution\n",
    "        set_log_level(30)\n",
    "        solve(a == L, u, bc)\n",
    "\n",
    "        # report current state\n",
    "        if n % nip == 0:\n",
    "            yield u, t\n",
    "\n",
    "        # update previous solution\n",
    "        u_n.assign(u)\n",
    "\n",
    "# # define time-evolution function\n",
    "# def evolve():\n",
    "\n",
    "#     # g_src = gsn_bella_heat_load\n",
    "    \n",
    "#     # report initial state\n",
    "#     yield u_n\n",
    "\n",
    "#     # time-stepping\n",
    "#     u = Function(V)\n",
    "#     t = 0\n",
    "#     # source_on = True\n",
    "#     # eom_set = False\n",
    "    \n",
    "#     for n in range(1, n_steps + 1):\n",
    "\n",
    "#         # update current time\n",
    "#         t += dt\n",
    "#         # if eom_set == False:\n",
    "#         #     F = u*v*dx + dt*a_crystal*dot(grad(u), grad(v))*dx - (u_n + dt*gsn_bella_heat_load)*v*dx  # w/ Dirichlet + initial condition\n",
    "#         #     a, L = lhs(F), rhs(F)\n",
    "#         #     eom_set = True\n",
    "        \n",
    "#         # uncomment below to switch off pump laser at t = t_off [s]\n",
    "#         # print('t_off: %s [s], t: %s [s]' %(t_off, t))\n",
    "#         # if source_on == True and t_off < t:\n",
    "#         #     source_on = False\n",
    "#         #     # print('turning off source')\n",
    "#         #     gsn_bella_heat_load.dT = 0.     \n",
    "            \n",
    "#         if t_off < t:\n",
    "#             # print('turning off source')\n",
    "#             gsn_bella_heat_load.dT = 0.  \n",
    "            \n",
    "#         # print('t: %s [s], gsn_bella_heat_load: %s' %(t, gsn_bella_heat_load))\n",
    "            \n",
    "#         # compute solution\n",
    "#         set_log_level(30)\n",
    "#         solve(a == L, u, bc)\n",
    "\n",
    "#         # report current state\n",
    "#         if n % nip == 0:\n",
    "#             yield u\n",
    "\n",
    "#         # update previous solution\n",
    "#         u_n.assign(u)"
   ]
  },
  {
   "cell_type": "markdown",
   "id": "fa55b3ac-7754-478b-bd8a-5d868e258cfc",
   "metadata": {},
   "source": [
    "***\n",
    "$\\textbf{Define facets, coordinates for extracting data and plotting}$"
   ]
  },
  {
   "cell_type": "code",
   "execution_count": null,
   "id": "091c015c-a1e2-4ecb-b6a7-586c8dc993a2",
   "metadata": {},
   "outputs": [],
   "source": [
    "# for 3D plots, get the facets, and build an array\n",
    "# containing the indices of their coordinates\n",
    "inds = []\n",
    "for item in dolfin.cpp.mesh.facets(mesh):\n",
    "    inds.append(item.entities(0).tolist())\n",
    "\n",
    "# we will provide these indices to plotly so it can draw proper surfaces\n",
    "inds = np.array(inds)\n",
    "ii = inds[:, 0]\n",
    "jj = inds[:, 1]\n",
    "kk = inds[:, 2]\n",
    "\n",
    "# get node coördinate values and ranges\n",
    "xvals = mesh.coordinates()[:,0]\n",
    "yvals = mesh.coordinates()[:,1]\n",
    "zvals = mesh.coordinates()[:,2]\n",
    "xmin, xmax = xvals.min(), xvals.max()\n",
    "ymin, ymax = yvals.min(), yvals.max()\n",
    "zmin, zmax = zvals.min(), zvals.max()"
   ]
  },
  {
   "cell_type": "markdown",
   "id": "fe9997db-2d65-4fdb-88c0-13f84ad3ae8c",
   "metadata": {},
   "source": [
    "***\n",
    "$\\textbf{Execute simulation}$"
   ]
  },
  {
   "cell_type": "code",
   "execution_count": null,
   "id": "00af9a0c-1ed6-4405-a9fd-57d15bf47731",
   "metadata": {
    "tags": []
   },
   "outputs": [],
   "source": [
    "n_rows = 1\n",
    "n_cols = 2\n",
    "# fig_wd = 15\n",
    "# default sizing here yields unit aspect ratio\n",
    "# plt.figure(figsize = (fig_wd, fig_wd * n_rows // n_cols))\n",
    "# plt.subplot(n_rows, n_cols, idx)\n",
    "\n",
    "fig = plt.figure(figsize=(10,4))\n",
    "fig1 = fig.add_subplot(n_rows, n_cols, 1)\n",
    "fig2 = fig.add_subplot(n_rows, n_cols, 2)\n",
    "\n",
    "tol = 2.e-2  # avoid points outside domain (for a coarse mesh, increase this value) - already defined above\n",
    "xv = np.linspace(xmin * (1 - tol), xmax * (1 - tol), 201)\n",
    "zv = np.linspace(zmin * (1 - tol), zmax * (1 - tol), 201)\n",
    "radpts = [(x_, 0, 0) for x_ in xv]\n",
    "axipts = [(0, 0, z_) for z_ in zv]\n",
    "\n",
    "# define laser shut-off time [s]\n",
    "t_off = 5.0     # 2.5 0.25, 5.0\n",
    "\n",
    "idx = 0   # number of time steps to complete simulation, idx*dt will yield final simulation time\n",
    "\n",
    "T_center = []\n",
    "T_entrance = []\n",
    "T_exit = []\n",
    "t_vals = []\n",
    "\n",
    "t0 = tm.time()\n",
    "for u, curr_t in evolve():\n",
    "    idx += 1\n",
    "    ux = np.array([u(pt) for pt in radpts])\n",
    "    uz = np.array([u(pt) for pt in axipts])\n",
    "    # fig1.plot(xv, ux, lw=1, label='{0:5.3f} s'.format(idx*dt))  \n",
    "    fig1.plot(xv, ux, lw=1)  \n",
    "    fig2.plot(zv, uz, lw=1)\n",
    "    T_center.append(u(0, 0, 0))\n",
    "    T_entrance.append(u(0, 0, zv[0]))\n",
    "    T_exit.append(u(0, 0, zv[200]))\n",
    "    t_vals.append(curr_t)\n",
    "# for u in evolve():\n",
    "#     idx += 1\n",
    "#     ux = np.array([u(pt) for pt in radpts])\n",
    "#     uz = np.array([u(pt) for pt in axipts])\n",
    "#     fig1.plot(xv, ux, lw=1, label='{0:5.3f} s'.format(idx*dt))  \n",
    "#     fig2.plot(zv, uz, lw=1)\n",
    "#     T_center.append(u(0, 0, 0))\n",
    "#     T_entrance.append(u(0, 0, zv[0]))\n",
    "#     t_vals.append((idx - 1) * dt)\n",
    "t1 = tm.time()\n",
    "\n",
    "fig1.plot(xv, ux, 'k', lw=1, label='{0:5.3f} s'.format(idx*dt))\n",
    "# fig1.legend()\n",
    "fig2.plot(zv, uz, 'k', lw=1)  \n",
    "#fig2.legend()\n",
    "\n",
    "fig1.set_xlabel(r'transverse position $x\\,/\\,\\mathrm{cm}$')\n",
    "fig1.set_ylabel(r'$T\\,/\\,{}^\\circ\\mathrm{C}$')\n",
    "fig2.set_xlabel(r'longitudinal position $z\\,/\\,\\mathrm{cm}$')\n",
    "fig2.set_ylabel(r'$T\\,/\\,{}^\\circ\\mathrm{C}$')\n",
    "\n",
    "fig.savefig('temp_equil_profiles_compare.png')\n",
    "fig.show()\n",
    "\n",
    "print('mesh density: %s, no. of tetrahedral elements: %s, no. of vertices: %s' %(mden, mesh.num_cells(), mesh.num_vertices()))\n",
    "print(\"simulation time: %4.3f minutes\" % ((t1 - t0)/60.0))\n",
    "#print(\"simulation time: %4.3f seconds\" % (t1 - t0))"
   ]
  },
  {
   "cell_type": "code",
   "execution_count": null,
   "id": "5d970a74-70ec-4cf7-a5c7-84437f2ddc77",
   "metadata": {},
   "outputs": [],
   "source": [
    "# zv"
   ]
  },
  {
   "cell_type": "markdown",
   "id": "4711210b-36a7-4dff-a6fd-52244d191c62",
   "metadata": {},
   "source": [
    "### Plot and fit decay curve"
   ]
  },
  {
   "cell_type": "code",
   "execution_count": null,
   "id": "26c79f0d-f179-42ef-b0fc-f06ab901849a",
   "metadata": {
    "tags": []
   },
   "outputs": [],
   "source": [
    "dt"
   ]
  },
  {
   "cell_type": "code",
   "execution_count": null,
   "id": "8d7ba2ad-9086-4bc7-9929-3af51f970caf",
   "metadata": {
    "tags": []
   },
   "outputs": [],
   "source": [
    "# plot center point temperature profiles at entrance and half-length\n",
    "fig = plt.figure(figsize=(8,6.5))\n",
    "ax = fig.gca()\n",
    "ax.plot(t_vals, T_entrance, 'b-', lw = 1, label = 'entrance ')\n",
    "ax.plot(t_vals, T_center,'r-', lw = 1, label = 'center ')\n",
    "ax.plot(t_vals, T_exit, 'g-', lw = 1, label = 'exit')\n",
    "# ax.vlines(t_vals, 0, T_center, linestyle=\"dashed\")\n",
    "# ax.axvline(x=t_off, color='k', ls='--')\n",
    "# ax.axvline(x=0.015, color='k', ls='--')\n",
    "ax.set_xlabel(r'time [s]')\n",
    "ax.set_ylabel(r'$T\\,/\\,{}^\\circ\\mathrm{C}$')\n",
    "print('t_off: %s seconds' %t_off)\n",
    "ax.legend() \n",
    "fig.show()\n",
    "print('max temperature; entrance: %.6s [degC], longitudinal center: %.6s [degC]' %(np.max(T_entrance), np.max(T_center)))"
   ]
  },
  {
   "cell_type": "code",
   "execution_count": null,
   "id": "2b3f71af-60d0-49dd-8cda-d4363aab24f1",
   "metadata": {
    "tags": []
   },
   "outputs": [],
   "source": [
    "fig = plt.figure(figsize=(13,8))\n",
    "fig1 = fig.add_subplot(n_rows, n_cols, 1)\n",
    "fig2 = fig.add_subplot(n_rows, n_cols, 2)\n",
    "\n",
    "fig1.plot(t_vals, T_entrance,'b-', lw = 1.5, label = 'center entrance point')\n",
    "fig2.plot(t_vals, T_center,'r-', lw = 1.5, label = 'longitudinal center point')\n",
    "fig1.legend()\n",
    "fig2.legend()\n",
    "\n",
    "fig1.set_xlabel(r'time [s]')\n",
    "fig1.set_ylabel(r'$T\\,/\\,{}^\\circ\\mathrm{C}$')\n",
    "fig2.set_xlabel(r'time [s]')\n",
    "fig2.set_ylabel(r'$T\\,/\\,{}^\\circ\\mathrm{C}$')\n",
    "\n",
    "fig.show()"
   ]
  },
  {
   "cell_type": "code",
   "execution_count": null,
   "id": "eda77ee9-6c30-4f7f-b459-407492c7ff7e",
   "metadata": {
    "tags": []
   },
   "outputs": [],
   "source": [
    "# create arrays for T_center(t) and T_ent(t) and t for decay region\n",
    "decay_ran_min = 166     # min index value of decay data range    for 1000 time steps: (8 for 2.5 s)  (16 for 5 s)  \n",
    "decay_ran_max = 260     # max index value of decay data range    for 1000 time steps: (20 for 2.5 s)  (23 for 5 s)  \n",
    "T_center_decay = T_center[decay_ran_min:decay_ran_max]\n",
    "T_entrance_decay = T_entrance[decay_ran_min:decay_ran_max]\n",
    "T_exit_decay = T_exit[decay_ran_min:decay_ran_max]\n",
    "t_vals_decay = t_vals[decay_ran_min:decay_ran_max]\n",
    "\n",
    "T_entrance_decay = np.array(T_entrance_decay)\n",
    "T_center_decay = np.array(T_center_decay)\n",
    "T_exit_decay = np.array(T_exit_decay)\n",
    "t_vals_decay = np.array(t_vals_decay)\n",
    "\n",
    "# plot center longitudinal point decay profile\n",
    "fig = plt.figure(figsize=(8,6.5))\n",
    "ax = fig.gca()\n",
    "ax.plot(t_vals_decay, T_center_decay,'r-', lw = 1.5, label = 'longitudinal center point')\n",
    "# ax.vlines(t_vals, 0, T_center, linestyle=\"dashed\")\n",
    "# ax.axvline(x=t_off, color='k', ls='--')\n",
    "# ax.axvline(x=0.015, color='k', ls='--')\n",
    "ax.set_xlabel(r'time [s]')\n",
    "ax.set_ylabel(r'$T\\,/\\,{}^\\circ\\mathrm{C}$')\n",
    "# ax.legend()\n",
    "fig.show()"
   ]
  },
  {
   "cell_type": "code",
   "execution_count": null,
   "id": "30198424-c8a6-4fac-9dfc-740e6edd2442",
   "metadata": {
    "tags": []
   },
   "outputs": [],
   "source": [
    "# exp fit function\n",
    "# def exp_fit(x, A, B, C):\n",
    "#     y = A * np.exp((-B) * x) + C\n",
    "#     return y\n",
    "def exp_fit(x, A, B):\n",
    "    y = A * np.exp((-B) * x)\n",
    "    return y"
   ]
  },
  {
   "cell_type": "code",
   "execution_count": null,
   "id": "133a3c1a-aacf-42a9-84db-637bff2698e3",
   "metadata": {
    "tags": []
   },
   "outputs": [],
   "source": [
    "params = (T_center_decay[0], 0.07)"
   ]
  },
  {
   "cell_type": "code",
   "execution_count": null,
   "id": "f61e3203-f99a-4d93-b312-aaf0ca3445aa",
   "metadata": {
    "tags": []
   },
   "outputs": [],
   "source": [
    "parameters_Tcen, covariance_Tcen = curve_fit(exp_fit, t_vals_decay, T_center_decay, p0 = params, maxfev=2000)\n",
    "parameters_Tent, covariance_Tent = curve_fit(exp_fit, t_vals_decay, T_entrance_decay, p0 = params, maxfev=2000)\n",
    "parameters_Texit, covariance_Texit = curve_fit(exp_fit, t_vals_decay, T_exit_decay, p0 = params, maxfev=2000)\n",
    "\n",
    "fit_A_Tcen = parameters_Tcen[0]\n",
    "fit_B_Tcen = parameters_Tcen[1]\n",
    "fit_A_Tent = parameters_Tent[0]\n",
    "fit_B_Tent = parameters_Tent[1]\n",
    "fit_A_Texit = parameters_Texit[0]\n",
    "fit_B_Texit = parameters_Texit[1]\n",
    "# fit_C_Tcen = parameters_Tcen[2]\n",
    "\n",
    "fit_y_Tcen = exp_fit(t_vals_decay, fit_A_Tcen, fit_B_Tcen)\n",
    "fit_y_Tent = exp_fit(t_vals_decay, fit_A_Tent, fit_B_Tent)\n",
    "fit_y_Texit = exp_fit(t_vals_decay, fit_A_Texit, fit_B_Texit)\n",
    "# fit_y_Tcen = exp_fit(t_vals_decay, fit_A_Tcen, fit_B_Tcen, fit_C_Tcen)\n",
    "\n",
    "# calculate time constant, tau\n",
    "tau_Tcen = 1 / fit_B_Tcen\n",
    "tau_Tent = 1 / fit_B_Tent\n",
    "tau_Texit = 1 / fit_B_Texit"
   ]
  },
  {
   "cell_type": "code",
   "execution_count": null,
   "id": "f0cf2379-c641-44a3-a4cd-3921c5ebf997",
   "metadata": {
    "tags": []
   },
   "outputs": [],
   "source": [
    "# plot axial entrance point decay profile\n",
    "fig = plt.figure(figsize=(8,6.5))\n",
    "ax = fig.gca()\n",
    "ax.plot(t_vals, T_entrance,'r-', lw = 1.5, label = 'data')\n",
    "ax.plot(t_vals_decay, fit_y_Tent,'b--', linewidth = 1.5, label = 'fit')\n",
    "# ax.vlines(t_vals, 0, T_center, linestyle=\"dashed\")\n",
    "# ax.axvline(x=t_off, color='k', ls='--')\n",
    "# ax.axvline(x=0.015, color='k', ls='--')\n",
    "ax.set_xlabel(r'time [s]')\n",
    "ax.set_ylabel(r'$T\\,/\\,{}^\\circ\\mathrm{C}$')\n",
    "ax.legend()\n",
    "plt.title('entrance')\n",
    " \n",
    "printmd('$\\hspace{13mm}$ T(t) = %.3e  exp(-%.3ft)' %(fit_A_Tent, fit_B_Tent))\n",
    "printmd(r'$\\hspace{13mm}$ $\\tau $ = %.0f ms' %(tau_Tent*1e3))\n",
    "# printmd('$\\hspace{13mm}$ A = %.3e $\\hspace{10mm}$ B = %.3f' %(fit_A_Tcen, fit_B_Tcen))\n",
    "# printmd('$\\hspace{13mm}$ A = %.5f $\\hspace{10mm}$ B = %.5f $\\hspace{9mm}$ C = %.5f ' %(fit_A_Tcen, fit_B_Tcen, fit_C_Tcen))\n",
    "\n",
    "fig.show()"
   ]
  },
  {
   "cell_type": "code",
   "execution_count": null,
   "id": "9159593a-0e1d-4ba0-bcde-020cac3c0360",
   "metadata": {
    "tags": []
   },
   "outputs": [],
   "source": [
    "# plot axial center point decay profile\n",
    "fig = plt.figure(figsize=(8,6.5))\n",
    "ax = fig.gca()\n",
    "ax.plot(t_vals, T_center,'r-', lw = 1.5, label = 'data')\n",
    "ax.plot(t_vals_decay, fit_y_Tcen,'b--', linewidth = 1.5, label = 'fit')\n",
    "# ax.vlines(t_vals, 0, T_center, linestyle=\"dashed\")\n",
    "# ax.axvline(x=t_off, color='k', ls='--')\n",
    "# ax.axvline(x=0.015, color='k', ls='--')\n",
    "ax.set_xlabel(r'time [s]')\n",
    "ax.set_ylabel(r'$T\\,/\\,{}^\\circ\\mathrm{C}$')\n",
    "ax.legend()\n",
    "plt.title('center')\n",
    " \n",
    "printmd('$\\hspace{13mm}$ T(t) = %.3e  exp(-%.3ft)' %(fit_A_Tcen, fit_B_Tcen))\n",
    "printmd(r'$\\hspace{13mm}$ $\\tau $ = %.0f ms' %(tau_Tcen*1e3))\n",
    "# printmd('$\\hspace{13mm}$ A = %.3e $\\hspace{10mm}$ B = %.3f' %(fit_A_Tcen, fit_B_Tcen))\n",
    "# printmd('$\\hspace{13mm}$ A = %.5f $\\hspace{10mm}$ B = %.5f $\\hspace{9mm}$ C = %.5f ' %(fit_A_Tcen, fit_B_Tcen, fit_C_Tcen))\n",
    "\n",
    "fig.show()"
   ]
  },
  {
   "cell_type": "code",
   "execution_count": null,
   "id": "c8e60d90-47da-4f00-a571-b1a73ec9817c",
   "metadata": {
    "tags": []
   },
   "outputs": [],
   "source": [
    "# plot axial exit point decay profile\n",
    "fig = plt.figure(figsize=(8,6.5))\n",
    "ax = fig.gca()\n",
    "ax.plot(t_vals, T_exit,'r-', lw = 1.5, label = 'data')\n",
    "ax.plot(t_vals_decay, fit_y_Texit,'b--', linewidth = 1.5, label = 'fit')\n",
    "# ax.vlines(t_vals, 0, T_center, linestyle=\"dashed\")\n",
    "# ax.axvline(x=t_off, color='k', ls='--')\n",
    "# ax.axvline(x=0.015, color='k', ls='--')\n",
    "ax.set_xlabel(r'time [s]')\n",
    "ax.set_ylabel(r'$T\\,/\\,{}^\\circ\\mathrm{C}$')\n",
    "ax.legend()\n",
    "plt.title('exit')\n",
    " \n",
    "printmd('$\\hspace{13mm}$ T(t) = %.3e  exp(-%.3ft)' %(fit_A_Texit, fit_B_Texit))\n",
    "printmd(r'$\\hspace{13mm}$ $\\tau $ = %.0f ms' %(tau_Texit*1e3))\n",
    "# printmd('$\\hspace{13mm}$ A = %.3e $\\hspace{10mm}$ B = %.3f' %(fit_A_Tcen, fit_B_Tcen))\n",
    "# printmd('$\\hspace{13mm}$ A = %.5f $\\hspace{10mm}$ B = %.5f $\\hspace{9mm}$ C = %.5f ' %(fit_A_Tcen, fit_B_Tcen, fit_C_Tcen))\n",
    "\n",
    "fig.show()"
   ]
  },
  {
   "cell_type": "code",
   "execution_count": null,
   "id": "f61a65e6-b304-4210-a70c-270a70fb614e",
   "metadata": {
    "tags": []
   },
   "outputs": [],
   "source": [
    "# plotaxial entrance point decay profile\n",
    "fig = plt.figure(figsize=(8,6.5))\n",
    "ax = fig.gca()\n",
    "ax.plot(t_vals_decay, T_entrance_decay,'r-', lw = 1.5, label = 'data')\n",
    "ax.plot(t_vals_decay, fit_y_Tent,'b--', linewidth = 1.5, label = 'fit')\n",
    "# ax.vlines(t_vals, 0, T_center, linestyle=\"dashed\")\n",
    "# ax.axvline(x=t_off, color='k', ls='--')\n",
    "# ax.axvline(x=0.015, color='k', ls='--')\n",
    "ax.set_xlabel(r'time [s]')\n",
    "ax.set_ylabel(r'$T\\,/\\,{}^\\circ\\mathrm{C}$')\n",
    "ax.legend()\n",
    "plt.title('entrance')\n",
    " \n",
    "printmd('$\\hspace{13mm}$ T(t) = %.3e  exp(-%.3ft)' %(fit_A_Tent, fit_B_Tent))\n",
    "printmd(r'$\\hspace{13mm}$ $\\tau $ = %.0f ms' %(tau_Tent*1e3))\n",
    "# printmd('$\\hspace{13mm}$ A = %.3e $\\hspace{10mm}$ B = %.3f' %(fit_A_Tcen, fit_B_Tcen))\n",
    "# printmd('$\\hspace{13mm}$ A = %.5f $\\hspace{10mm}$ B = %.5f $\\hspace{9mm}$ C = %.5f ' %(fit_A_Tcen, fit_B_Tcen, fit_C_Tcen))\n",
    "\n",
    "fig.show()"
   ]
  },
  {
   "cell_type": "code",
   "execution_count": null,
   "id": "ef69f28d-9919-47e6-b10e-8efd58b4c252",
   "metadata": {
    "tags": []
   },
   "outputs": [],
   "source": [
    "# plot axial center point decay profile\n",
    "fig = plt.figure(figsize=(8,6.5))\n",
    "ax = fig.gca()\n",
    "ax.plot(t_vals_decay, T_center_decay,'r-', lw = 1.5, label = 'data')\n",
    "ax.plot(t_vals_decay, fit_y_Tcen,'b--', linewidth = 1.5, label = 'fit')\n",
    "# ax.vlines(t_vals, 0, T_center, linestyle=\"dashed\")\n",
    "# ax.axvline(x=t_off, color='k', ls='--')\n",
    "# ax.axvline(x=0.015, color='k', ls='--')\n",
    "ax.set_xlabel(r'time [s]')\n",
    "ax.set_ylabel(r'$T\\,/\\,{}^\\circ\\mathrm{C}$')\n",
    "ax.legend()\n",
    "plt.title('center')\n",
    "\n",
    "printmd(r'$\\hspace{13mm}$ T(t) = %.3e  exp(-%.3ft)' %(fit_A_Tcen, fit_B_Tcen))\n",
    "printmd(r'$\\hspace{13mm}$ $\\tau $ = %.0f ms' %(tau_Tcen*1e3))\n",
    "# printmd('$\\hspace{13mm}$ A = %.3e $\\hspace{10mm}$ B = %.3f' %(fit_A_Tcen, fit_B_Tcen))\n",
    "# printmd('$\\hspace{13mm}$ A = %.5f $\\hspace{10mm}$ B = %.5f $\\hspace{9mm}$ C = %.5f ' %(fit_A_Tcen, fit_B_Tcen, fit_C_Tcen))\n",
    "\n",
    "fig.show()"
   ]
  },
  {
   "cell_type": "code",
   "execution_count": null,
   "id": "1ddd2b87-aa49-44df-b478-b1825033c326",
   "metadata": {
    "tags": []
   },
   "outputs": [],
   "source": [
    "# create t_vals and T_entrance_decay vals with more points for decay time constant calculation using exponential fit equation\n",
    "n_decay_calc = 150     # no. of points for decay time constant calculation\n",
    "t_vals_decay_calc = np.linspace(np.min(t_vals_decay), np.max(t_vals_decay), n_decay_calc)\n",
    "\n",
    "T_entrance_decay_calc = []\n",
    "\n",
    "for j in range(len(t_vals_decay_calc)):\n",
    "    T_entrance_decay_calc_val = 3.232e4 * np.exp(-3.031 * t_vals_decay_calc[j])\n",
    "    T_entrance_decay_calc.append(T_entrance_decay_calc_val)\n",
    "    \n",
    "# print(T_entrance_decay_calc)"
   ]
  },
  {
   "cell_type": "code",
   "execution_count": null,
   "id": "93ad952f-6f89-4a6a-8f45-cdb8aae688ba",
   "metadata": {
    "tags": []
   },
   "outputs": [],
   "source": [
    "# plot center entrance point decay profile - calculated with n_decay_calc points using exponential fit equation\n",
    "fig = plt.figure(figsize=(8,6.5))\n",
    "ax = fig.gca()\n",
    "ax.plot(t_vals_decay_calc, T_entrance_decay_calc,'r.-', lw = 1.5, label = 'data')\n",
    "# ax.plot(t_vals_decay, fit_y_Tent,'b--', linewidth = 1.5, label = 'fit')\n",
    "# ax.vlines(t_vals, 0, T_center, linestyle=\"dashed\")\n",
    "# ax.axvline(x=t_off, color='k', ls='--')\n",
    "# ax.axvline(x=0.015, color='k', ls='--')\n",
    "ax.set_xlabel(r'time [s]')\n",
    "ax.set_ylabel(r'$T\\,/\\,{}^\\circ\\mathrm{C}$')\n",
    "# ax.legend()\n",
    " \n",
    "printmd('$\\hspace{13mm}$ T(t) = %.3e  exp(-%.3ft)' %(fit_A_Tent, fit_B_Tent))\n",
    "# printmd(r'$\\hspace{13mm}$ $\\tau $ = %.0f ms' %(tau_Tent*1e3))\n",
    "# printmd('$\\hspace{13mm}$ A = %.3e $\\hspace{10mm}$ B = %.3f' %(fit_A_Tcen, fit_B_Tcen))\n",
    "# printmd('$\\hspace{13mm}$ A = %.5f $\\hspace{10mm}$ B = %.5f $\\hspace{9mm}$ C = %.5f ' %(fit_A_Tcen, fit_B_Tcen, fit_C_Tcen))\n",
    "\n",
    "fig.show()"
   ]
  },
  {
   "cell_type": "code",
   "execution_count": null,
   "id": "8c45c4ab-7935-4e76-9c77-2c4b07bdb94f",
   "metadata": {
    "tags": []
   },
   "outputs": [],
   "source": [
    "# calculate time constant for temperature decay at crystal entrance\n",
    "# https://www.mmc.co.jp/adv/dev/english/document/thermistor/thermistor08.html\n",
    "\n",
    "T1_entrance = T_entrance_decay_calc[0]                              # Temperature at shut off, T_1\n",
    "T2_entrance = T_entrance_decay_calc[n_decay_calc - 1]               # Temperature at cool down, T_2\n",
    "T_tau_entrance = 0.632 * (T2_entrance - T1_entrance) + T1_entrance  # Temperature at time constant\n",
    "printmd(r'$\\hspace{13mm}$ Temperature at time constant, $T_{\\tau}$ = %.3f degC' %(T_tau_entrance))\n",
    "printmd('$\\hspace{13mm}$ T(t) = %.3e  exp(-%.3ft)' %(fit_A_Tent, fit_B_Tent))"
   ]
  },
  {
   "cell_type": "code",
   "execution_count": null,
   "id": "e8c1643b-feae-42a6-911d-101e6901ddcb",
   "metadata": {
    "tags": []
   },
   "outputs": [],
   "source": []
  },
  {
   "cell_type": "code",
   "execution_count": null,
   "id": "5531ad7b-d42a-407f-8c9c-d6e6a432101c",
   "metadata": {
    "tags": []
   },
   "outputs": [],
   "source": [
    "idx"
   ]
  },
  {
   "cell_type": "code",
   "execution_count": null,
   "id": "a1595e7a-ec4e-4d2d-aadc-c3d1c315b745",
   "metadata": {},
   "outputs": [],
   "source": []
  },
  {
   "cell_type": "code",
   "execution_count": null,
   "id": "3ad2750a-3c08-47ec-aeeb-d34b33073a2f",
   "metadata": {},
   "outputs": [],
   "source": []
  },
  {
   "cell_type": "code",
   "execution_count": null,
   "id": "d1c612f4-cb4b-4b9d-a206-776eaa4e720e",
   "metadata": {
    "tags": []
   },
   "outputs": [],
   "source": [
    "# plot longitudinal temperature profile\n",
    "fig = plt.figure(figsize=(8,6.5))\n",
    "ax = fig.gca()\n",
    "ax.plot(zv, uz,'r-', lw = 1)\n",
    "ax.set_xlabel(r'longitudinal position $z\\,/\\,\\mathrm{cm}$')\n",
    "ax.set_ylabel(r'$T\\,/\\,{}^\\circ\\mathrm{C}$')\n",
    "fig.show()"
   ]
  },
  {
   "cell_type": "markdown",
   "id": "7152d2de-e4ab-465e-b556-bcbe95279c80",
   "metadata": {},
   "source": [
    "***\n",
    "$\\textbf{Calculate longitudinal average of transverse temperatures and find quadratic fits for n slices}$"
   ]
  },
  {
   "cell_type": "markdown",
   "id": "4af5a852-5d7a-4347-a563-f43c729696f4",
   "metadata": {},
   "source": [
    "#### 1. Extract longitudinal temp data for range of radii."
   ]
  },
  {
   "cell_type": "code",
   "execution_count": null,
   "id": "290e3bae-8a5a-4366-97ee-f22e81475c8b",
   "metadata": {
    "tags": []
   },
   "outputs": [],
   "source": [
    "# note:\n",
    "# throws an error to evaluate at the limits of radpts -\n",
    "# reduce the value of radpts by some factor, rad_fac\n",
    "rad_fac = 0.9\n",
    "fig = plt.figure(figsize=(13,7))\n",
    "fig1 = fig.add_subplot(n_rows, n_cols, 1)\n",
    "uz_array = np.zeros((len(radpts), len(zv)))\n",
    "for j in range(len(radpts)):\n",
    "    uz_array[j] = [u(pt) for pt in [(radpts[j][0]*rad_fac, 0, z_) for z_ in zv]]\n",
    "    # print(np.shape(uz_array))\n",
    "    fig1.plot(zv, uz_array[j], lw=1)\n",
    "    # fig1.plot(zv, uz_array[j], lw=1, label='{0:5.1f}'.format(radpts[j][0]*.9))\n",
    "fig1.plot(zv, uz, 'k', lw=1)\n",
    "fig1.set_xlabel(r'longitudinal position $z\\,/\\,\\mathrm{cm}$')\n",
    "fig1.set_ylabel(r'$T\\,/\\,{}^\\circ\\mathrm{C}$')\n",
    "# fig1.legend()\n",
    "fig.show()"
   ]
  },
  {
   "cell_type": "code",
   "execution_count": null,
   "id": "1ebc29e7-0b15-4851-8e30-36cc1ade26f7",
   "metadata": {},
   "outputs": [],
   "source": [
    "print(np.shape(uz_array))\n",
    "# print(uz_array[10])"
   ]
  },
  {
   "cell_type": "markdown",
   "id": "9dacd2b3-ba08-4eb5-b00f-0fd3f1b85f01",
   "metadata": {},
   "source": [
    "##### Uncomment next few cells for optical path length calculation (will overwrite uz_array from temperature values to refractive index values)"
   ]
  },
  {
   "cell_type": "code",
   "execution_count": null,
   "id": "48266bf7-4f47-4a49-a532-0cda46b491ec",
   "metadata": {},
   "outputs": [],
   "source": [
    "# # uz_array = np.zeros((len(radpts), len(zv)))\n",
    "# fig = plt.figure(figsize=(13,7))\n",
    "# fig1 = fig.add_subplot(n_rows, n_cols, 1)\n",
    "# for j in range(len(radpts)):\n",
    "#     uz_array[j] = 13e-6 * uz_array[j] + 1.75991\n",
    "#     # uz_array[j] = [u(pt) for pt in [(radpts[j][0]*rad_fac, 0, z_) for z_ in zv]]\n",
    "#     fig1.plot(zv, uz_array[j], lw=1)\n",
    "#     # fig1.plot(zv, uz_array[j], lw=1, label='{0:5.1f}'.format(radpts[j][0]*.9))"
   ]
  },
  {
   "cell_type": "code",
   "execution_count": null,
   "id": "25a75ebf-170b-4798-a3ae-646a135dcbfe",
   "metadata": {},
   "outputs": [],
   "source": [
    "# dz = (zv[len(zv) - 1] - zv[0]) / (len(zv) - 1)\n",
    "\n",
    "# n_int_array = []\n",
    "# for i in range((len(radpts) - 0)):\n",
    "#     n_int_val = (np.sum(uz_array[i]) - 0.5 * (uz_array[i][0] + uz_array[i][-1])) * dz\n",
    "#     n_int_array.append(n_int_val)"
   ]
  },
  {
   "cell_type": "code",
   "execution_count": null,
   "id": "4f06cc1d-e7ce-4d10-b379-c54eb782a171",
   "metadata": {},
   "outputs": [],
   "source": [
    "# print(np.shape(n_int_array))\n",
    "# print(n_int_array)"
   ]
  },
  {
   "cell_type": "code",
   "execution_count": null,
   "id": "458f9c44-ff17-4fa5-9080-8a9af7aca614",
   "metadata": {},
   "outputs": [],
   "source": [
    "# fig = plt.figure(figsize=(13,7))\n",
    "# fig1 = fig.add_subplot(n_rows, n_cols, 1)\n",
    "# # fig2 = fig.add_subplot(n_rows, n_cols, 2)\n",
    "\n",
    "# fig1.plot(radpts, n_int_array,'b-', lw = 1, ms = 2)\n",
    "# # fig1.plot(radpts_x_laser, fit_yq_int0,'b--', linewidth = 2, label = 'fit')\n",
    "# fig1.set_xlabel(r'$r \\ [\\mathrm{cm}]$')\n",
    "# fig1.set_ylabel(r'$\\int n(r,z) \\, \\mathrm{d}z \\ [\\mathrm{cm}]$')\n",
    "# # fig1.set_ylim(0, 10)\n",
    "# # fig1.legend()\n",
    "\n",
    "# fig.show()"
   ]
  },
  {
   "cell_type": "code",
   "execution_count": null,
   "id": "49920330-143e-4f11-8a0d-7a31303a2e0d",
   "metadata": {},
   "outputs": [],
   "source": []
  },
  {
   "cell_type": "code",
   "execution_count": null,
   "id": "b5778bc4-b283-4ff3-9169-68ea43790132",
   "metadata": {},
   "outputs": [],
   "source": []
  },
  {
   "cell_type": "code",
   "execution_count": null,
   "id": "d5805c49-1b2c-49fc-bcfe-9477750eefe4",
   "metadata": {},
   "outputs": [],
   "source": []
  },
  {
   "cell_type": "code",
   "execution_count": null,
   "id": "8bd67152-7348-41d0-9b64-a3d880992f83",
   "metadata": {},
   "outputs": [],
   "source": []
  },
  {
   "cell_type": "markdown",
   "id": "096ddea4-9570-493c-ab35-ce5162a8e222",
   "metadata": {},
   "source": [
    "### 2. Divide data into n longitudinal slices."
   ]
  },
  {
   "cell_type": "code",
   "execution_count": null,
   "id": "3a5b07df-6286-42c7-a71d-b50d506c7a8b",
   "metadata": {},
   "outputs": [],
   "source": [
    "n_uz = 8                            # no. of longitudinal slices\n",
    "n_uz_tot = len(radpts) - 1          # total no. of longitudinal profiles in uz_array\n",
    "print('total no. of longitudinal profiles in uz_array:', n_uz_tot)\n",
    "\n",
    "# extract only r_x vals from radpts\n",
    "radpts_array = np.array(radpts)\n",
    "radpts_x = radpts_array[:,0]\n",
    "print('shape of radpts_x:', np.shape(radpts_x))\n",
    "\n",
    "# print(uz_array[:,0:n_uz])\n",
    "# print('shape of uz_array[0:n_uz,:]:', np.shape(uz_array[0:n_uz,:]))\n",
    "# print('shape of zv:', np.shape(zv))\n",
    "# print('shape of zv[0:n_uz]:', np.shape(zv[0:n_uz]))\n",
    "\n",
    "dslice_ind = int(n_uz_tot/n_uz)                 # size of of slice indeces\n",
    "print('size of slice indeces, dslice_ind:', dslice_ind)\n",
    "\n",
    "for i in range(0,5):\n",
    "    globals()['x'+str(i)] = i\n",
    "    \n",
    "    # print(x1)\n",
    "print(x0)\n",
    "print(x1)\n"
   ]
  },
  {
   "cell_type": "code",
   "execution_count": null,
   "id": "dd39cebe-3cbc-4dbf-95e5-c1ecb0ae6339",
   "metadata": {},
   "outputs": [],
   "source": [
    "for j in range(n_uz - 1):\n",
    "    \n",
    "    print(j + 1)\n",
    "    uz_array0 = np.transpose(uz_array[:,0:dslice_ind])\n",
    "    zv_array0 = zv[0:dslice_ind]\n",
    "    radpts_x0 = radpts_array[0:dslice_ind,:]  \n",
    "    \n",
    "    globals()['uz_array'+str(j + 1)] = np.transpose(uz_array[:,(dslice_ind*(j+1)):(dslice_ind*(j+2))])\n",
    "    globals()['zv_array'+str(j + 1)] = zv[(dslice_ind*j):(dslice_ind*(j+1))]\n",
    "    globals()['radpts_x'+str(j + 1)] = radpts_array[(dslice_ind*j):(dslice_ind*(j+1)),:] \n"
   ]
  },
  {
   "cell_type": "code",
   "execution_count": null,
   "id": "cd100a49-77b9-4e86-ad6e-f56636ecec38",
   "metadata": {
    "tags": []
   },
   "outputs": [],
   "source": [
    "fig = plt.figure(figsize=(13,7))\n",
    "fig1 = fig.add_subplot(n_rows, n_cols, 1)\n",
    "fig2 = fig.add_subplot(n_rows, n_cols, 2)\n",
    "\n",
    "fig1.plot(zv_array0, uz_array0, lw=1)\n",
    "fig1.set_xlabel(r'longitudinal position $z\\,/\\,\\mathrm{cm}$')\n",
    "fig1.set_ylabel(r'$T\\,/\\,{}^\\circ\\mathrm{C}$')\n",
    "fig1.set_ylim(0, 10)\n",
    "\n",
    "\n",
    "fig2.plot(zv_array1, uz_array1, lw=1)\n",
    "fig2.set_xlabel(r'longitudinal position $z\\,/\\,\\mathrm{cm}$')\n",
    "fig2.set_ylabel(r'$T\\,/\\,{}^\\circ\\mathrm{C}$')\n",
    "fig2.set_ylim(0, 10)\n",
    "# fig1.legend()\n",
    "\n",
    "fig.show()\n",
    "\n",
    "# print(uz_array[0:n_uz,:])\n",
    "# print('shape of uz_array[0:n_uz,:]:', np.shape(uz_array[0:n_uz,:]))"
   ]
  },
  {
   "cell_type": "code",
   "execution_count": null,
   "id": "58cd8890-bea2-480b-b729-3a95aad02af0",
   "metadata": {
    "tags": []
   },
   "outputs": [],
   "source": [
    "fig = plt.figure(figsize=(13,7))\n",
    "fig1 = fig.add_subplot(n_rows, n_cols, 1)\n",
    "fig2 = fig.add_subplot(n_rows, n_cols, 2)\n",
    "\n",
    "fig1.plot(zv_array2, uz_array2, lw=1)\n",
    "fig1.set_xlabel(r'longitudinal position $z\\,/\\,\\mathrm{cm}$')\n",
    "fig1.set_ylabel(r'$T\\,/\\,{}^\\circ\\mathrm{C}$')\n",
    "fig1.set_ylim(0, 10)\n",
    "\n",
    "\n",
    "fig2.plot(zv_array3, uz_array3, lw=1)\n",
    "fig2.set_xlabel(r'longitudinal position $z\\,/\\,\\mathrm{cm}$')\n",
    "fig2.set_ylabel(r'$T\\,/\\,{}^\\circ\\mathrm{C}$')\n",
    "fig2.set_ylim(0, 10)\n",
    "# fig1.legend()\n",
    "\n",
    "fig.show()\n",
    "\n",
    "# print(uz_array[0:n_uz,:])\n",
    "# print('shape of uz_array[0:n_uz,:]:', np.shape(uz_array[0:n_uz,:]))"
   ]
  },
  {
   "cell_type": "markdown",
   "id": "bd4e29c7-c0f1-4b58-9f2c-a8f56533259c",
   "metadata": {},
   "source": [
    "### Integrate longitudinal temperature profiles"
   ]
  },
  {
   "cell_type": "code",
   "execution_count": null,
   "id": "01508c78-ed7d-46e1-95af-688406598074",
   "metadata": {},
   "outputs": [],
   "source": [
    "# calculate longitudinal step size, dz\n",
    "dz = (zv[len(zv) - 1] - zv[0]) / (len(zv) - 1)\n",
    "print('dz: %.7s cm' %(dz))\n",
    "\n",
    "for j in range(n_uz):\n",
    "    globals()['t_int_vals'+str(j)] = []\n",
    "    # print(j)\n",
    "    for i in range((len(radpts_x) - 0)):\n",
    "    # print('j + 1:', j + 1)\n",
    "    \n",
    "        globals()['t_int'+str(j)] = np.sum(globals()['uz_array'+str(j)][:,i]) * dz / (leng / n_uz)\n",
    "        # print(t_int0)\n",
    "        # print(t_int1)\n",
    "        globals()['t_int_vals'+str(j)].append(globals()['t_int'+str(j)])\n",
    "        # t_int0 = np.sum(uz_array0[:,j]) * dz / (leng / n_uz)  # divide by n_uz because leng is now only 1/n_uz*leng_total\n",
    "        # t_int_vals0.append(t_int0)"
   ]
  },
  {
   "cell_type": "code",
   "execution_count": null,
   "id": "39304966-c2c8-445d-b9cc-8c0aae1cbbaf",
   "metadata": {},
   "outputs": [],
   "source": [
    "# create arrays for T_int(r) and r for region within laser radius\n",
    "laser_ran_min = 49 # 49      # min index value of center data range\n",
    "laser_ran_max = 152 # 152    # max index value of center data range\n",
    "radpts_x_laser = radpts_x[laser_ran_min:laser_ran_max]"
   ]
  },
  {
   "cell_type": "code",
   "execution_count": null,
   "id": "d3240279-75c3-4a1e-8912-7e551c34e205",
   "metadata": {},
   "outputs": [],
   "source": [
    "for j in range(n_uz):\n",
    "    globals()['t_int_vals'+str(j)+str('laser')] = globals()['t_int_vals'+str(j)][laser_ran_min:laser_ran_max]\n",
    "    # t_int_vals0_laser = t_int_vals0[laser_ran_min:laser_ran_max]"
   ]
  },
  {
   "cell_type": "code",
   "execution_count": null,
   "id": "66c52d8d-87f9-4cd9-a53d-ab2868fcb811",
   "metadata": {},
   "outputs": [],
   "source": [
    "# quad fit function\n",
    "def quad_int0(x, A, B):\n",
    "    y = A*x**2 + B\n",
    "    return y"
   ]
  },
  {
   "cell_type": "code",
   "execution_count": null,
   "id": "9903f9b8-656d-4a99-8e34-7dfe7766a93a",
   "metadata": {},
   "outputs": [],
   "source": [
    "for j in range(n_uz):\n",
    "    \n",
    "    globals()['parameters_q_int'+str(j)], globals()['covariance_q_int'+str(j)] = curve_fit(quad_int0, radpts_x_laser, globals()['t_int_vals'+str(j)+str('laser')])\n",
    "    \n",
    "    globals()['fit_Aq_int'+str(j)] = globals()['parameters_q_int'+str(j)][0]\n",
    "    globals()['fit_Bq_int'+str(j)] = globals()['parameters_q_int'+str(j)][1]\n",
    "    \n",
    "    globals()['fit_yq_int'+str(j)] = quad_int0(radpts_x_laser, globals()['fit_Aq_int'+str(j)], globals()['fit_Bq_int'+str(j)])\n",
    "    \n",
    "#     parameters_q_int0, covariance_q_int0 = curve_fit(quad_int0, radpts_x_laser, t_int_vals0_laser)\n",
    "\n",
    "#     fit_Aq_int0 = parameters_q_int0[0]\n",
    "#     fit_Bq_int0 = parameters_q_int0[1]\n",
    "\n",
    "#     fit_yq_int0 = quad_int0(radpts_x_laser, fit_Aq_int0, fit_Bq_int0)"
   ]
  },
  {
   "cell_type": "code",
   "execution_count": null,
   "id": "bb8e3ba2-be67-4b9e-b5f4-e363a0b800a0",
   "metadata": {},
   "outputs": [],
   "source": [
    "fig = plt.figure(figsize=(13,7))\n",
    "fig1 = fig.add_subplot(n_rows, n_cols, 1)\n",
    "fig2 = fig.add_subplot(n_rows, n_cols, 2)\n",
    "\n",
    "fig1.plot(radpts_x, t_int_vals0,'g-', linewidth = 2, label = 'data')\n",
    "fig1.plot(radpts_x_laser, fit_yq_int0,'b--', linewidth = 2, label = 'fit')\n",
    "fig1.set_xlabel(r'r $[\\mathrm{cm}]$')\n",
    "fig1.set_ylabel(r'$T_{int}$ $[{}^\\circ\\mathrm{C}]$')\n",
    "fig1.set_ylim(0, 10)\n",
    "fig1.legend()\n",
    "\n",
    "\n",
    "fig2.plot(radpts_x, t_int_vals1,'g-', linewidth = 2, label = 'data')\n",
    "fig2.plot(radpts_x_laser, fit_yq_int1,'b--', linewidth = 2, label = 'fit')\n",
    "fig2.set_xlabel(r'r $[\\mathrm{cm}]$')\n",
    "fig2.set_ylabel(r'$T_{int}$ $[{}^\\circ\\mathrm{C}]$')\n",
    "fig2.set_ylim(0, 10)\n",
    "fig2.legend()\n",
    "\n",
    "fig.show()\n",
    "\n",
    "printmd('$\\hspace{13mm}$ $T_{int} = %.5f r^2 + %.5f$ $\\hspace{10mm}$ z {-0.5 cm, 0.0 cm} $\\hspace{9mm}$ $T_{int} = %.5f r^2 + %.5f$  $\\hspace{10mm}$ z {0.0 cm, 0.5 cm}' %(fit_Aq_int0, fit_Bq_int0, fit_Aq_int1, fit_Bq_int1))"
   ]
  },
  {
   "cell_type": "code",
   "execution_count": null,
   "id": "510e0ba9-1f93-43be-8bb1-012b2586d073",
   "metadata": {},
   "outputs": [],
   "source": [
    "fig = plt.figure(figsize=(13,7))\n",
    "fig1 = fig.add_subplot(n_rows, n_cols, 1)\n",
    "fig2 = fig.add_subplot(n_rows, n_cols, 2)\n",
    "\n",
    "fig1.plot(radpts_x, t_int_vals2,'g-', linewidth = 2, label = 'data')\n",
    "fig1.plot(radpts_x_laser, fit_yq_int2,'b--', linewidth = 2, label = 'fit')\n",
    "fig1.set_xlabel(r'r $[\\mathrm{cm}]$')\n",
    "fig1.set_ylabel(r'$T_{int}$ $[{}^\\circ\\mathrm{C}]$')\n",
    "# fig1.set_ylim(0, 6)\n",
    "fig1.legend()\n",
    "\n",
    "\n",
    "fig2.plot(radpts_x, t_int_vals3,'g-', linewidth = 2, label = 'data')\n",
    "fig2.plot(radpts_x_laser, fit_yq_int3,'b--', linewidth = 2, label = 'fit')\n",
    "fig2.set_xlabel(r'r $[\\mathrm{cm}]$')\n",
    "fig2.set_ylabel(r'$T_{int}$ $[{}^\\circ\\mathrm{C}]$')\n",
    "# fig2.set_ylim(0, 6)\n",
    "fig2.legend()\n",
    "\n",
    "fig.show()\n",
    "\n",
    "printmd('$\\hspace{13mm}$ $T_{int} = %.5f r^2 + %.5f$ $\\hspace{10mm}$ z {-0.5 cm, 0.0 cm} $\\hspace{9mm}$ $T_{int} = %.5f r^2 + %.5f$  $\\hspace{10mm}$ z {0.0 cm, 0.5 cm}' %(fit_Aq_int2, fit_Bq_int2, fit_Aq_int3, fit_Bq_int3))"
   ]
  },
  {
   "cell_type": "markdown",
   "id": "a30259f3-39bc-49be-9dad-8d2f22c8a048",
   "metadata": {},
   "source": [
    "### Calculate index of refraction for each slice"
   ]
  },
  {
   "cell_type": "code",
   "execution_count": null,
   "id": "65c53dfa-c663-4778-83c0-50dda37d8049",
   "metadata": {},
   "outputs": [],
   "source": [
    "#calculate n_int vals from t_int_vals\n",
    "chi_T = 1.28e-5\n",
    "# Thermal lens effect model of Ti:sapphire for use in\n",
    "# high-power laser amplifiers - Jeong 2012\n",
    "for j in range(n_uz):\n",
    "    globals()['n_int_vals'+str(j)] = []\n",
    "    for i in range(len(t_int_vals0)):\n",
    "        globals()['n_int'+str(j)] = 1.75991 + (chi_T * globals()['t_int_vals'+str(j)][i]) + (3.1e-9 * globals()['t_int_vals'+str(j)][i]**2)\n",
    "        \n",
    "        globals()['n_int_vals'+str(j)].append(globals()['n_int'+str(j)])"
   ]
  },
  {
   "cell_type": "code",
   "execution_count": null,
   "id": "0a81f2a6-a351-422f-858c-e0a6b8b3d2b0",
   "metadata": {},
   "outputs": [],
   "source": [
    "# create arrays for n_int(r) for region within laser radius\n",
    "n_int_vals0_laser = n_int_vals0[laser_ran_min:laser_ran_max]\n",
    "n_int_vals1_laser = n_int_vals1[laser_ran_min:laser_ran_max]\n",
    "n_int_vals2_laser = n_int_vals2[laser_ran_min:laser_ran_max]\n",
    "n_int_vals3_laser = n_int_vals3[laser_ran_min:laser_ran_max]\n",
    "n_int_vals4_laser = n_int_vals4[laser_ran_min:laser_ran_max]\n",
    "n_int_vals5_laser = n_int_vals5[laser_ran_min:laser_ran_max]\n",
    "n_int_vals6_laser = n_int_vals6[laser_ran_min:laser_ran_max]\n",
    "n_int_vals7_laser = n_int_vals7[laser_ran_min:laser_ran_max]"
   ]
  },
  {
   "cell_type": "code",
   "execution_count": null,
   "id": "ec2cb71a-4ed5-4c77-ad1e-5e69be576005",
   "metadata": {},
   "outputs": [],
   "source": [
    "parameters_q_intn0, covariance_q_intn0 = curve_fit(quad_int0, radpts_x_laser, n_int_vals0_laser)\n",
    "parameters_q_intn1, covariance_q_intn1 = curve_fit(quad_int0, radpts_x_laser, n_int_vals1_laser)\n",
    "parameters_q_intn2, covariance_q_intn2 = curve_fit(quad_int0, radpts_x_laser, n_int_vals2_laser)\n",
    "parameters_q_intn3, covariance_q_intn3 = curve_fit(quad_int0, radpts_x_laser, n_int_vals3_laser)\n",
    "parameters_q_intn4, covariance_q_intn4 = curve_fit(quad_int0, radpts_x_laser, n_int_vals4_laser)\n",
    "parameters_q_intn5, covariance_q_intn5 = curve_fit(quad_int0, radpts_x_laser, n_int_vals5_laser)\n",
    "parameters_q_intn6, covariance_q_intn6 = curve_fit(quad_int0, radpts_x_laser, n_int_vals6_laser)\n",
    "parameters_q_intn7, covariance_q_intn7 = curve_fit(quad_int0, radpts_x_laser, n_int_vals7_laser)\n",
    "  \n",
    "fit_Aq_intn0 = parameters_q_intn0[0]\n",
    "fit_Bq_intn0 = parameters_q_intn0[1]\n",
    "fit_Aq_intn1 = parameters_q_intn1[0]\n",
    "fit_Bq_intn1 = parameters_q_intn1[1]\n",
    "fit_Aq_intn2 = parameters_q_intn2[0]\n",
    "fit_Bq_intn2 = parameters_q_intn2[1]\n",
    "fit_Aq_intn3 = parameters_q_intn3[0]\n",
    "fit_Bq_intn3 = parameters_q_intn3[1]\n",
    "fit_Aq_intn4 = parameters_q_intn4[0]\n",
    "fit_Bq_intn4 = parameters_q_intn4[1]\n",
    "fit_Aq_intn5 = parameters_q_intn5[0]\n",
    "fit_Bq_intn5 = parameters_q_intn5[1]\n",
    "fit_Aq_intn6 = parameters_q_intn6[0]\n",
    "fit_Bq_intn6 = parameters_q_intn6[1]\n",
    "fit_Aq_intn7 = parameters_q_intn7[0]\n",
    "fit_Bq_intn7 = parameters_q_intn7[1]\n",
    "\n",
    "  \n",
    "fit_yq_intn0 = quad_int0(radpts_x_laser, fit_Aq_intn0, fit_Bq_intn0)\n",
    "fit_yq_intn1 = quad_int0(radpts_x_laser, fit_Aq_intn1, fit_Bq_intn1)\n",
    "fit_yq_intn2 = quad_int0(radpts_x_laser, fit_Aq_intn2, fit_Bq_intn2)\n",
    "fit_yq_intn3 = quad_int0(radpts_x_laser, fit_Aq_intn3, fit_Bq_intn3)\n",
    "fit_yq_intn4 = quad_int0(radpts_x_laser, fit_Aq_intn4, fit_Bq_intn4)\n",
    "fit_yq_intn5 = quad_int0(radpts_x_laser, fit_Aq_intn5, fit_Bq_intn5)\n",
    "fit_yq_intn6 = quad_int0(radpts_x_laser, fit_Aq_intn6, fit_Bq_intn6)\n",
    "fit_yq_intn7 = quad_int0(radpts_x_laser, fit_Aq_intn7, fit_Bq_intn7)"
   ]
  },
  {
   "cell_type": "code",
   "execution_count": null,
   "id": "06fe6f7c-dadd-4097-86f2-c47deb04eeeb",
   "metadata": {},
   "outputs": [],
   "source": [
    "n2_vals = (fit_Aq_intn0, fit_Aq_intn1, fit_Aq_intn2, fit_Aq_intn3, fit_Aq_intn4, fit_Aq_intn5, fit_Aq_intn6, fit_Aq_intn7)\n",
    "print(n2_vals)\n",
    "n0_vals = (fit_Bq_intn0, fit_Bq_intn1, fit_Bq_intn2, fit_Bq_intn3, fit_Bq_intn4, fit_Bq_intn5, fit_Bq_intn6, fit_Bq_intn7)"
   ]
  },
  {
   "cell_type": "code",
   "execution_count": null,
   "id": "4a576e34-d70f-4f29-a109-f2232972418e",
   "metadata": {
    "tags": []
   },
   "outputs": [],
   "source": [
    "fig = plt.figure(figsize=(13,7))\n",
    "fig1 = fig.add_subplot(n_rows, n_cols, 1)\n",
    "fig2 = fig.add_subplot(n_rows, n_cols, 2)\n",
    "\n",
    "fig1.plot(radpts_x, n_int_vals0,'g-', linewidth = 2, label = 'data')\n",
    "fig1.plot(radpts_x_laser, fit_yq_intn0,'b--', linewidth = 2, label = 'fit')\n",
    "fig1.set_xlabel(r'r $[\\mathrm{cm}]$')\n",
    "fig1.set_ylabel(r'$n_{avg}$')\n",
    "fig1.set_ylim(np.min(n_int_vals0), np.max(n_int_vals0) + 1e-4)\n",
    "fig1.legend()\n",
    "\n",
    "\n",
    "fig2.plot(radpts_x, n_int_vals1,'g-', linewidth = 2, label = 'data')\n",
    "fig2.plot(radpts_x_laser, fit_yq_intn1,'b--', linewidth = 2, label = 'fit')\n",
    "fig2.set_xlabel(r'r $[\\mathrm{cm}]$')\n",
    "fig2.set_ylabel(r'$n_{avg}$')\n",
    "fig2.set_ylim(np.min(n_int_vals0), np.max(n_int_vals0) + 1e-4)\n",
    "# fig2.set_ylim(np.min(n_int_vals1), np.max(n_int_vals1))\n",
    "fig2.legend()\n",
    "\n",
    "fig.tight_layout()\n",
    "fig.show()\n",
    "\n",
    "printmd('$\\hspace{13mm}$ $n_{int} = %.5f r^2 + %.5f$ $\\hspace{10mm}$ z {-0.5 cm, 0.0 cm} $\\hspace{9mm}$ $n_{int} = %.5f r^2 + %.5f$  $\\hspace{10mm}$ z {0.0 cm, 0.5 cm}' %(fit_Aq_intn0, fit_Bq_intn0, fit_Aq_intn1, fit_Bq_intn1))"
   ]
  },
  {
   "cell_type": "code",
   "execution_count": null,
   "id": "b01565c1-adea-4fc8-a675-0b3c046631f3",
   "metadata": {},
   "outputs": [],
   "source": [
    "l_vals = []\n",
    "n_int_max_vals = []\n",
    "for j in range(n_uz):\n",
    "    n_int_max_val = np.max(globals()['n_int_vals'+str(j)])\n",
    "    n_int_max_vals.append(n_int_max_val)\n",
    "    l_val = (leng/n_uz)*j + (0.5 * (leng/n_uz))\n",
    "    l_vals.append(l_val)"
   ]
  },
  {
   "cell_type": "code",
   "execution_count": null,
   "id": "edc8efdf-0335-4ba0-8460-8aa61a58b1b9",
   "metadata": {},
   "outputs": [],
   "source": [
    "fig = plt.figure(figsize=(13,7))\n",
    "fig1 = fig.add_subplot(n_rows, n_cols, 1)\n",
    "fig2 = fig.add_subplot(n_rows, n_cols, 2)\n",
    "\n",
    "fig1.plot(l_vals, n0_vals,'g.-', linewidth = 2)\n",
    "fig1.set_xlabel(r'longitudinal coordinate, z [cm]',**hfontMed)\n",
    "fig1.set_ylabel(r'$n_0$',**hfontMed)\n",
    "# fig1.set_ylim(0, 6)\n",
    "# fig1.legend()\n",
    "\n",
    "fig2.plot(l_vals, np.multiply(n2_vals, 1e4),'g.-', linewidth = 2)\n",
    "fig2.set_xlabel(r'longitudinal coordinate, z [cm]',**hfontMed)\n",
    "fig2.set_ylabel(r'$n_2$ $[1/m^2]$',**hfontMed)\n",
    "# fig2.set_ylim(0, 6)\n",
    "# fig2.legend()\n",
    "\n",
    "fig.tight_layout()\n",
    "fig.show()"
   ]
  },
  {
   "cell_type": "code",
   "execution_count": null,
   "id": "bdf3bc3a-2367-42ef-9f0f-3fd8ff456a8b",
   "metadata": {},
   "outputs": [],
   "source": [
    "fig = plt.figure(figsize=(10,4))\n",
    "fig1 = fig.add_subplot(n_rows, n_cols, 1)\n",
    "fig2 = fig.add_subplot(n_rows, n_cols, 2)\n",
    "\n",
    "fig1.plot(l_vals, n0_vals,'g.-', linewidth = 2)\n",
    "fig1.set_xlabel(r'longitudinal position $z\\,/\\,\\mathrm{cm}$')\n",
    "fig1.set_ylabel(r'$n_0$')\n",
    "# fig1.set_ylim(0, 6)\n",
    "# fig1.legend()\n",
    "\n",
    "fig2.plot(l_vals, np.multiply(n2_vals, 1e4),'g.-', linewidth = 2)\n",
    "fig2.set_xlabel(r'longitudinal position $z\\,/\\,\\mathrm{cm}$')\n",
    "fig2.set_ylabel(r'$n_2\\,/\\,{}m^{-2}$')\n",
    "# fig2.set_ylim(0, 6)\n",
    "# fig2.legend()\n",
    "\n",
    "# fig2.set_xlabel(r'longitudinal position $z\\,/\\,\\mathrm{cm}$')\n",
    "# fig2.set_ylabel(r'$T\\,/\\,{}^\\circ\\mathrm{C}$')\n",
    "\n",
    "fig.tight_layout()\n",
    "fig.savefig('refractive_index_long_profiles.png')\n",
    "fig.show()"
   ]
  },
  {
   "cell_type": "code",
   "execution_count": null,
   "id": "aaa77e9e-5548-4ec3-bfbc-0a56f418a612",
   "metadata": {},
   "outputs": [],
   "source": [
    "print('n2_entrance: %s [1/m^2]' %(n2_vals[0]*1e4))"
   ]
  },
  {
   "cell_type": "code",
   "execution_count": null,
   "id": "d4e4bbb3-3f65-46f8-8a03-5a12454b5eec",
   "metadata": {},
   "outputs": [],
   "source": []
  },
  {
   "cell_type": "code",
   "execution_count": null,
   "id": "8e796d8f-b264-4cfe-8c11-3cdd4893808e",
   "metadata": {},
   "outputs": [],
   "source": []
  },
  {
   "cell_type": "code",
   "execution_count": null,
   "id": "a9befba5-9efc-4cac-90ff-1dd50d98a870",
   "metadata": {},
   "outputs": [],
   "source": []
  },
  {
   "cell_type": "code",
   "execution_count": null,
   "id": "b5888d1e-a430-4f1f-b82d-5a04ee224bd3",
   "metadata": {},
   "outputs": [],
   "source": []
  },
  {
   "cell_type": "code",
   "execution_count": null,
   "id": "5c941081-31c9-4820-badf-0e7f554e2c47",
   "metadata": {},
   "outputs": [],
   "source": []
  },
  {
   "cell_type": "code",
   "execution_count": null,
   "id": "bba3e6a7-1c4e-4609-818c-ba14272202f0",
   "metadata": {},
   "outputs": [],
   "source": []
  },
  {
   "cell_type": "code",
   "execution_count": null,
   "id": "5bb2051a-3747-4f2e-adf7-80914786d8b4",
   "metadata": {},
   "outputs": [],
   "source": []
  },
  {
   "cell_type": "code",
   "execution_count": null,
   "id": "97b301ef-ea41-42ce-9e77-45083efb3d4f",
   "metadata": {},
   "outputs": [],
   "source": []
  },
  {
   "cell_type": "code",
   "execution_count": null,
   "id": "f1d82220-e4f0-4d10-8e82-d975bbaea90a",
   "metadata": {},
   "outputs": [],
   "source": []
  },
  {
   "cell_type": "code",
   "execution_count": null,
   "id": "c5f6804f-bb53-4e1b-b790-5377f46e5371",
   "metadata": {},
   "outputs": [],
   "source": []
  },
  {
   "cell_type": "code",
   "execution_count": null,
   "id": "60168c51-00d7-41d9-a70b-9b32bf7265b9",
   "metadata": {},
   "outputs": [],
   "source": []
  },
  {
   "cell_type": "code",
   "execution_count": null,
   "id": "e872c00a-8d51-4ddb-8ffd-673a8e03ee94",
   "metadata": {},
   "outputs": [],
   "source": []
  },
  {
   "cell_type": "code",
   "execution_count": null,
   "id": "b117072e-5d1a-4bd9-b643-d47d646a3705",
   "metadata": {},
   "outputs": [],
   "source": [
    "l_vals = []\n",
    "n_int_max_vals = []\n",
    "for j in range(n_uz):\n",
    "    n_int_max_val = np.max(globals()['n_int_vals'+str(j)])\n",
    "    n_int_max_vals.append(n_int_max_val)\n",
    "    l_val = (leng/n_uz)*j + (0.5 * (leng/n_uz))\n",
    "    l_vals.append(l_val)"
   ]
  },
  {
   "cell_type": "code",
   "execution_count": null,
   "id": "4fda471a-bb98-4211-9edf-9b1b117cc1a2",
   "metadata": {},
   "outputs": [],
   "source": [
    "print(n_int_max_vals)\n",
    "print(l_vals)"
   ]
  },
  {
   "cell_type": "code",
   "execution_count": null,
   "id": "12d84540-3b83-4eb8-9bab-0295bbcb7617",
   "metadata": {},
   "outputs": [],
   "source": []
  },
  {
   "cell_type": "code",
   "execution_count": null,
   "id": "7b9120ee-13de-4f11-bee7-3c2ae33d7a6d",
   "metadata": {},
   "outputs": [],
   "source": []
  },
  {
   "cell_type": "markdown",
   "id": "b43c5cf6-5bdb-4574-aeb9-9438bdba1d69",
   "metadata": {},
   "source": [
    "#### Innocenzi benchmarking\n",
    "\"Thermal modeling of continuous-wave end-pumped solid-state lasers\"\n",
    "\n",
    "Innocenzi 1990"
   ]
  },
  {
   "cell_type": "code",
   "execution_count": null,
   "id": "a9736d7d-7960-4c2d-bb8f-ff33e005794c",
   "metadata": {},
   "outputs": [],
   "source": [
    "from scipy.special import exp1\n",
    "print(np.shape(zv))\n",
    "print(np.shape(radpts_x))"
   ]
  },
  {
   "cell_type": "code",
   "execution_count": null,
   "id": "826be5e3-0f96-4942-8996-a114909408e3",
   "metadata": {},
   "outputs": [],
   "source": [
    "print(np.min(zv))\n",
    "print(np.max(zv))"
   ]
  },
  {
   "cell_type": "code",
   "execution_count": null,
   "id": "769cdc07-1bfa-4b21-a11c-c0efdf0e2746",
   "metadata": {},
   "outputs": [],
   "source": [
    "print('Power input: %s [W]' %P_abs)      # absorbed power [W]\n",
    "print('alpha: %.2f [1/cm]' %(alpha_h))    # absorption coefficient [1/cm]\n",
    "print('laser radius: %s [cm]' %wdT)        # laser radius [cm]\n",
    "   \n",
    "r_b = 0.75                # radius to crystal boundary, r_max [cm]\n",
    "\n",
    "\n",
    "K_c = K_c_ndyag\n",
    "\n",
    "print('thermal conductivity: %s [W/cm/K]' %K_c)"
   ]
  },
  {
   "cell_type": "code",
   "execution_count": null,
   "id": "36db806e-6186-4467-8679-4e585619a378",
   "metadata": {},
   "outputs": [],
   "source": [
    "# dT_innocenzi_r0 = (alpha_h * P_abs) * np.exp(-alpha_h * zv) / (4 * np.pi * K_c) \\\n",
    "#      * (np.log(np.square(r_b / radpts_x)) + exp1(2 * r_b**2 / wdT) - exp1(2 * np.square(radpts_x / wdT)))"
   ]
  },
  {
   "cell_type": "code",
   "execution_count": null,
   "id": "fa129695-aa34-48d3-875a-e5fc232b6d80",
   "metadata": {},
   "outputs": [],
   "source": [
    "# Following expressions match with K_c = 33\n",
    "# # Innocenzi dT at crystal entrance (z = 0.0 cm)\n",
    "# dT_innocenzi_re = 1.7 * 1.05 * (alpha_h * P_abs) * np.exp(-alpha_h * 0.0) / (4 * np.pi * K_c) \\\n",
    "#      * (np.log(np.square(r_b / radpts_x)) + exp1(2 * r_b**2 / (wdT*1.7)) - exp1(2 * np.square(radpts_x / (wdT*1.7))))\n",
    "# # Innocenzi dT at crystal center (z = 0.5 cm)\n",
    "# dT_innocenzi_r0 = 1.7 * 1.55 * (alpha_h * P_abs) * np.exp(-alpha_h * 0.5) / (4 * np.pi * K_c) \\\n",
    "#      * (np.log(np.square(r_b / radpts_x)) + exp1(2 * r_b**2 / (wdT*1.7)) - exp1(2 * np.square(radpts_x / (wdT*1.7))))\n",
    "# # Innocenzi dT at crystal exit (z = 1.0 cm)\n",
    "# dT_innocenzi_rx = 1.7 * 2.2 * (alpha_h * P_abs) * np.exp(-alpha_h * 1.0) / (4 * np.pi * K_c) \\\n",
    "#      * (np.log(np.square(r_b / radpts_x)) + exp1(2 * r_b**2 / (wdT*1.7)) - exp1(2 * np.square(radpts_x / (wdT*1.7))))"
   ]
  },
  {
   "cell_type": "code",
   "execution_count": null,
   "id": "9fdd6829-6f8f-41dc-ae0f-b863904a2a9a",
   "metadata": {},
   "outputs": [],
   "source": [
    "# # Innocenzi dT at crystal entrance (z = 0.0 cm)\n",
    "# dT_innocenzi_re = (alpha_h * P_abs) * np.exp(-alpha_h * 0.0) / (4 * np.pi * K_c) \\\n",
    "#      * (np.log(np.square(r_b / radpts_x)) + exp1(2 * r_b**2 / (wdT*1.7)) - exp1(2 * np.square(radpts_x / (wdT*1.7))))\n",
    "# # Innocenzi dT at crystal center (z = 0.5 cm)\n",
    "# dT_innocenzi_r0 = 1.5 * 1.0 * (alpha_h * P_abs) * np.exp(-alpha_h * 0.5) / (4 * np.pi * K_c) \\\n",
    "#      * (np.log(np.square(r_b / radpts_x)) + exp1(2 * r_b**2 / (wdT*1.7)) - exp1(2 * np.square(radpts_x / (wdT*1.7))))\n",
    "# # Innocenzi dT at crystal exit (z = 1.0 cm)\n",
    "# dT_innocenzi_rx = 1.7 * 2.2 * (alpha_h * P_abs) * np.exp(-alpha_h * 1.0) / (4 * np.pi * K_c) \\\n",
    "#      * (np.log(np.square(r_b / radpts_x)) + exp1(2 * r_b**2 / (wdT*1.7)) - exp1(2 * np.square(radpts_x / (wdT*1.7))))"
   ]
  },
  {
   "cell_type": "code",
   "execution_count": null,
   "id": "2de418ca-6dee-4830-9209-8fbfee890f3f",
   "metadata": {},
   "outputs": [],
   "source": [
    "# radpts_x = np.asarray([x for x in xv if x != 0])"
   ]
  },
  {
   "cell_type": "code",
   "execution_count": null,
   "id": "ebc85267-4c39-49d8-9276-f64f383b4c84",
   "metadata": {},
   "outputs": [],
   "source": [
    "# Innocenzi dT at crystal entrance (z = 0.0 cm)\n",
    "dT_innocenzi_re = (alpha_h * P_abs) * np.exp(-alpha_h * (0.0)) / (4 * np.pi * K_c) \\\n",
    "     * (np.log(np.square(r_b / radpts_x)) + exp1(2 * np.square(r_b / wdT)) - exp1(2 * np.square(radpts_x / (wdT))))\n",
    "# Innocenzi dT at crystal center (z = 1.25 cm)\n",
    "dT_innocenzi_r0 = (alpha_h * P_abs) * np.exp(-alpha_h * 1.25) / (4 * np.pi * K_c) \\\n",
    "     * (np.log(np.square(r_b / radpts_x)) + exp1(2 * np.square(r_b / wdT)) - exp1(2 * np.square(radpts_x / (wdT))))\n",
    "# Innocenzi dT at crystal exit (z = 2.5 cm)\n",
    "dT_innocenzi_rx = (alpha_h * P_abs) * np.exp(-alpha_h * 2.5) / (4 * np.pi * K_c) \\\n",
    "     * (np.log(np.square(r_b / radpts_x)) + exp1(2 * np.square(r_b / wdT)) - exp1(2 * np.square(radpts_x / (wdT))))"
   ]
  },
  {
   "cell_type": "code",
   "execution_count": null,
   "id": "ed67be4a-4ffa-4756-84c6-af0f212b09f0",
   "metadata": {},
   "outputs": [],
   "source": [
    "# match analytic/simulation at crystal entrance\n",
    "fig = plt.figure(figsize=(10,7))\n",
    "ax = fig.gca()\n",
    "ax.plot(radpts_x, dT_innocenzi_re, 'g-', label = 'analytic z = 0.0 cm')\n",
    "# ax.plot(radpts_x, t_int_vals2,'k-', linewidth = 1, label = 'simulation slice 3')\n",
    "ax.plot(radpts_x, t_int_vals0,'b-', linewidth = 1, label = 'simulation slice 1')\n",
    "# ax.plot(radpts_x, t_int_vals4,'r-', linewidth = 1, label = 'simulation slice 5')\n",
    "ax.set_ylabel(r'dT [K]',**hfontMed)\n",
    "ax.set_xlabel(r'r [cm]',**hfontMed)                         \n",
    "# ax.set_title(r'Coefficient of Thermal Expansion for $Al_2O_3$',**hfontMed)\n",
    "#ax.xaxis.set_major_formatter(FormatStrFormatter('%1s'))\n",
    "# ax.yaxis.set_major_formatter(FormatStrFormatter('%s'))\n",
    "#plt.xticks(tvals_10ms)\n",
    "# plt.grid(True)\n",
    "ax.legend()\n",
    "plt.show()"
   ]
  },
  {
   "cell_type": "code",
   "execution_count": null,
   "id": "03f85fd4-15ff-48ba-8ed7-0dd895599534",
   "metadata": {},
   "outputs": [],
   "source": [
    "# match analytic/simulation at crystal center\n",
    "fig = plt.figure(figsize=(10,7))\n",
    "ax = fig.gca()\n",
    "ax.plot(radpts_x, dT_innocenzi_r0, 'g-', label = 'analytic z = 1.25 cm')\n",
    "# ax.plot(radpts_x, t_int_vals2,'k-', linewidth = 1, label = 'simulation slice 3')\n",
    "ax.plot(radpts_x, t_int_vals3,'b-', linewidth = 1, label = 'simulation slice 4')\n",
    "# ax.plot(radpts_x, t_int_vals4,'r-', linewidth = 1, label = 'simulation slice 5')\n",
    "ax.set_ylabel(r'dT [K]',**hfontMed)\n",
    "ax.set_xlabel(r'r [cm]',**hfontMed)                         \n",
    "# ax.set_title(r'Coefficient of Thermal Expansion for $Al_2O_3$',**hfontMed)\n",
    "#ax.xaxis.set_major_formatter(FormatStrFormatter('%1s'))\n",
    "# ax.yaxis.set_major_formatter(FormatStrFormatter('%s'))\n",
    "#plt.xticks(tvals_10ms)\n",
    "# plt.grid(True)\n",
    "ax.legend()\n",
    "plt.show()"
   ]
  },
  {
   "cell_type": "code",
   "execution_count": null,
   "id": "562bcdd0-8b92-42f2-b332-a8b0106bfe9a",
   "metadata": {},
   "outputs": [],
   "source": [
    "# match analytic/simulation at crystal end\n",
    "fig = plt.figure(figsize=(10,7))\n",
    "ax = fig.gca()\n",
    "ax.plot(radpts_x, dT_innocenzi_rx, 'g-', label = 'analytic z = 2.5 cm')\n",
    "# ax.plot(radpts_x, t_int_vals2,'k-', linewidth = 1, label = 'simulation slice 3')\n",
    "ax.plot(radpts_x, t_int_vals7,'b-', linewidth = 1, label = 'simulation slice 8')\n",
    "# ax.plot(radpts_x, t_int_vals4,'r-', linewidth = 1, label = 'simulation slice 5')\n",
    "ax.set_ylabel(r'dT [K]',**hfontMed)\n",
    "ax.set_xlabel(r'r [cm]',**hfontMed)                         \n",
    "# ax.set_title(r'Coefficient of Thermal Expansion for $Al_2O_3$',**hfontMed)\n",
    "#ax.xaxis.set_major_formatter(FormatStrFormatter('%1s'))\n",
    "# ax.yaxis.set_major_formatter(FormatStrFormatter('%s'))\n",
    "#plt.xticks(tvals_10ms)\n",
    "# plt.grid(True)\n",
    "ax.legend()\n",
    "plt.show()"
   ]
  },
  {
   "cell_type": "code",
   "execution_count": null,
   "id": "6cf685bc-e907-41a0-aedc-8fa8b1c0649e",
   "metadata": {},
   "outputs": [],
   "source": []
  },
  {
   "cell_type": "code",
   "execution_count": null,
   "id": "216f8471-f3f0-4b64-9c41-0512c1f5f324",
   "metadata": {},
   "outputs": [],
   "source": []
  },
  {
   "cell_type": "code",
   "execution_count": null,
   "id": "8c437790-0de8-4a03-a572-85e460604178",
   "metadata": {},
   "outputs": [],
   "source": []
  },
  {
   "cell_type": "code",
   "execution_count": null,
   "id": "119b97fc-dc53-4dca-8a8e-7f18d2a0c812",
   "metadata": {},
   "outputs": [],
   "source": []
  },
  {
   "cell_type": "markdown",
   "id": "dfb298f9-5fad-473d-a6bb-97c8031b030e",
   "metadata": {},
   "source": [
    "#### Gaussian power distribution analysis\n",
    "<img src=\"figures/pow_dist_gsn01.png\">"
   ]
  },
  {
   "cell_type": "code",
   "execution_count": null,
   "id": "4ff6236c-7438-4606-9f8b-472a98a6fd71",
   "metadata": {},
   "outputs": [],
   "source": [
    "Expression('dT * exp( -(pow(((x[0]*x[0] - b1) / c1), 2) + (pow(((x[1]*x[1] - b1) / c1), 2) ))) * (exp(-alpha_h * x[2]))', \n",
    "           degree = 1, dT = dT_incr, b1 = b1, c1 = c1, alpha_h = alpha_h)"
   ]
  },
  {
   "cell_type": "code",
   "execution_count": null,
   "id": "fd16cc29-b12a-4b3b-9d4c-934b8ff08484",
   "metadata": {},
   "outputs": [],
   "source": [
    "dT_incr"
   ]
  },
  {
   "cell_type": "code",
   "execution_count": null,
   "id": "3da98a4c-44b0-4f04-bd6b-a52b21e28000",
   "metadata": {},
   "outputs": [],
   "source": [
    "# choose a longitudinal position to examine power distribution [cm]\n",
    "z_power_dist = 0.0\n",
    "z_power_dist02 = 0.5\n",
    "z_power_dist03 = 1.0\n",
    "\n",
    "# potentially slightly different because r = sqrt(x^2 + y^2)\n",
    "temp_dist_gsn = dT_incr * np.exp(-np.square((radpts_x**2 - b1) / c1)) * np.exp(-alpha_h * z_power_dist) "
   ]
  },
  {
   "cell_type": "code",
   "execution_count": null,
   "id": "04f91de2-685f-4871-b256-16730174f724",
   "metadata": {},
   "outputs": [],
   "source": [
    "fig = plt.figure(figsize=(10,7))\n",
    "ax = fig.gca()\n",
    "ax.plot(radpts_x, temp_dist_gsn, 'g-')\n",
    "# ax.plot(radpts_x, t_int_vals2,'k-', linewidth = 1, label = 'simulation slice 3')\n",
    "# ax.plot(radpts_x, t_int_vals3,'b-', linewidth = 1, label = 'simulation slice 4')\n",
    "# ax.plot(radpts_x, t_int_vals4,'r-', linewidth = 1, label = 'simulation slice 5')\n",
    "ax.set_ylabel(r'T [K]',**hfontMed)\n",
    "ax.set_xlabel(r'r [cm]',**hfontMed)                         \n",
    "# ax.set_title(r'Coefficient of Thermal Expansion for $Al_2O_3$',**hfontMed)\n",
    "#ax.xaxis.set_major_formatter(FormatStrFormatter('%1s'))\n",
    "# ax.yaxis.set_major_formatter(FormatStrFormatter('%s'))\n",
    "#plt.xticks(tvals_10ms)\n",
    "# plt.grid(True)\n",
    "# ax.legend()\n",
    "plt.show()"
   ]
  },
  {
   "cell_type": "code",
   "execution_count": null,
   "id": "fb02205a-d764-4be6-a521-10a4a911b5b1",
   "metadata": {},
   "outputs": [],
   "source": [
    "# # Calculate absorbed power distribution following these substitutions:\n",
    "\n",
    "# dT_incr = dQ_incr / rho / c_p\n",
    "\n",
    "# dQ_incr = P_abs / V_abs\n",
    "\n",
    "# dT_incr = P_abs / V_abs / rho / c_p  -->  dT_incr = (P_abs / (V_abs * rho * c_p))\n",
    "\n",
    "# temp_dist_gsn = dT_incr * np.exp(-np.square((radpts_x**2 - b1) / c1)) * np.exp(-alpha_h * z_power_dist) \n",
    "\n",
    "# P_abs = temp_dist_gsn * V_abs * rho * c_p\n",
    "\n",
    "# --> P_abs = V_abs * rho * c_p * dT_incr * np.exp(-np.square((radpts_x**2 - b1) / c1)) * np.exp(-alpha_h * z_power_dist)\n"
   ]
  },
  {
   "cell_type": "code",
   "execution_count": null,
   "id": "4bb5b167-2c0d-4cc5-a9ae-8c16374a704c",
   "metadata": {},
   "outputs": [],
   "source": [
    "P_abs_dist_gsn = V_abs * rho * c_p * dT_incr * np.exp(-np.square((radpts_x**2 - b1) / c1)) * np.exp(-alpha_h * z_power_dist)\n",
    "P_abs_dist_gsn02 = V_abs * rho * c_p * dT_incr * np.exp(-np.square((radpts_x**2 - b1) / c1)) * np.exp(-alpha_h * z_power_dist02)\n",
    "P_abs_dist_gsn03 = V_abs * rho * c_p * dT_incr * np.exp(-np.square((radpts_x**2 - b1) / c1)) * np.exp(-alpha_h * z_power_dist03)"
   ]
  },
  {
   "cell_type": "code",
   "execution_count": null,
   "id": "ffc4d11c-ca53-4159-8863-3a16d1a715b1",
   "metadata": {},
   "outputs": [],
   "source": [
    "fig = plt.figure(figsize=(10,7))\n",
    "ax = fig.gca()\n",
    "ax.plot(radpts_x, P_abs_dist_gsn, 'g-', label = \"z = 0.0 cm\")\n",
    "ax.plot(radpts_x, P_abs_dist_gsn02, 'r-', label = \"z = 0.5 cm\")\n",
    "ax.plot(radpts_x, P_abs_dist_gsn03, 'b-', label = \"z = 1.0 cm\")\n",
    "# ax.plot(radpts_x, t_int_vals2,'k-', linewidth = 1, label = 'simulation slice 3')\n",
    "# ax.plot(radpts_x, t_int_vals3,'b-', linewidth = 1, label = 'simulation slice 4')\n",
    "# ax.plot(radpts_x, t_int_vals4,'r-', linewidth = 1, label = 'simulation slice 5')\n",
    "ax.set_ylabel(r'P [W]',**hfontMed)\n",
    "ax.set_xlabel(r'r [cm]',**hfontMed)                         \n",
    "# ax.set_title(r'Coefficient of Thermal Expansion for $Al_2O_3$',**hfontMed)\n",
    "#ax.xaxis.set_major_formatter(FormatStrFormatter('%1s'))\n",
    "# ax.yaxis.set_major_formatter(FormatStrFormatter('%s'))\n",
    "#plt.xticks(tvals_10ms)\n",
    "# plt.grid(True)\n",
    "ax.legend()\n",
    "plt.show()"
   ]
  },
  {
   "cell_type": "code",
   "execution_count": null,
   "id": "714dd264-012a-43ec-9271-e042c8a107b7",
   "metadata": {},
   "outputs": [],
   "source": []
  },
  {
   "cell_type": "code",
   "execution_count": null,
   "id": "65d7a2e6-d4d8-4d20-9735-1f8807c7085c",
   "metadata": {},
   "outputs": [],
   "source": []
  },
  {
   "cell_type": "code",
   "execution_count": null,
   "id": "401aa9df-3f32-4a92-a4af-00f8472b31f0",
   "metadata": {},
   "outputs": [],
   "source": []
  },
  {
   "cell_type": "code",
   "execution_count": null,
   "id": "d58c587e-017e-4b35-acf2-68af8caf4ae7",
   "metadata": {},
   "outputs": [],
   "source": []
  },
  {
   "cell_type": "code",
   "execution_count": null,
   "id": "0b6f7523-1461-4e14-b822-782a4f4ad8de",
   "metadata": {},
   "outputs": [],
   "source": []
  },
  {
   "cell_type": "code",
   "execution_count": null,
   "id": "578fcb4e-3458-4d85-a5a9-c56235adc605",
   "metadata": {},
   "outputs": [],
   "source": []
  },
  {
   "cell_type": "code",
   "execution_count": null,
   "id": "b9a15234-362f-49d0-8cf3-9dfa1c300d2f",
   "metadata": {},
   "outputs": [],
   "source": []
  },
  {
   "cell_type": "code",
   "execution_count": null,
   "id": "d70e560a-65e6-4f4f-8e03-9a7272908c34",
   "metadata": {},
   "outputs": [],
   "source": []
  }
 ],
 "metadata": {
  "kernelspec": {
   "display_name": "Python 3",
   "language": "python",
   "name": "py3"
  },
  "language_info": {
   "codemirror_mode": {
    "name": "ipython",
    "version": 3
   },
   "file_extension": ".py",
   "mimetype": "text/x-python",
   "name": "python",
   "nbconvert_exporter": "python",
   "pygments_lexer": "ipython3",
   "version": "3.7.2"
  },
  "toc-autonumbering": true,
  "toc-showcode": false,
  "toc-showmarkdowntxt": false
 },
 "nbformat": 4,
 "nbformat_minor": 5
}
