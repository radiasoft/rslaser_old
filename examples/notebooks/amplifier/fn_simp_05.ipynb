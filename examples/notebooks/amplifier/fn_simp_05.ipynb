{
 "cells": [
  {
   "cell_type": "code",
   "execution_count": 18,
   "metadata": {},
   "outputs": [
    {
     "data": {
      "image/png": "[encoded data removed]",
      "text/plain": [
       "<Figure size 432x288 with 1 Axes>"
      ]
     },
     "metadata": {
      "needs_background": "light"
     },
     "output_type": "display_data"
    },
    {
     "data": {
      "image/png": "[encoded data removed]",
      "text/plain": [
       "<Figure size 432x288 with 1 Axes>"
      ]
     },
     "metadata": {
      "needs_background": "light"
     },
     "output_type": "display_data"
    },
    {
     "name": "stdout",
     "output_type": "stream",
     "text": [
      "\n",
      " # of time steps =  1001\n",
      " # cells along x =  1000\n",
      "\n",
      "\n"
     ]
    },
    {
     "ename": "RuntimeError",
     "evalue": "\n\n*** -------------------------------------------------------------------------\n*** DOLFIN encountered an error. If you are not able to resolve this issue\n*** using the information listed below, you can ask for help at\n***\n***     fenics-support@googlegroups.com\n***\n*** Remember to include the error message listed below and, if possible,\n*** include a *minimal* running example to reproduce the error.\n***\n*** -------------------------------------------------------------------------\n*** Error:   Unable to solve nonlinear system with NewtonSolver.\n*** Reason:  Newton solver did not converge because maximum number of iterations reached.\n*** Where:   This error was encountered inside NewtonSolver.cpp.\n*** Process: 0\n*** \n*** DOLFIN version: 2019.1.0\n*** Git changeset:  74d7efe1e84d65e9433fd96c50f1d278fa3e3f3f\n*** -------------------------------------------------------------------------\n",
     "output_type": "error",
     "traceback": [
      "\u001b[0;31m---------------------------------------------------------------------------\u001b[0m",
      "\u001b[0;31mRuntimeError\u001b[0m                              Traceback (most recent call last)",
      "\u001b[0;32m<ipython-input-18-abecc3a1c3b9>\u001b[0m in \u001b[0;36m<module>\u001b[0;34m\u001b[0m\n\u001b[1;32m    115\u001b[0m     \u001b[0mprm\u001b[0m\u001b[0;34m[\u001b[0m\u001b[0;34m'newton_solver'\u001b[0m\u001b[0;34m]\u001b[0m\u001b[0;34m[\u001b[0m\u001b[0;34m'krylov_solver'\u001b[0m\u001b[0;34m]\u001b[0m\u001b[0;34m[\u001b[0m\u001b[0;34m'monitor_convergence'\u001b[0m\u001b[0;34m]\u001b[0m \u001b[0;34m=\u001b[0m \u001b[0;32mTrue\u001b[0m\u001b[0;34m\u001b[0m\u001b[0;34m\u001b[0m\u001b[0m\n\u001b[1;32m    116\u001b[0m     \u001b[0mprm\u001b[0m\u001b[0;34m[\u001b[0m\u001b[0;34m'newton_solver'\u001b[0m\u001b[0;34m]\u001b[0m\u001b[0;34m[\u001b[0m\u001b[0;34m'krylov_solver'\u001b[0m\u001b[0;34m]\u001b[0m\u001b[0;34m[\u001b[0m\u001b[0;34m'nonzero_initial_guess'\u001b[0m\u001b[0;34m]\u001b[0m \u001b[0;34m=\u001b[0m \u001b[0;32mTrue\u001b[0m\u001b[0;34m\u001b[0m\u001b[0;34m\u001b[0m\u001b[0m\n\u001b[0;32m--> 117\u001b[0;31m     \u001b[0msolver\u001b[0m\u001b[0;34m.\u001b[0m\u001b[0msolve\u001b[0m\u001b[0;34m(\u001b[0m\u001b[0;34m)\u001b[0m\u001b[0;34m\u001b[0m\u001b[0;34m\u001b[0m\u001b[0m\n\u001b[0m\u001b[1;32m    118\u001b[0m     \u001b[0muprev\u001b[0m\u001b[0;34m.\u001b[0m\u001b[0massign\u001b[0m\u001b[0;34m(\u001b[0m\u001b[0mu\u001b[0m\u001b[0;34m)\u001b[0m\u001b[0;34m\u001b[0m\u001b[0;34m\u001b[0m\u001b[0m\n\u001b[1;32m    119\u001b[0m \u001b[0;34m\u001b[0m\u001b[0m\n",
      "\u001b[0;31mRuntimeError\u001b[0m: \n\n*** -------------------------------------------------------------------------\n*** DOLFIN encountered an error. If you are not able to resolve this issue\n*** using the information listed below, you can ask for help at\n***\n***     fenics-support@googlegroups.com\n***\n*** Remember to include the error message listed below and, if possible,\n*** include a *minimal* running example to reproduce the error.\n***\n*** -------------------------------------------------------------------------\n*** Error:   Unable to solve nonlinear system with NewtonSolver.\n*** Reason:  Newton solver did not converge because maximum number of iterations reached.\n*** Where:   This error was encountered inside NewtonSolver.cpp.\n*** Process: 0\n*** \n*** DOLFIN version: 2019.1.0\n*** Git changeset:  74d7efe1e84d65e9433fd96c50f1d278fa3e3f3f\n*** -------------------------------------------------------------------------\n"
     ]
    }
   ],
   "source": [
    "'''\n",
    "File:  fn_simp_05.py\n",
    "\n",
    "This test shows a static distribution of excited states in a crystal,\n",
    "with an laser envelope of photons that sweep across the crystal.\n",
    "\n",
    "The only dynamical equation is that of the excited states in the crystal.\n",
    "\n",
    "Experimenting with different solver here...\n",
    "'''\n",
    "from dolfin import *\n",
    "import matplotlib.pyplot as plt\n",
    "\n",
    "# Specify the BCs\n",
    "def on_left(x, on_boundary):\n",
    "    return (on_boundary and near(x[0], 0.))\n",
    "\n",
    "def on_right(x, on_boundary):\n",
    "    return (on_boundary and near (x[0], 1.))\n",
    "\n",
    "V_x = 0.8\n",
    "n_ds = 1000\n",
    "ds = 1./n_ds\n",
    "lp_density = 10.\n",
    "lp_width = 0.1\n",
    "c_density = 1.e18\n",
    "c_width = 1. - 2.*lp_width - 4.*ds\n",
    "c_sigma = 1.e-19\n",
    "\n",
    "# create a 1D mesh on the interval [0,1]\n",
    "mesh = UnitIntervalMesh(n_ds)\n",
    "V = FunctionSpace(mesh, \"DG\", 1)\n",
    "v = TestFunction(V)\n",
    "\n",
    "u = Function(V)\n",
    "uprev = Function(V)\n",
    "    \n",
    "# instantiate the corresponding FEniCS objects for Dirichlet BCs\n",
    "bc_left = DirichletBC(V, Constant(0), on_left)\n",
    "bc_right = DirichletBC(V, Constant(0), on_right)\n",
    "bc = [bc_left, bc_right]\n",
    "\n",
    "# initial conditions for number density of excited states\n",
    "u0 = Expression(('x[0]>=lp_width && x[0]<=(lp_width+c_width) ? \\\n",
    "                c_density*sin(pi*(x[0]-lp_width)/c_width) : 0.'), \\\n",
    "                degree=1, lp_width=0.2, c_width=0.6, c_density=1., ds=0.01)\n",
    "u0.c_width = c_width\n",
    "u0.lp_width = lp_width\n",
    "u0.c_density = c_density\n",
    "u0.ds = ds\n",
    "    \n",
    "# project the above expression onto the solution vector\n",
    "uprev = interpolate(u0, V)\n",
    "\n",
    "# define the externally imposed laser pulse\n",
    "ulaser = Expression(('(x[0]-V_x*t)>ds && (x[0]-V_x*t)<lp_width ? lp_density : 0.'), \\\n",
    "                degree=0, lp_width=0.1, ds=0.01, V_x=0.6, lp_density=1., t=0.)\n",
    "ulaser.lp_density = lp_density\n",
    "ulaser.lp_width = lp_width\n",
    "ulaser.ds = ds\n",
    "ulaser.V_x = V_x\n",
    "\n",
    "# inital plot of excited states and laser pulse envelope\n",
    "uplot = project(uprev, V)\n",
    "plot(uplot, title=('Density of crystal excited states (initial)'))\n",
    "plt.grid(True)\n",
    "plt.show()\n",
    "plt.close()\n",
    "\n",
    "uplot = project(ulaser, V)\n",
    "plot(uplot, title=('Density of laser photons (initial)'))\n",
    "plt.grid(True)\n",
    "plt.show()\n",
    "plt.close()\n",
    "\n",
    "time = 1.\n",
    "dt = 0.8 * ds / V_x\n",
    "n_steps = int(1 + time / dt)\n",
    "\n",
    "print('')\n",
    "print(' # of time steps = ', n_steps)\n",
    "print(' # cells along x = ', n_ds)\n",
    "print('')\n",
    "print('')\n",
    "\n",
    "DT = Constant(dt)\n",
    "VX = Constant(V_x)\n",
    "SIGMA = Constant(c_sigma)\n",
    "\n",
    "# try to get some numerical diagnostics\n",
    "set_log_level(LogLevel.INFO)\n",
    "\n",
    "u = Function(V)\n",
    "t=0.5*dt\n",
    "for i_loop in range(0, n_steps):\n",
    "    ulaser.t = t\n",
    "    t += dt\n",
    "\n",
    "    F = ( (u - uprev) * v / DT + SIGMA * u * ulaser * v ) * dx\n",
    "    \n",
    "    Jacobian = derivative(F, u)\n",
    "    problem = NonlinearVariationalProblem(F, u, bc, Jacobian)\n",
    "    solver  = NonlinearVariationalSolver(problem)\n",
    "    \n",
    "    prm = solver.parameters\n",
    "    prm['newton_solver']['absolute_tolerance'] = 1E-5\n",
    "    prm['newton_solver']['relative_tolerance'] = 1E-3\n",
    "    prm['newton_solver']['maximum_iterations'] = 25\n",
    "    prm['newton_solver']['relaxation_parameter'] = 1.0\n",
    "    prm['newton_solver']['linear_solver'] = 'gmres'\n",
    "    prm['newton_solver']['preconditioner'] = 'default'\n",
    "    prm['newton_solver']['krylov_solver']['absolute_tolerance'] = 1E-5\n",
    "    prm['newton_solver']['krylov_solver']['relative_tolerance'] = 1E-3\n",
    "    prm['newton_solver']['krylov_solver']['maximum_iterations'] = 1000\n",
    "    prm['newton_solver']['krylov_solver']['monitor_convergence'] = True\n",
    "    prm['newton_solver']['krylov_solver']['nonzero_initial_guess'] = True\n",
    "    solver.solve()\n",
    "    uprev.assign(u)\n",
    "    \n",
    "#    print('i_loop = ', i_loop)\n",
    "#    if i_loop > 200:\n",
    "#        break\n",
    "\n",
    "# final plot of excited states and laser pulse envelope\n",
    "uplot = project(u, V)\n",
    "plot(uplot, title=('Density of crystal excited states (final)'))\n",
    "plt.grid(True)\n",
    "plt.show()\n",
    "plt.close()\n",
    "\n",
    "uplot = project(ulaser, V)\n",
    "plot(uplot, title=('Density of laser photons (initial)'))\n",
    "plt.grid(True)\n",
    "plt.show()\n",
    "plt.close()"
   ]
  },
  {
   "cell_type": "code",
   "execution_count": 19,
   "metadata": {},
   "outputs": [],
   "source": [
    "list_krylov_solver_preconditioners()"
   ]
  },
  {
   "cell_type": "code",
   "execution_count": null,
   "metadata": {},
   "outputs": [],
   "source": []
  }
 ],
 "metadata": {
  "kernelspec": {
   "display_name": "Python 3",
   "language": "python",
   "name": "python3"
  },
  "language_info": {
   "codemirror_mode": {
    "name": "ipython",
    "version": 3
   },
   "file_extension": ".py",
   "mimetype": "text/x-python",
   "name": "python",
   "nbconvert_exporter": "python",
   "pygments_lexer": "ipython3",
   "version": "3.7.2"
  }
 },
 "nbformat": 4,
 "nbformat_minor": 4
}
