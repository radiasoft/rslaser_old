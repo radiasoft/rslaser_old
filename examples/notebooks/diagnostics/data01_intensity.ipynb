{
 "cells": [
  {
   "cell_type": "code",
   "execution_count": null,
   "id": "40663501-599a-4689-b4bf-41718b047cf5",
   "metadata": {},
   "outputs": [],
   "source": [
    "import math\n",
    "import matplotlib.pyplot as plt\n",
    "import numpy as np\n",
    "import rslaser\n",
    "from scipy import ndimage\n",
    "import scipy.optimize as opt\n",
    "import sys"
   ]
  },
  {
   "cell_type": "code",
   "execution_count": null,
   "id": "feae1c3d-74c8-4a06-843a-94c469ce6b67",
   "metadata": {},
   "outputs": [],
   "source": [
    "# specify the path to the diagnostic data file\n",
    "# dir_name = 'rslaser/package_data/'\n",
    "dir_name = '../../../rslaser/package_data/'\n",
    "file_name = 'IntensityImage_PumpOff.txt'\n",
    "\n",
    "# read the pixel size from the diagnostic metadata file\n",
    "# with open(\"rslaser/package_data/camera_sensor_info.txt\") as fh:\n",
    "with open(\"../../../rslaser/package_data/camera_sensor_info.txt\") as fh:\n",
    "    for line in fh:\n",
    "        if line.startswith(\"\\\"pixel_size_h_microns\\\"\"):\n",
    "            pixel_size = float(line.split(\":\")[-1].split(\",\")[0])  # microns"
   ]
  },
  {
   "cell_type": "code",
   "execution_count": null,
   "id": "dcf39d3a-ea78-41a2-b644-695ddd500beb",
   "metadata": {},
   "outputs": [],
   "source": [
    "img_orig = np.genfromtxt(dir_name+file_name, skip_header=1)\n",
    "\n",
    "i_max = img_orig.shape[1] - 1\n",
    "j_max = img_orig.shape[0] - 1\n",
    "\n",
    "x = np.linspace(0, i_max+1, img_orig.shape[1])\n",
    "y = np.linspace(0, j_max+1, img_orig.shape[0])\n",
    "x, y = np.meshgrid(x, y)\n",
    "\n",
    "n0_min=np.min(img_orig)\n",
    "n0_max=np.max(img_orig)\n",
    "n0_tot = np.sum(img_orig)\n",
    "# print('n0_max = ', n0_max)\n",
    "# print('n0_tot = ', n0_tot)\n",
    "\n",
    "sigma0 = math.sqrt(n0_tot / n0_max / math.pi)\n",
    "w0 = sigma0 * math.sqrt(2.) * pixel_size\n",
    "print('Estimates --')\n",
    "print('      w0 ~ {0:3.0f}  [microns]'.format(w0))\n",
    "\n",
    "# find indices of the maximum value; assume this is the center\n",
    "y_center, x_center = np.unravel_index(np.argmax(img_orig),img_orig.shape)\n",
    "print('x_center ~ {0:3.0f}  [microns]'.format(x_center*pixel_size))\n",
    "print('y_center ~ {0:3.0f}  [microns]'.format(y_center*pixel_size))"
   ]
  },
  {
   "cell_type": "code",
   "execution_count": null,
   "id": "6dc6fd0d-8861-4aa5-86b9-888f6d09add8",
   "metadata": {},
   "outputs": [],
   "source": [
    "def gaussian(_x,_y,_amp,_sigma,_xc,_yc):\n",
    "    return _amp * np.exp(-(((_x-_xc)/_sigma)**2 + ((_y-_yc)/_sigma)**2))"
   ]
  },
  {
   "cell_type": "code",
   "execution_count": null,
   "id": "78fdab55-7b5e-4fe6-a074-c61e29164df6",
   "metadata": {},
   "outputs": [],
   "source": [
    "def merit_fcn(sigma, args):\n",
    "    _image = gaussian(args[0],args[1],n0_max,sigma,x_center,y_center).reshape(img_orig.shape)\n",
    "    return abs(n0_tot - np.sum(_image))"
   ]
  },
  {
   "cell_type": "code",
   "execution_count": null,
   "id": "8a51d4ef-e5d5-439d-85b4-6d179905f229",
   "metadata": {},
   "outputs": [],
   "source": [
    "x0 = [math.sqrt(n0_tot/n0_max/math.pi)]\n",
    "result = opt.minimize(merit_fcn, x0, args=[x, y], method='Nelder-Mead', options={'xatol': 0.0001, 'fatol': 0.0001, 'disp': True})\n",
    "print(' ')\n",
    "\n",
    "_sigma = result.x[0]\n",
    "w0 = _sigma * math.sqrt(2.) * pixel_size\n",
    "print('Fitting result:  w0 = {0:3.0f} [microns]'.format(w0))"
   ]
  },
  {
   "cell_type": "code",
   "execution_count": null,
   "id": "b965d204-09c0-4edb-83ab-362ebd126abe",
   "metadata": {},
   "outputs": [],
   "source": [
    "img_fit = gaussian(x, y, n0_max, _sigma, x_center, y_center).reshape(img_orig.shape)\n",
    "nfit_tot = np.sum(img_fit)\n",
    "rel_tot_dif = 100.*(1.-nfit_tot/n0_tot)\n",
    "print('nfit_tot = {0:4.0f}'.format(nfit_tot))\n",
    "print('relative difference of total counts = {0:3.1f}%'.format(rel_tot_dif))"
   ]
  },
  {
   "cell_type": "code",
   "execution_count": null,
   "id": "173f7bcf-785a-4b7f-8be1-9f3c16144641",
   "metadata": {},
   "outputs": [],
   "source": [
    "# plot the original image\n",
    "with plt.style.context(('seaborn-poster')):\n",
    "    fig = plt.figure()\n",
    "    ax = fig.gca()\n",
    "    ax.imshow(img_orig, cmap='gray', vmin=0., vmax=n0_max)\n",
    "    ax.invert_yaxis()\n",
    "    ax.set_title('Original;  peak count={0:4.0f}'.format(n0_max)+', ctr=({0:3.0f},'.format(x_center*pixel_size)+'{0:3.0f}) microns'.format(y_center*pixel_size))"
   ]
  },
  {
   "cell_type": "code",
   "execution_count": null,
   "id": "37e3cf1c-86f4-42f8-8361-b9e801ce013e",
   "metadata": {},
   "outputs": [],
   "source": [
    "# plot the fitted Gaussian image\n",
    "with plt.style.context(('seaborn-poster')):\n",
    "    fig = plt.figure()\n",
    "    ax = fig.gca()\n",
    "    ax.imshow(img_fit, cmap='gray', vmin=0., vmax=n0_max)\n",
    "    ax.invert_yaxis()\n",
    "    ax.set_title('Gaussian;  w0={0:4.0f} [microns]'.format(w0))"
   ]
  },
  {
   "cell_type": "code",
   "execution_count": null,
   "id": "d5fc00fe-515c-4561-b18e-b771de6cafc0",
   "metadata": {},
   "outputs": [],
   "source": [
    "# plot the difference between the original and the Gaussian fit\n",
    " \n",
    "img_diff = img_orig - img_fit\n",
    "with plt.style.context(('seaborn-poster')):\n",
    "    fig = plt.figure()\n",
    "    ax = fig.gca()\n",
    "    ax.imshow(img_diff, cmap='gray', vmin=np.min(img_diff), vmax=np.max(img_diff))\n",
    "    ax.invert_yaxis()\n",
    "    ax.set_title(\"Difference between original and fitted images\")"
   ]
  },
  {
   "cell_type": "code",
   "execution_count": null,
   "id": "d01d22eb-ed3f-4c82-813f-9882a24a6980",
   "metadata": {},
   "outputs": [],
   "source": [
    "# how bad are the deviations from original to fitted result (relative to the peak count)?\n",
    "print(' ')\n",
    "print('Maximum relative deviation of the Gaussian photon counts, compared to the original --')\n",
    "print('  above: {0:4.1f} %'.format( 100.*(np.max(img_diff)/n0_max)))\n",
    "print('  below: {0:4.1f} %'.format(-100.*(np.min(img_diff)/n0_max)))"
   ]
  },
  {
   "cell_type": "code",
   "execution_count": null,
   "id": "1262b03a-a3c3-4f4d-9061-d065aa6669bc",
   "metadata": {},
   "outputs": [],
   "source": [
    "# calculate and print some absolute values for the photon counts\n",
    "\n",
    "print(' ')\n",
    "print('*************************')\n",
    "# print('img_orig = ')\n",
    "# print(img_orig)\n",
    "min_orig = np.min(img_orig)\n",
    "max_orig = np.max(img_orig)\n",
    "print('min original = ', min_orig)\n",
    "print('max original = ', max_orig)\n",
    "\n",
    "print(' ')\n",
    "print('*************************')\n",
    "# print('img_fit = ')\n",
    "# print(img_fit)\n",
    "min_fit = np.min(img_fit)\n",
    "max_fit = np.max(img_fit)\n",
    "print('min fitted = ', min_fit)\n",
    "print('max fitted = ', max_fit)\n",
    "\n",
    "print(' ')\n",
    "print('*************************')\n",
    "# print('img_diff = ')\n",
    "# print(img_diff)\n",
    "min_diff = np.min(img_diff)\n",
    "max_diff = np.max(img_diff)\n",
    "print('min diff = ', min_diff)\n",
    "print('max diff = ', max_diff)"
   ]
  },
  {
   "cell_type": "code",
   "execution_count": null,
   "id": "4f3d6331-2ac8-42ee-a9e4-adaad38bf73d",
   "metadata": {},
   "outputs": [],
   "source": []
  }
 ],
 "metadata": {
  "kernelspec": {
   "display_name": "Python 3",
   "language": "python",
   "name": "py3"
  },
  "language_info": {
   "codemirror_mode": {
    "name": "ipython",
    "version": 3
   },
   "file_extension": ".py",
   "mimetype": "text/x-python",
   "name": "python",
   "nbconvert_exporter": "python",
   "pygments_lexer": "ipython3",
   "version": "3.7.2"
  }
 },
 "nbformat": 4,
 "nbformat_minor": 5
}
