{
 "cells": [
  {
   "cell_type": "code",
   "execution_count": 2,
   "id": "05c0aa0a",
   "metadata": {},
   "outputs": [],
   "source": [
    "%matplotlib inline\n",
    "import matplotlib as mpl\n",
    "import matplotlib.pyplot as plt\n",
    "\n",
    "import math\n",
    "import numpy as np\n",
    "\n",
    "from pykern.pkcollections import PKDict\n",
    "\n",
    "import rslaser.rspulse\n",
    "import rslaser.rspulse.pulse as rsp\n",
    "import rslaser.rspulse.gauss_hermite as rsgh"
   ]
  },
  {
   "cell_type": "code",
   "execution_count": 3,
   "id": "b2e62c08",
   "metadata": {},
   "outputs": [],
   "source": [
    "# get some physical and mathematical constants ready to go\n",
    "# this code snippet is adapted from rsbeams.rsphysics.rsconst.py\n",
    "import math\n",
    "import scipy.constants as const\n",
    "\n",
    "TWO_PI = 2 * math.pi\n",
    "RT_TWO_PI = math.sqrt(2*math.pi)\n",
    "RT_2_OVER_PI = math.sqrt(2/math.pi)\n",
    "\n",
    "c_SQ = const.c**2\n",
    "c_INV  = 1./const.c\n",
    "MKS_factor = 1./(4.*math.pi*const.epsilon_0)\n",
    "m_e_EV = const.m_e * c_SQ / (-const.e)"
   ]
  },
  {
   "cell_type": "code",
   "execution_count": 4,
   "id": "5c1a172b",
   "metadata": {},
   "outputs": [
    {
     "name": "stdout",
     "output_type": "stream",
     "text": [
      "efield_0 =  842.8090373325251  [GV/m]\n"
     ]
    }
   ],
   "source": [
    "# dimensionless laser pulse amplitude\n",
    "# a_0 = 0.85e-9 * lambda [microns] * Sqrt(Intensity [W/cm^2])\n",
    "# a_0 < 1 is low-amplitude, resulting in nonrelativistic plasma electron dynamics\n",
    "# a_0 > 1 is high-amplitude, resulting in relativistic plasma electron dynamics\n",
    "a_0 = 2.1\n",
    "\n",
    "# central laser wavelength [m]\n",
    "lambda_0 = 8.e-6\n",
    "k_0 = 1. / lambda_0\n",
    "f_0 = k_0 * const.c\n",
    "omega_0 = TWO_PI * f_0\n",
    "\n",
    "# Peak electric field [V/m]\n",
    "efield_0 = a_0 * const.m_e * omega_0 * const.c / (const.e)\n",
    "print('efield_0 = ', efield_0*1.e-9, ' [GV/m]')\n",
    "\n",
    "# FWHM pulse length\n",
    "tau_fwhm_ns = 200.   # FWHM laser pulse length [ns]\n",
    "tau_fwhm = tau_fwhm_ns * 1.e-9\n",
    "L_fwhm = tau_fwhm * const.c\n",
    "\n",
    "# waist size and its longitudinal location\n",
    "w_0_microns = 100.\n",
    "w_0 = w_0_microns * 1.e-6\n",
    "z_waist = 0.1\n",
    "z_center = 0.0"
   ]
  },
  {
   "cell_type": "code",
   "execution_count": 5,
   "id": "e749acad",
   "metadata": {},
   "outputs": [],
   "source": [
    "# create a dictionary of all relevant physical and numerical quantities\n",
    "data_in=PKDict()\n",
    "\n",
    "data_in.a_0 = a_0\n",
    "data_in.w_0 = w_0\n",
    "data_in.z_waist = z_waist\n",
    "data_in.z_center = z_center\n",
    "data_in.lambda_0 = lambda_0\n",
    "data_in.tau_fwhm = tau_fwhm\n",
    "\n",
    "#create laser pulse\n",
    "laser_env = rsp.LaserPulseEnvelope(data_in)"
   ]
  },
  {
   "cell_type": "code",
   "execution_count": 6,
   "id": "0658862e-fc3e-4831-99f4-eb61fadbb5cb",
   "metadata": {},
   "outputs": [
    {
     "data": {
      "image/png": "[encoded data removed]",
      "text/plain": [
       "<Figure size 432x288 with 1 Axes>"
      ]
     },
     "metadata": {
      "needs_background": "light"
     },
     "output_type": "display_data"
    }
   ],
   "source": [
    "# Plot a transverse lineout of the electric field\n",
    "n_points = 11\n",
    "x_vals = np.zeros(n_points)\n",
    "E_vals = np.zeros(n_points)\n",
    "\n",
    "x_max = 4. * laser_env._w_0*1.e6\n",
    "x_min = -x_max\n",
    "del_x = (x_max - x_min) / (n_points-1)\n",
    "for ind in range(n_points):\n",
    "    x_vals[ind] = x_min + ind*del_x\n",
    "#    E_vals[ind] = laser_env.E_field(x_vals[ind], 0., 0.)\n",
    "    E_vals[ind] = x_vals[ind]\n",
    "#    print(\"x_vals(\", ind, \") = \", x_vals[ind])\n",
    "\n",
    "fig = plt.figure()\n",
    "ax = fig.gca()\n",
    "\n",
    "ax.scatter(x_vals, E_vals)\n",
    "ax.plot(x_vals, E_vals)\n",
    "ax.set_xlabel('horizontal position, x [microns]')\n",
    "ax.set_ylabel('Electric field [V/m]')\n",
    "ax.set_xlim([x_min, x_max])\n",
    "ax.set_ylim([np.min(E_vals), np.max(E_vals)])\n",
    "ax.set_title(r'Envelope of laser pulse electric field')\n",
    "        \n",
    "plt.tight_layout()"
   ]
  },
  {
   "cell_type": "code",
   "execution_count": 7,
   "id": "ed71a554",
   "metadata": {},
   "outputs": [],
   "source": [
    "# let's try again with a generalized GaussHermite envelope\n",
    "# create a dictionary of all relevant physical and numerical quantities\n",
    "data_in=PKDict()\n",
    "\n",
    "data_in.a0 = a_0\n",
    "data_in.w0 = w_0\n",
    "data_in.lambda0 = lambda_0\n",
    "data_in.tau_fwhm = tau_fwhm\n",
    "\n",
    "#create laser pulse\n",
    "gh_env = rsgh.GaussHermite(data_in)"
   ]
  },
  {
   "cell_type": "code",
   "execution_count": null,
   "id": "d0436e3c",
   "metadata": {},
   "outputs": [],
   "source": []
  }
 ],
 "metadata": {
  "kernelspec": {
   "display_name": "Python 3",
   "language": "python",
   "name": "py3"
  },
  "language_info": {
   "codemirror_mode": {
    "name": "ipython",
    "version": 3
   },
   "file_extension": ".py",
   "mimetype": "text/x-python",
   "name": "python",
   "nbconvert_exporter": "python",
   "pygments_lexer": "ipython3",
   "version": "3.7.2"
  }
 },
 "nbformat": 4,
 "nbformat_minor": 5
}
