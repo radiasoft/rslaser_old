{
 "cells": [
  {
   "cell_type": "code",
   "execution_count": null,
   "id": "05c0aa0a",
   "metadata": {},
   "outputs": [],
   "source": [
    "# specify all top-level input parameters\n",
    "\n",
    "# central values\n",
    "a0 = 0.01            # 0.85e-9 * lambda [microns] * Sqrt(Intensity [W/cm^2])\n",
    "lambda0 = 8.e-7      # wavelength [m]\n",
    "tau_fwhm = 200.e-9   # FWHM pulse length [s]\n",
    "w0 = 400.e-6         # waist size [m]\n",
    "z_waist = 0.1        # longitudinal waist position [m]\n",
    "z_center = 0.0       # longitudinal position of pulse center [m]\n",
    "\n",
    "# deviations\n",
    "d_lambda = 1.e-7     # full wavelength chirp across laser pulse [m]\n",
    "dw0x = 0.0           # deviation of horizontal waist from w0\n",
    "dw0y = 0.0           # deviation of vertical waist from w0\n",
    "dzwx = 0.0           # deviation of horizontal waist position from z_waist\n",
    "dzwy = 0.0           # deviation of vertical waist position from z_waist\n",
    "x_shift =  40e-6     # bulk horizontal shift of pulse position\n",
    "y_shift = -10e-6     # bulk vertical shift of pulse position\n",
    "\n",
    "# numerical values\n",
    "num_slices = 3       # desired number of slices (i.e. SRW wavefronts) to represent the pulse"
   ]
  },
  {
   "cell_type": "code",
   "execution_count": null,
   "id": "2a1983a4-aae2-43d3-8e8c-eb477371df80",
   "metadata": {},
   "outputs": [],
   "source": [
    "import matplotlib as mpl\n",
    "import matplotlib.pyplot as plt\n",
    "\n",
    "#Reset notebook style\n",
    "mpl.rcParams.update(mpl.rcParamsDefault)\n",
    "%matplotlib inline\n",
    "\n",
    "import math\n",
    "import numpy as np\n",
    "import scipy.constants as const\n",
    "\n",
    "from pykern.pkcollections import PKDict\n",
    "\n",
    "import rslaser.rspulse.pulse as rsp\n",
    "import rslaser.rspulse.gauss_hermite as rsgh\n",
    "import rslaser.utils.plot_fields as rspf\n",
    "import rslaser.utils.constants as rsc"
   ]
  },
  {
   "cell_type": "code",
   "execution_count": null,
   "id": "e749acad",
   "metadata": {},
   "outputs": [],
   "source": [
    "# create a dictionary of all relevant physical and numerical quantities\n",
    "data_in=PKDict()\n",
    "\n",
    "data_in.a0 = a0\n",
    "data_in.lambda0 = lambda0\n",
    "data_in.tau_fwhm = tau_fwhm\n",
    "data_in.w0 = w0\n",
    "data_in.z_waist = z_waist\n",
    "data_in.z_center = z_center\n",
    "\n",
    "data_in.d_lambda = d_lambda\n",
    "data_in.dw0x = dw0x\n",
    "data_in.dw0y = dw0y\n",
    "data_in.dzwx = dzwx\n",
    "data_in.dzwy = dzwy\n",
    "data_in.x_shift = x_shift\n",
    "data_in.y_shift = y_shift\n",
    "\n",
    "data_in.nslice = num_slices\n",
    "\n",
    "#create laser pulse\n",
    "LP = rsp.LaserPulse(data_in)"
   ]
  },
  {
   "cell_type": "code",
   "execution_count": null,
   "id": "d0436e3c",
   "metadata": {},
   "outputs": [],
   "source": [
    "# plot fields in a z-x plane that intersects the y=0 axis\n",
    "# we are assuming linear polarization along the x-axis\n",
    "n_points = 101\n",
    "x_vals = np.zeros(n_points)\n",
    "z_vals = np.zeros(n_points)\n",
    "\n",
    "x_max = 4. * LP.envelope.w0\n",
    "x_min = -x_max\n",
    "del_x = (x_max - x_min) / (n_points-1)\n",
    "\n",
    "z_max = 4. * LP.envelope.w0\n",
    "z_min = -z_max\n",
    "del_z = (z_max - z_min) / (n_points-1)\n",
    "\n",
    "for ind in range(n_points):\n",
    "    x_vals[ind] = x_min + ind*del_x\n",
    "    z_vals[ind] = z_min + ind*del_z\n",
    "\n",
    "with plt.style.context(('seaborn-poster')):\n",
    "    fig = plt.figure()\n",
    "    ax = fig.gca()\n",
    "    rspf.plot_zx(z_vals, x_vals, LP.envelope, ax)"
   ]
  },
  {
   "cell_type": "code",
   "execution_count": null,
   "id": "34121e10-33c1-4b52-baff-f3747ee07586",
   "metadata": {},
   "outputs": [],
   "source": [
    "# plot fields in a z-y plane that intersects the x=0 axis\n",
    "# we are assuming linear polarization along the x-axis\n",
    "with plt.style.context(('seaborn-poster')):\n",
    "    fig = plt.figure()\n",
    "    ax = fig.gca()\n",
    "    rspf.plot_zy(LP.envelope, ax) "
   ]
  },
  {
   "cell_type": "code",
   "execution_count": null,
   "id": "3a0c0b21-f38a-4a75-ab0e-20265719128b",
   "metadata": {},
   "outputs": [],
   "source": [
    "# plot fields in an x-y plane that intersects the z=0 axis\n",
    "# we are assuming linear polarization along the x-axis\n",
    "with plt.style.context(('seaborn-poster')):\n",
    "    fig = plt.figure()\n",
    "    ax = fig.gca()\n",
    "    rspf.plot_xy(1000.*lambda0, LP.envelope, ax)"
   ]
  },
  {
   "cell_type": "code",
   "execution_count": null,
   "id": "4a8ef650-a95c-43e4-8b05-37ec817ad976",
   "metadata": {},
   "outputs": [],
   "source": [
    "# Plot a transverse lineout of the electric field\n",
    "n_points = 11\n",
    "x_vals = np.zeros(n_points)\n",
    "E_vals = np.zeros(n_points)\n",
    "\n",
    "x_max = 4. * LP.envelope.w0\n",
    "x_min = -x_max\n",
    "del_x = (x_max - x_min) / (n_points-1)\n",
    "for ind in range(n_points):\n",
    "    x_vals[ind] = x_min + ind*del_x\n",
    "#    E_vals[ind] = LP.envelope.E_field(x_vals[ind], 0., 0.)\n",
    "    E_vals[ind] = x_vals[ind]\n",
    "#    print(\"x_vals(\", ind, \") = \", x_vals[ind])\n",
    "\n",
    "with plt.style.context(('seaborn-poster')):\n",
    "    fig = plt.figure()\n",
    "    ax = fig.gca()\n",
    "\n",
    "    ax.scatter(x_vals, E_vals)\n",
    "    ax.plot(x_vals, E_vals)\n",
    "    ax.set_xlabel('horizontal position, x [microns]')\n",
    "    ax.set_ylabel('Electric field [V/m]')\n",
    "    ax.set_xlim([x_min, x_max])\n",
    "    ax.set_ylim([np.min(E_vals), np.max(E_vals)])\n",
    "    ax.set_title(r'Envelope of laser pulse electric field')"
   ]
  },
  {
   "cell_type": "code",
   "execution_count": null,
   "id": "b5331422-6058-4809-bca5-307f77a96f63",
   "metadata": {},
   "outputs": [],
   "source": []
  }
 ],
 "metadata": {
  "kernelspec": {
   "display_name": "Python 3",
   "language": "python",
   "name": "py3"
  },
  "language_info": {
   "codemirror_mode": {
    "name": "ipython",
    "version": 3
   },
   "file_extension": ".py",
   "mimetype": "text/x-python",
   "name": "python",
   "nbconvert_exporter": "python",
   "pygments_lexer": "ipython3",
   "version": "3.7.2"
  }
 },
 "nbformat": 4,
 "nbformat_minor": 5
}
