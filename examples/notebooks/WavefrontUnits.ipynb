{
 "cells": [
  {
   "cell_type": "code",
   "execution_count": 47,
   "id": "bb423b42-3560-4c17-a900-8e262e658b94",
   "metadata": {},
   "outputs": [],
   "source": [
    "import rslaser.rsoptics\n",
    "from rslaser.rsoptics.element import *\n",
    "import rslaser.rscavity\n",
    "from rslaser.rscavity.laser_cavity import *\n",
    "\n",
    "from matplotlib import pyplot\n",
    "import matplotlib.pyplot as plt\n",
    "import numpy as np\n",
    "import time\n",
    "from pykern.pkcollections import PKDict"
   ]
  },
  {
   "cell_type": "code",
   "execution_count": 19,
   "id": "8e26be9c-c48a-4a80-a40a-0d6f9a415c5c",
   "metadata": {},
   "outputs": [
    {
     "name": "stdout",
     "output_type": "stream",
     "text": [
      "lam = 0.000000800 m\n"
     ]
    }
   ],
   "source": [
    "k=PKDict()\n",
    "\n",
    "#Define parameters for laser pulse starting at center of crystal\n",
    "k.wavefrontEnergy = 1.55 #Wavefront Energy [eV]. 1.55 eV is 800 nm wavelength\n",
    "k.lam = 1239.8*1e-9/k.wavefrontEnergy # convert energy [eV] to wavelength [m]\n",
    "print('lam = %1.9f m' % k.lam)\n",
    "\n",
    "k.sigrW =  0.000186 # rms size of laser pulse at waist\n",
    "\n",
    "k.nslice=5\n",
    "k.sig_s=0.1 #rms length of Gaussian laser pulse [m]\n",
    "\n",
    "k.phE=k.wavefrontEnergy\n",
    "k.energyChirp=.01\n",
    "\n",
    "#create laser pulse\n",
    "LP = LaserPulse(k)"
   ]
  },
  {
   "cell_type": "code",
   "execution_count": 44,
   "id": "5b5bf3a4-723b-42b0-84f7-b9a3463ff28f",
   "metadata": {},
   "outputs": [],
   "source": [
    "slice=LP._slice\n",
    "wfr0=slice[0]._wfr"
   ]
  },
  {
   "cell_type": "code",
   "execution_count": 48,
   "id": "81d3e38e-372b-4551-a048-3249b46e7ef5",
   "metadata": {},
   "outputs": [
    {
     "name": "stdout",
     "output_type": "stream",
     "text": [
      "Size of initial wavefront data array (coordinate): (1170, 1170)\n"
     ]
    },
    {
     "name": "stderr",
     "output_type": "stream",
     "text": [
      "/home/vagrant/.pyenv/versions/3.7.2/envs/py3/lib/python3.7/site-packages/ipykernel_launcher.py:16: MatplotlibDeprecationWarning: shading='flat' when X and Y have the same dimensions as C is deprecated since 3.3.  Either specify the corners of the quadrilaterals with X and Y, or pass shading='auto', 'nearest' or 'gouraud', or set rcParams['pcolor.shading'].  This will become an error two minor releases later.\n",
      "  app.launch_new_instance()\n"
     ]
    },
    {
     "ename": "NameError",
     "evalue": "name 'hfontLarge' is not defined",
     "output_type": "error",
     "traceback": [
      "\u001b[0;31m---------------------------------------------------------------------------\u001b[0m",
      "\u001b[0;31mNameError\u001b[0m                                 Traceback (most recent call last)",
      "\u001b[0;32m/tmp/ipykernel_1013/2069937189.py\u001b[0m in \u001b[0;36m<module>\u001b[0;34m\u001b[0m\n\u001b[1;32m     19\u001b[0m \u001b[0max\u001b[0m\u001b[0;34m.\u001b[0m\u001b[0mset_ylim\u001b[0m\u001b[0;34m(\u001b[0m\u001b[0;34m-\u001b[0m\u001b[0;36m1e4\u001b[0m\u001b[0;34m,\u001b[0m\u001b[0;36m1e4\u001b[0m\u001b[0;34m)\u001b[0m\u001b[0;34m\u001b[0m\u001b[0;34m\u001b[0m\u001b[0m\n\u001b[1;32m     20\u001b[0m \u001b[0max\u001b[0m\u001b[0;34m.\u001b[0m\u001b[0mset_xlim\u001b[0m\u001b[0;34m(\u001b[0m\u001b[0;34m-\u001b[0m\u001b[0;36m1e4\u001b[0m\u001b[0;34m,\u001b[0m\u001b[0;36m1e4\u001b[0m\u001b[0;34m)\u001b[0m\u001b[0;34m\u001b[0m\u001b[0;34m\u001b[0m\u001b[0m\n\u001b[0;32m---> 21\u001b[0;31m \u001b[0max\u001b[0m\u001b[0;34m.\u001b[0m\u001b[0mset_ylabel\u001b[0m\u001b[0;34m(\u001b[0m\u001b[0;34mr'Vertical Position [$\\mu m$]'\u001b[0m\u001b[0;34m,\u001b[0m\u001b[0;34m**\u001b[0m\u001b[0mhfontLarge\u001b[0m\u001b[0;34m)\u001b[0m\u001b[0;34m\u001b[0m\u001b[0;34m\u001b[0m\u001b[0m\n\u001b[0m\u001b[1;32m     22\u001b[0m \u001b[0max\u001b[0m\u001b[0;34m.\u001b[0m\u001b[0mset_xlabel\u001b[0m\u001b[0;34m(\u001b[0m\u001b[0;34mr'Horizontal Position [$\\mu m$]'\u001b[0m\u001b[0;34m,\u001b[0m\u001b[0;34m**\u001b[0m\u001b[0mhfontLarge\u001b[0m\u001b[0;34m)\u001b[0m\u001b[0;34m\u001b[0m\u001b[0;34m\u001b[0m\u001b[0m\n\u001b[1;32m     23\u001b[0m \u001b[0max\u001b[0m\u001b[0;34m.\u001b[0m\u001b[0mset_title\u001b[0m\u001b[0;34m(\u001b[0m\u001b[0;34m'Intensity at Waist'\u001b[0m\u001b[0;34m,\u001b[0m\u001b[0;34m**\u001b[0m\u001b[0mhfontLarge\u001b[0m\u001b[0;34m)\u001b[0m\u001b[0;34m\u001b[0m\u001b[0;34m\u001b[0m\u001b[0m\n",
      "\u001b[0;31mNameError\u001b[0m: name 'hfontLarge' is not defined"
     ]
    },
    {
     "data": {
      "image/png": "[encoded data removed]",
      "text/plain": [
       "<Figure size 864x504 with 2 Axes>"
      ]
     },
     "metadata": {
      "needs_background": "light"
     },
     "output_type": "display_data"
    }
   ],
   "source": [
    "#Plot initial wavefront\n",
    "##Initial wfr calculation\n",
    "arIinit = array('f', [0]*wfr0.mesh.nx*wfr0.mesh.ny) #\"flat\" array to take 2D intensity data\n",
    "srwl.CalcIntFromElecField(arIinit, wfr0, 6, 0, 3, wfr0.mesh.eStart, 0, 0) #extracts intensity\n",
    "##Reshaping electric field data from flat to 2D array\n",
    "arIinit2D = np.array(arIinit).reshape((wfr0.mesh.nx, wfr0.mesh.ny), order='C')\n",
    "wfrsizei=np.size(arIinit)\n",
    "\n",
    "print('Size of initial wavefront data array (coordinate):',np.shape(arIinit2D))\n",
    "xvalsf02=np.linspace(wfr0.mesh.xStart,wfr0.mesh.xFin,wfr0.mesh.nx)\n",
    "yvalsf02=np.linspace(wfr0.mesh.yStart,wfr0.mesh.yFin,wfr0.mesh.ny)\n",
    "\n",
    "fig = plt.figure(figsize=(12,7))\n",
    "ax = fig.gca()\n",
    "\n",
    "plt.pcolormesh(np.multiply(xvalsf02,1e6), np.multiply(yvalsf02,1e6), arIinit2D, cmap=plt.cm.viridis)  ##By setting wfr0a.unitElFldAng=1, default units should  now be in mrad(?)\n",
    "plt.colorbar()\n",
    "#['Horizontal Position [mm]', , 'Intensity']\n",
    "ax.set_ylim(-1e4,1e4)\n",
    "ax.set_xlim(-1e4,1e4)\n",
    "ax.set_ylabel(r'Vertical Position [$\\mu m$]',**hfontLarge)\n",
    "ax.set_xlabel(r'Horizontal Position [$\\mu m$]',**hfontLarge)\n",
    "ax.set_title('Intensity at Waist',**hfontLarge)\n",
    "plt.show()"
   ]
  },
  {
   "cell_type": "code",
   "execution_count": null,
   "id": "ccceb8ca-8506-4339-82ce-1db1beec4994",
   "metadata": {},
   "outputs": [],
   "source": [
    "wfr0=createGsnSrcSRW(sigrW,propLen,pulseE,poltype,phE,sampFact,mx,my) #creates Gaussian wavefront in SRW"
   ]
  },
  {
   "cell_type": "code",
   "execution_count": null,
   "id": "a298c443-69e3-400e-8ef5-843054faad22",
   "metadata": {},
   "outputs": [],
   "source": [
    "def createGsnSrcSRW(self, slice_index, nslice, d_to_w, sigrW=0.000436984, propLen=15, sig_s=0.1,\n",
    "                 pulseE=0.001, poltype=1, phE=1.55, sampFact=5, mx=0, my=0, **_ignore_kwargs):\n",
    "        \"\"\"\n",
    "        #nslice: number of slices of laser pulse\n",
    "        #slice_index: index of slice\n",
    "        #d_to_w: distance from the pulse center at t = 0 to the intended waist location [m]\n",
    "        #sigrW: beam size at waist [m]\n",
    "        #propLen: propagation length [m] required by SRW to create numerical Gaussian\n",
    "        #propLen=15,\n",
    "        #sig_s RMS pulse length [m]\n",
    "        #pulseE: energy per pulse [J]\n",
    "        #poltype: polarization type (0=linear horizontal, 1=linear vertical, 2=linear 45 deg, 3=linear 135 deg, 4=circular right, 5=circular left, 6=total)\n",
    "        #phE: photon energy [eV]\n",
    "        #sampFact: sampling factor to increase mesh density\n",
    "        \"\"\"\n",
    "        #print([sigrW,propLen,pulseE,poltype])\n",
    "        self.slice_index = slice_index\n",
    "        self.phE = phE\n",
    "        constConvRad = 1.23984186e-06/(4*3.1415926536)  ##conversion from energy to 1/wavelength\n",
    "        rmsAngDiv = constConvRad/(phE*sigrW)             ##RMS angular divergence [rad]\n",
    "        #  if at t=0 distance to the waist location d_to_w < d_to_w_cutoff, initialization in SRW involves/requires propagation \n",
    "        #  from the distance-to-waist > d_to_w_cutoff to the actual z(t=0) for which d_to_w < d_to_w_cutoff \n",
    "        d_to_w_cutoff = 0.001  # [m] - verify that this is a reasonable value \n",
    "        if d_to_w > d_to_w_cutoff:  propLen = d_to_w  #  d_to_w = L_d1 +0.5*L_c in the single-pass example \n",
    "        sigrL=math.sqrt(sigrW**2+(propLen*rmsAngDiv)**2)  ##required RMS size to produce requested RMS beam size after propagation by propLen\n",
    "\n",
    "\n",
    "        #***********Gaussian Beam Source\n",
    "        GsnBm = srwlib.SRWLGsnBm() #Gaussian Beam structure (just parameters)\n",
    "        GsnBm.x = 0 #Transverse Positions of Gaussian Beam Center at Waist [m]\n",
    "        GsnBm.y = 0\n",
    "        numsig = 3. #Number of sigma values to track. Total range is 2*numsig*sig_s\n",
    "        ds = 2*numsig*sig_s/(nslice - 1)\n",
    "        self._pulse_pos = -numsig*sig_s+slice_index*ds\n",
    "        GsnBm.z = propLen + self._pulse_pos #Longitudinal Position of Waist [m]\n",
    "        GsnBm.xp = 0 #Average Angles of Gaussian Beam at Waist [rad]\n",
    "        GsnBm.yp = 0\n",
    "        GsnBm.avgPhotEn = phE #Photon Energy [eV]\n",
    "        GsnBm.pulseEn = pulseE*np.exp(-self._pulse_pos**2/(2*sig_s**2)) #Energy per Pulse [J] - to be corrected\n",
    "        GsnBm.repRate = 1 #Rep. Rate [Hz] - to be corrected\n",
    "        GsnBm.polar = poltype #1- linear horizontal?\n",
    "        GsnBm.sigX = sigrW #Horiz. RMS size at Waist [m]\n",
    "        GsnBm.sigY = GsnBm.sigX #Vert. RMS size at Waist [m]\n",
    "\n",
    "        GsnBm.sigT = 10e-15 #Pulse duration [s] (not used?)\n",
    "        GsnBm.mx = mx #Transverse Gauss-Hermite Mode Orders\n",
    "        GsnBm.my = my\n",
    "\n",
    "        #***********Initial Wavefront\n",
    "        wfr = srwlib.SRWLWfr() #Initial Electric Field Wavefront\n",
    "        wfr.allocate(1, 1000, 1000) #Numbers of points vs Photon Energy (1), Horizontal and Vertical Positions (dummy)\n",
    "        wfr.mesh.zStart = 0.0 #Longitudinal Position [m] at which initial Electric Field has to be calculated, i.e. the position of the first optical element\n",
    "        wfr.mesh.eStart = GsnBm.avgPhotEn #Initial Photon Energy [eV]\n",
    "        wfr.mesh.eFin = GsnBm.avgPhotEn #Final Photon Energy [eV]\n",
    "\n",
    "        wfr.unitElFld = 1 #Electric field units: 0- arbitrary, 1- sqrt(Phot/s/0.1%bw/mm^2), 2- sqrt(J/eV/mm^2) or sqrt(W/mm^2), depending on representation (freq. or time)\n",
    "\n",
    "        distSrc = wfr.mesh.zStart - GsnBm.z\n",
    "        #Horizontal and Vertical Position Range for the Initial Wavefront calculation\n",
    "        #can be used to simulate the First Aperture (of M1)\n",
    "        #firstHorAp = 8.*rmsAngDiv*distSrc #[m]\n",
    "        xAp = 8.*sigrL\n",
    "        yAp = xAp #[m]\n",
    "\n",
    "        wfr.mesh.xStart = -0.5*xAp #Initial Horizontal Position [m]\n",
    "        wfr.mesh.xFin = 0.5*xAp #Final Horizontal Position [m]\n",
    "        wfr.mesh.yStart = -0.5*yAp #Initial Vertical Position [m]\n",
    "        wfr.mesh.yFin = 0.5*yAp #Final Vertical Position [m]\n",
    "\n",
    "        sampFactNxNyForProp = sampFact #sampling factor for adjusting nx, ny (effective if > 0)\n",
    "        arPrecPar = [sampFactNxNyForProp]\n",
    "\n",
    "        srwlib.srwl.CalcElecFieldGaussian(wfr, GsnBm, arPrecPar)\n",
    "\n",
    "        ##Beamline to propagate to waist ( only if d_to_w(t=0) < d_to_w_cutoff )\n",
    "        if d_to_w < d_to_w_cutoff: \n",
    "          optDriftW=srwlib.SRWLOptD(propLen)\n",
    "          propagParDrift = [0, 0, 1., 0, 0, 1.1, 1.2, 1.1, 1.2, 0, 0, 0]\n",
    "          optBLW = srwlib.SRWLOptC([optDriftW],[propagParDrift])\n",
    "          #wfrW=deepcopy(wfr)\n",
    "          srwlib.srwl.PropagElecField(wfr, optBLW)\n",
    "        self._wfr = wfr\n"
   ]
  }
 ],
 "metadata": {
  "kernelspec": {
   "display_name": "Python 3 (ipykernel)",
   "language": "python",
   "name": "python3"
  },
  "language_info": {
   "codemirror_mode": {
    "name": "ipython",
    "version": 3
   },
   "file_extension": ".py",
   "mimetype": "text/x-python",
   "name": "python",
   "nbconvert_exporter": "python",
   "pygments_lexer": "ipython3",
   "version": "3.7.2"
  }
 },
 "nbformat": 4,
 "nbformat_minor": 5
}
