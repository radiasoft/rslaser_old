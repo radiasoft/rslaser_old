{
 "cells": [
  {
   "cell_type": "code",
   "execution_count": null,
   "id": "bb423b42-3560-4c17-a900-8e262e658b94",
   "metadata": {},
   "outputs": [],
   "source": [
    "from matplotlib import pyplot\n",
    "import matplotlib.pyplot as plt\n",
    "import numpy as np\n",
    "\n",
    "from pykern.pkcollections import PKDict\n",
    "import rslaser.rsoptics.wavefront as rswf\n",
    "import rslaser.rscavity.laser_cavity as rslc\n",
    "\n",
    "from srwlib import srwl"
   ]
  },
  {
   "cell_type": "code",
   "execution_count": null,
   "id": "8e26be9c-c48a-4a80-a40a-0d6f9a415c5c",
   "metadata": {},
   "outputs": [],
   "source": [
    "k=PKDict()\n",
    "\n",
    "#Define parameters for laser pulse starting at center of crystal\n",
    "k.wavefrontEnergy = 1.55 #Wavefront Energy [eV]. 1.55 eV is 800 nm wavelength\n",
    "k.lam = 1239.8*1e-9/k.wavefrontEnergy # convert energy [eV] to wavelength [m]\n",
    "print('lam = %1.9f m' % k.lam)\n",
    "\n",
    "k.sigrW = 0.000186   # rms size of laser pulse at waist\n",
    "\n",
    "k.nslice = 5\n",
    "k.sig_s = 0.1        # rms length of Gaussian laser pulse [m]\n",
    "\n",
    "k.phE = k.wavefrontEnergy\n",
    "k.energyChirp = .01\n",
    "\n",
    "#create laser pulse\n",
    "LP = rslc.LaserPulse(k)"
   ]
  },
  {
   "cell_type": "code",
   "execution_count": null,
   "id": "5b5bf3a4-723b-42b0-84f7-b9a3463ff28f",
   "metadata": {},
   "outputs": [],
   "source": [
    "# choose one of the laser pulse slices, and grab its SRW wavefront object\n",
    "slice=LP._slice\n",
    "wfr0=slice[0]._wfr"
   ]
  },
  {
   "cell_type": "code",
   "execution_count": null,
   "id": "81d3e38e-372b-4551-a048-3249b46e7ef5",
   "metadata": {},
   "outputs": [],
   "source": [
    "#Plot initial wavefront\n",
    "##Initial wfr calculation\n",
    "arIinit = srwlib.array('f', [0]*wfr0.mesh.nx*wfr0.mesh.ny) # \"flat\" array to take 2D intensity data\n",
    "srwl.CalcIntFromElecField(arIinit, wfr0, 6, 0, 3, wfr0.mesh.eStart, 0, 0) #extracts intensity\n",
    "\n",
    "##Reshaping electric field data from flat to 2D array\n",
    "arIinit2D = np.array(arIinit).reshape((wfr0.mesh.nx, wfr0.mesh.ny), order='C')\n",
    "wfrsizei=np.size(arIinit)\n",
    "\n",
    "print('Size of initial wavefront data array (coordinate):',np.shape(arIinit2D))\n",
    "xvalsf02=np.linspace(wfr0.mesh.xStart,wfr0.mesh.xFin,wfr0.mesh.nx)\n",
    "yvalsf02=np.linspace(wfr0.mesh.yStart,wfr0.mesh.yFin,wfr0.mesh.ny)\n",
    "\n",
    "fig = plt.figure(figsize=(12,7))\n",
    "ax = fig.gca()\n",
    "\n",
    "# By setting wfr0a.unitElFldAng=1, default units should  now be in mrad(?)\n",
    "plt.pcolormesh(np.multiply(xvalsf02,1e6), np.multiply(yvalsf02,1e6), arIinit2D, cmap=plt.cm.viridis,shading='auto')\n",
    "plt.colorbar()\n",
    "#['Horizontal Position [mm]', , 'Intensity']\n",
    "ax.set_ylim(-1e4,1e4)\n",
    "ax.set_xlim(-1e4,1e4)\n",
    "ax.set_ylabel(r'Vertical Position [$\\mu m$]')\n",
    "ax.set_xlabel(r'Horizontal Position [$\\mu m$]')\n",
    "ax.set_title('Intensity at Waist')\n",
    "plt.show()"
   ]
  },
  {
   "cell_type": "code",
   "execution_count": null,
   "id": "ccceb8ca-8506-4339-82ce-1db1beec4994",
   "metadata": {},
   "outputs": [],
   "source": [
    "# create a Gaussian wavefront via SRW\n",
    "propLen = 0.\n",
    "pulseE = 1.\n",
    "poltype = 0\n",
    "wfr0=rswf.createGsnSrcSRW(k.sigrW,propLen,pulseE,poltype,k.phE)"
   ]
  },
  {
   "cell_type": "code",
   "execution_count": null,
   "id": "8ae1acf9-ef86-4e06-b38c-b5427101214b",
   "metadata": {},
   "outputs": [],
   "source": []
  }
 ],
 "metadata": {
  "kernelspec": {
   "display_name": "Python 3",
   "language": "python",
   "name": "py3"
  },
  "language_info": {
   "codemirror_mode": {
    "name": "ipython",
    "version": 3
   },
   "file_extension": ".py",
   "mimetype": "text/x-python",
   "name": "python",
   "nbconvert_exporter": "python",
   "pygments_lexer": "ipython3",
   "version": "3.7.2"
  }
 },
 "nbformat": 4,
 "nbformat_minor": 5
}
