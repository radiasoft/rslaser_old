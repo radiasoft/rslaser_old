{
 "cells": [
  {
   "cell_type": "code",
   "execution_count": null,
   "id": "3ee7ffb8",
   "metadata": {},
   "outputs": [],
   "source": [
    "from matplotlib import pyplot\n",
    "import matplotlib.pyplot as plt\n",
    "import numpy as np\n",
    "\n",
    "from pykern.pkcollections import PKDict\n",
    "import rslaser.rsoptics.wavefront as rswf\n",
    "import rslaser.rscavity.laser_cavity as rslc\n",
    "\n",
    "from srwlib import srwl\n",
    "import time"
   ]
  },
  {
   "cell_type": "markdown",
   "id": "8e8664ce",
   "metadata": {},
   "source": [
    "# Cavity propagation notebook\n",
    "\n",
    "This notebook propagates a wavefront through an optical cavity. It demonstrates the use of the cavity.py \n",
    "code.\n",
    "The initial wavefront is a Hermite-Gaussian mode located at the center of a cavity\n",
    "of length L_cav. There is a crystal located at the center of the cavity of length L_cryst. \n",
    "The wavefront is propagated through the crystal and then to the end of the cavity."
   ]
  },
  {
   "cell_type": "code",
   "execution_count": null,
   "id": "f26f347e",
   "metadata": {},
   "outputs": [],
   "source": [
    "k=PKDict(\n",
    "# Define Cavity length\n",
    "L_cav = 1, #Length of cavity [m]\n",
    "\n",
    "# Define right and left mirror focal lengths\n",
    "df = 0.3, #Focal length difference from confocal case [m]\n",
    ")\n",
    "k.dfR = k.df\n",
    "k.dfL = k.df\n",
    "k.f=k.L_cav/4+k.df #focal length\n",
    "\n",
    "k.lens_left_focal_length = k.f\n",
    "k.lens_right_focal_length = k.f\n",
    "\n",
    "#Define Crystal parameters\n",
    "k.L_cryst = 0.1 #Length of crystal [m]\n",
    "k.n0=1.75 #index of refraction on axis\n",
    "k.n2=0.0 #radial variation of index of refraction: n(r) = n0 - 0.5 n2 r^2\n",
    "k.drift_right_length=k.L_cav/2-k.L_cryst/2\n",
    "k.drift_left_length=k.drift_right_length\n",
    "\n",
    "#Define parameters for laser pulse starting at center of crystal\n",
    "k.wavefrontEnergy = 1.55 #Wavefront Energy [eV]. 1.55 eV is 800 nm wavelength\n",
    "k.lam = 1239.8*1e-9/k.wavefrontEnergy # convert energy [eV] to wavelength [m]\n",
    "print('lam = %1.9f m' % k.lam)\n",
    "\n",
    "k.L_eff = k.L_cav+(1/k.n0 - 1)*k.L_cryst #Define effective length as path length reduced by index of refraction n0\n",
    "print(\"L_eff = %f m\" % k.L_eff)\n",
    "k.beta0 = np.sqrt(k.L_eff*k.f-k.L_eff**2/4)\n",
    "print(\"beta0 = %f m\" % k.beta0)\n",
    "k.sigx0 = np.sqrt(k.lam*k.beta0/4/np.pi)\n",
    "print(\"sigx0 = %f m\" % k.sigx0)\n",
    "k.sigrW = k.sigx0\n",
    "\n",
    "k.nslice=5\n",
    "k.sig_s=0.1 #rms length of Gaussian laser pulse [m]\n",
    "\n",
    "k.L_half_cryst=k.L_cryst/2"
   ]
  },
  {
   "cell_type": "code",
   "execution_count": null,
   "id": "6c1050c9",
   "metadata": {},
   "outputs": [],
   "source": [
    "#create laser cavity\n",
    "lc = rslc.LaserCavity(k)\n",
    "\n",
    "#nslice=nslice,L_half_cryst=L_cryst/2, \n",
    "#                        drift_right_length=drift_right_length,drift_left_length=drift_left_length, \n",
    "#                        lens_left_focal_length=lens_left_focal_length, \n",
    "#                        lens_right_focal_length=lens_right_focal_length,n0=n0,n2=n2,sigrW=sigx0\n",
    "\n",
    "#output initial parameters\n",
    "svals = lc.laser_pulse.pulsePos()\n",
    "(lpsxvals,lpsyvals) = lc.laser_pulse.rmsvals()\n",
    "ivals = lc.laser_pulse.intensity_vals()\n",
    "evals = lc.laser_pulse.energyvals()"
   ]
  },
  {
   "cell_type": "code",
   "execution_count": null,
   "id": "264ce7b3",
   "metadata": {},
   "outputs": [],
   "source": [
    "#Plot rms values along laser pulse\n",
    "pyplot.plot(svals,lpsyvals)\n",
    "pyplot.xlabel('s [m]')\n",
    "pyplot.ylabel('rms x [m]')\n",
    "pyplot.title('RMS Beam size along laser pulse')\n",
    "pyplot.show()\n",
    "\n",
    "#Plot pulse intensity along laser pulse\n",
    "pyplot.plot(svals,ivals)\n",
    "pyplot.ylabel('pulse intensity []')\n",
    "pyplot.xlabel('s [m]')\n",
    "pyplot.show()\n",
    "\n",
    "pyplot.title('Slice energy along laser pulse')\n",
    "pyplot.plot(svals,evals)\n",
    "pyplot.xlabel('s [m]')\n",
    "pyplot.ylabel('Energy [ev]')\n",
    "pyplot.show()"
   ]
  },
  {
   "cell_type": "code",
   "execution_count": null,
   "id": "4e4df23c",
   "metadata": {},
   "outputs": [],
   "source": [
    "start_time = time.time()\n",
    "(svals, sxvals, syvals) = lc.propagate(num_cycles=4)\n",
    "\n",
    "fig, ax = pyplot.subplots()\n",
    "ax.plot(svals, sxvals)\n",
    "print(\"Simulation time: %s seconds\" %(round((time.time() - start_time),5)))"
   ]
  },
  {
   "cell_type": "code",
   "execution_count": null,
   "id": "0832d6b1",
   "metadata": {},
   "outputs": [],
   "source": [
    "#get final laser pulse rms values and intensity values along pulse\n",
    "svals = lc.laser_pulse.pulsePos()\n",
    "(lpsxvals,lpsyvals) = lc.laser_pulse.rmsvals()\n",
    "ivals = lc.laser_pulse.intensity_vals()\n",
    "evals = lc.laser_pulse.energyvals()"
   ]
  },
  {
   "cell_type": "code",
   "execution_count": null,
   "id": "871cef1e",
   "metadata": {},
   "outputs": [],
   "source": [
    "#Plots\n",
    "pyplot.title('RMS Beam size along laser pulse')\n",
    "pyplot.plot(svals,lpsyvals)\n",
    "pyplot.xlabel('s [m]')\n",
    "pyplot.ylabel('rms x [m]')\n",
    "pyplot.show()\n",
    "\n",
    "pyplot.title('Intensity along laser pulse')\n",
    "pyplot.plot(svals,ivals)\n",
    "pyplot.ylabel('pulse intensity []')\n",
    "pyplot.xlabel('s [m]')\n",
    "pyplot.show()\n",
    "\n",
    "pyplot.title('Slice energy along laser pulse')\n",
    "pyplot.plot(svals,evals)\n",
    "pyplot.xlabel('s [m]')\n",
    "pyplot.ylabel('Energy [ev]')\n",
    "pyplot.show()"
   ]
  },
  {
   "cell_type": "code",
   "execution_count": null,
   "id": "f7adf11e",
   "metadata": {},
   "outputs": [],
   "source": []
  }
 ],
 "metadata": {
  "kernelspec": {
   "display_name": "Python 3",
   "language": "python",
   "name": "py3"
  },
  "language_info": {
   "codemirror_mode": {
    "name": "ipython",
    "version": 3
   },
   "file_extension": ".py",
   "mimetype": "text/x-python",
   "name": "python",
   "nbconvert_exporter": "python",
   "pygments_lexer": "ipython3",
   "version": "3.7.2"
  }
 },
 "nbformat": 4,
 "nbformat_minor": 5
}
