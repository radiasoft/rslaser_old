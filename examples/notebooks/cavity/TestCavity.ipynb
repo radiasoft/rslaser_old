{
 "cells": [
  {
   "cell_type": "code",
   "execution_count": null,
   "metadata": {},
   "outputs": [],
   "source": [
    "import math\n",
    "import matplotlib as mpl\n",
    "import matplotlib.pyplot as plt\n",
    "import matplotlib.ticker\n",
    "from matplotlib import cm\n",
    "from mpl_toolkits.mplot3d import Axes3D\n",
    "from matplotlib.ticker import LinearLocator, FormatStrFormatter\n",
    "hfontLarge = {'fontname':'Latin Modern Roman', 'size' : 24, 'weight' : 'bold'}\n",
    "\n",
    "import numpy as np\n",
    "\n",
    "from pykern.pkcollections import PKDict\n",
    "\n",
    "import rslaser.rsoptics.wavefront as rswf\n",
    "import rslaser.rsoptics.element as rse\n",
    "import rslaser.rspulse.pulse as rsp\n",
    "import rslaser.rscrystal.crystal as rsc\n",
    "# import rslaser.rscavity.laser_cavity as rslc\n",
    "\n",
    "import scipy.constants as const\n",
    "import srwlib\n",
    "from srwlib import srwl"
   ]
  },
  {
   "cell_type": "code",
   "execution_count": null,
   "metadata": {},
   "outputs": [],
   "source": [
    "#create crystal\n",
    "c = rse.Crystal(n0=1.75,n2=0.001,L_cryst=0.2)"
   ]
  },
  {
   "cell_type": "code",
   "execution_count": null,
   "metadata": {},
   "outputs": [],
   "source": [
    "#create laser pulse\n",
    "sigrW=0.00043698412731784714\n",
    "# lp = LaserPulse(length=0.1,wavelength=800e-9,nslice=11)\n",
    "data_in = PKDict()\n",
    "# data_in.length=0.1\n",
    "wavelength=800e-9\n",
    "data_in.phE = const.h * const.c / wavelength\n",
    "data_in.nslice=11\n",
    "lp = rsp.LaserPulse(data_in)"
   ]
  },
  {
   "cell_type": "code",
   "execution_count": null,
   "metadata": {},
   "outputs": [],
   "source": [
    "(lpsxvals,lpsyvals) = lp.rmsvals()\n",
    "plt.plot(lpsxvals,lpsyvals)"
   ]
  },
  {
   "cell_type": "code",
   "execution_count": null,
   "metadata": {},
   "outputs": [],
   "source": [
    "ivals = lp.intensity_vals()\n",
    "svals = lp.pulsePos()\n",
    "plt.plot(svals,ivals)"
   ]
  },
  {
   "cell_type": "code",
   "execution_count": null,
   "metadata": {},
   "outputs": [],
   "source": [
    "#propagate laser pulse through crystal\n",
    "c.propagate(lp)\n",
    "\n",
    "#propagate laser pulse through drift\n",
    "d = rse.Drift(length=0.5)\n",
    "d.propagate(lp)\n",
    "\n",
    "\n",
    "#propagate laser pulse through lens\n",
    "lens = rse.Lens(f=0.2)\n",
    "lens.propagate(lp)\n",
    "\n",
    "#propagate laser pulse through drift\n",
    "d.propagate(lp)\n",
    "\n",
    "#propagate laser pulse through crystal\n",
    "c.propagate(lp)"
   ]
  },
  {
   "cell_type": "code",
   "execution_count": null,
   "metadata": {},
   "outputs": [],
   "source": [
    "#Plot final laser pulse size distribution\n",
    "svals = lp.pulsePos()\n",
    "(lpsxvals,lpsyvals) = lp.rmsvals()\n",
    "plt.plot(svals,lpsyvals)"
   ]
  },
  {
   "cell_type": "code",
   "execution_count": null,
   "metadata": {},
   "outputs": [],
   "source": [
    "wfr0=lp.slice[3].wfr\n",
    "wfr0.unitElFld"
   ]
  },
  {
   "cell_type": "code",
   "execution_count": null,
   "metadata": {},
   "outputs": [],
   "source": [
    "# Plot initial wavefront\n",
    "wfrplot = lp.slice[1].wfr\n",
    "\n",
    "arIinit = srwlib.array('f', [0]*wfrplot.mesh.nx*wfrplot.mesh.ny) #\"flat\" array to take 2D intensity data\n",
    "srwl.CalcIntFromElecField(arIinit, wfrplot, 6, 0, 3, wfrplot.mesh.eStart, 0, 0) #extracts intensity\n",
    "##Reshaping electric field data from flat to 2D array\n",
    "arIinit2D = np.array(arIinit).reshape((wfrplot.mesh.nx, wfrplot.mesh.ny), order='C')\n",
    "wfrsizei=np.size(arIinit)\n",
    "\n",
    "print('Size of initial wavefront data array (coordinate):',np.shape(arIinit2D))\n",
    "xvalsf02=np.linspace(wfrplot.mesh.xStart,wfrplot.mesh.xFin,wfrplot.mesh.nx)\n",
    "yvalsf02=np.linspace(wfrplot.mesh.yStart,wfrplot.mesh.yFin,wfrplot.mesh.ny)\n",
    "\n",
    "fig = plt.figure(figsize=(12,7))\n",
    "ax = fig.gca()\n",
    "\n",
    "# By setting wfr0a.unitElFldAng=1, default units should  now be in mrad(?)\n",
    "plt.pcolormesh(np.multiply(xvalsf02,1e6), np.multiply(yvalsf02,1e6), arIinit2D, cmap=plt.cm.viridis, shading='auto')\n",
    "plt.colorbar()\n",
    "\n",
    "xmax = 5e3\n",
    "ymax = 5e3\n",
    "ax.set_ylim(-ymax,ymax)\n",
    "ax.set_xlim(-xmax,xmax)\n",
    "ax.set_ylabel(r'Vertical Position [$\\mu m$]',**hfontLarge)\n",
    "ax.set_xlabel(r'Horizontal Position [$\\mu m$]',**hfontLarge)\n",
    "ax.set_title('Intensity at Waist',**hfontLarge)"
   ]
  },
  {
   "cell_type": "code",
   "execution_count": null,
   "metadata": {},
   "outputs": [],
   "source": [
    "f1=.5\n",
    "optLens = srwlib.SRWLOptL(f1, f1)"
   ]
  },
  {
   "cell_type": "code",
   "execution_count": null,
   "metadata": {},
   "outputs": [],
   "source": [
    "optLens.Fx"
   ]
  },
  {
   "cell_type": "code",
   "execution_count": null,
   "metadata": {},
   "outputs": [],
   "source": [
    "optLens.Fx=.4"
   ]
  },
  {
   "cell_type": "code",
   "execution_count": null,
   "metadata": {},
   "outputs": [],
   "source": []
  }
 ],
 "metadata": {
  "kernelspec": {
   "display_name": "Python 3",
   "language": "python",
   "name": "py3"
  },
  "language_info": {
   "codemirror_mode": {
    "name": "ipython",
    "version": 3
   },
   "file_extension": ".py",
   "mimetype": "text/x-python",
   "name": "python",
   "nbconvert_exporter": "python",
   "pygments_lexer": "ipython3",
   "version": "3.7.2"
  }
 },
 "nbformat": 4,
 "nbformat_minor": 4
}
