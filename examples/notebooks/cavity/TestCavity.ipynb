{
 "cells": [
  {
   "cell_type": "code",
   "execution_count": null,
   "metadata": {},
   "outputs": [],
   "source": [
    "import math\n",
    "import matplotlib as mpl\n",
    "import matplotlib.pyplot as plt\n",
    "import matplotlib.ticker\n",
    "from matplotlib import cm\n",
    "from mpl_toolkits.mplot3d import Axes3D\n",
    "from matplotlib.ticker import LinearLocator, FormatStrFormatter\n",
    "hfontLarge = {'fontname':'Latin Modern Roman', 'size' : 24, 'weight' : 'bold'}\n",
    "\n",
    "import numpy as np\n",
    "\n",
    "from pykern.pkcollections import PKDict\n",
    "\n",
    "import rslaser.optics.wavefront as rswf\n",
    "import rslaser.optics.element as rse\n",
    "import rslaser.pulse.pulse as rsp\n",
    "import rslaser.crystal.crystal as rsc\n",
    "\n",
    "import scipy.constants as const\n",
    "import srwlib\n",
    "from srwlib import srwl"
   ]
  },
  {
   "cell_type": "code",
   "execution_count": null,
   "metadata": {},
   "outputs": [],
   "source": [
    "# specify the parameters in a PKDict dictionary object\n",
    "_PHE_DEFAULT = const.h * const.c / 1e-6   # photon energy corresponding to lambda = 1 micron\n",
    "_Z_WAIST_DEFAULT = 0\n",
    "_Z_CENTER_DEFAULT = 0\n",
    "_LASER_PULSE_SLICE_DEFAULTS = PKDict(\n",
    "    sigrW=0.000186,\n",
    "    propLen=15,\n",
    "    pulseE=0.001,\n",
    "    poltype=1,\n",
    "    sampFact=5,\n",
    "    numsig=3.,\n",
    "    mx=0,\n",
    "    my=0\n",
    ")\n",
    "_LASER_PULSE_DEFAULTS = PKDict(\n",
    "        phE=_PHE_DEFAULT,\n",
    "        nslice=3,\n",
    "        chirp=0,\n",
    "        w0=.1,\n",
    "        a0=.01,\n",
    "        dw0x=0.0,\n",
    "        dw0y=0.0,\n",
    "        z_waist=_Z_WAIST_DEFAULT,\n",
    "        dzwx=0.0,\n",
    "        dzwy=0.0,\n",
    "        tau_fwhm=0.1 / const.c / math.sqrt(2.),\n",
    "        z_center=_Z_CENTER_DEFAULT,\n",
    "        x_shift = 0.,\n",
    "        y_shift=0.,\n",
    "        d_to_w=_Z_WAIST_DEFAULT - _Z_CENTER_DEFAULT,\n",
    "        slice_params=_LASER_PULSE_SLICE_DEFAULTS,\n",
    ")"
   ]
  },
  {
   "cell_type": "code",
   "execution_count": null,
   "metadata": {},
   "outputs": [],
   "source": [
    "#create crystal\n",
    "c = rse.Crystal(n0=1.75,n2=0.001,L_cryst=0.2)"
   ]
  },
  {
   "cell_type": "code",
   "execution_count": null,
   "metadata": {},
   "outputs": [],
   "source": [
    "#create laser pulse\n",
    "sigrW=0.00043698412731784714\n",
    "# lp = LaserPulse(length=0.1,wavelength=800e-9,nslice=11)\n",
    "data_in = _LASER_PULSE_DEFAULTS.copy()\n",
    "wavelength=800e-9\n",
    "data_in.phE = const.h * const.c / wavelength\n",
    "data_in.nslice=11\n",
    "lp = rsp.LaserPulse(data_in)"
   ]
  },
  {
   "cell_type": "code",
   "execution_count": null,
   "metadata": {},
   "outputs": [],
   "source": [
    "(lpsxvals,lpsyvals) = lp.rmsvals()\n",
    "plt.plot(lpsxvals,lpsyvals)"
   ]
  },
  {
   "cell_type": "code",
   "execution_count": null,
   "metadata": {},
   "outputs": [],
   "source": [
    "ivals = lp.intensity_vals()\n",
    "svals = lp.pulsePos()\n",
    "plt.plot(svals,ivals)"
   ]
  },
  {
   "cell_type": "code",
   "execution_count": null,
   "metadata": {},
   "outputs": [],
   "source": [
    "#propagate laser pulse through crystal\n",
    "c.propagate(lp)\n",
    "\n",
    "#propagate laser pulse through drift\n",
    "d = rse.Drift(length=0.5)\n",
    "d.propagate(lp)\n",
    "\n",
    "#propagate laser pulse through lens\n",
    "lens = rse.Lens(f=0.2)\n",
    "lens.propagate(lp)\n",
    "\n",
    "#propagate laser pulse through drift\n",
    "d.propagate(lp)\n",
    "\n",
    "#propagate laser pulse through crystal\n",
    "c.propagate(lp)"
   ]
  },
  {
   "cell_type": "code",
   "execution_count": null,
   "metadata": {},
   "outputs": [],
   "source": [
    "#Plot final laser pulse size distribution\n",
    "svals = lp.pulsePos()\n",
    "(lpsxvals,lpsyvals) = lp.rmsvals()\n",
    "plt.plot(svals,lpsyvals)"
   ]
  },
  {
   "cell_type": "code",
   "execution_count": null,
   "metadata": {},
   "outputs": [],
   "source": [
    "wfr0=lp.slice[3].wfr\n",
    "wfr0.unitElFld"
   ]
  },
  {
   "cell_type": "code",
   "execution_count": null,
   "metadata": {},
   "outputs": [],
   "source": [
    "# Plot initial wavefront\n",
    "wfrplot = lp.slice[1].wfr\n",
    "\n",
    "arIinit = srwlib.array('f', [0]*wfrplot.mesh.nx*wfrplot.mesh.ny) #\"flat\" array to take 2D intensity data\n",
    "srwl.CalcIntFromElecField(arIinit, wfrplot, 6, 0, 3, wfrplot.mesh.eStart, 0, 0) #extracts intensity\n",
    "##Reshaping electric field data from flat to 2D array\n",
    "arIinit2D = np.array(arIinit).reshape((wfrplot.mesh.nx, wfrplot.mesh.ny), order='C')\n",
    "wfrsizei=np.size(arIinit)\n",
    "\n",
    "print('Size of initial wavefront data array (coordinate):',np.shape(arIinit2D))\n",
    "xvalsf02=np.linspace(wfrplot.mesh.xStart,wfrplot.mesh.xFin,wfrplot.mesh.nx)\n",
    "yvalsf02=np.linspace(wfrplot.mesh.yStart,wfrplot.mesh.yFin,wfrplot.mesh.ny)\n",
    "\n",
    "fig = plt.figure(figsize=(12,7))\n",
    "ax = fig.gca()\n",
    "\n",
    "# By setting wfr0a.unitElFldAng=1, default units should  now be in mrad(?)\n",
    "plt.pcolormesh(np.multiply(xvalsf02,1e6), np.multiply(yvalsf02,1e6), arIinit2D, cmap=plt.cm.viridis, shading='auto')\n",
    "plt.colorbar()\n",
    "\n",
    "ax.set_ylabel(r'Vertical Position [$\\mu m$]',**hfontLarge)\n",
    "ax.set_xlabel(r'Horizontal Position [$\\mu m$]',**hfontLarge)\n",
    "ax.set_title('Intensity at Waist',**hfontLarge)"
   ]
  },
  {
   "cell_type": "code",
   "execution_count": null,
   "metadata": {},
   "outputs": [],
   "source": []
  }
 ],
 "metadata": {
  "kernelspec": {
   "display_name": "Python 3",
   "language": "python",
   "name": "py3"
  },
  "language_info": {
   "codemirror_mode": {
    "name": "ipython",
    "version": 3
   },
   "file_extension": ".py",
   "mimetype": "text/x-python",
   "name": "python",
   "nbconvert_exporter": "python",
   "pygments_lexer": "ipython3",
   "version": "3.7.2"
  }
 },
 "nbformat": 4,
 "nbformat_minor": 4
}
