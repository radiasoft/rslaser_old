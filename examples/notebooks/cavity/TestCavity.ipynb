{
 "cells": [
  {
   "cell_type": "code",
   "execution_count": 15,
   "metadata": {},
   "outputs": [],
   "source": [
    "import rslaser.rscrystal\n",
    "from rslaser.rscrystal.crystal import *\n",
    "import rslaser.rspulse\n",
    "from rslaser.rspulse.pulse import *\n",
    "\n",
    "import matplotlib.pyplot as plt\n",
    "#create crystal\n",
    "c = Crystal(n0=1.75,n2=0.001,L_cryst=0.2)\n",
    "\n",
    "#create laser pulse\n",
    "sigrW=0.00043698412731784714\n",
    "# lp = LaserPulse(length=0.1,wavelength=800e-9,nslice=11)\n",
    "k=PKDict(\n",
    "    length=0.1, \n",
    "    wavelength=800e-9, \n",
    "    nslice=11,\n",
    "    energyChirp = 1,\n",
    "    phE = 1,\n",
    ")\n",
    "lp = LaserPulse(k)"
   ]
  },
  {
   "cell_type": "code",
   "execution_count": 16,
   "metadata": {},
   "outputs": [
    {
     "ename": "NameError",
     "evalue": "name 'rmsWavefrontIntensity' is not defined",
     "output_type": "error",
     "traceback": [
      "\u001b[0;31m---------------------------------------------------------------------------\u001b[0m",
      "\u001b[0;31mNameError\u001b[0m                                 Traceback (most recent call last)",
      "\u001b[0;32m/tmp/ipykernel_2473/2021159498.py\u001b[0m in \u001b[0;36m<module>\u001b[0;34m\u001b[0m\n\u001b[0;32m----> 1\u001b[0;31m \u001b[0;34m(\u001b[0m\u001b[0mlpsxvals\u001b[0m\u001b[0;34m,\u001b[0m\u001b[0mlpsyvals\u001b[0m\u001b[0;34m,\u001b[0m\u001b[0msvals\u001b[0m\u001b[0;34m)\u001b[0m \u001b[0;34m=\u001b[0m \u001b[0mlp\u001b[0m\u001b[0;34m.\u001b[0m\u001b[0mrmsvals\u001b[0m\u001b[0;34m(\u001b[0m\u001b[0;34m)\u001b[0m\u001b[0;34m\u001b[0m\u001b[0;34m\u001b[0m\u001b[0m\n\u001b[0m\u001b[1;32m      2\u001b[0m \u001b[0mplt\u001b[0m\u001b[0;34m.\u001b[0m\u001b[0mplot\u001b[0m\u001b[0;34m(\u001b[0m\u001b[0msvals\u001b[0m\u001b[0;34m,\u001b[0m\u001b[0mlpsyvals\u001b[0m\u001b[0;34m)\u001b[0m\u001b[0;34m\u001b[0m\u001b[0;34m\u001b[0m\u001b[0m\n\u001b[1;32m      3\u001b[0m \u001b[0mplt\u001b[0m\u001b[0;34m.\u001b[0m\u001b[0mshow\u001b[0m\u001b[0;34m\u001b[0m\u001b[0;34m\u001b[0m\u001b[0m\n",
      "\u001b[0;32m~/jupyter/rs/rslaser/rslaser/rspulse/pulse.py\u001b[0m in \u001b[0;36mrmsvals\u001b[0;34m(self)\u001b[0m\n\u001b[1;32m     32\u001b[0m         \u001b[0msy\u001b[0m \u001b[0;34m=\u001b[0m \u001b[0;34m[\u001b[0m\u001b[0;34m]\u001b[0m\u001b[0;34m\u001b[0m\u001b[0;34m\u001b[0m\u001b[0m\n\u001b[1;32m     33\u001b[0m         \u001b[0;32mfor\u001b[0m \u001b[0msl\u001b[0m \u001b[0;32min\u001b[0m \u001b[0mself\u001b[0m\u001b[0;34m.\u001b[0m\u001b[0m_slice\u001b[0m\u001b[0;34m:\u001b[0m\u001b[0;34m\u001b[0m\u001b[0;34m\u001b[0m\u001b[0m\n\u001b[0;32m---> 34\u001b[0;31m             \u001b[0;34m(\u001b[0m\u001b[0m_\u001b[0m\u001b[0;34m,\u001b[0m \u001b[0msigx\u001b[0m\u001b[0;34m,\u001b[0m\u001b[0msigy\u001b[0m\u001b[0;34m,\u001b[0m \u001b[0m_\u001b[0m\u001b[0;34m,\u001b[0m \u001b[0m_\u001b[0m\u001b[0;34m)\u001b[0m \u001b[0;34m=\u001b[0m \u001b[0mrmsWavefrontIntensity\u001b[0m\u001b[0;34m(\u001b[0m\u001b[0msl\u001b[0m\u001b[0;34m.\u001b[0m\u001b[0m_wfr\u001b[0m\u001b[0;34m)\u001b[0m\u001b[0;34m\u001b[0m\u001b[0;34m\u001b[0m\u001b[0m\n\u001b[0m\u001b[1;32m     35\u001b[0m             \u001b[0msx\u001b[0m\u001b[0;34m.\u001b[0m\u001b[0mappend\u001b[0m\u001b[0;34m(\u001b[0m\u001b[0msigx\u001b[0m\u001b[0;34m)\u001b[0m\u001b[0;34m\u001b[0m\u001b[0;34m\u001b[0m\u001b[0m\n\u001b[1;32m     36\u001b[0m             \u001b[0msy\u001b[0m\u001b[0;34m.\u001b[0m\u001b[0mappend\u001b[0m\u001b[0;34m(\u001b[0m\u001b[0msigy\u001b[0m\u001b[0;34m)\u001b[0m\u001b[0;34m\u001b[0m\u001b[0;34m\u001b[0m\u001b[0m\n",
      "\u001b[0;31mNameError\u001b[0m: name 'rmsWavefrontIntensity' is not defined"
     ]
    }
   ],
   "source": [
    "(lpsxvals,lpsyvals,svals) = lp.rmsvals()\n",
    "plt.plot(svals,lpsyvals)\n",
    "plt.show"
   ]
  },
  {
   "cell_type": "code",
   "execution_count": null,
   "metadata": {},
   "outputs": [],
   "source": [
    "(ivals,svals) = lp.intensity_vals()\n",
    "plt.plot(svals,ivals)\n",
    "plt.show"
   ]
  },
  {
   "cell_type": "code",
   "execution_count": 3,
   "metadata": {},
   "outputs": [
    {
     "name": "stdout",
     "output_type": "stream",
     "text": [
      "Element RMS sizes:sx=0.00044396392902196886 sy=0.00044396396274193605\n",
      "Element RMS sizes:sx=0.00044278278138543446 sy=0.0004427827683301799\n",
      "Element RMS sizes:sx=0.0004417445449785339 sy=0.00044174458269465874\n",
      "Element RMS sizes:sx=0.0004408493641121862 sy=0.0004408493665697712\n",
      "Element RMS sizes:sx=0.00044009815742203373 sy=0.00044009817134482547\n",
      "Element RMS sizes:sx=0.0004394917131479387 sy=0.0004394916974772741\n",
      "Element RMS sizes:sx=0.00043903065843812214 sy=0.0004390306735280382\n",
      "Element RMS sizes:sx=0.0004387155264696655 sy=0.0004387155412197721\n",
      "Element RMS sizes:sx=0.00043854667633715756 sy=0.0004385466708352542\n",
      "Element RMS sizes:sx=0.0004385242824470918 sy=0.00043852425868710204\n",
      "Element RMS sizes:sx=0.0004386484268137235 sy=0.00043864843018407167\n",
      "Element RMS sizes:sx=0.00046154459495019885 sy=0.00046154459901002966\n",
      "Element RMS sizes:sx=0.000459156632439809 sy=0.000459156612391087\n",
      "Element RMS sizes:sx=0.0004568943309685688 sy=0.0004568943236726577\n",
      "Element RMS sizes:sx=0.00045476204152852795 sy=0.0004547620265676398\n",
      "Element RMS sizes:sx=0.000452761659161986 sy=0.00045276164099120395\n",
      "Element RMS sizes:sx=0.00045089498233423015 sy=0.00045089497139768773\n",
      "Element RMS sizes:sx=0.000449163746369748 sy=0.0004491637671150437\n",
      "Element RMS sizes:sx=0.0004475695740988117 sy=0.0004475695900936583\n",
      "Element RMS sizes:sx=0.00044611400379333897 sy=0.0004461140082230819\n",
      "Element RMS sizes:sx=0.0004447984359720668 sy=0.00044479845550549405\n",
      "Element RMS sizes:sx=0.0004436241634581963 sy=0.0004436241786965276\n",
      "Element RMS sizes:sx=0.00046154459642420775 sy=0.00046154460246191557\n",
      "Element RMS sizes:sx=0.00045915663015413146 sy=0.0004591566121882325\n",
      "Element RMS sizes:sx=0.00045689433309005934 sy=0.00045689432006753927\n",
      "Element RMS sizes:sx=0.00045476203539659206 sy=0.00045476202549913475\n",
      "Element RMS sizes:sx=0.00045276165712303886 sy=0.00045276163452069476\n",
      "Element RMS sizes:sx=0.0004508949821136258 sy=0.00045089497332410255\n",
      "Element RMS sizes:sx=0.0004491637425501994 sy=0.00044916376810872775\n",
      "Element RMS sizes:sx=0.0004475695765472771 sy=0.0004475695899647671\n",
      "Element RMS sizes:sx=0.00044611400304027187 sy=0.000446114002153448\n",
      "Element RMS sizes:sx=0.0004447984363125384 sy=0.00044479845267534983\n",
      "Element RMS sizes:sx=0.00044362416203089407 sy=0.00044362418126620755\n",
      "Element RMS sizes:sx=0.000856050921343513 sy=0.0008560509374191511\n",
      "Element RMS sizes:sx=0.0008576855137207471 sy=0.0008576854922727212\n",
      "Element RMS sizes:sx=0.0008529237779728633 sy=0.0008529238111192192\n",
      "Element RMS sizes:sx=0.0008485263299196695 sy=0.0008485263281500558\n",
      "Element RMS sizes:sx=0.0008445015156022726 sy=0.0008445014743849824\n",
      "Element RMS sizes:sx=0.0008408567930224833 sy=0.0008408568587920824\n",
      "Element RMS sizes:sx=0.0008375988351972327 sy=0.0008375988225595734\n",
      "Element RMS sizes:sx=0.0008347334016753703 sy=0.000834733427342681\n",
      "Element RMS sizes:sx=0.0008322654077348021 sy=0.0008322653979980928\n",
      "Element RMS sizes:sx=0.0008301986337354978 sy=0.0008301986130332982\n",
      "Element RMS sizes:sx=0.0008285360304413667 sy=0.000828536052622345\n",
      "Element RMS sizes:sx=0.0012529148761478814 sy=0.001252914876987654\n",
      "Element RMS sizes:sx=0.0012444383616714407 sy=0.0012444383232387143\n",
      "Element RMS sizes:sx=0.0012389919510602105 sy=0.0012389919698878073\n",
      "Element RMS sizes:sx=0.0012339545639207987 sy=0.001233954553509856\n",
      "Element RMS sizes:sx=0.0012293357093975138 sy=0.0012293356817499911\n",
      "Element RMS sizes:sx=0.0012251439416774664 sy=0.0012251439526942938\n",
      "Element RMS sizes:sx=0.0012213868726029741 sy=0.001221386861998746\n",
      "Element RMS sizes:sx=0.0012180711832096667 sy=0.0012180712405829583\n",
      "Element RMS sizes:sx=0.0012152026080914688 sy=0.0012152025327085993\n",
      "Element RMS sizes:sx=0.0012127856371265224 sy=0.001212785654971123\n",
      "Element RMS sizes:sx=0.0012108238558901907 sy=0.0012108238503326263\n"
     ]
    }
   ],
   "source": [
    "#propagate laser pulse through crystal\n",
    "c.propagate(lp)\n",
    "\n",
    "#propagate laser pulse through drift\n",
    "d = cavity.Drift(length=0.5)\n",
    "d.propagate(lp)\n",
    "\n",
    "\n",
    "#propagate laser pulse through lens\n",
    "lens = cavity.Lens(f=0.2)\n",
    "lens.propagate(lp)\n",
    "\n",
    "#propagate laser pulse through drift\n",
    "d.propagate(lp)\n",
    "\n",
    "#propagate laser pulse through crystal\n",
    "c.propagate(lp)"
   ]
  },
  {
   "cell_type": "code",
   "execution_count": 4,
   "metadata": {},
   "outputs": [
    {
     "data": {
      "text/plain": [
       "<function matplotlib.pyplot.show(close=None, block=None)>"
      ]
     },
     "execution_count": 4,
     "metadata": {},
     "output_type": "execute_result"
    },
    {
     "data": {
      "image/png": "[encoded data removed]",
      "text/plain": [
       "<Figure size 432x288 with 1 Axes>"
      ]
     },
     "metadata": {
      "needs_background": "light"
     },
     "output_type": "display_data"
    }
   ],
   "source": [
    "#Plot final laser pulse size distribution\n",
    "(lpsxvals,lpsyvals,svals) = lp.rmsvals()\n",
    "plt.plot(svals,lpsyvals)\n",
    "plt.show"
   ]
  },
  {
   "cell_type": "code",
   "execution_count": 10,
   "metadata": {},
   "outputs": [
    {
     "data": {
      "text/plain": [
       "1"
      ]
     },
     "execution_count": 10,
     "metadata": {},
     "output_type": "execute_result"
    }
   ],
   "source": [
    "wfr0=lp._slice[3]._wfr\n",
    "wfr0.unitElFld"
   ]
  },
  {
   "cell_type": "code",
   "execution_count": 2,
   "metadata": {},
   "outputs": [
    {
     "name": "stdout",
     "output_type": "stream",
     "text": [
      "Size of initial wavefront data array (coordinate): (216, 216)\n"
     ]
    },
    {
     "name": "stderr",
     "output_type": "stream",
     "text": [
      "/home/vagrant/.pyenv/versions/py3/lib/python3.7/site-packages/ipykernel_launcher.py:29: MatplotlibDeprecationWarning: shading='flat' when X and Y have the same dimensions as C is deprecated since 3.3.  Either specify the corners of the quadrilaterals with X and Y, or pass shading='auto', 'nearest' or 'gouraud', or set rcParams['pcolor.shading'].  This will become an error two minor releases later.\n"
     ]
    },
    {
     "data": {
      "image/png": "[encoded data removed]",
      "text/plain": [
       "<Figure size 864x504 with 2 Axes>"
      ]
     },
     "metadata": {
      "needs_background": "light"
     },
     "output_type": "display_data"
    }
   ],
   "source": [
    "# Plot initial wavefront\n",
    "##Initial wfr calculation\n",
    "from array import array\n",
    "from srwlib import srwl\n",
    "import numpy as np\n",
    "import matplotlib as mpl\n",
    "import matplotlib.pyplot as plt\n",
    "import matplotlib.ticker\n",
    "from matplotlib import cm\n",
    "from mpl_toolkits.mplot3d import Axes3D\n",
    "from matplotlib.ticker import LinearLocator, FormatStrFormatter\n",
    "import scipy.ndimage\n",
    "hfontLarge = {'fontname':'Latin Modern Roman', 'size' : 24, 'weight' : 'bold'}\n",
    "wfrplot = lp._wfr[1] \n",
    "\n",
    "arIinit = array('f', [0]*wfrplot.mesh.nx*wfrplot.mesh.ny) #\"flat\" array to take 2D intensity data\n",
    "srwl.CalcIntFromElecField(arIinit, wfrplot, 6, 0, 3, wfrplot.mesh.eStart, 0, 0) #extracts intensity\n",
    "##Reshaping electric field data from flat to 2D array\n",
    "arIinit2D = np.array(arIinit).reshape((wfrplot.mesh.nx, wfrplot.mesh.ny), order='C')\n",
    "wfrsizei=np.size(arIinit)\n",
    "\n",
    "print('Size of initial wavefront data array (coordinate):',np.shape(arIinit2D))\n",
    "xvalsf02=np.linspace(wfrplot.mesh.xStart,wfrplot.mesh.xFin,wfrplot.mesh.nx)\n",
    "yvalsf02=np.linspace(wfrplot.mesh.yStart,wfrplot.mesh.yFin,wfrplot.mesh.ny)\n",
    "\n",
    "fig = plt.figure(figsize=(12,7))\n",
    "ax = fig.gca()\n",
    "\n",
    "plt.pcolormesh(np.multiply(xvalsf02,1e6), np.multiply(yvalsf02,1e6), arIinit2D, cmap=plt.cm.viridis)  ##By setting wfr0a.unitElFldAng=1, default units should  now be in mrad(?)\n",
    "plt.colorbar()\n",
    "#['Horizontal Position [mm]', , 'Intensity']\n",
    "xmax = 5e3\n",
    "ymax = 5e3\n",
    "ax.set_ylim(-ymax,ymax)\n",
    "ax.set_xlim(-xmax,xmax)\n",
    "ax.set_ylabel(r'Vertical Position [$\\mu m$]',**hfontLarge)\n",
    "ax.set_xlabel(r'Horizontal Position [$\\mu m$]',**hfontLarge)\n",
    "ax.set_title('Intensity at Waist',**hfontLarge)\n",
    "plt.show()"
   ]
  },
  {
   "cell_type": "code",
   "execution_count": null,
   "metadata": {},
   "outputs": [],
   "source": [
    "f1=.5\n",
    "optLens = srwlib.SRWLOptL(f1, f1)"
   ]
  },
  {
   "cell_type": "code",
   "execution_count": null,
   "metadata": {},
   "outputs": [],
   "source": [
    "print(optLens)"
   ]
  },
  {
   "cell_type": "code",
   "execution_count": null,
   "metadata": {},
   "outputs": [],
   "source": [
    "optLens.Fx"
   ]
  },
  {
   "cell_type": "code",
   "execution_count": null,
   "metadata": {},
   "outputs": [],
   "source": [
    "optLens.Fx=.4"
   ]
  },
  {
   "cell_type": "code",
   "execution_count": null,
   "metadata": {},
   "outputs": [],
   "source": [
    "print(optLens.Fx)"
   ]
  },
  {
   "cell_type": "code",
   "execution_count": 13,
   "metadata": {},
   "outputs": [
    {
     "data": {
      "text/plain": [
       "10.240000000000002"
      ]
     },
     "execution_count": 13,
     "metadata": {},
     "output_type": "execute_result"
    }
   ],
   "source": [
    "3.2**2"
   ]
  },
  {
   "cell_type": "code",
   "execution_count": null,
   "metadata": {},
   "outputs": [],
   "source": []
  }
 ],
 "metadata": {
  "kernelspec": {
   "display_name": "Python 3",
   "language": "python",
   "name": "py3"
  },
  "language_info": {
   "codemirror_mode": {
    "name": "ipython",
    "version": 3
   },
   "file_extension": ".py",
   "mimetype": "text/x-python",
   "name": "python",
   "nbconvert_exporter": "python",
   "pygments_lexer": "ipython3",
   "version": "3.7.2"
  }
 },
 "nbformat": 4,
 "nbformat_minor": 4
}
