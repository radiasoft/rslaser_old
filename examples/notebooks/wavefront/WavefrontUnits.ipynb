{
 "cells": [
  {
   "cell_type": "code",
   "execution_count": null,
   "id": "bb423b42-3560-4c17-a900-8e262e658b94",
   "metadata": {},
   "outputs": [],
   "source": [
    "import math\n",
    "from matplotlib import pyplot\n",
    "import matplotlib.pyplot as plt\n",
    "import numpy as np\n",
    "\n",
    "from pykern.pkcollections import PKDict\n",
    "# The rslaser library may not be installed, so a check is required.\n",
    "try:\n",
    "    import rslaser\n",
    "except:\n",
    "    print(\"The rslaser library was not found; installing from GitHub...\")\n",
    "    # Developers should use 'pip install -e .' from the command line.\n",
    "    # Users can install directly from GitHub --\n",
    "    !{sys.executable} -m pip install git+https://github.com/radiasoft/rslaser.git\n",
    "    import rslaser\n",
    "from rslaser.rsoptics import wavefront\n",
    "from rslaser.rspulse import pulse\n",
    "\n",
    "import scipy\n",
    "import scipy.constants as const\n",
    "\n",
    "# SRW and srwlib (the corresponding Python API) are pre-installed on Sirepo/Jupyter\n",
    "import srwlib\n",
    "from srwlib import srwl"
   ]
  },
  {
   "cell_type": "code",
   "execution_count": null,
   "id": "76b523fe-812d-434d-8c1b-bb446cf5f00b",
   "metadata": {},
   "outputs": [],
   "source": [
    "# specify all default values of system parameters in a Pykern dictionary object\n",
    "\n",
    "# photon energy corresponding to lambda = 1 micron\n",
    "_LAMBDA_DEFAULT = 1.e-6\n",
    "_PHE_DEFAULT = const.h * const.c / _LAMBDA_DEFAULT\n",
    "_Z_WAIST_DEFAULT = 0\n",
    "_Z_CENTER_DEFAULT = 100.*_LAMBDA_DEFAULT\n",
    "\n",
    "_LASER_PULSE_SLICE_DEFAULTS = PKDict(\n",
    "    sigrW=0.000186,\n",
    "    propLen=15,\n",
    "    pulseE=0.001,\n",
    "    poltype=1,\n",
    "    sampFact=5,\n",
    "    numsig=3.,\n",
    "    mx=0,\n",
    "    my=0\n",
    ")\n",
    "_LASER_PULSE_DEFAULTS = PKDict(\n",
    "        phE=_PHE_DEFAULT,\n",
    "        nslice=3,\n",
    "        chirp=0,\n",
    "        w0=.1,\n",
    "        a0=.01,\n",
    "        dw0x=0.0,\n",
    "        dw0y=0.0,\n",
    "        z_waist=_Z_WAIST_DEFAULT,\n",
    "        dzwx=0.0,\n",
    "        dzwy=0.0,\n",
    "        tau_fwhm=0.1 / const.c / math.sqrt(2.),\n",
    "        z_center=_Z_CENTER_DEFAULT,\n",
    "        x_shift = 0.,\n",
    "        y_shift=0.,\n",
    "        d_to_w=_Z_WAIST_DEFAULT - _Z_CENTER_DEFAULT,\n",
    "        slice_params=_LASER_PULSE_SLICE_DEFAULTS,\n",
    ")"
   ]
  },
  {
   "cell_type": "code",
   "execution_count": null,
   "id": "f999d24e-0dd6-4930-be4c-55c00669bd59",
   "metadata": {},
   "outputs": [],
   "source": [
    "# the laser pulse parameters are loaded into a Pykern dictionary object\n",
    "# the slice parameters are included hierarchically\n",
    "in_pulse = PKDict(\n",
    "    **_LASER_PULSE_DEFAULTS\n",
    "    )\n",
    "\n",
    "# Specify non-default values for laser pulse parameters at center of crystal\n",
    "in_pulse.w0 = 400.e-6         # waist size [m]   "
   ]
  },
  {
   "cell_type": "code",
   "execution_count": null,
   "id": "0d601644-91b6-4b7f-9eb8-70e2b699d9d1",
   "metadata": {},
   "outputs": [],
   "source": [
    "# instantiate the laser pulse (this can take a few seconds)\n",
    "LP = pulse.LaserPulse(in_pulse)"
   ]
  },
  {
   "cell_type": "code",
   "execution_count": null,
   "id": "5b5bf3a4-723b-42b0-84f7-b9a3463ff28f",
   "metadata": {},
   "outputs": [],
   "source": [
    "# choose one of the laser pulse slices, and grab its SRW wavefront object\n",
    "slice=LP.slice\n",
    "wfr0=slice[1].wfr"
   ]
  },
  {
   "cell_type": "code",
   "execution_count": null,
   "id": "81d3e38e-372b-4551-a048-3249b46e7ef5",
   "metadata": {},
   "outputs": [],
   "source": [
    "#Plot initial wavefront\n",
    "##Initial wfr calculation\n",
    "arIinit = srwlib.array('f', [0]*wfr0.mesh.nx*wfr0.mesh.ny) # \"flat\" array to take 2D intensity data\n",
    "srwl.CalcIntFromElecField(arIinit, wfr0, 6, 0, 3, wfr0.mesh.eStart, 0, 0) #extracts intensity\n",
    "\n",
    "##Reshaping electric field data from flat to 2D array\n",
    "arIinit2D = np.array(arIinit).reshape((wfr0.mesh.nx, wfr0.mesh.ny), order='C')\n",
    "wfrsizei=np.size(arIinit)\n",
    "\n",
    "print('Size of initial wavefront data array (coordinate):',np.shape(arIinit2D))\n",
    "xvalsf02=np.linspace(wfr0.mesh.xStart,wfr0.mesh.xFin,wfr0.mesh.nx)\n",
    "yvalsf02=np.linspace(wfr0.mesh.yStart,wfr0.mesh.yFin,wfr0.mesh.ny)\n",
    "\n",
    "fig = plt.figure(figsize=(12,7))\n",
    "ax = fig.gca()\n",
    "\n",
    "# By setting wfr0a.unitElFldAng=1, default units should  now be in mrad(?)\n",
    "plt.pcolormesh(np.multiply(xvalsf02,1e6), np.multiply(yvalsf02,1e6), arIinit2D, cmap=plt.cm.viridis,shading='auto')\n",
    "plt.colorbar()\n",
    "#['Horizontal Position [mm]', , 'Intensity']\n",
    "# ax.set_ylim(-1e4,1e4)\n",
    "# ax.set_xlim(-1e4,1e4)\n",
    "ax.set_ylabel(r'Vertical Position [$\\mu m$]')\n",
    "ax.set_xlabel(r'Horizontal Position [$\\mu m$]')\n",
    "ax.set_title('Intensity')\n",
    "plt.show()"
   ]
  },
  {
   "cell_type": "code",
   "execution_count": null,
   "id": "ccceb8ca-8506-4339-82ce-1db1beec4994",
   "metadata": {},
   "outputs": [],
   "source": [
    "# create a Gaussian wavefront via SRW\n",
    "# is w0 the same as sigrW ...\n",
    "propLen = 0.\n",
    "pulseE = 1.\n",
    "poltype = 0\n",
    "wfr0=wavefront.createGsnSrcSRW(in_pulse.w0,propLen,pulseE,poltype,in_pulse.phE)"
   ]
  },
  {
   "cell_type": "code",
   "execution_count": null,
   "id": "8ae1acf9-ef86-4e06-b38c-b5427101214b",
   "metadata": {},
   "outputs": [],
   "source": []
  }
 ],
 "metadata": {
  "kernelspec": {
   "display_name": "Python 3",
   "language": "python",
   "name": "py3"
  },
  "language_info": {
   "codemirror_mode": {
    "name": "ipython",
    "version": 3
   },
   "file_extension": ".py",
   "mimetype": "text/x-python",
   "name": "python",
   "nbconvert_exporter": "python",
   "pygments_lexer": "ipython3",
   "version": "3.7.2"
  }
 },
 "nbformat": 4,
 "nbformat_minor": 5
}
