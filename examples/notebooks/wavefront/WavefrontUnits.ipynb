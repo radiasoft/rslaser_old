{
 "cells": [
  {
   "cell_type": "code",
   "execution_count": null,
   "id": "f999d24e-0dd6-4930-be4c-55c00669bd59",
   "metadata": {},
   "outputs": [],
   "source": [
    "# specify all top-level input parameters\n",
    "\n",
    "# central values\n",
    "a0 = 0.01            # 0.85e-9 * lambda [microns] * Sqrt(Intensity [W/cm^2])\n",
    "lambda0 = 8.e-7      # wavelength [m]\n",
    "tau_fwhm = 0.3e-13   # FWHM pulse length [s]\n",
    "w0 = 400.e-6         # waist size [m]\n",
    "z_waist = 0.0        # longitudinal waist position [m]\n",
    "z_center = 0.0       # longitudinal position of pulse center [m]\n",
    "\n",
    "# deviations\n",
    "d_lambda = 0.01     # full wavelength chirp across laser pulse [m]\n",
    "dw0x = 0.0           # deviation of horizontal waist from w0\n",
    "dw0y = 0.0           # deviation of vertical waist from w0\n",
    "dzwx = 0.0           # deviation of horizontal waist position from z_waist\n",
    "dzwy = 0.0           # deviation of vertical waist position from z_waist\n",
    "x_shift = 0.         # bulk horizontal shift of pulse position\n",
    "y_shift = 0.         # bulk vertical shift of pulse position\n",
    "\n",
    "# numerical values\n",
    "num_slices = 3       # desired number of slices (i.e. SRW wavefronts) to represent the pulse\n",
    "n_points = 101       # number of bins along each axis for contour plots"
   ]
  },
  {
   "cell_type": "code",
   "execution_count": null,
   "id": "bb423b42-3560-4c17-a900-8e262e658b94",
   "metadata": {},
   "outputs": [],
   "source": [
    "from matplotlib import pyplot\n",
    "import matplotlib.pyplot as plt\n",
    "import numpy as np\n",
    "import scipy.constants as const\n",
    "\n",
    "from pykern.pkcollections import PKDict\n",
    "import rslaser.rsoptics.wavefront as rswf\n",
    "import rslaser.rscavity.laser_cavity as rslc\n",
    "\n",
    "import srwlib\n",
    "from srwlib import srwl"
   ]
  },
  {
   "cell_type": "code",
   "execution_count": null,
   "id": "019cc45e-ad2c-41e8-ac6d-188c9bb27ceb",
   "metadata": {},
   "outputs": [],
   "source": [
    "# create a dictionary of all relevant physical and numerical quantities\n",
    "data_in=PKDict()\n",
    "\n",
    "data_in.a0 = a0\n",
    "data_in.lambda0 = lambda0\n",
    "data_in.tau_fwhm = tau_fwhm\n",
    "data_in.w0 = w0\n",
    "data_in.z_waist = z_waist\n",
    "data_in.z_center = z_center\n",
    "\n",
    "data_in.d_lambda = d_lambda\n",
    "data_in.dw0x = dw0x\n",
    "data_in.dw0y = dw0y\n",
    "data_in.dzwx = dzwx\n",
    "data_in.dzwy = dzwy\n",
    "data_in.x_shift = x_shift\n",
    "data_in.y_shift = y_shift\n",
    "\n",
    "data_in.nslice = num_slices\n",
    "\n",
    "#create laser pulse\n",
    "LP = rslc.LaserPulse(data_in)"
   ]
  },
  {
   "cell_type": "code",
   "execution_count": null,
   "id": "5b5bf3a4-723b-42b0-84f7-b9a3463ff28f",
   "metadata": {},
   "outputs": [],
   "source": [
    "# choose one of the laser pulse slices, and grab its SRW wavefront object\n",
    "slice=LP.slice\n",
    "wfr0=slice[0].wfr"
   ]
  },
  {
   "cell_type": "code",
   "execution_count": null,
   "id": "81d3e38e-372b-4551-a048-3249b46e7ef5",
   "metadata": {},
   "outputs": [],
   "source": [
    "#Plot initial wavefront\n",
    "##Initial wfr calculation\n",
    "arIinit = srwlib.array('f', [0]*wfr0.mesh.nx*wfr0.mesh.ny) # \"flat\" array to take 2D intensity data\n",
    "srwl.CalcIntFromElecField(arIinit, wfr0, 6, 0, 3, wfr0.mesh.eStart, 0, 0) #extracts intensity\n",
    "\n",
    "##Reshaping electric field data from flat to 2D array\n",
    "arIinit2D = np.array(arIinit).reshape((wfr0.mesh.nx, wfr0.mesh.ny), order='C')\n",
    "wfrsizei=np.size(arIinit)\n",
    "\n",
    "print('Size of initial wavefront data array (coordinate):',np.shape(arIinit2D))\n",
    "xvalsf02=np.linspace(wfr0.mesh.xStart,wfr0.mesh.xFin,wfr0.mesh.nx)\n",
    "yvalsf02=np.linspace(wfr0.mesh.yStart,wfr0.mesh.yFin,wfr0.mesh.ny)\n",
    "\n",
    "fig = plt.figure(figsize=(12,7))\n",
    "ax = fig.gca()\n",
    "\n",
    "# By setting wfr0a.unitElFldAng=1, default units should  now be in mrad(?)\n",
    "plt.pcolormesh(np.multiply(xvalsf02,1e6), np.multiply(yvalsf02,1e6), arIinit2D, cmap=plt.cm.viridis,shading='auto')\n",
    "plt.colorbar()\n",
    "#['Horizontal Position [mm]', , 'Intensity']\n",
    "ax.set_ylim(-1e4,1e4)\n",
    "ax.set_xlim(-1e4,1e4)\n",
    "ax.set_ylabel(r'Vertical Position [$\\mu m$]')\n",
    "ax.set_xlabel(r'Horizontal Position [$\\mu m$]')\n",
    "ax.set_title('Intensity at Waist')\n",
    "plt.show()"
   ]
  },
  {
   "cell_type": "code",
   "execution_count": null,
   "id": "ccceb8ca-8506-4339-82ce-1db1beec4994",
   "metadata": {},
   "outputs": [],
   "source": [
    "# create a Gaussian wavefront via SRW\n",
    "# is w0 the same as sigrW ...?\n",
    "phE = const.h * const.c / data_in.lambda0\n",
    "propLen = 0.\n",
    "pulseE = 1.\n",
    "poltype = 0\n",
    "wfr0=rswf.createGsnSrcSRW(data_in.w0,propLen,pulseE,poltype,phE)"
   ]
  },
  {
   "cell_type": "code",
   "execution_count": null,
   "id": "8ae1acf9-ef86-4e06-b38c-b5427101214b",
   "metadata": {},
   "outputs": [],
   "source": []
  }
 ],
 "metadata": {
  "kernelspec": {
   "display_name": "Python 3",
   "language": "python",
   "name": "py3"
  },
  "language_info": {
   "codemirror_mode": {
    "name": "ipython",
    "version": 3
   },
   "file_extension": ".py",
   "mimetype": "text/x-python",
   "name": "python",
   "nbconvert_exporter": "python",
   "pygments_lexer": "ipython3",
   "version": "3.7.2"
  }
 },
 "nbformat": 4,
 "nbformat_minor": 5
}
