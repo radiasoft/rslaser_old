{
 "cells": [
  {
   "cell_type": "code",
   "execution_count": 1,
   "metadata": {},
   "outputs": [],
   "source": [
    "import numpy as np"
   ]
  },
  {
   "cell_type": "markdown",
   "metadata": {},
   "source": [
    "The seed laser passes through a crystal of length L (L=1cm). In the case that the crystal isn't pumped first,\n",
    "it arrives at a waist at the end of the crystal. Now, assume it is pumped and heated, giving rise to\n",
    "a thermal lensing effect. We want to find the ABCD matrix that gets us between these two cases.\n",
    "We need to go backwards through the unheated crystal and then forward through the heated crystal.\n",
    "The first matrix is given by\n",
    "$$M_0 = \\pmatrix{1 & -\\frac{L}{n_0} \\cr 0 & 1} $$\n",
    "\n",
    "The second matrix ABCD matrix given n_0 and n_2\n",
    "\n",
    "$$M_2 = \\pmatrix{\\cos(\\gamma L) & \\frac{1}{n_0 \\gamma} \\sin(\\gamma L)\\cr \n",
    "            -(n_0 \\gamma) \\sin(\\gamma L) & \\cos(\\gamma L) } $$\n",
    "\n",
    "This acts on a ray via\n",
    "$$\\pmatrix{ x_f \\cr \\theta_f } = \\pmatrix{ A & B \\cr C & D }\\pmatrix{x_i \\cr \\theta_i}$$\n",
    "\n",
    "The index of refraction is given by $$n(r) = n_0 - \\frac{1}{2} n_2 r^2$$\n",
    "Lengths are given in m and angles in radians."
   ]
  },
  {
   "cell_type": "code",
   "execution_count": 69,
   "metadata": {},
   "outputs": [
    {
     "name": "stdout",
     "output_type": "stream",
     "text": [
      "3.0151134457776365\n",
      "[[ 0.99995455  0.56817321]\n",
      " [-0.01599976  0.99995455]]\n",
      "[[ 1.00045444e+00  1.72160657e-06]\n",
      " [-1.59975759e-01  9.99545489e-01]]\n"
     ]
    }
   ],
   "source": [
    "n0 = 1.76\n",
    "#n2=1.6e-3 #cm^-2\n",
    "n2 = 16 #m^-2\n",
    "\n",
    "L = 0.01\n",
    "Mat0 = np.array( [[ 1, -L/n0], [0, 1]])\n",
    "gamma = np.sqrt(n2/n0)\n",
    "A = np.cos(gamma*L)\n",
    "B = 1/(n0 * gamma) * np.sin(gamma*L)\n",
    "C = -n0 * gamma * np.sin(gamma * L)\n",
    "D = np.cos(gamma*L)\n",
    "Mat2 = np.array( [[ A, B], [C, D]] )\n",
    "Matdif = np.matmul(Mat0,Mat2)\n",
    "print(gamma)\n",
    "print(Mat)\n",
    "print(Matdif)"
   ]
  },
  {
   "cell_type": "markdown",
   "metadata": {},
   "source": [
    "Now we construct the initial moment matrix $\\Sigma_i$ and transform it via $M$."
   ]
  },
  {
   "cell_type": "code",
   "execution_count": 73,
   "metadata": {},
   "outputs": [
    {
     "name": "stdout",
     "output_type": "stream",
     "text": [
      "[[1.00000000e-06 0.00000000e+00]\n",
      " [0.00000000e+00 4.05173289e-09]]\n",
      "[[ 1.00090909e-06 -1.60048451e-07]\n",
      " [-1.60048451e-07  2.96402940e-08]]\n"
     ]
    }
   ],
   "source": [
    "#sigmax = 64e-6 #rms beam size [m]\n",
    "sigmax = 1e-3\n",
    "lam = 799.89e-9 #wavelength [m]\n",
    "sigtheta = lam/(4*np.pi*sigmax) #rms divergence [rad]\n",
    "\n",
    "sigmai = np.array( [[sigmax**2, 0], [0, sigtheta**2] ] ) \n",
    "sigmaf = np.matmul(np.matmul(Matdif, sigmai),np.transpose(Matdif))\n",
    "print(sigmai)\n",
    "print(sigmaf)"
   ]
  },
  {
   "cell_type": "markdown",
   "metadata": {},
   "source": [
    "Now, we relate this to the phase of a Gaussian wavefront.\n",
    "We consider a coherent Gaussian given by\n",
    "$$E(x) = E_0 e^{-\\frac{a+i b}{2} x^2} $$\n",
    "We can relate the second moment matrix to the real parameters $a$ and $b$.\n",
    "$$\\Sigma_{xx} = \\frac{1}{2a}$$\n",
    "$$\\Sigma_{x\\theta} = \\frac{\\lambda}{4\\pi} \\frac{b}{a}$$\n",
    "$$\\Sigma_{\\theta \\theta} = \\frac{1}{2} \\left(\\frac{\\lambda}{2\\pi}\\right) \\left( a+ \\frac{b}{a}\\right) $$\n",
    "\n",
    "From the first of these two equations, we find\n",
    "$$ b = \\frac{2\\pi}{\\lambda} \\frac{\\Sigma_{x\\theta}}{\\Sigma_{xx}} $$"
   ]
  },
  {
   "cell_type": "code",
   "execution_count": 74,
   "metadata": {},
   "outputs": [
    {
     "name": "stdout",
     "output_type": "stream",
     "text": [
      "-1256048.5995364413\n"
     ]
    }
   ],
   "source": [
    "b = (2*np.pi)/lam * sigmaf[0,1]/sigmaf[0,0]\n",
    "print(b)"
   ]
  },
  {
   "cell_type": "code",
   "execution_count": 75,
   "metadata": {},
   "outputs": [
    {
     "name": "stdout",
     "output_type": "stream",
     "text": [
      "650000.0\n"
     ]
    }
   ],
   "source": [
    "alpha_micron_m2 = 6.5e-7 #This number from JVT email\n",
    "alpha_meter_m2 = 1e12*alpha_micron_m2\n",
    "print(alpha_meter_m2)"
   ]
  },
  {
   "cell_type": "code",
   "execution_count": 76,
   "metadata": {},
   "outputs": [
    {
     "data": {
      "text/plain": [
       "0.5174958996330952"
      ]
     },
     "execution_count": 76,
     "metadata": {},
     "output_type": "execute_result"
    }
   ],
   "source": [
    "-alpha_meter_m2/b"
   ]
  },
  {
   "cell_type": "markdown",
   "metadata": {},
   "source": [
    "This factor of 2 may come from the 1D treatment given here. x-> r"
   ]
  }
 ],
 "metadata": {
  "kernelspec": {
   "display_name": "Python 3",
   "language": "python",
   "name": "py3"
  },
  "language_info": {
   "codemirror_mode": {
    "name": "ipython",
    "version": 3
   },
   "file_extension": ".py",
   "mimetype": "text/x-python",
   "name": "python",
   "nbconvert_exporter": "python",
   "pygments_lexer": "ipython3",
   "version": "3.7.2"
  }
 },
 "nbformat": 4,
 "nbformat_minor": 4
}
