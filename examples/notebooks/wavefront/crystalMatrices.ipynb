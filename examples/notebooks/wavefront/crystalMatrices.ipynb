{
 "cells": [
  {
   "cell_type": "code",
   "execution_count": 4,
   "metadata": {},
   "outputs": [],
   "source": [
    "import numpy as np"
   ]
  },
  {
   "cell_type": "markdown",
   "metadata": {},
   "source": [
    "The seed laser passes through a crystal of length L ($L_c$=1cm). In the case that the crystal isn't pumped first,\n",
    "it arrives at a waist at 50 cm from the end of the crystal. Now, assume it is pumped and heated, giving rise to\n",
    "a thermal lensing effect. We want to find the ABCD matrix that gets us between these two cases.\n",
    "We need to go backwards through the unheated crystal and then forward through the heated crystal.\n",
    "The matrix to pass through the crystal with $n_2 = 0$ is \n",
    "$$M_c = \\pmatrix{1 & \\frac{L_c}{n_0} \\cr 0 & 1} $$\n",
    "The crystal matrix with n_0 and n_2 is\n",
    "\n",
    "$$\\bar M_c = \\pmatrix{\\cos(\\gamma L) & \\frac{1}{n_0 \\gamma} \\sin(\\gamma L)\\cr \n",
    "            -(n_0 \\gamma) \\sin(\\gamma L) & \\cos(\\gamma L) } $$\n",
    "\n",
    "This acts on a ray via\n",
    "$$\\pmatrix{ x_f \\cr \\theta_f } = \\pmatrix{ A & B \\cr C & D }\\pmatrix{x_i \\cr \\theta_i}$$\n",
    "Next, we consider the drift from the crystal to the wavefront sensor of length $L_d$ = 0.5m, the matrix of which is\n",
    "\n",
    "$$M_d = \\pmatrix{1 & L_d \\cr 0 & 1} $$\n",
    "\n",
    "\n",
    "The total matrix we want to apply to transform between the two measurmed wavefronts is\n",
    "$$M_T = M_d \\bar M_c M_c^{-1} M_d^{-1}$$\n",
    "\n",
    "The index of refraction is given by $$n(r) = n_0 - \\frac{1}{2} n_2 r^2$$ \n",
    "and $\\gamma$ is defined as \n",
    "$$\\gamma = \\sqrt{\\frac{n_2}{n_0}}$$\n",
    "\n",
    "Lengths are given in m and angles in radians."
   ]
  },
  {
   "cell_type": "code",
   "execution_count": 8,
   "metadata": {},
   "outputs": [
    {
     "name": "stdout",
     "output_type": "stream",
     "text": [
      "3.0151134457776365\n",
      "[[ 0.91955761  0.04045014]\n",
      " [-0.15997576  1.08044232]]\n"
     ]
    }
   ],
   "source": [
    "n0 = 1.76\n",
    "#n2=1.6e-3 #cm^-2\n",
    "n2 = 16 #m^-2\n",
    "\n",
    "Lc = 0.01\n",
    "Ld = 0.5\n",
    "Matcinv = np.array( [[ 1, -Lc/n0], [0, 1]])\n",
    "gamma = np.sqrt(n2/n0)\n",
    "A = np.cos(gamma*Lc)\n",
    "B = 1/(n0 * gamma) * np.sin(gamma*Lc)\n",
    "C = -n0 * gamma * np.sin(gamma * Lc)\n",
    "D = np.cos(gamma*Lc)\n",
    "Matcbar = np.array( [[ A, B], [C, D]] )\n",
    "Matd = np.array( [[ 1, Ld], [0, 1]] )\n",
    "Matdinv = np.array( [[ 1, -Ld], [0, 1]] )\n",
    "Mattot = np.matmul(np.matmul(np.matmul(Matd,Matcbar),Matcinv),Matdinv)\n",
    "print(gamma)\n",
    "print(Mattot)"
   ]
  },
  {
   "cell_type": "markdown",
   "metadata": {},
   "source": [
    "Now we construct the initial moment matrix $\\Sigma_i$ and transform it via $M$, using the fact that\n",
    "$$\\Sigma_f = M\\Sigma_i M^T$$\n",
    "where $\\Sigma_{i,f}$ are the initial and final second moment matrices respectively."
   ]
  },
  {
   "cell_type": "code",
   "execution_count": 9,
   "metadata": {},
   "outputs": [
    {
     "name": "stdout",
     "output_type": "stream",
     "text": [
      "[[1.00000000e-06 0.00000000e+00]\n",
      " [0.00000000e+00 4.05173289e-09]]\n",
      "[[ 8.45592827e-07 -1.46929849e-07]\n",
      " [-1.46929849e-07  3.03220565e-08]]\n"
     ]
    }
   ],
   "source": [
    "#sigmax = 64e-6 #rms beam size [m]\n",
    "sigmax = 1e-3\n",
    "lam = 799.89e-9 #wavelength [m]\n",
    "sigtheta = lam/(4*np.pi*sigmax) #rms divergence [rad]\n",
    "\n",
    "sigmai = np.array( [[sigmax**2, 0], [0, sigtheta**2] ] ) \n",
    "sigmaf = np.matmul(np.matmul(Mattot, sigmai),np.transpose(Mattot))\n",
    "print(sigmai)\n",
    "print(sigmaf)"
   ]
  },
  {
   "cell_type": "markdown",
   "metadata": {},
   "source": [
    "Now, we relate this to the phase of a Gaussian wavefront.\n",
    "We consider a coherent Gaussian given by\n",
    "$$E(x) = E_0 e^{-\\frac{a+i b}{2} x^2} $$\n",
    "We define a second moment matrix via\n",
    "$$\\Sigma = \\pmatrix{\\Sigma_{xx} & \\Sigma_{x\\theta} \\cr \\Sigma_{x\\theta} & \\Sigma_{\\theta\\theta}} $$\n",
    "We can relate the second moment matrix to the real parameters $a$ and $b$.\n",
    "$$\\Sigma_{xx} = \\frac{1}{2a}$$\n",
    "$$\\Sigma_{x\\theta} = \\frac{\\lambda}{4\\pi} \\frac{b}{a}$$\n",
    "$$\\Sigma_{\\theta \\theta} = \\frac{1}{2} \\left(\\frac{\\lambda}{2\\pi}\\right) \\left( a+ \\frac{b}{a}\\right) $$\n",
    "\n",
    "From the equations for $\\Sigma_{xx}$ and $\\Sigma_{x\\theta}$, we find\n",
    "$$ b = \\frac{2\\pi}{\\lambda} \\frac{\\Sigma_{x\\theta}}{\\Sigma_{xx}} $$"
   ]
  },
  {
   "cell_type": "code",
   "execution_count": 10,
   "metadata": {},
   "outputs": [
    {
     "name": "stdout",
     "output_type": "stream",
     "text": [
      "-1091913.7387110577\n"
     ]
    }
   ],
   "source": [
    "lambda_micron = 0.8\n",
    "b = (2*np.pi)/lam * sigmaf[0,1]/sigmaf[0,0]\n",
    "b_micron = lambda_micron * b\n",
    "print(b_micron)"
   ]
  },
  {
   "cell_type": "code",
   "execution_count": 11,
   "metadata": {},
   "outputs": [
    {
     "name": "stdout",
     "output_type": "stream",
     "text": [
      "650000.0\n"
     ]
    }
   ],
   "source": [
    "alpha_micron_m2 = 6.5e-7 #This number from JVT email\n",
    "alpha_meter_m2 = 1e12*alpha_micron_m2\n",
    "print(alpha_meter_m2)"
   ]
  },
  {
   "cell_type": "code",
   "execution_count": 13,
   "metadata": {},
   "outputs": [
    {
     "data": {
      "text/plain": [
       "0.952456190566538"
      ]
     },
     "execution_count": 13,
     "metadata": {},
     "output_type": "execute_result"
    }
   ],
   "source": [
    "-2*alpha_meter_m2/b"
   ]
  },
  {
   "cell_type": "markdown",
   "metadata": {},
   "source": [
    "This factor of 2 may come from the 1D treatment given here. x-> r"
   ]
  }
 ],
 "metadata": {
  "kernelspec": {
   "display_name": "Python 3",
   "language": "python",
   "name": "py3"
  },
  "language_info": {
   "codemirror_mode": {
    "name": "ipython",
    "version": 3
   },
   "file_extension": ".py",
   "mimetype": "text/x-python",
   "name": "python",
   "nbconvert_exporter": "python",
   "pygments_lexer": "ipython3",
   "version": "3.7.2"
  }
 },
 "nbformat": 4,
 "nbformat_minor": 4
}
