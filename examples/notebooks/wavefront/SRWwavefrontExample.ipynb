{
 "cells": [
  {
   "cell_type": "markdown",
   "metadata": {},
   "source": [
    "## Notebook to understand working with wavefront objects in and out of SRW"
   ]
  },
  {
   "cell_type": "code",
   "execution_count": null,
   "metadata": {},
   "outputs": [],
   "source": [
    "#Import necessary libraries\n",
    "from __future__ import print_function #Python 2.7 compatibility\n",
    "#from srwlib import *\n",
    "from silasOpticsLib import *\n",
    "%load_ext autoreload\n",
    "%autoreload 2\n",
    "import numpy as np\n",
    "import math\n",
    "import os \n",
    "import sys\n",
    "import time\n",
    "import matplotlib as mpl\n",
    "import matplotlib.pyplot as plt\n",
    "import matplotlib.ticker\n",
    "from matplotlib import cm\n",
    "from mpl_toolkits.mplot3d import Axes3D\n",
    "from matplotlib.ticker import LinearLocator, FormatStrFormatter\n",
    "import scipy.ndimage\n",
    "hfontLarge = {'fontname':'Latin Modern Roman', 'size' : 24, 'weight' : 'bold'}"
   ]
  },
  {
   "cell_type": "code",
   "execution_count": null,
   "metadata": {},
   "outputs": [],
   "source": [
    "#Create Gaussian wavefront\n",
    "##Create Gaussian wavefront\n",
    "#sigr: requested RMS beam size [m]\n",
    "#propLen: propagation length required by SRW to create numerical Gaussian [m]\n",
    "#pulseE: energy per pulse [J]\n",
    "#poltype: polarization type (0=linear horizontal, 1=linear vertical, 2=linear 45 deg, 3=linear 135 deg, 4=circular right, 5=circular left, 6=total)\n",
    "#phE: photon energy [eV]\n",
    "#sampFact: sampling factor to increase mesh density\n",
    "\n",
    "sigrW = 1e-3\n",
    "propLen = 15  ##20\n",
    "pulseE = .001\n",
    "poltype = 1\n",
    "phE = 0.124 #Energy in eV corresponding to 10 micron wavelength\n",
    "sampFact = 5 ##25, 44, 60\n",
    "constConvRad = 1.23984186e-06/(4*3.1415926536)  ##conversion from energy to 1/wavelength\n",
    "rmsAngDiv = constConvRad/(phE*sigrW)\n",
    "print(\"RMS beam divergence at waist: %s radians\" %(rmsAngDiv))\n",
    "mx = 2\n",
    "my = 2\n",
    "wfr0=createGsnSrcSRW(sigrW,propLen,pulseE,poltype,phE,sampFact,mx,my) #creates Gaussian wavefront in SRW\n",
    "print(\"Initial wavefront calculated on a grid of %d x %d points\" %(wfr0.mesh.nx,wfr0.mesh.ny))"
   ]
  },
  {
   "cell_type": "code",
   "execution_count": null,
   "metadata": {},
   "outputs": [],
   "source": [
    "##Convert energy to wavelength\n",
    "hp = 4.135667662e-15  ##Planck constant [eV*s]\n",
    "c_const = 299792458  ##Speed of light [m/s]\n",
    "phLambda = (hp*c_const)/phE\n",
    "print(\"Wavelength corresponding to %s keV: %.4s microns\" %(phE*1e-3,phLambda*1e6))"
   ]
  },
  {
   "cell_type": "code",
   "execution_count": null,
   "metadata": {},
   "outputs": [],
   "source": [
    "#Plot initial wavefront\n",
    "##Initial wfr calculation\n",
    "arIinit = array('f', [0]*wfr0.mesh.nx*wfr0.mesh.ny) #\"flat\" array to take 2D intensity data\n",
    "srwl.CalcIntFromElecField(arIinit, wfr0, 6, 0, 3, wfr0.mesh.eStart, 0, 0) #extracts intensity\n",
    "##Reshaping electric field data from flat to 2D array\n",
    "arIinit2D = np.array(arIinit).reshape((wfr0.mesh.nx, wfr0.mesh.ny), order='C')\n",
    "wfrsizei=np.size(arIinit)\n",
    "\n",
    "print('Size of initial wavefront data array (coordinate):',np.shape(arIinit2D))\n",
    "xvalsf02=np.linspace(wfr0.mesh.xStart,wfr0.mesh.xFin,wfr0.mesh.nx)\n",
    "yvalsf02=np.linspace(wfr0.mesh.yStart,wfr0.mesh.yFin,wfr0.mesh.ny)\n",
    "\n",
    "fig = plt.figure(figsize=(12,7))\n",
    "ax = fig.gca()\n",
    "\n",
    "plt.pcolormesh(np.multiply(xvalsf02,1e6), np.multiply(yvalsf02,1e6), arIinit2D, cmap=plt.cm.viridis)  ##By setting wfr0a.unitElFldAng=1, default units should  now be in mrad(?)\n",
    "plt.colorbar()\n",
    "#['Horizontal Position [mm]', , 'Intensity']\n",
    "ax.set_ylim(-1e4,1e4)\n",
    "ax.set_xlim(-1e4,1e4)\n",
    "ax.set_ylabel(r'Vertical Position [$\\mu m$]',**hfontLarge)\n",
    "ax.set_xlabel(r'Horizontal Position [$\\mu m$]',**hfontLarge)\n",
    "ax.set_title('Intensity at Waist',**hfontLarge)\n",
    "plt.show()"
   ]
  },
  {
   "cell_type": "code",
   "execution_count": null,
   "metadata": {},
   "outputs": [],
   "source": []
  },
  {
   "cell_type": "code",
   "execution_count": null,
   "metadata": {},
   "outputs": [],
   "source": [
    "#Export initial wavefront to file\n",
    "fname=\"InitialWavefrontArray.txt\"\n",
    "np.shape(arIinit2D)\n",
    "np.savetxt(fname, arIinit2D, fmt='%.18e')"
   ]
  },
  {
   "cell_type": "code",
   "execution_count": null,
   "metadata": {},
   "outputs": [],
   "source": []
  },
  {
   "cell_type": "code",
   "execution_count": null,
   "metadata": {},
   "outputs": [],
   "source": [
    "##Construct 1:1 beamline in SRW and propagate Gaussian through it\n",
    "##Parameters for 1 to 1 focusing beamline creation, createBL1to1(L,dfof)\n",
    "#L: total path length\n",
    "#dfof: focal length variation factor (=0 for no variation; can be positive or negative)\n",
    "L=15.  ##Drift length before and after lens\n",
    "\n",
    "wfr1 = deepcopy(wfr0)\n",
    "#srwl.ResizeElecField(wfr1, 'c', [1, 5, 15, 5, 15])\n",
    "\n",
    "wfrsizef=(wfr1.mesh.nx*wfr1.mesh.ny)\n",
    "\n",
    "optBL1to1=createBL1to1(L,dfof=0)\n",
    "start_time = time.time()\n",
    "srwl.PropagElecField(wfr1, optBL1to1)\n",
    "print(\"Propagation time: %s seconds\" %(round((time.time() - start_time),5)))"
   ]
  },
  {
   "cell_type": "code",
   "execution_count": null,
   "metadata": {},
   "outputs": [],
   "source": [
    "#Extract final array and export to numpy array\n",
    "arIf = array('f', [0]*wfr1.mesh.nx*wfr1.mesh.ny) #\"flat\" array to take 2D intensity data\n",
    "srwl.CalcIntFromElecField(arIf, wfr1, 6, 0, 3, wfr1.mesh.eStart, 0, 0) #extracts intensity\n",
    "##Reshaping electric field data from flat to 2D array\n",
    "arIf2D = np.array(arIf).reshape((wfr1.mesh.nx, wfr1.mesh.ny), order='C')\n",
    "\n",
    "xvalsf02=np.linspace(wfr1.mesh.xStart,wfr1.mesh.xFin,wfr1.mesh.nx)\n",
    "yvalsf02=np.linspace(wfr1.mesh.yStart,wfr1.mesh.yFin,wfr1.mesh.ny)\n",
    "\n",
    "fig = plt.figure(figsize=(12,7))\n",
    "ax = fig.gca()\n",
    "\n",
    "plt.pcolormesh(np.multiply(xvalsf02,1e6), np.multiply(yvalsf02,1e6), arIf2D, cmap=plt.cm.viridis)  ##By setting wfr0a.unitElFldAng=1, default units should  now be in mrad(?)\n",
    "plt.colorbar()\n",
    "#['Horizontal Position [mm]', , 'Intensity']\n",
    "ax.set_ylim(-1e4,1e4)\n",
    "ax.set_xlim(-1e4,1e4)\n",
    "ax.set_ylabel(r'Vertical Position [$\\mu m$]',**hfontLarge)\n",
    "ax.set_xlabel(r'Horizontal Position [$\\mu m$]',**hfontLarge)\n",
    "ax.set_title('Intensity after propagation',**hfontLarge)\n",
    "plt.show()"
   ]
  },
  {
   "cell_type": "code",
   "execution_count": null,
   "metadata": {},
   "outputs": [],
   "source": []
  }
 ],
 "metadata": {
  "kernelspec": {
   "display_name": "Python 3",
   "language": "python",
   "name": "py3"
  },
  "language_info": {
   "codemirror_mode": {
    "name": "ipython",
    "version": 3
   },
   "file_extension": ".py",
   "mimetype": "text/x-python",
   "name": "python",
   "nbconvert_exporter": "python",
   "pygments_lexer": "ipython3",
   "version": "3.7.2"
  }
 },
 "nbformat": 4,
 "nbformat_minor": 4
}
