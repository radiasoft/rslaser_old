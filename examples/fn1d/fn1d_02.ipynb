{
 "cells": [
  {
   "cell_type": "markdown",
   "metadata": {},
   "source": [
    "## Simulate Gain in a Ti:Sapphire Laser\n",
    "The laser pulse duration $T_{laser}$ is typically 200 ps to 1 ns, while the Ti-Sapphire phase relaxation time $T_{crystal}$ is between $10 fs$ and $10 ps$.\n",
    "<br>Because $T_{crystal} << T_{laser}$, we can use the Frantz-Nodvik (F-N) rate equations.\n",
    "<br> This approach can be used for other crystals as well.\n",
    "<br>\n",
    "***\n",
    "| The Frantz-Nodvik (F-N) rate equations:                                                        |     |\n",
    "| :----------------------------------------------------------------------------------------------| :---|\n",
    "| $\\frac{d}{dt}\\Delta_{ts}(t) = \\gamma_{ts} \\sigma_{ts} c n_{ph}(t) \\Delta_{ts}(t)$                      | (1) |\n",
    "| $\\left( \\frac{d}{dt} + \\frac{d}{dz} \\right) n_{ph}(t) = \\sigma_{ts} c n_{ph}(t) \\Delta_{ts}(t)$ | (2) |\n",
    "<br>\n",
    "In the next cell, we force the tables in this notebook to be left justified. (The default is center justified, which is annoying.)"
   ]
  },
  {
   "cell_type": "code",
   "execution_count": 1,
   "metadata": {},
   "outputs": [],
   "source": [
    "%%html\n",
    "<style>\n",
    "table {float:left}\n",
    "</style>"
   ]
  },
  {
   "cell_type": "markdown",
   "metadata": {},
   "source": [
    "#### Dynamical equations for laser amplification in a Ti-Sapphire crystal --\n",
    "***\n",
    "| Quantity                 | Units            | Variable Name      | Description                                                            |\n",
    "| :----------------------: | :--------------: | :---------------:  | :--------------------------------------------------------------------: |\n",
    "| $\\Delta_{ts}(t)$         | $cm^{-3}$        | $\\delta_{ts}$      | Number density of inverted states                                      |\n",
    "| $n_{ph}(t)$              | $cm^{-3}$        | $n_{ph}$           | Number density of infrared photons propagating through the crystal     |\n",
    "| $\\gamma_{ts}$            |     TBD          | gamma_ts           | $\\gamma_{ts} = 1 + \\gamma_{ts,1} / \\gamma_{ts,2}$                      |\n",
    "| $\\gamma_{ts,1}$          |     TBD          | gamma_ts_1         | Degeneracy of the lower energy levels                                  |\n",
    "| $\\gamma_{ts,2}$          |     TBD          | gamma_ts_2         | Degeneracy of the upper energy levels                                  |\n",
    "| $\\sigma_{ts}$            | $cm^2$           | sigma_ts           | Ti-Sapphire emission cross-section                                     |\n",
    "| $c$                      | $cm/s$            | c                 | Speed of light                                                         |"
   ]
  },
  {
   "cell_type": "code",
   "execution_count": 2,
   "metadata": {},
   "outputs": [],
   "source": [
    "# Specify initial conditions for relevant variables\n",
    "gamma_ts_1 = 1.\n",
    "gamma_ts_2 = 1.\n",
    "gamma_ts = 1 + gamma_ts_1 / gamma_ts_2\n",
    "\n",
    "sigma_ts = 1.5e-19  # at lambda_0 = 800 nm\n",
    "\n",
    "delta_ts_0 = 1.e21\n",
    "n_ph_0 = 1.e11"
   ]
  },
  {
   "cell_type": "markdown",
   "metadata": {},
   "source": [
    "#### Approximate analytical solution\n",
    "The F-N eqn.'s can be solved semi-analytically, involving quantities \n",
    "to be obtained via quadrature, given two assumptions --\n",
    "1. The seed laser pulse is square, with a full width of $\\tau_{pulse}$.\n",
    "2. $\\Delta_{ts}(t=0)$ is independent of longitudinal position $z$.\n",
    "\n",
    "| The approximate F-N rate equation dynamics:                                                      |   |\n",
    "| :------------------------------------------------------------------------------------------------|:--|\n",
    "| $n_{ph}(\\vec{x},t) = \\frac{n_0}{1 - \\big[ 1 - \\exp \\big(-\\sigma_{ts} \\Delta_0 x \\big) \\big] \\exp \\big[ -\\gamma_{ts}  \\sigma_{ts}  \\eta_{pulse} (t - z/c) \\big/ \\tau_{pulse} \\big] }$                                                                                      |(3)|\n",
    "| $n_0 \\left[ cm^{-3} \\right]$ is the photon number density associated with the square laser pulse |(4)|\n",
    "| $\\Delta_0 \\left[ cm^{-3} \\right]$ is the (assumed to be uniform) inversion density               |(5)|\n",
    "| $\\eta_{pulse} = n_0  c  \\tau_{pulse} \\left[ cm^{-2} \\right]$                                     |(6)|\n",
    "\n",
    "|For low-power pulses and low gain, integrate the above eqn to infer $G_E$, the energy gain:| |\n",
    "|:-------------------------------------------------------------------------------------|:---|\n",
    "|$G_E = \\ln \\left\\{ 1 + \\big[ \\exp(\\gamma_{ts} \\sigma_{ts} \\eta_{pulse}) - 1 \\big] \\exp(\\gamma_0  \\sigma_{ts}  L_{ts}) \\right\\} \\ \\big/ \\ (\\gamma_{ts}  \\sigma_{ts}  \\eta_{pulse})$|(8)|\n",
    "|where $L_{ts}$ is the length of the crystal |  |"
   ]
  },
  {
   "cell_type": "code",
   "execution_count": 3,
   "metadata": {},
   "outputs": [
    {
     "name": "stdout",
     "output_type": "stream",
     "text": [
      "  eta_pulse =  2997924580000.0\n",
      " epsilon_ts =  8.99377374e-07\n",
      "  factor_ts =  150.0\n",
      " factor_max =  18.932198419789525\n",
      "delta_ts_0 =  1e+21\n",
      "  delta_ts =  0.0\n",
      "    n_ph_0 =  100000000000.0\n",
      "       g_e =  166782048.59907603\n",
      "      n_ph =  1.6678204859907602e+19\n"
     ]
    }
   ],
   "source": [
    "# We can't do anything without Numpy and the speed of light...\n",
    "import numpy as np\n",
    "from scipy.constants import c\n",
    "c_cm = 100.*c\n",
    "\n",
    "# More initial conditions:\n",
    "tau_pulse = 1.e-9\n",
    "eta_pulse = n_ph_0 * c_cm * tau_pulse\n",
    "length_ts = 1.  # length of crystal [cm]\n",
    "\n",
    "epsilon_ts = gamma_ts*sigma_ts*eta_pulse\n",
    "print('  eta_pulse = ', eta_pulse)\n",
    "print(' epsilon_ts = ', epsilon_ts)\n",
    "\n",
    "g_e_max = 1. + delta_ts_0*length_ts/gamma_ts/eta_pulse\n",
    "factor_ts = sigma_ts*delta_ts_0*length_ts\n",
    "# factor_max = np.log((np.exp(epsilon_ts*g_e_max)-1.)/(np.exp(g_e_max)-1.))\n",
    "factor_max = np.log(g_e_max)\n",
    "print('  factor_ts = ', factor_ts)\n",
    "print(' factor_max = ', factor_max)\n",
    "\n",
    "\n",
    "# Analytic solution for photon amplification factor, assuming delta_ts is uniform\n",
    "# Averaged value for the number of inverted states (assuming the function is flattened)\n",
    "g_e = g_e_max\n",
    "delta_ts = 0.\n",
    "if factor_ts < factor_max:\n",
    "    g_e = np.log(1.+np.exp(factor_ts)*(np.exp(epsilon_ts)-1.))/epsilon_ts\n",
    "    delta_ts = delta_ts_0 - (gamma_ts*eta_pulse/length_ts) * (g_e - 1.)\n",
    "\n",
    "n_ph = g_e * n_ph_0\n",
    "\n",
    "print('delta_ts_0 = ', delta_ts_0)\n",
    "print('  delta_ts = ', delta_ts)\n",
    "print('    n_ph_0 = ', n_ph_0)\n",
    "print('       g_e = ', g_e)\n",
    "print('      n_ph = ', n_ph)"
   ]
  },
  {
   "cell_type": "markdown",
   "metadata": {},
   "source": [
    "### Plotting"
   ]
  },
  {
   "cell_type": "code",
   "execution_count": 6,
   "metadata": {},
   "outputs": [
    {
     "data": {
      "application/vnd.jupyter.widget-view+json": {
       "model_id": "82688fcb2ff84c93a9ce5930381f02f8",
       "version_major": 2,
       "version_minor": 0
      },
      "text/plain": [
       "Canvas(toolbar=Toolbar(toolitems=[('Home', 'Reset original view', 'home', 'home'), ('Back', 'Back to previous …"
      ]
     },
     "metadata": {},
     "output_type": "display_data"
    }
   ],
   "source": [
    "import matplotlib.pyplot as plt\n",
    "from matplotlib import ticker, colors\n",
    "%matplotlib widget\n",
    "\n",
    "\n",
    "# Analytic solution for resulting profile of inverted states\n",
    "num_points = 100\n",
    "delta_ts_1 = np.zeros(num_points)\n",
    "for i in range(num_points):\n",
    "    x = i*length_ts/(num_points-1)\n",
    "    delta_ts_1[i] = delta_ts_0 / (1.+np.exp(sigma_ts*delta_ts_0*x)*(np.exp(epsilon_ts)-1.))\n",
    "\n",
    "plt.figure()\n",
    "\n",
    "plt.title('Laser-pulse amplification', fontsize=16)\n",
    "plt.xlabel('Propagation inside the crystal [m]', fontsize=16)\n",
    "plt.ylabel(r'$n_{ph}\\ [cm^{-3}]$', fontsize=16)\n",
    "plt.tight_layout()"
   ]
  }
 ],
 "metadata": {
  "kernelspec": {
   "display_name": "Python 3",
   "language": "python",
   "name": "py3"
  },
  "language_info": {
   "codemirror_mode": {
    "name": "ipython",
    "version": 3
   },
   "file_extension": ".py",
   "mimetype": "text/x-python",
   "name": "python",
   "nbconvert_exporter": "python",
   "pygments_lexer": "ipython3",
   "version": "3.7.2"
  }
 },
 "nbformat": 4,
 "nbformat_minor": 4
}
