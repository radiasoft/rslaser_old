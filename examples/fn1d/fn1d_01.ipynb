{
 "cells": [
  {
   "cell_type": "markdown",
   "metadata": {},
   "source": [
    "## Simulate Gain in a Ti:Sapphire Laser\n",
    "The laser pulse duration $T_{laser}$ is typically 200 ps to 1 ns, while the Ti-Sapphire phase relaxation time $T_{crystal}$ is between $10 fs$ and $10 ps$.\n",
    "<br>Because $T_{crystal} << T_{laser}$, we can use the Frantz-Nodvik (F-N) rate equations.\n",
    "<br> This approach can be used for other crystals as well.\n",
    "<br>\n",
    "<br>In the next cell, we force the tables in this notebook to be left justified. (The default is center justified, which is annoying.)"
   ]
  },
  {
   "cell_type": "code",
   "execution_count": 1,
   "metadata": {},
   "outputs": [
    {
     "data": {
      "text/html": [
       "<style>\n",
       "table {float:left}\n",
       "</style>\n"
      ],
      "text/plain": [
       "<IPython.core.display.HTML object>"
      ]
     },
     "metadata": {},
     "output_type": "display_data"
    }
   ],
   "source": [
    "%%html\n",
    "<style>\n",
    "table {float:left}\n",
    "</style>"
   ]
  },
  {
   "cell_type": "markdown",
   "metadata": {},
   "source": [
    "#### Dynamical equations for laser amplification in a Ti-Sapphire crystal --\n",
    "***\n",
    "| Quantity                 | Units            | Variable Name      | Description                                                            |\n",
    "| :----------------------: | :--------------: | :---------------:  | :--------------------------------------------------------------------: |\n",
    "| $\\Delta_{ts}(t)$         | $cm^{-3}$        | $\\delta_{ts}$      | Number density of inverted states                                      |\n",
    "| $n_{ph}(t)$              | $cm^{-3}$        | $n_{ph}_{ts}$     | Number density of infrared photons propagating through the crystal     |\n",
    "| $\\gamma_{ts}$            |     TBD          | gamma_ts           | $\\gamma_{ts} = 1 + \\gamma_{ts,1} / \\gamma_{ts,2}$                      |\n",
    "| $\\gamma_{ts,1}$          |     TBD          | gamma_ts_1         | Degeneracy of the lower energy levels                                  |\n",
    "| $\\gamma_{ts,2}$          |     TBD          | gamma_ts_2         | Degeneracy of the upper energy levels                                  |\n",
    "| $\\sigma_{ts}$            | $cm^2$           | sigma_ts           | Ti-Sapphire emission cross-section                                     |\n",
    "| $c$                      | $m/s$            | c                  | Speed of light                                                         |"
   ]
  },
  {
   "cell_type": "code",
   "execution_count": 2,
   "metadata": {},
   "outputs": [],
   "source": [
    "# Specify initial conditions for relevant variables\n",
    "gamma_ts_1 = 1000.\n",
    "gamma_ts_2 = 10.\n",
    "gamma_ts = 1 + gamma_ts_1 / gamma_ts_2\n",
    "sigma_ts = 8.e-19  # at lambda_0 = 800 nm\n",
    "\n",
    "delta_ts = 1.\n",
    "n_ph_ts = 1.e6"
   ]
  },
  {
   "cell_type": "markdown",
   "metadata": {},
   "source": [
    "***\n",
    "\n",
    "| The Frantz-Nodvik (F-N) rate equations:                                                        |     |\n",
    "| :----------------------------------------------------------------------------------------------| :---|\n",
    "| $\\frac{d}{dt}\\Delta_{ts}(t) = \\gamma_{ts} \\sigma_{ts} c n_{ph}(t) \\Delta_{ts}(t)$                      | (1) |\n",
    "| $\\left( \\frac{d}{dt} + \\frac{d}{dz} \\right) n_{ph}(t) = \\sigma_{ts} c n_{ph}(t) \\Delta_{ts}(t)$ | (2) |"
   ]
  },
  {
   "cell_type": "markdown",
   "metadata": {},
   "source": [
    "#### Approximate analytical solution\n",
    "The F-N eqn.'s can be solved semi-analytically, involving quantities \n",
    "to be obtained via quadrature, given two assumptions --\n",
    "1. The seed laser pulse is square, with a full width of $\\tau_{pulse}$.\n",
    "2. $\\Delta_{ts}(t=0)$ is independent of longitudinal position $z$.\n",
    "\n",
    "| The approximate F-N rate equation dynamics:                                                      |   |\n",
    "| :------------------------------------------------------------------------------------------------|:--|\n",
    "| $n_{ph}(\\vec{x},t) = \\frac{n_0}{1 - \\big[ 1 - \\exp \\big(-\\sigma_{ts} \\Delta_0 x \\big) \\big] \\exp \\big[ -\\gamma_{ts}  \\sigma_{ts}  \\eta_{pulse} (t - z/c) \\big/ \\tau_{pulse} \\big] }$                                                                                      |(3)|\n",
    "| $n_0 \\left[ cm^{-3} \\right]$ is the photon number density associated with the square laser pulse |(4)|\n",
    "| $\\Delta_0 \\left[ cm^{-3} \\right]$ is the (assumed to be uniform) inversion density               |(5)|\n",
    "| $\\eta_{pulse} = n_0  c  \\tau_{pulse} \\left[ cm^{-2} \\right]$                                                     |(6)|"
   ]
  },
  {
   "cell_type": "markdown",
   "metadata": {},
   "source": [
    "|For low-power pulses and low gain, integrate the above eqn to infer $G_E$, the energy gain:| |\n",
    "|:-------------------------------------------------------------------------------------|:---|\n",
    "|$G_E = \\ln \\left\\{ 1 + \\big[ \\exp(\\gamma_{ts} \\sigma_{ts} \\eta_{pulse}) - 1 \\big] \\exp(\\gamma_0  \\sigma_{ts}  L_{ts}) \\right\\} \\ \\big/ \\ (\\gamma_{ts}  \\sigma_{ts}  \\eta_{pulse})$|(8)|\n",
    "|where $L_{ts}$ is the length of the crystal |  |"
   ]
  },
  {
   "cell_type": "code",
   "execution_count": 3,
   "metadata": {},
   "outputs": [],
   "source": [
    "# We can't do anything without Numpy and the speed of light...\n",
    "import numpy as np\n",
    "from scipy.constants import c\n",
    "\n",
    "# More initial conditions:\n",
    "n_ph_0 = n_ph_ts\n",
    "delta_0 = delta_ts\n",
    "time_0 = 0.\n",
    "tau_pulse = 1.e-9\n",
    "eta_pulse = n_ph_0 * c * tau_pulse\n",
    "time_f = tau_pulse\n",
    "length_ts = 0.01  # length of crystal [m]\n",
    "\n",
    "# generate some data for plotting\n",
    "num_points = 10\n",
    "t_data = np.zeros(num_points)\n",
    "dt = (time_f - time_0) / (num_points - 1)\n",
    "\n",
    "z_data = np.zeros(num_points)\n",
    "dz = length_ts / (num_points - 1)\n",
    "\n",
    "for i in range(num_points):\n",
    "    t_data[i] = time_0 + i*dt\n",
    "    z_data[i] = i*dz"
   ]
  },
  {
   "cell_type": "markdown",
   "metadata": {},
   "source": [
    "### Plotting"
   ]
  },
  {
   "cell_type": "code",
   "execution_count": 4,
   "metadata": {},
   "outputs": [],
   "source": [
    "import matplotlib.pyplot as plt\n",
    "from matplotlib import ticker, colors\n",
    "%matplotlib widget"
   ]
  },
  {
   "cell_type": "code",
   "execution_count": 5,
   "metadata": {},
   "outputs": [
    {
     "data": {
      "application/vnd.jupyter.widget-view+json": {
       "model_id": "1e657617b06b4ab986a4149f04a7927d",
       "version_major": 2,
       "version_minor": 0
      },
      "text/plain": [
       "Canvas(toolbar=Toolbar(toolitems=[('Home', 'Reset original view', 'home', 'home'), ('Back', 'Back to previous …"
      ]
     },
     "metadata": {},
     "output_type": "display_data"
    }
   ],
   "source": [
    "plt.figure()\n",
    "\n",
    "plt.title('Laser-pulse amplification', fontsize=16)\n",
    "plt.xlabel('Propagation inside the crystal [m]', fontsize=16)\n",
    "plt.ylabel(r'$n_{ph}\\ [cm^{-3}]$', fontsize=16)\n",
    "plt.tight_layout()\n",
    "\n",
    "n_data = np.zeros(num_points)\n",
    "for j in range(num_points):\n",
    "    n_data[j] = n_ph_0 / (1. - np.exp(-gamma_ts*sigma_ts*eta_pulse*(t_data[1]-z_data[j]/c)/tau_pulse))\n",
    "plt.plot(z_data, n_data)\n",
    "plt.show()"
   ]
  },
  {
   "cell_type": "code",
   "execution_count": null,
   "metadata": {},
   "outputs": [],
   "source": []
  }
 ],
 "metadata": {
  "kernelspec": {
   "display_name": "Python 3",
   "language": "python",
   "name": "py3"
  },
  "language_info": {
   "codemirror_mode": {
    "name": "ipython",
    "version": 3
   },
   "file_extension": ".py",
   "mimetype": "text/x-python",
   "name": "python",
   "nbconvert_exporter": "python",
   "pygments_lexer": "ipython3",
   "version": "3.7.2"
  }
 },
 "nbformat": 4,
 "nbformat_minor": 4
}
